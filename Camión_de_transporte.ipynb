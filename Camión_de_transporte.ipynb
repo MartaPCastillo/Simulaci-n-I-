{
  "nbformat": 4,
  "nbformat_minor": 0,
  "metadata": {
    "colab": {
      "provenance": [],
      "authorship_tag": "ABX9TyN7rh2svsGKinCjqxZ76wd1",
      "include_colab_link": true
    },
    "kernelspec": {
      "name": "python3",
      "display_name": "Python 3"
    },
    "language_info": {
      "name": "python"
    }
  },
  "cells": [
    {
      "cell_type": "markdown",
      "metadata": {
        "id": "view-in-github",
        "colab_type": "text"
      },
      "source": [
        "<a href=\"https://colab.research.google.com/github/MartaPCastillo/Simulacion-I/blob/main/Cami%C3%B3n_de_transporte.ipynb\" target=\"_parent\"><img src=\"https://colab.research.google.com/assets/colab-badge.svg\" alt=\"Open In Colab\"/></a>"
      ]
    },
    {
      "cell_type": "markdown",
      "source": [
        "###Camión de Transporte"
      ],
      "metadata": {
        "id": "WjG-g7K9nN_M"
      }
    },
    {
      "cell_type": "code",
      "execution_count": 2,
      "metadata": {
        "id": "3lDpCyRnnEZU"
      },
      "outputs": [],
      "source": [
        "import random                                   # importamos el módulo random\n",
        "import numpy as np                              # importamos numpy con un alias (np)\n",
        "import matplotlib.pyplot as plt                 # ídem\n",
        "#from random import expovariate, gauss\n",
        "from statistics import mean, median, variance, stdev      # exportamos funciones especificas de statistic"
      ]
    },
    {
      "cell_type": "code",
      "source": [
        "def camion_transporte(a,b,c,N):\n",
        "    lista = []\n",
        "    for i in range(N):\n",
        "        contador = 0\n",
        "        u_1=random.triangular(a,b,c)\n",
        "        u_2=random.triangular(a,b,c)\n",
        "        u_3=random.triangular(a,b,c)\n",
        "        u_4=random.triangular(a,b,c)\n",
        "        u_5=random.triangular(a,b,c)\n",
        "        if u_1 + u_2 + u_3 + u_4 + u_5 > 1000:\n",
        "           contador = contador + 1\n",
        "           prob = contador / N\n",
        "           lista.append(prob)\n",
        "    return lista"
      ],
      "metadata": {
        "id": "x8L-OFsHjURx"
      },
      "execution_count": 42,
      "outputs": []
    },
    {
      "cell_type": "code",
      "source": [
        "def camion_transporte(n):\n",
        "    lista = []\n",
        "    for i in range(n):\n",
        "        u=random.random()\n",
        "        if 0 <= u < 0.5:\n",
        "           X = (20*np.sqrt(2*u)) + 190\n",
        "        else:\n",
        "           X = 230 - (20*np.sqrt(1-u))\n",
        "        lista.append(X)\n",
        "    return lista"
      ],
      "metadata": {
        "id": "EnctJIig0n-T"
      },
      "execution_count": 23,
      "outputs": []
    },
    {
      "cell_type": "code",
      "source": [
        "G=camion_transporte(190,210,230, 10)\n",
        "print(G)"
      ],
      "metadata": {
        "id": "lFQCx_nMu9lb",
        "outputId": "eb6435cf-696d-4069-f6ad-731e8a86167e",
        "colab": {
          "base_uri": "https://localhost:8080/"
        }
      },
      "execution_count": 44,
      "outputs": [
        {
          "output_type": "stream",
          "name": "stdout",
          "text": [
            "[0.1, 0.1, 0.1, 0.1, 0.1, 0.1, 0.1, 0.1, 0.1, 0.1]\n"
          ]
        }
      ]
    },
    {
      "cell_type": "code",
      "source": [
        "mu=np.mean(G)\n",
        "print(mu)"
      ],
      "metadata": {
        "id": "30hfI6Lk0PQc",
        "outputId": "530f89a8-b303-481d-b6d8-c1837fe44710",
        "colab": {
          "base_uri": "https://localhost:8080/"
        }
      },
      "execution_count": 45,
      "outputs": [
        {
          "output_type": "stream",
          "name": "stdout",
          "text": [
            "0.1\n"
          ]
        }
      ]
    },
    {
      "cell_type": "code",
      "source": [
        "sigma2=np.var(G)\n",
        "print(sigma2)"
      ],
      "metadata": {
        "id": "UbenZU7D0VTb",
        "outputId": "626e66ab-9937-47d2-c0c4-d9b0ca02c8bd",
        "colab": {
          "base_uri": "https://localhost:8080/"
        }
      },
      "execution_count": 46,
      "outputs": [
        {
          "output_type": "stream",
          "name": "stdout",
          "text": [
            "0.0\n"
          ]
        }
      ]
    },
    {
      "cell_type": "code",
      "source": [
        "plt.hist(G, bins=50)"
      ],
      "metadata": {
        "id": "6eEePhO00X0k",
        "outputId": "48008164-1520-4669-acb0-2cc733470be0",
        "colab": {
          "base_uri": "https://localhost:8080/",
          "height": 682
        }
      },
      "execution_count": 47,
      "outputs": [
        {
          "output_type": "execute_result",
          "data": {
            "text/plain": [
              "(array([ 0.,  0.,  0.,  0.,  0.,  0.,  0.,  0.,  0.,  0.,  0.,  0.,  0.,\n",
              "         0.,  0.,  0.,  0.,  0.,  0.,  0.,  0.,  0.,  0.,  0.,  0., 10.,\n",
              "         0.,  0.,  0.,  0.,  0.,  0.,  0.,  0.,  0.,  0.,  0.,  0.,  0.,\n",
              "         0.,  0.,  0.,  0.,  0.,  0.,  0.,  0.,  0.,  0.,  0.]),\n",
              " array([-0.4 , -0.38, -0.36, -0.34, -0.32, -0.3 , -0.28, -0.26, -0.24,\n",
              "        -0.22, -0.2 , -0.18, -0.16, -0.14, -0.12, -0.1 , -0.08, -0.06,\n",
              "        -0.04, -0.02,  0.  ,  0.02,  0.04,  0.06,  0.08,  0.1 ,  0.12,\n",
              "         0.14,  0.16,  0.18,  0.2 ,  0.22,  0.24,  0.26,  0.28,  0.3 ,\n",
              "         0.32,  0.34,  0.36,  0.38,  0.4 ,  0.42,  0.44,  0.46,  0.48,\n",
              "         0.5 ,  0.52,  0.54,  0.56,  0.58,  0.6 ]),\n",
              " <BarContainer object of 50 artists>)"
            ]
          },
          "metadata": {},
          "execution_count": 47
        },
        {
          "output_type": "display_data",
          "data": {
            "text/plain": [
              "<Figure size 640x480 with 1 Axes>"
            ],
            "image/png": "[encoded data removed]"
          },
          "metadata": {}
        }
      ]
    },
    {
      "cell_type": "code",
      "source": [
        "plt.plot(G)"
      ],
      "metadata": {
        "id": "ffiV0eGA0Yoz",
        "outputId": "ddadb03d-905a-491b-f3cb-4d653df06bd7",
        "colab": {
          "base_uri": "https://localhost:8080/",
          "height": 268
        }
      },
      "execution_count": 38,
      "outputs": [
        {
          "output_type": "execute_result",
          "data": {
            "text/plain": [
              "[<matplotlib.lines.Line2D at 0x7c801084b460>]"
            ]
          },
          "metadata": {},
          "execution_count": 38
        },
        {
          "output_type": "display_data",
          "data": {
            "text/plain": [
              "<Figure size 640x480 with 1 Axes>"
            ],
            "image/png": "[encoded data removed]"
          },
          "metadata": {}
        }
      ]
    },
    {
      "cell_type": "code",
      "source": [
        "def cdf(muestra):\n",
        "  m=len(muestra)\n",
        "  x=np.sort(muestra)\n",
        "  y=np.arange(0,m)/m\n",
        "  return x,y"
      ],
      "metadata": {
        "id": "tudD600L0YmL"
      },
      "execution_count": 39,
      "outputs": []
    },
    {
      "cell_type": "code",
      "source": [
        "X,Y = cdf(G)"
      ],
      "metadata": {
        "id": "Bm4i5kI00Yjj"
      },
      "execution_count": 40,
      "outputs": []
    },
    {
      "cell_type": "code",
      "source": [
        "plt.step(X,Y)"
      ],
      "metadata": {
        "id": "0ENkPurI0XyD",
        "outputId": "9541fd7f-6986-416c-b170-17ea70ed9a14",
        "colab": {
          "base_uri": "https://localhost:8080/",
          "height": 281
        }
      },
      "execution_count": 41,
      "outputs": [
        {
          "output_type": "execute_result",
          "data": {
            "text/plain": [
              "[<matplotlib.lines.Line2D at 0x7c80108b7f40>]"
            ]
          },
          "metadata": {},
          "execution_count": 41
        },
        {
          "output_type": "display_data",
          "data": {
            "text/plain": [
              "<Figure size 640x480 with 1 Axes>"
            ],
            "image/png": "[encoded data removed]"
          },
          "metadata": {}
        }
      ]
    }
  ]
}