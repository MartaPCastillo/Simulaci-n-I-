{
  "nbformat": 4,
  "nbformat_minor": 0,
  "metadata": {
    "colab": {
      "provenance": [],
      "authorship_tag": "ABX9TyOhfqFO251wS5JQ8sM+ZORl",
      "include_colab_link": true
    },
    "kernelspec": {
      "name": "python3",
      "display_name": "Python 3"
    },
    "language_info": {
      "name": "python"
    }
  },
  "cells": [
    {
      "cell_type": "markdown",
      "metadata": {
        "id": "view-in-github",
        "colab_type": "text"
      },
      "source": [
        "<a href=\"https://colab.research.google.com/github/MartaPCastillo/Simulacion-I/blob/main/Cami%C3%B3n_de_transporte.ipynb\" target=\"_parent\"><img src=\"https://colab.research.google.com/assets/colab-badge.svg\" alt=\"Open In Colab\"/></a>"
      ]
    },
    {
      "cell_type": "markdown",
      "source": [
        "###Camión de Transporte"
      ],
      "metadata": {
        "id": "WjG-g7K9nN_M"
      }
    },
    {
      "cell_type": "code",
      "execution_count": 3,
      "metadata": {
        "id": "3lDpCyRnnEZU"
      },
      "outputs": [],
      "source": [
        "import random                                   # importamos el módulo random\n",
        "import numpy as np                              # importamos numpy con un alias (np)\n",
        "import matplotlib.pyplot as plt                 # ídem\n",
        "#from random import expovariate, gauss\n",
        "from statistics import mean, median, variance, stdev      # exportamos funciones especificas de statistic"
      ]
    },
    {
      "cell_type": "code",
      "source": [
        "def trian(a, b, c, n):\n",
        "    lista = []\n",
        "    for i in range(n):\n",
        "        v = (230-190) /(210-190)\n",
        "        u=random.random()\n",
        "        if 0 <= u <= v:\n",
        "           X = np.sqrt(800*u) + 190\n",
        "        elif v < u < 1:\n",
        "           X = 230 - np.sqrt(400*(1-u))\n",
        "        elif 1 <= u:\n",
        "          X = u\n",
        "        lista.append(X)\n",
        "    return lista"
      ],
      "metadata": {
        "id": "EnctJIig0n-T"
      },
      "execution_count": null,
      "outputs": []
    },
    {
      "cell_type": "code",
      "source": [
        "G=camion_transporte(5)\n",
        "print(G)"
      ],
      "metadata": {
        "id": "lFQCx_nMu9lb"
      },
      "execution_count": null,
      "outputs": []
    },
    {
      "cell_type": "code",
      "source": [
        "mu=np.mean(G)\n",
        "print(mu)"
      ],
      "metadata": {
        "id": "30hfI6Lk0PQc"
      },
      "execution_count": null,
      "outputs": []
    },
    {
      "cell_type": "code",
      "source": [
        "sigma2=np.var(G)\n",
        "print(sigma2)"
      ],
      "metadata": {
        "id": "UbenZU7D0VTb"
      },
      "execution_count": null,
      "outputs": []
    },
    {
      "cell_type": "code",
      "source": [
        "plt.hist(G, bins=50)"
      ],
      "metadata": {
        "id": "6eEePhO00X0k"
      },
      "execution_count": null,
      "outputs": []
    },
    {
      "cell_type": "code",
      "source": [
        "plt.plot(G)"
      ],
      "metadata": {
        "id": "ffiV0eGA0Yoz"
      },
      "execution_count": null,
      "outputs": []
    },
    {
      "cell_type": "code",
      "source": [
        "def cdf(muestra):\n",
        "  m=len(muestra)\n",
        "  x=np.sort(muestra)\n",
        "  y=np.arange(0,m)/m\n",
        "  return x,y"
      ],
      "metadata": {
        "id": "tudD600L0YmL"
      },
      "execution_count": null,
      "outputs": []
    },
    {
      "cell_type": "code",
      "source": [
        "X,Y = cdf(G)"
      ],
      "metadata": {
        "id": "Bm4i5kI00Yjj"
      },
      "execution_count": null,
      "outputs": []
    },
    {
      "cell_type": "code",
      "source": [
        "plt.step(X,Y)"
      ],
      "metadata": {
        "id": "0ENkPurI0XyD"
      },
      "execution_count": null,
      "outputs": []
    }
  ]
}