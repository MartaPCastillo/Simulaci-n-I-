{
  "cells": [
    {
      "cell_type": "markdown",
      "metadata": {
        "id": "view-in-github",
        "colab_type": "text"
      },
      "source": [
        "<a href=\"https://colab.research.google.com/github/MartaPCastillo/Simulacion-I/blob/main/Ejercicio.ipynb\" target=\"_parent\"><img src=\"https://colab.research.google.com/assets/colab-badge.svg\" alt=\"Open In Colab\"/></a>"
      ]
    },
    {
      "cell_type": "markdown",
      "id": "a5cc0a87",
      "metadata": {
        "id": "a5cc0a87"
      },
      "source": [
        "# Metodología de la Simulación"
      ]
    },
    {
      "cell_type": "markdown",
      "id": "0e218d98",
      "metadata": {
        "id": "0e218d98"
      },
      "source": [
        "### 1. Identifique las variables\n",
        "\n",
        "Aquellas cuyo comportamiento define el comportamiento o la evoución global del sistema real."
      ]
    },
    {
      "cell_type": "markdown",
      "id": "3ebcd0f2",
      "metadata": {
        "id": "3ebcd0f2"
      },
      "source": [
        "### 2. Determine la distribución de probabilidad\n",
        "\n",
        "Elija el tipo de distribución de probabilidad que mejor defina el comportamiento aleatorio de cada una de las variables del sistema identificadas en el paso anterior."
      ]
    },
    {
      "cell_type": "markdown",
      "id": "803801d5",
      "metadata": {
        "id": "803801d5"
      },
      "source": [
        "### 3. Modele las variables aleatorias\n",
        "\n",
        "Cosntruya un modelo fiel de la aleatoriedad de las variables del sistema. Simular el comportamiento del sistema implica generar muestras aleatorias de cada variable que sigan fielmente la distribución de probabilidad correspondiente."
      ]
    },
    {
      "cell_type": "markdown",
      "id": "33709223",
      "metadata": {
        "id": "33709223"
      },
      "source": [
        "### 4. Defina el modelo del sistema y los objetivos de la simulación\n",
        "\n",
        "Fije los objetivos y diseñe un modelo del sistema real que abstraiga sus propiedades más relevantes. Todo error en el modelo (o su implementación computacional) puede dar lugar a conclusiones equivocadas.\n",
        "\n",
        "Antes de experimentar con el modelo, asegurarse de que refleja fielmente el sistema real **validando** el mismo a partir de datos reales, para ello compare los resultados obtenidos de la simulación con los producidos por el sistema."
      ]
    },
    {
      "cell_type": "markdown",
      "id": "7f853065",
      "metadata": {
        "id": "7f853065"
      },
      "source": [
        "### 5. Diseñe el experimento\n",
        "\n",
        "Diseñe un experimento así como las ejecuciones concretas del mismo, los escenarios que desea estudiar para alcanzar los objetivos fijados. El experimento consiste en generar valores de las variables cuyo comportamiento define el comportamiento del sistema y analizar este ante dichos valores."
      ]
    },
    {
      "cell_type": "markdown",
      "id": "15ae61c8",
      "metadata": {
        "id": "15ae61c8"
      },
      "source": [
        "### 6. Repita el experimento $n$ veces\n",
        "\n",
        "Así dispondrá de $n$ observaciones sobre el comportamiento del sistema, lo que permitirá entender su funcionamiento así como evaluar el desempeño del mismo frente a los diversos escenarios establecidos.\n",
        "\n",
        "El **método Monte Carlo** se basa en la **Ley Fuerte de los Grandes Números** y el **Teorema del Límite Central**."
      ]
    },
    {
      "cell_type": "markdown",
      "id": "51ce3fa1",
      "metadata": {
        "id": "51ce3fa1"
      },
      "source": [
        "## Ejemplo\n",
        "\n",
        "Calcule la probabilidad de que aparezcan dos caras lanzando tres veces una moneda al aire.\n",
        "\n",
        "1. Analíticamente.\n",
        "2. Mediante simulación."
      ]
    },
    {
      "cell_type": "markdown",
      "id": "6f1b4105",
      "metadata": {
        "id": "6f1b4105"
      },
      "source": [
        "Analiticamente:"
      ]
    },
    {
      "cell_type": "code",
      "execution_count": null,
      "id": "bb5e678d",
      "metadata": {
        "id": "bb5e678d"
      },
      "outputs": [],
      "source": []
    },
    {
      "cell_type": "markdown",
      "id": "564ca694",
      "metadata": {
        "id": "564ca694"
      },
      "source": [
        "Por simulación: Construimos el modelo en varios pasos."
      ]
    },
    {
      "cell_type": "markdown",
      "id": "fbbc8571",
      "metadata": {
        "id": "fbbc8571"
      },
      "source": [
        "**PASO 1**. Defina las variables que intervienen en el modelo."
      ]
    },
    {
      "cell_type": "code",
      "execution_count": null,
      "id": "37c5f31c",
      "metadata": {
        "id": "37c5f31c"
      },
      "outputs": [],
      "source": []
    },
    {
      "cell_type": "markdown",
      "id": "4d3899f3",
      "metadata": {
        "id": "4d3899f3"
      },
      "source": [
        "**PASO 2**. Formule la distribución de probabilidad de cada variable."
      ]
    },
    {
      "cell_type": "markdown",
      "id": "fefa1334",
      "metadata": {
        "id": "fefa1334"
      },
      "source": [
        "\n",
        "|      |**Sol**|**Aguila**|\n",
        "|------|-------|----------|\n",
        "|f(x)|         |          |"
      ]
    },
    {
      "cell_type": "markdown",
      "id": "fd02116a",
      "metadata": {
        "id": "fd02116a"
      },
      "source": [
        "**PASO 3**. Enumere la distribución acumulada de probabilidad de cada variable."
      ]
    },
    {
      "cell_type": "markdown",
      "id": "59e252c6",
      "metadata": {
        "id": "59e252c6"
      },
      "source": [
        "|      |**Sol**|**Aguila**|\n",
        "|------|-------|----------|\n",
        "|f(x)  |       |          |\n",
        "|F(x)  |       |          |"
      ]
    },
    {
      "cell_type": "markdown",
      "id": "4852dcac",
      "metadata": {
        "id": "4852dcac"
      },
      "source": [
        "**PASO 4**. Establezca el intervalo de números aleatorios correspondiente a cada valor de cada una de las variables."
      ]
    },
    {
      "cell_type": "markdown",
      "id": "905db069",
      "metadata": {
        "id": "905db069"
      },
      "source": [
        "|           |**Sol**|**Aguila**|\n",
        "|-----------|-------|----------|\n",
        "|f(x)       |       |          |\n",
        "|F(x)       |       |          |\n",
        "|Intervalos |       |          |"
      ]
    },
    {
      "cell_type": "markdown",
      "id": "edb6b074",
      "metadata": {
        "id": "edb6b074"
      },
      "source": [
        "**PASO 5**. Genere números aleatorios."
      ]
    },
    {
      "cell_type": "code",
      "execution_count": null,
      "id": "7d56c432",
      "metadata": {
        "id": "7d56c432"
      },
      "outputs": [],
      "source": []
    },
    {
      "cell_type": "markdown",
      "id": "f38f3396",
      "metadata": {
        "id": "f38f3396"
      },
      "source": [
        "**PASO 6**. Simule un lanzamiento."
      ]
    },
    {
      "cell_type": "markdown",
      "id": "a68ba17e",
      "metadata": {
        "id": "a68ba17e"
      },
      "source": [
        "Si Número de caras = 2       \n",
        "\n",
        "¿Aparecen dos caras? = **1**\n",
        "\n",
        "Si Número de caras ≠ 2       \n",
        "\n",
        "¿Aparecen dos caras? = **0**"
      ]
    },
    {
      "cell_type": "markdown",
      "id": "d270399e",
      "metadata": {
        "id": "d270399e"
      },
      "source": [
        "**PASO 7**. Obtenga la gráfica de estabilización que indica que el tamaño de muestra utilizado es suficiente para\n",
        "garantizar la convergencia del resultado."
      ]
    },
    {
      "cell_type": "code",
      "execution_count": 31,
      "id": "2fd22e33",
      "metadata": {
        "id": "2fd22e33"
      },
      "outputs": [],
      "source": [
        "import numpy as np\n",
        "import random\n",
        "import matplotlib.pyplot as plt"
      ]
    },
    {
      "cell_type": "code",
      "source": [
        "def hola(n):\n",
        "  X=[]\n",
        "  Y=[]\n",
        "  favorable = 0\n",
        "  i = 0\n",
        "  Lista = []\n",
        "  for i in range (n):\n",
        "    X.append (random.uniform(0,1))\n",
        "    Y.append(random.uniform(0,1))\n",
        "    if X[i]+Y[i] <= 1 and X[i]*Y[i]<=0.2222:\n",
        "        favorable +=1\n",
        "        i += 1\n",
        "        probabilidad = favorable/(i)\n",
        "        Lista.append(probabilidad)\n",
        "  return Lista"
      ],
      "metadata": {
        "id": "_ftiTYEZrjqh"
      },
      "id": "_ftiTYEZrjqh",
      "execution_count": 32,
      "outputs": []
    },
    {
      "cell_type": "code",
      "source": [
        "Nf = hola(1000)\n",
        "print(Nf)"
      ],
      "metadata": {
        "id": "9Sqb2ToSsFo6",
        "outputId": "0ef41976-5b1d-4240-9b60-d71c9ee254e0",
        "colab": {
          "base_uri": "https://localhost:8080/"
        }
      },
      "id": "9Sqb2ToSsFo6",
      "execution_count": 36,
      "outputs": [
        {
          "output_type": "stream",
          "name": "stdout",
          "text": [
            "[0.3333333333333333, 0.5, 0.6, 0.5714285714285714, 0.45454545454545453, 0.5, 0.5384615384615384, 0.42105263157894735, 0.45, 0.47619047619047616, 0.5, 0.5, 0.52, 0.45161290322580644, 0.46875, 0.48484848484848486, 0.5, 0.5142857142857142, 0.48717948717948717, 0.4878048780487805, 0.4883720930232558, 0.4888888888888889, 0.48936170212765956, 0.4897959183673469, 0.5, 0.49056603773584906, 0.4909090909090909, 0.5, 0.5, 0.5084745762711864, 0.5, 0.5079365079365079, 0.515625, 0.5230769230769231, 0.5223880597014925, 0.5217391304347826, 0.5285714285714286, 0.5205479452054794, 0.5064935064935064, 0.5063291139240507, 0.5125, 0.5185185185185185, 0.5180722891566265, 0.5176470588235295, 0.5056179775280899, 0.5111111111111111, 0.5164835164835165, 0.5106382978723404, 0.5157894736842106, 0.5154639175257731, 0.5151515151515151, 0.49523809523809526, 0.4953271028037383, 0.4954128440366973, 0.4954954954954955, 0.5, 0.504424778761062, 0.5087719298245614, 0.5042735042735043, 0.5, 0.5041322314049587, 0.496, 0.49606299212598426, 0.49612403100775193, 0.5, 0.5, 0.49264705882352944, 0.49635036496350365, 0.5, 0.5035971223021583, 0.5071428571428571, 0.5106382978723404, 0.5104895104895105, 0.5, 0.4966887417218543, 0.5, 0.5, 0.5032258064516129, 0.5064102564102564, 0.5063291139240507, 0.5094339622641509, 0.5061728395061729, 0.50920245398773, 0.5121951219512195, 0.5151515151515151, 0.5180722891566265, 0.5209580838323353, 0.5207100591715976, 0.5235294117647059, 0.5263157894736842, 0.5260115606936416, 0.5227272727272727, 0.5254237288135594, 0.5251396648044693, 0.5277777777777778, 0.5274725274725275, 0.5243243243243243, 0.5268817204301075, 0.5238095238095238, 0.5235602094240838, 0.5260416666666666, 0.5257731958762887, 0.5255102040816326, 0.5252525252525253, 0.5276381909547738, 0.527363184079602, 0.5270935960591133, 0.5294117647058824, 0.5265700483091788, 0.5188679245283019, 0.5186915887850467, 0.5161290322580645, 0.5136363636363637, 0.5158371040723982, 0.5088495575221239, 0.5110132158590308, 0.5131578947368421, 0.5130434782608696, 0.5151515151515151, 0.5172413793103449, 0.5170940170940171, 0.5169491525423728, 0.5189873417721519, 0.5210084033613446, 0.5165289256198347, 0.5185185185185185, 0.5183673469387755, 0.5203252032520326, 0.5222672064777328, 0.5241935483870968, 0.5261044176706827, 0.528, 0.5298804780876494, 0.5317460317460317, 0.531496062992126, 0.5333333333333333, 0.5330739299610895, 0.5267175572519084, 0.5245283018867924, 0.5263157894736842, 0.5280898876404494, 0.5298507462686567, 0.5315985130111525, 0.5333333333333333, 0.5350553505535055, 0.5328467153284672, 0.5306859205776173, 0.5323741007194245, 0.5340501792114696, 0.5357142857142857, 0.5335689045936396, 0.5352112676056338, 0.5368421052631579, 0.5310344827586206, 0.5326460481099656, 0.527027027027027, 0.5286195286195287, 0.5302013422818792, 0.5317725752508361, 0.528052805280528, 0.5244299674267101, 0.525974025974026, 0.5275080906148867, 0.5222929936305732, 0.5238095238095238, 0.5253164556962026, 0.5251572327044025, 0.5266457680250783, 0.5264797507788161, 0.5263157894736842, 0.5213414634146342, 0.5196374622356495, 0.5210843373493976, 0.516320474777448, 0.5147058823529411, 0.5161290322580645, 0.5175438596491229, 0.5144508670520231, 0.515850144092219, 0.5142857142857142, 0.5098591549295775, 0.5112359550561798, 0.5126050420168067, 0.5125348189415042, 0.5124653739612188, 0.5095890410958904, 0.5109289617486339, 0.5108695652173914, 0.5053475935828877, 0.5053191489361702, 0.506631299734748, 0.5052631578947369, 0.5026041666666666, 0.5, 0.5012853470437018, 0.5012787723785166, 0.5012722646310432, 0.5012658227848101, 0.5, 0.5012531328320802, 0.5025, 0.5037406483790524, 0.5049751243781094, 0.5062034739454094, 0.5061728395061729, 0.5073891625615764, 0.5085995085995086, 0.508557457212714, 0.5060532687651331, 0.5048076923076923, 0.5059952038369304, 0.507177033492823, 0.5083532219570406, 0.5059101654846335, 0.5070754716981132, 0.508235294117647, 0.5093896713615024, 0.5105386416861827, 0.5116822429906542, 0.5128205128205128, 0.513953488372093, 0.5127020785219399, 0.5138248847926268, 0.5137614678899083, 0.5079006772009029, 0.5078651685393258, 0.5078299776286354, 0.5089285714285714, 0.5100222717149221, 0.5111111111111111, 0.5121951219512195, 0.5132743362831859, 0.5143487858719646, 0.5154185022026432, 0.5142231947483589, 0.5130434782608696, 0.5118790496760259, 0.5096359743040685, 0.509594882729211, 0.5106382978723404, 0.5116772823779193, 0.5127118644067796, 0.5137420718816068, 0.5136842105263157, 0.5125523012552301, 0.5125, 0.5124481327800829, 0.5134575569358178, 0.5144628099173554, 0.5122950819672131, 0.5112016293279023, 0.5101214574898786, 0.5070140280561122, 0.508, 0.5069582504970179, 0.5079365079365079, 0.5089108910891089, 0.5078740157480315, 0.505859375, 0.5038759689922481, 0.5038610038610039, 0.5048169556840078, 0.502868068833652, 0.5038167938931297, 0.5038022813688213, 0.5037878787878788, 0.504725897920605, 0.5037593984962406, 0.5037453183520599, 0.5046728971962616, 0.5055970149253731, 0.5065176908752328, 0.5074349442379182, 0.5083487940630798, 0.5083179297597042, 0.5092250922509225, 0.5101289134438306, 0.5100917431192661, 0.5100548446069469, 0.5109489051094891, 0.51183970856102, 0.5127272727272727, 0.5136116152450091, 0.5144927536231884, 0.5144404332129964, 0.5153153153153153, 0.514336917562724, 0.5152057245080501, 0.5151515151515151, 0.5160142348754448, 0.5159574468085106, 0.5159010600706714, 0.5158450704225352, 0.5166959578207382, 0.5130434782608696, 0.512998266897747, 0.5129533678756477, 0.5137931034482759, 0.5146299483648882, 0.5136986301369864, 0.5145299145299145, 0.515358361774744, 0.5161839863713799, 0.5161290322580645, 0.5169491525423728, 0.5168918918918919, 0.5177065767284992, 0.5185185185185185, 0.519327731092437, 0.5201342281879194, 0.5209380234505863, 0.52, 0.5182119205298014, 0.5155993431855501, 0.5113636363636364, 0.511326860841424, 0.5112903225806451, 0.5120772946859904, 0.5120385232744783, 0.512, 0.5103338632750397, 0.5111111111111111, 0.5110759493670886, 0.510236220472441, 0.5110062893081762, 0.5101721439749609, 0.5109375, 0.5117004680187207, 0.5124610591900312, 0.5124223602484472, 0.5131782945736434, 0.5139318885448917, 0.5138888888888888, 0.5122699386503068, 0.5130168453292496, 0.5137614678899083, 0.5145038167938931, 0.5152439024390244, 0.5151975683890577, 0.5159332321699545, 0.5166666666666667, 0.5166163141993958, 0.5173453996983409, 0.5165165165165165, 0.5149253731343284, 0.5156482861400894, 0.5156017830609212, 0.516320474777448, 0.5162721893491125, 0.51698670605613, 0.5176991150442478, 0.5176470588235295, 0.5168374816983895, 0.5167883211678832, 0.5174927113702624, 0.5174418604651163, 0.516642547033285, 0.5173410404624278, 0.5150645624103299, 0.5157593123209169, 0.5164520743919886, 0.5164051355206848, 0.5163584637268848, 0.5148514851485149, 0.5148095909732017, 0.5147679324894515, 0.514726507713885, 0.5154061624649859, 0.5160839160839161, 0.5167597765363129, 0.5174337517433751, 0.5138121546961326, 0.5130674002751031, 0.5123287671232877, 0.5122950819672131, 0.5108695652173914, 0.510840108401084, 0.5115020297699594, 0.5121621621621621, 0.5128205128205128, 0.5134770889487871, 0.5141318977119784, 0.5140939597315436, 0.514745308310992, 0.5106100795755968, 0.5112582781456954, 0.5112285336856011, 0.5111989459815547, 0.509829619921363, 0.5104712041884817, 0.5104438642297651, 0.509090909090909, 0.5090673575129534, 0.5097024579560155, 0.509020618556701, 0.5096525096525096, 0.5102827763496144, 0.5109114249037228, 0.510230179028133, 0.5108556832694764, 0.506953223767383, 0.5062972292191436, 0.5069182389937107, 0.507537688442211, 0.5068836045056321, 0.5075, 0.5081148564294632, 0.5080946450809465, 0.5080745341614907, 0.5086848635235732, 0.5086633663366337, 0.5080147965474723, 0.5055079559363526, 0.5061124694376528, 0.5054811205846529, 0.5060827250608273, 0.5048426150121066, 0.5048309178743962, 0.5054282267792521, 0.5060240963855421, 0.50661853188929, 0.5066026410564226, 0.5071942446043165, 0.507177033492823, 0.5077658303464755, 0.5077473182359953, 0.5083333333333333, 0.5089179548156956, 0.5076923076923077, 0.5076741440377804, 0.5064629847238543, 0.5070422535211268, 0.5070257611241218, 0.5058275058275058, 0.5064027939464494, 0.5069767441860465, 0.5069605568445475, 0.5069444444444444, 0.5069284064665127, 0.5074971164936563, 0.5080645161290323, 0.5063001145475372, 0.5057077625570776, 0.5045454545454545, 0.5016910935738444, 0.5022522522522522, 0.5028121484814398, 0.5028058361391695, 0.5033632286995515, 0.5016722408026756, 0.5016685205784205, 0.5011086474501109, 0.5016611295681063, 0.5022123893805309, 0.5027624309392266, 0.5033112582781457, 0.5021978021978022, 0.5027442371020856, 0.5032894736842105, 0.5032822757111597, 0.5032751091703057, 0.5038167938931297, 0.5005405405405405, 0.5005393743257821, 0.5, 0.4989293361884368, 0.49893162393162394, 0.4994663820704376, 0.5, 0.5005324813631523, 0.5010638297872341, 0.5015940488841658, 0.5015906680805938, 0.5021186440677966, 0.5021141649048626, 0.5026399155227033, 0.5026343519494204, 0.5031578947368421, 0.5036803364879074, 0.5005213764337852, 0.49844559585492226, 0.4989648033126294, 0.49948293691830403, 0.5, 0.5, 0.5005149330587023, 0.5010288065843621, 0.5015416238437821, 0.502053388090349, 0.5020491803278688, 0.5025588536335721, 0.5015290519877675, 0.5020366598778004, 0.5020325203252033, 0.5005055611729019, 0.4984924623115578, 0.49849548645937813]\n"
          ]
        }
      ]
    },
    {
      "cell_type": "code",
      "source": [
        "np.mean(Nf)"
      ],
      "metadata": {
        "id": "FFQ19iJksYhr",
        "outputId": "95ba188b-d15b-4f09-d08e-0618a610be25",
        "colab": {
          "base_uri": "https://localhost:8080/"
        }
      },
      "id": "FFQ19iJksYhr",
      "execution_count": 37,
      "outputs": [
        {
          "output_type": "execute_result",
          "data": {
            "text/plain": [
              "0.5106920924500805"
            ]
          },
          "metadata": {},
          "execution_count": 37
        }
      ]
    },
    {
      "cell_type": "code",
      "source": [
        "plt.plot(Nf)\n",
        "plt.xlabel('iteraciones')\n",
        "plt.ylabel('p')\n",
        "plt.title('Prob. de que x+y <=1 and xy<=2/9')\n",
        "plt.show()"
      ],
      "metadata": {
        "id": "yibSzDSesbBU",
        "outputId": "2f2ae9ed-2e6e-44e2-94c7-55e5f5a525b8",
        "colab": {
          "base_uri": "https://localhost:8080/",
          "height": 257
        }
      },
      "id": "yibSzDSesbBU",
      "execution_count": 39,
      "outputs": [
        {
          "output_type": "display_data",
          "data": {
            "text/plain": [
              "<Figure size 640x480 with 1 Axes>"
            ],
            "image/png": "[encoded data removed]"
          },
          "metadata": {}
        }
      ]
    },
    {
      "cell_type": "markdown",
      "id": "f596fcd1",
      "metadata": {
        "id": "f596fcd1"
      },
      "source": [
        "**PASO 8**. Replique el modelo."
      ]
    },
    {
      "cell_type": "markdown",
      "id": "6e9bd469",
      "metadata": {
        "id": "6e9bd469"
      },
      "source": [
        "**PASO 9**. Calcule la probabilidad de que aparezcan dos caras lanzando tres veces una moneda al aire y su desviación\n",
        "estándar."
      ]
    },
    {
      "cell_type": "code",
      "execution_count": null,
      "id": "dbeb0461",
      "metadata": {
        "id": "dbeb0461"
      },
      "outputs": [],
      "source": [
        "np.mean(simulacion), np.var(simulacion), np.std(simulacion)"
      ]
    },
    {
      "cell_type": "markdown",
      "id": "db8776d2",
      "metadata": {
        "id": "db8776d2"
      },
      "source": [
        "**PASO 10**. Halle el intervalo de confianza de la probabilidad de queaparezcan dos caras lanzando tres veces una moneda\n",
        "al aire con un nivel de confianza del $95 \\%$."
      ]
    },
    {
      "cell_type": "code",
      "execution_count": null,
      "id": "e5132329",
      "metadata": {
        "id": "e5132329"
      },
      "outputs": [],
      "source": []
    }
  ],
  "metadata": {
    "kernelspec": {
      "display_name": "Python 3 (ipykernel)",
      "language": "python",
      "name": "python3"
    },
    "language_info": {
      "codemirror_mode": {
        "name": "ipython",
        "version": 3
      },
      "file_extension": ".py",
      "mimetype": "text/x-python",
      "name": "python",
      "nbconvert_exporter": "python",
      "pygments_lexer": "ipython3",
      "version": "3.7.3"
    },
    "colab": {
      "provenance": [],
      "include_colab_link": true
    }
  },
  "nbformat": 4,
  "nbformat_minor": 5
}