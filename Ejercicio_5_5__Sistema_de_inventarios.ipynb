{
  "nbformat": 4,
  "nbformat_minor": 0,
  "metadata": {
    "colab": {
      "provenance": [],
      "authorship_tag": "ABX9TyMAPrZcCHKhVAP2rPzy6jaJ",
      "include_colab_link": true
    },
    "kernelspec": {
      "name": "python3",
      "display_name": "Python 3"
    },
    "language_info": {
      "name": "python"
    }
  },
  "cells": [
    {
      "cell_type": "markdown",
      "metadata": {
        "id": "view-in-github",
        "colab_type": "text"
      },
      "source": [
        "<a href=\"https://colab.research.google.com/github/MartaPCastillo/Simulacion-I/blob/main/Ejercicio_5_5__Sistema_de_inventarios.ipynb\" target=\"_parent\"><img src=\"https://colab.research.google.com/assets/colab-badge.svg\" alt=\"Open In Colab\"/></a>"
      ]
    },
    {
      "cell_type": "markdown",
      "source": [
        "#Ejercicio 5.5 Sistema de Inventarios"
      ],
      "metadata": {
        "id": "mZT9uUjVvlol"
      }
    },
    {
      "cell_type": "code",
      "execution_count": 1,
      "metadata": {
        "id": "Q6nPhj-FvP49"
      },
      "outputs": [],
      "source": [
        "import random                                   # importamos el módulo random\n",
        "import numpy as np                              # importamos numpy con un alias (np)\n",
        "import matplotlib.pyplot as plt                 # ídem\n",
        "#from random import expovariate, gauss\n",
        "from statistics import mean, median, variance, stdev      # exportamos funciones especificas de statistic"
      ]
    },
    {
      "cell_type": "code",
      "source": [
        "def sist_inv(n):\n",
        "    lista = []\n",
        "    for i in range(n):\n",
        "      u=random.random()\n",
        "      if 0 <= u < 0.01:\n",
        "         X=35\n",
        "      elif 0.01 <= u < 0.025:\n",
        "         X=36\n",
        "      elif 0.025 <= u < 0.55:\n",
        "         X=37\n",
        "      else:\n",
        "         X=38\n",
        "      lista.append(X)\n",
        "    return lista"
      ],
      "metadata": {
        "id": "-MAORj-MvqkM"
      },
      "execution_count": null,
      "outputs": []
    },
    {
      "cell_type": "code",
      "source": [],
      "metadata": {
        "id": "5MQDZRMBvqsR"
      },
      "execution_count": null,
      "outputs": []
    }
  ]
}