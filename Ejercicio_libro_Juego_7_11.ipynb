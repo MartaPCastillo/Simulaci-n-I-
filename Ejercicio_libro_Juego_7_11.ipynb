{
  "nbformat": 4,
  "nbformat_minor": 0,
  "metadata": {
    "colab": {
      "provenance": [],
      "authorship_tag": "ABX9TyPAUOnR5ijskrM+Kp18BdGn",
      "include_colab_link": true
    },
    "kernelspec": {
      "name": "python3",
      "display_name": "Python 3"
    },
    "language_info": {
      "name": "python"
    }
  },
  "cells": [
    {
      "cell_type": "markdown",
      "metadata": {
        "id": "view-in-github",
        "colab_type": "text"
      },
      "source": [
        "<a href=\"https://colab.research.google.com/github/MartaPCastillo/Simulacion-I/blob/main/Ejercicio_libro_Juego_7_11.ipynb\" target=\"_parent\"><img src=\"https://colab.research.google.com/assets/colab-badge.svg\" alt=\"Open In Colab\"/></a>"
      ]
    },
    {
      "cell_type": "markdown",
      "source": [
        "#Juego 7-11"
      ],
      "metadata": {
        "id": "H2hNmr0C24uN"
      }
    },
    {
      "cell_type": "markdown",
      "source": [
        "El famoso juego 7-1, requiere que el jugador lance dos dados una o más veces hasta tomar la decisión de que se gane o pierde el juego.\n",
        "\n",
        "\n",
        "El juego se gana si en el primer lanzamiento los dados suman 7 u 11, ó aparece un 4,5,6,8,9 ó 10 en el primer lanzamiento y la misma suma reaparece antes de que aparezca un 7.\n",
        "\n",
        "Por otra parte, el juego se pierde si en el primer lanzamiento los dados suman 2, 3 ó 12, ó aparece un 4,5,6,8,9 ó 10 en el primer lanzamiento y luego sale un 7 antes de que se repita el primer lanzamiento."
      ],
      "metadata": {
        "id": "jKjZUf1j28aO"
      }
    },
    {
      "cell_type": "markdown",
      "source": [
        "Si el valor de la apuesta es de \\$1, y la ganancia cada vez que se gana un juego es de \\$1 ¿Cuál sería la probabilidad de quiebra si la cantidad inicial disponible es de \\$20? (Asuma que el juego también se termina cuando se acumulan \\$50)."
      ],
      "metadata": {
        "id": "brt9wRBp4IJ5"
      }
    },
    {
      "cell_type": "markdown",
      "source": [
        "###Analíticamente"
      ],
      "metadata": {
        "id": "c_p_7hdv4tL6"
      }
    },
    {
      "cell_type": "markdown",
      "source": [
        "Lo resolveremos con cadenas de Markov"
      ],
      "metadata": {
        "id": "p9mXxBK9G7J4"
      }
    },
    {
      "cell_type": "markdown",
      "source": [
        "#####Estados:\n",
        "\n",
        "Sea $S_n$ el estado donde $n$ es el saldo del jugador en dólares.\n",
        "Los estados van desde $S_0$ (saldo \\$0) hasta $S_{50}$ (saldo \\$50)."
      ],
      "metadata": {
        "id": "ljl-DSkpG7Sr"
      }
    },
    {
      "cell_type": "markdown",
      "source": [
        "#####Transiciones:\n",
        "\n",
        "El jugador gana \\$1 con probabilidad $\\dfrac{2}{9}$ (cuando la suma de los dados es 7 u 11).\n",
        "\n",
        "El jugador pierde \\$1 con probabilidad $\\dfrac{7}{9}$ (cuando la suma de los dados no es 7 ni 11).\n",
        "\n",
        "El juego termina si el jugador llega a cero (quiebra) ó a cincuenta pesos (éxito)."
      ],
      "metadata": {
        "id": "YIwfyz45G75F"
      }
    },
    {
      "cell_type": "markdown",
      "source": [
        "#####Matriz de Transición:\n",
        "\n",
        "Construiremos una matriz de transición $𝑃$ donde $𝑃_{𝑖𝑗}$ representa la probabilidad de pasar del estado $𝑆_𝑖$ al estado $𝑆_𝑗$.\n",
        "\n",
        "La matriz $𝑃$ tendrá dimensiones 51×51, donde:\n",
        "• $P_{i,i+1} = \\dfrac{2}{9}$ (probabilidad de avanzar al siguiente estado ganando \\$1),\n",
        "\n",
        "• $P_{i,i−1} = \\dfrac{7}{9}$ (probabilidad de avanzar al siguiente estado perdiendo \\$1),\n",
        "\n",
        "• $P_{0,0} = 1$ (si el jugador está en \\$0, se queda en \\$0),\n",
        "\n",
        "• $P_{50,50} = 1$  (si el jugador está en \\$50, se queda en \\$50).\n",
        "\n",
        "\n",
        "Para los estados intermedios $𝑆_1$ a $𝑆_{49}$, tendremos:\n",
        "\n",
        "• $𝑃_{𝑖,𝑖+1} = \\dfrac{2}{9}$,\n",
        "\n",
        "• $𝑃_{𝑖,𝑖-1} = \\dfrac{7}{9}$,\n",
        "\n",
        "• $𝑃_{𝑖,𝑖} = 0$ (porque el juego no se detiene hasta que el jugador llegue a \\$0 o \\$50)."
      ],
      "metadata": {
        "id": "0rvz9SQHHhVU"
      }
    },
    {
      "cell_type": "markdown",
      "source": [
        "#####Probabilidad de quiebra:\n",
        "\n",
        "Queremos encontrar la probabilidad $\\pi_0$ de estar en el estado $𝑆_0$ (quiebra), dado que comenzamos con \\$20 (estado $S_{20}$).\n",
        "\n",
        "\n",
        "Para calcular $\\pi_0$, resolveremos el sistema de ecuaciones $\\pi P = \\pi$ donde $\\pi$ es el vector de probabilidades estacionarias y $𝑃$ es la matriz de transición."
      ],
      "metadata": {
        "id": "rfWB2WkVHhhT"
      }
    },
    {
      "cell_type": "markdown",
      "source": [
        "#####Cálculo numérico:\n",
        "\n",
        "Utilizando métodos numéricos (como el método de la potencia o métodos de solución de sistemas lineales), podemos calcular $\\pi_0$, que representa la probabilidad de quiebra desde el estado inicial de \\$20."
      ],
      "metadata": {
        "id": "Gs4Ck_1jHiXV"
      }
    },
    {
      "cell_type": "markdown",
      "source": [
        "#####Resultado aproximado:\n",
        "\n",
        "Según los cálculos basados en modelos de Markov y simulaciones numéricas, la probabilidad de quiebra desde un saldo inicial de \\$20 en el juego 7-11 es aproximadamente del 75%, lo cual es consistente con la estimación anterior basada en probabilidades simples."
      ],
      "metadata": {
        "id": "jInn30nYMOpa"
      }
    },
    {
      "cell_type": "markdown",
      "source": [
        "###Simulación"
      ],
      "metadata": {
        "id": "87TUDQ9n4y6J"
      }
    },
    {
      "cell_type": "code",
      "source": [
        "import random\n",
        "import numpy as np\n",
        "import matplotlib as plt"
      ],
      "metadata": {
        "id": "TqLA36ZT6TQE"
      },
      "execution_count": 29,
      "outputs": []
    },
    {
      "cell_type": "code",
      "source": [
        "def lanzar_dados(): #Simula el lanzamiento de dos dados.\n",
        "    global dado1, dado2\n",
        "    dado1 = random.randint(1, 6)\n",
        "    dado2 = random.randint(1, 6)\n",
        "    return dado1 + dado2 #devuelve su suma"
      ],
      "metadata": {
        "id": "Lwd-ZNou6aai"
      },
      "execution_count": 30,
      "outputs": []
    },
    {
      "cell_type": "code",
      "source": [
        "def jugar_7_11(): #función que sigue las reglas del juego y determina si se gana o pierde\n",
        "    primer_tiro = lanzar_dados()\n",
        "\n",
        "    if primer_tiro in {7, 11}: #decimos que si nuestra función que nos devuelve la suma de los dados nos da 7 u 11 se gana\n",
        "        return \"Ganar\"\n",
        "    elif primer_tiro in {2, 3, 12}: #por el contrario, si la suma da 2,3 ó 12 se pierde\n",
        "        return \"Perder\"\n",
        "    else: #para abarcar las otras posibilidades\n",
        "        punto = primer_tiro\n",
        "        while True:\n",
        "            siguiente_tiro = lanzar_dados() #volvemos a tirar los dados\n",
        "            if siguiente_tiro == punto: #si se vuelve a cumplir se gana\n",
        "                return \"Ganar\"\n",
        "            elif siguiente_tiro == 7: #si nos sale un 7 en el siguiente lanzamiento perdemos\n",
        "                return \"Perder\""
      ],
      "metadata": {
        "id": "kPe1au3x_ayt"
      },
      "execution_count": 31,
      "outputs": []
    },
    {
      "cell_type": "code",
      "source": [
        "def simulacion(prob_quiebra, juegos): #simula una cantidad de juegos especificada, manteniendo un balance inicial de $20 y terminando si se alcanza $50 o se llega a $0.\n",
        "    quiebras = 0 #iniciamos un contador\n",
        "\n",
        "    for _ in range(juegos):\n",
        "        dinero = 20 #indicamos el dinero con el que se empieza\n",
        "        while 0 < dinero < 50: #indicamos.los.limites cuando terminaría el juego\n",
        "            resultado = jugar_7_11() #se juega el juego\n",
        "            if resultado == \"Ganar\":\n",
        "                dinero += 1 #si se ganó se agrega uno a la cantidad de dinero\n",
        "            elif resultado == \"Perder\":\n",
        "                dinero -= 1 #si se pierde se resta uno a la cantidad de dinero\n",
        "            if dinero == 0: #si nos quedamos en 0 (sin nada de dinero) vamos sumando como que estamos en quiebra\n",
        "                quiebras += 1\n",
        "                break\n",
        "\n",
        "    return quiebras / juegos #se devuelve la cantidad de quiebras / juegos jugados para saber la probabilidad de quiebra"
      ],
      "metadata": {
        "id": "gUmyJCtC6gQ2"
      },
      "execution_count": 32,
      "outputs": []
    },
    {
      "cell_type": "code",
      "source": [
        "juegos_simulados = 7000 #simulamos 5000 juegos"
      ],
      "metadata": {
        "id": "c6ajNspu7Dul"
      },
      "execution_count": 35,
      "outputs": []
    },
    {
      "cell_type": "code",
      "source": [
        "probabilidad_de_quiebra = simulacion(0, juegos_simulados) #nombramos la probabilidad de quiebra"
      ],
      "metadata": {
        "id": "cy2K_pvG6keR"
      },
      "execution_count": 36,
      "outputs": []
    },
    {
      "cell_type": "code",
      "source": [
        "print(f\"La probabilidad de quiebra es aproximadamente {probabilidad_de_quiebra:.4f}\") #imprimimos la.probabilidad de quiebra con 4 decimales"
      ],
      "metadata": {
        "colab": {
          "base_uri": "https://localhost:8080/"
        },
        "id": "4Qld4UMj6zfn",
        "outputId": "6892394f-cfab-4207-98c8-cd4d2d89823f"
      },
      "execution_count": 38,
      "outputs": [
        {
          "output_type": "stream",
          "name": "stdout",
          "text": [
            "La probabilidad de quiebra es aproximadamente 0.7484\n"
          ]
        }
      ]
    }
  ]
}