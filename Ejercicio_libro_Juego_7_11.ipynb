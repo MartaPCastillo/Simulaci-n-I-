{
  "nbformat": 4,
  "nbformat_minor": 0,
  "metadata": {
    "colab": {
      "provenance": [],
      "authorship_tag": "ABX9TyMK5ug+wBrSyelTPhHDmD25",
      "include_colab_link": true
    },
    "kernelspec": {
      "name": "python3",
      "display_name": "Python 3"
    },
    "language_info": {
      "name": "python"
    }
  },
  "cells": [
    {
      "cell_type": "markdown",
      "metadata": {
        "id": "view-in-github",
        "colab_type": "text"
      },
      "source": [
        "<a href=\"https://colab.research.google.com/github/MartaPCastillo/Simulacion-I/blob/main/Ejercicio_libro_Juego_7_11.ipynb\" target=\"_parent\"><img src=\"https://colab.research.google.com/assets/colab-badge.svg\" alt=\"Open In Colab\"/></a>"
      ]
    },
    {
      "cell_type": "markdown",
      "source": [
        "#Juego 7-11"
      ],
      "metadata": {
        "id": "H2hNmr0C24uN"
      }
    },
    {
      "cell_type": "markdown",
      "source": [
        "El famoso juego 7-1, requiere que el jugador lance dos dados una o más veces hasta tomar la decisión de que se gane o pierde el juego.\n",
        "\n",
        "El juego se gana si en el primer lanzamiento los dados suman 7 u 11, ó aparece un 4,5,6,8,9 ó 10 en el primer lanzamiento y la misma suma reaparece antes de que aparezca un 7.\n",
        "\n",
        "Por otra parte, el juego se pierde si en el primer lanzamiento los dados suman 2, 3 ó 12, ó aparece un 4,5,6,8,9 ó 10 en el primer lanzamiento y luego sale un 7 antes de que se repita el primer lanzamiento."
      ],
      "metadata": {
        "id": "jKjZUf1j28aO"
      }
    },
    {
      "cell_type": "markdown",
      "source": [
        "Si el valor de la apuesta es de \\$1, y la ganancia cada vez que se gana un juego es de \\$1 ¿Cuál sería la probabilidad de quiebra si la cantidad inicial disponible es de \\$20? (Asuma que el juego también se termina cuando se acumulan \\$50)."
      ],
      "metadata": {
        "id": "brt9wRBp4IJ5"
      }
    },
    {
      "cell_type": "markdown",
      "source": [
        "###Analíticamente"
      ],
      "metadata": {
        "id": "c_p_7hdv4tL6"
      }
    },
    {
      "cell_type": "markdown",
      "source": [
        "###Simulación"
      ],
      "metadata": {
        "id": "87TUDQ9n4y6J"
      }
    },
    {
      "cell_type": "code",
      "source": [
        "import random\n",
        "import numpy as np\n",
        "import matplotlib as plt"
      ],
      "metadata": {
        "id": "TqLA36ZT6TQE"
      },
      "execution_count": 1,
      "outputs": []
    },
    {
      "cell_type": "code",
      "source": [
        "def lanzar_dados(): #Simula el lanzamiento de dos dados.\n",
        "    global dado1, dado2\n",
        "    dado1 = random.randint(1, 6)\n",
        "    dado2 = random.randint(1, 6)\n",
        "    return dado1 + dado2 #devuelve su suma"
      ],
      "metadata": {
        "id": "Lwd-ZNou6aai"
      },
      "execution_count": 26,
      "outputs": []
    },
    {
      "cell_type": "code",
      "source": [
        "def jugar_7_11(): #función que sigue las reglas del juego y determina si se gana o pierde\n",
        "    primer_tiro = lanzar_dados()\n",
        "\n",
        "    if primer_tiro in {7, 11}: #decimos que si nuestra función que nos devuelve la suma de los dados nos da 7 u 11 se gana\n",
        "        return \"Ganar\"\n",
        "    elif primer_tiro in {2, 3, 12}: #por el contrario, si la suma da 2,3 ó 12 se pierde\n",
        "        return \"Perder\"\n",
        "    else: #para abarcar las otras posibilidades\n",
        "        punto = primer_tiro\n",
        "        while True:\n",
        "            siguiente_tiro = lanzar_dados() #volvemos a tirar los dados\n",
        "            if siguiente_tiro == punto: #si se vuelve a cumplir se gana\n",
        "                return \"Ganar\"\n",
        "            elif siguiente_tiro == 7: #si nos sale un 7 en el siguiente lanzamiento perdemos\n",
        "                return \"Perder\""
      ],
      "metadata": {
        "id": "kPe1au3x_ayt"
      },
      "execution_count": 27,
      "outputs": []
    },
    {
      "cell_type": "code",
      "source": [
        "def simulacion(prob_quiebra, juegos): #simula una cantidad de juegos especificada, manteniendo un balance inicial de $20 y terminando si se alcanza $50 o se llega a $0.\n",
        "    quiebras = 0 #iniciamos un contador\n",
        "\n",
        "    for _ in range(juegos):\n",
        "        dinero = 20 #indicamos el dinero con el que se empieza\n",
        "        while 0 < dinero < 50: #indicamos.los.limites cuando terminaría el juego\n",
        "            resultado = jugar_7_11() #se juega el juego\n",
        "            if resultado == \"Ganar\":\n",
        "                dinero += 1 #si se ganó se agrega uno a la cantidad de dinero\n",
        "            elif resultado == \"Perder\":\n",
        "                dinero -= 1 #si se pierde se resta uno a la cantidad de dinero\n",
        "            if dinero == 0: #si nos quedamos en 0 (sin nada de dinero) vamos sumando como que estamos en quiebra\n",
        "                quiebras += 1\n",
        "                break\n",
        "\n",
        "    return quiebras / juegos #se devuelve la cantidad de quiebras / juegos jugados para saber la probabilidad de quiebra"
      ],
      "metadata": {
        "id": "gUmyJCtC6gQ2"
      },
      "execution_count": 28,
      "outputs": []
    },
    {
      "cell_type": "code",
      "source": [
        "juegos_simulados = 5000 #simulamos 5000 juegos"
      ],
      "metadata": {
        "id": "c6ajNspu7Dul"
      },
      "execution_count": 18,
      "outputs": []
    },
    {
      "cell_type": "code",
      "source": [
        "probabilidad_de_quiebra = simulacion(0, juegos_simulados) #nombramos la probabilidad de quiebra"
      ],
      "metadata": {
        "id": "cy2K_pvG6keR"
      },
      "execution_count": 19,
      "outputs": []
    },
    {
      "cell_type": "code",
      "source": [
        "print(f\"La probabilidad de quiebra es aproximadamente {probabilidad_de_quiebra:.4f}\") #imprimimos la.probabilidad de quiebra con 4 decimales"
      ],
      "metadata": {
        "colab": {
          "base_uri": "https://localhost:8080/"
        },
        "id": "4Qld4UMj6zfn",
        "outputId": "f67978cb-1196-4027-ad63-894775034874"
      },
      "execution_count": 20,
      "outputs": [
        {
          "output_type": "stream",
          "name": "stdout",
          "text": [
            "La probabilidad de quiebra es aproximadamente 0.7736\n"
          ]
        }
      ]
    }
  ]
}