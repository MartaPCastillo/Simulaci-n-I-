{
  "nbformat": 4,
  "nbformat_minor": 0,
  "metadata": {
    "colab": {
      "provenance": [],
      "authorship_tag": "ABX9TyNIC7qMd8w17CdLXP2A+0/m",
      "include_colab_link": true
    },
    "kernelspec": {
      "name": "python3",
      "display_name": "Python 3"
    },
    "language_info": {
      "name": "python"
    }
  },
  "cells": [
    {
      "cell_type": "markdown",
      "metadata": {
        "id": "view-in-github",
        "colab_type": "text"
      },
      "source": [
        "<a href=\"https://colab.research.google.com/github/MartaPCastillo/Simulacion-I/blob/main/Ejercicio_libro_Juego_7_11.ipynb\" target=\"_parent\"><img src=\"https://colab.research.google.com/assets/colab-badge.svg\" alt=\"Open In Colab\"/></a>"
      ]
    },
    {
      "cell_type": "markdown",
      "source": [
        "#Juego 7-11"
      ],
      "metadata": {
        "id": "H2hNmr0C24uN"
      }
    },
    {
      "cell_type": "markdown",
      "source": [
        "El famoso juego 7-1, requiere que el jugador lance dos dados una o más veces hasta tomar la decisión de que se gane o pierde el juego.\n",
        "\n",
        "El juego se gana si en el primer lanzamiento los dados suman 7 u 11, ó aparece un 4,5,6,8,9 ó 10 en el primer lanzamiento y la misma suma reaparece antes de que aparezca un 7.\n",
        "\n",
        "Por otra parte, el juego se pierde si en el primer lanzamiento los dados suman 2, 3 ó 12, ó aparece un 4,5,6,8,9 ó 10 en el primer lanzamiento y luego sale un 7 antes de que se repita el primer lanzamiento."
      ],
      "metadata": {
        "id": "jKjZUf1j28aO"
      }
    },
    {
      "cell_type": "markdown",
      "source": [
        "Si el valor de la apuesta es de \\$1, y la ganancia cada vez que se gana un juego es de \\$1 ¿Cuál sería la probabilidad de quiebra si la cantidad inicial disponible es de \\$20? (Asuma que el juego también se termina cuando se acumulan \\$50)."
      ],
      "metadata": {
        "id": "brt9wRBp4IJ5"
      }
    },
    {
      "cell_type": "markdown",
      "source": [
        "###Analíticamente"
      ],
      "metadata": {
        "id": "c_p_7hdv4tL6"
      }
    },
    {
      "cell_type": "markdown",
      "source": [
        "###Simulación"
      ],
      "metadata": {
        "id": "87TUDQ9n4y6J"
      }
    },
    {
      "cell_type": "code",
      "source": [],
      "metadata": {
        "id": "G7gfVRUn41uA"
      },
      "execution_count": null,
      "outputs": []
    }
  ]
}