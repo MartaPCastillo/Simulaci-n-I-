{
  "nbformat": 4,
  "nbformat_minor": 0,
  "metadata": {
    "colab": {
      "provenance": [],
      "authorship_tag": "ABX9TyN6nfldjYofQ1+SjDFsLQ23",
      "include_colab_link": true
    },
    "kernelspec": {
      "name": "python3",
      "display_name": "Python 3"
    },
    "language_info": {
      "name": "python"
    }
  },
  "cells": [
    {
      "cell_type": "markdown",
      "metadata": {
        "id": "view-in-github",
        "colab_type": "text"
      },
      "source": [
        "<a href=\"https://colab.research.google.com/github/MartaPCastillo/Simulacion-I/blob/main/Ejercicio_libro_Juego_7_11.ipynb\" target=\"_parent\"><img src=\"https://colab.research.google.com/assets/colab-badge.svg\" alt=\"Open In Colab\"/></a>"
      ]
    },
    {
      "cell_type": "markdown",
      "source": [
        "#Juego 7-11"
      ],
      "metadata": {
        "id": "H2hNmr0C24uN"
      }
    },
    {
      "cell_type": "markdown",
      "source": [
        "El famoso juego 7-1, requiere que el jugador lance dos dados una o más veces hasta tomar la decisión de que se gane o pierde el juego.\n",
        "\n",
        "El juego se gana si en el primer lanzamiento los dados suman 7 u 11, ó aparece un 4,5,6,8,9 ó 10 en el primer lanzamiento y la misma suma reaparece antes de que aparezca un 7.\n",
        "\n",
        "Por otra parte, el juego se pierde si en el primer lanzamiento los dados suman 2, 3 ó 12, ó aparece un 4,5,6,8,9 ó 10 en el primer lanzamiento y luego sale un 7 antes de que se repita el primer lanzamiento."
      ],
      "metadata": {
        "id": "jKjZUf1j28aO"
      }
    },
    {
      "cell_type": "markdown",
      "source": [
        "Si el valor de la apuesta es de \\$1, y la ganancia cada vez que se gana un juego es de \\$1 ¿Cuál sería la probabilidad de quiebra si la cantidad inicial disponible es de \\$20? (Asuma que el juego también se termina cuando se acumulan \\$50)."
      ],
      "metadata": {
        "id": "brt9wRBp4IJ5"
      }
    },
    {
      "cell_type": "markdown",
      "source": [
        "###Analíticamente"
      ],
      "metadata": {
        "id": "c_p_7hdv4tL6"
      }
    },
    {
      "cell_type": "markdown",
      "source": [
        "###Simulación"
      ],
      "metadata": {
        "id": "87TUDQ9n4y6J"
      }
    },
    {
      "cell_type": "code",
      "source": [
        "import random\n",
        "import numpy as np\n",
        "import matplotlib as plt"
      ],
      "metadata": {
        "id": "TqLA36ZT6TQE"
      },
      "execution_count": 1,
      "outputs": []
    },
    {
      "cell_type": "code",
      "source": [
        "def lanzar_dados():\n",
        "    dado1 = random.randint(1, 6)\n",
        "    dado2 = random.randint(1, 6)\n",
        "    return dado1 + dado2"
      ],
      "metadata": {
        "id": "Lwd-ZNou6aai"
      },
      "execution_count": 2,
      "outputs": []
    },
    {
      "cell_type": "code",
      "source": [
        "def jugar_7_11():\n",
        "    primer_tiro = lanzar_dados()\n",
        "\n",
        "    if primer_tiro in {7, 11}:\n",
        "        return \"Ganar\"\n",
        "    elif primer_tiro in {2, 3, 12}:\n",
        "        return \"Perder\"\n",
        "    else:\n",
        "        punto = primer_tiro\n",
        "        while True:\n",
        "            siguiente_tiro = lanzar_dados()\n",
        "            if siguiente_tiro == punto:\n",
        "                return \"Ganar\"\n",
        "            elif siguiente_tiro == 7:\n",
        "                return \"Perder\""
      ],
      "metadata": {
        "id": "G7gfVRUn41uA"
      },
      "execution_count": 4,
      "outputs": []
    },
    {
      "cell_type": "code",
      "source": [
        "def simulacion(prob_quiebra, juegos):\n",
        "    quiebras = 0\n",
        "\n",
        "    for _ in range(juegos):\n",
        "        dinero = 20\n",
        "        while 0 < dinero < 50:\n",
        "            resultado = jugar_7_11()\n",
        "            if resultado == \"Ganar\":\n",
        "                dinero += 1\n",
        "            elif resultado == \"Perder\":\n",
        "                dinero -= 1\n",
        "            if dinero == 0:\n",
        "                quiebras += 1\n",
        "                break\n",
        "\n",
        "    return quiebras / juegos"
      ],
      "metadata": {
        "id": "gUmyJCtC6gQ2"
      },
      "execution_count": 5,
      "outputs": []
    },
    {
      "cell_type": "code",
      "source": [
        "juegos_simulados = 5000"
      ],
      "metadata": {
        "id": "c6ajNspu7Dul"
      },
      "execution_count": 18,
      "outputs": []
    },
    {
      "cell_type": "code",
      "source": [
        "probabilidad_de_quiebra = simulacion(0, juegos_simulados)"
      ],
      "metadata": {
        "id": "cy2K_pvG6keR"
      },
      "execution_count": 19,
      "outputs": []
    },
    {
      "cell_type": "code",
      "source": [
        "print(f\"La probabilidad de quiebra es aproximadamente {probabilidad_de_quiebra:.4f}\")"
      ],
      "metadata": {
        "colab": {
          "base_uri": "https://localhost:8080/"
        },
        "id": "4Qld4UMj6zfn",
        "outputId": "f67978cb-1196-4027-ad63-894775034874"
      },
      "execution_count": 20,
      "outputs": [
        {
          "output_type": "stream",
          "name": "stdout",
          "text": [
            "La probabilidad de quiebra es aproximadamente 0.7736\n"
          ]
        }
      ]
    }
  ]
}