{
  "cells": [
    {
      "cell_type": "markdown",
      "metadata": {
        "id": "view-in-github",
        "colab_type": "text"
      },
      "source": [
        "<a href=\"https://colab.research.google.com/github/MartaPCastillo/Simulacion-I/blob/main/Ejercicios_N%C3%BAmeros_Aleatorios.ipynb\" target=\"_parent\"><img src=\"https://colab.research.google.com/assets/colab-badge.svg\" alt=\"Open In Colab\"/></a>"
      ]
    },
    {
      "cell_type": "markdown",
      "metadata": {
        "id": "KRkmp24lElEE"
      },
      "source": [
        "# Uso de los números aleatorios"
      ]
    },
    {
      "cell_type": "markdown",
      "metadata": {
        "id": "F9e1d_2WElEL"
      },
      "source": [
        "## 1. Introducción al Módulo random"
      ]
    },
    {
      "cell_type": "markdown",
      "metadata": {
        "id": "k1sC4rTBElEM"
      },
      "source": [
        "El módulo random de la librería estándar de Python incluye un conjunto de funciones que permiten obtener de distintos modos\n",
        "números pseudoaleatorios a través del algoritmo [Mersenne Twister](https://es.wikipedia.org/wiki/Mersenne_twister)."
      ]
    },
    {
      "cell_type": "code",
      "execution_count": 1,
      "metadata": {
        "id": "egyxofoJElEN"
      },
      "outputs": [],
      "source": [
        "#importamos el módulo que vamos a usar\n",
        "\n",
        "import random\n",
        "import numpy as np\n",
        "import matplotlib.pyplot as plt"
      ]
    },
    {
      "cell_type": "markdown",
      "metadata": {
        "id": "kPVpv1_jElEQ"
      },
      "source": [
        "Las funciones de los módulos se invocan con el formato: módulo.función().\n",
        "\n",
        "En el módulo random existe la función random, que devuelve un número aleatorio que sigue una distribución uniforme.\n",
        "\n",
        "Así, para obtener $x \\sim U(0,1)$:"
      ]
    },
    {
      "cell_type": "code",
      "execution_count": 2,
      "metadata": {
        "colab": {
          "base_uri": "https://localhost:8080/"
        },
        "id": "JDonObpOElER",
        "outputId": "e34a6578-6d45-48f2-ec68-b92b6678bea9"
      },
      "outputs": [
        {
          "output_type": "stream",
          "name": "stdout",
          "text": [
            "0.5103180583601323\n"
          ]
        }
      ],
      "source": [
        "x = random.random()  #Cada ejecución dará un número distinto.\n",
        "print(x)"
      ]
    },
    {
      "cell_type": "markdown",
      "metadata": {
        "id": "9kvmWtdFElES"
      },
      "source": [
        "Se puede usar algún bucle si se desea generar una secuencia $x_i \\sim U(0,1)$ con $i = 1, 2, 3,..., N$:"
      ]
    },
    {
      "cell_type": "code",
      "execution_count": 3,
      "metadata": {
        "colab": {
          "base_uri": "https://localhost:8080/"
        },
        "id": "gjj4L3lbElES",
        "outputId": "e623e75b-61f9-4133-be31-7045aa2a4343"
      },
      "outputs": [
        {
          "output_type": "stream",
          "name": "stdout",
          "text": [
            "0.4043 0.7947 0.7447 0.9498 0.7054 0.8994 0.1396 0.2876 0.7321 0.9109 \n"
          ]
        }
      ],
      "source": [
        "for i in range(10):\n",
        "    print('%05.4f' % random.random(), end=' ')  #El código en rojo indica la cantidad de dígitos y de decimales a mostrar.\n",
        "print()"
      ]
    },
    {
      "cell_type": "code",
      "execution_count": 4,
      "metadata": {
        "colab": {
          "base_uri": "https://localhost:8080/"
        },
        "id": "1tIsf3GDElES",
        "outputId": "636515f0-f5e2-46af-de05-7521c36b66ab"
      },
      "outputs": [
        {
          "output_type": "stream",
          "name": "stdout",
          "text": [
            "0.5984\n",
            "0.1678\n",
            "0.0779\n",
            "0.6182\n",
            "0.1743\n",
            "0.7752\n",
            "0.2832\n",
            "0.5033\n",
            "0.3816\n",
            "0.9246\n",
            "\n"
          ]
        }
      ],
      "source": [
        "for i in range(10):\n",
        "    print('%05.4f' % random.random(), sep=\"\\t\")\n",
        "print()"
      ]
    },
    {
      "cell_type": "markdown",
      "metadata": {
        "id": "KW6YO1QnElES"
      },
      "source": [
        "La función seed() fija el valor de la semilla en la generación de la secuencia de números aleatorios.\n",
        "Esto es útil cuando se quieren utilizar los mismos datos de entrada en una simulación."
      ]
    },
    {
      "cell_type": "code",
      "execution_count": 5,
      "metadata": {
        "colab": {
          "base_uri": "https://localhost:8080/"
        },
        "id": "J6V5k_tTElET",
        "outputId": "3234a464-4a2f-4efa-f5f8-ee3ebd645031"
      },
      "outputs": [
        {
          "output_type": "stream",
          "name": "stdout",
          "text": [
            "0.1344 0.8474 0.7638 0.2551 0.4954 0.4495 0.6516 0.7887 0.0939 0.0283 0.8358 0.4328 0.7623 0.0021 0.4454 0.7215 0.2288 0.9453 0.9014 0.0306 \n"
          ]
        }
      ],
      "source": [
        "random.seed(1) #primero fijamos la semilla\n",
        "\n",
        "for i in range(20):\n",
        "    print('%05.4f' % random.random(), end=' ')\n",
        "print()"
      ]
    },
    {
      "cell_type": "markdown",
      "metadata": {
        "id": "Bx04lqndElET"
      },
      "source": [
        "La función uniform() devuelve un número float incluido entre los valores indicados."
      ]
    },
    {
      "cell_type": "code",
      "execution_count": 6,
      "metadata": {
        "colab": {
          "base_uri": "https://localhost:8080/"
        },
        "id": "jiBb5XXTElET",
        "outputId": "8b0a96d5-ef63-4667-d7a8-736a79c95bba"
      },
      "outputs": [
        {
          "output_type": "stream",
          "name": "stdout",
          "text": [
            "2.2468 27.5292 47.0183 19.6790 11.6134 21.6837 2.4230 11.8629 22.4565 25.2948 \n"
          ]
        }
      ],
      "source": [
        "for i in range(10):\n",
        "    print('%5.4f' %random.uniform(1, 50), end=' ')\n",
        "print()"
      ]
    },
    {
      "cell_type": "markdown",
      "metadata": {
        "id": "ZsF8kag6ElEU"
      },
      "source": [
        "La función randint() devuelve un número entero incluido entre los valores indicados.\n",
        "Los valores de los límites inferior y superior también pueden aparecer entre los valores devueltos."
      ]
    },
    {
      "cell_type": "code",
      "execution_count": 7,
      "metadata": {
        "colab": {
          "base_uri": "https://localhost:8080/"
        },
        "id": "CrqyG-NWElEU",
        "outputId": "575c9464-a50c-4025-c9d4-34585b246793"
      },
      "outputs": [
        {
          "output_type": "stream",
          "name": "stdout",
          "text": [
            "-41 -12 -41 73 -44 94 17 -26 -95 6 42 64 -75 -53 61 85 -25 -70 90 -15 \n"
          ]
        }
      ],
      "source": [
        "for i in range(20):\n",
        "    print(random.randint(-100, 100), end=' ')\n",
        "print()"
      ]
    },
    {
      "cell_type": "markdown",
      "metadata": {
        "id": "ArFs47H5ElEU"
      },
      "source": [
        "La función randrange() devuelve enteros que van desde un valor inicial a otro final\n",
        "separados entre sí un número de valores determinados."
      ]
    },
    {
      "cell_type": "code",
      "execution_count": 8,
      "metadata": {
        "colab": {
          "base_uri": "https://localhost:8080/"
        },
        "id": "wh3nMKJQElEV",
        "outputId": "71ea10ee-e105-4b18-d421-5a7fbb96a3d9"
      },
      "outputs": [
        {
          "output_type": "stream",
          "name": "stdout",
          "text": [
            "15 15 12 9 12 18 15 3 6 6 12 9 18 12 9 12 18 0 9 3 \n"
          ]
        }
      ],
      "source": [
        "for i in range(20):\n",
        "    print(random.randrange(0, 20, 3), end=' ')\n",
        "print()"
      ]
    },
    {
      "cell_type": "code",
      "execution_count": null,
      "metadata": {
        "id": "0F0dJ1pcElEV"
      },
      "outputs": [],
      "source": []
    },
    {
      "cell_type": "markdown",
      "metadata": {
        "id": "jMwqGZh7ElEV"
      },
      "source": [
        "La función random.choice() se utiliza para seleccionar elementos al azar de una lista."
      ]
    },
    {
      "cell_type": "code",
      "execution_count": 9,
      "metadata": {
        "id": "8iS_DRmMElEV"
      },
      "outputs": [],
      "source": [
        "Lista = ['Rome','New York','London','Berlin','Moskov', 'Los Angeles','Paris','Madrid','Tokio','Toronto']"
      ]
    },
    {
      "cell_type": "code",
      "execution_count": 10,
      "metadata": {
        "colab": {
          "base_uri": "https://localhost:8080/"
        },
        "id": "u0Tqyod0ElEW",
        "outputId": "a3ee741c-99f0-45c9-f7b3-1db186ca98e0"
      },
      "outputs": [
        {
          "output_type": "stream",
          "name": "stdout",
          "text": [
            "La ciudad elegida es -  Paris\n"
          ]
        }
      ],
      "source": [
        "Ciudad = random.choice(Lista)\n",
        "print (\"La ciudad elegida es - \", Ciudad)"
      ]
    },
    {
      "cell_type": "code",
      "execution_count": 11,
      "metadata": {
        "colab": {
          "base_uri": "https://localhost:8080/"
        },
        "id": "U5TL9EwdElEW",
        "outputId": "ee42e61d-cc34-4a74-bc98-9551e1658f03"
      },
      "outputs": [
        {
          "output_type": "stream",
          "name": "stdout",
          "text": [
            "La ciudad elegida es -  Paris\n",
            "La ciudad elegida es -  London\n",
            "La ciudad elegida es -  Los Angeles\n",
            "La ciudad elegida es -  Tokio\n",
            "La ciudad elegida es -  Los Angeles\n",
            "La ciudad elegida es -  New York\n",
            "La ciudad elegida es -  Madrid\n",
            "La ciudad elegida es -  Tokio\n",
            "La ciudad elegida es -  New York\n",
            "La ciudad elegida es -  London\n"
          ]
        }
      ],
      "source": [
        "for i in range(10):\n",
        "    Ciudad = random.choice(Lista)\n",
        "    print (\"La ciudad elegida es - \", Ciudad)"
      ]
    },
    {
      "cell_type": "markdown",
      "metadata": {
        "id": "hu-cGLQHElEW"
      },
      "source": [
        "La función sample() devuelve de una lista de elementos un determinado número de elementos diferentes elegidos al azar."
      ]
    },
    {
      "cell_type": "code",
      "execution_count": 12,
      "metadata": {
        "colab": {
          "base_uri": "https://localhost:8080/"
        },
        "id": "ijzh7-2hElEX",
        "outputId": "e357fad9-4fce-4252-f130-597487366748"
      },
      "outputs": [
        {
          "output_type": "stream",
          "name": "stdout",
          "text": [
            "['Tokio', 'Paris', 'Los Angeles', 'Berlin', 'Madrid', 'Rome', 'Toronto', 'Moskov', 'New York']\n"
          ]
        }
      ],
      "source": [
        "print(random.sample(Lista, 9))"
      ]
    },
    {
      "cell_type": "markdown",
      "metadata": {
        "id": "As593QawElEX"
      },
      "source": [
        "La función shuffle() 'mezcla' o cambia aleatoriamente el orden de los elementos de una lista antes de realizar la selección de alguno de ellos."
      ]
    },
    {
      "cell_type": "code",
      "execution_count": 13,
      "metadata": {
        "colab": {
          "base_uri": "https://localhost:8080/"
        },
        "id": "qlHcPRc0ElEX",
        "outputId": "85c52d57-d331-4d41-f6b9-e13755d7761a"
      },
      "outputs": [
        {
          "output_type": "stream",
          "name": "stdout",
          "text": [
            "mezcla1 ['Los Angeles', 'Madrid', 'Berlin', 'Rome', 'Tokio', 'Moskov', 'New York', 'London', 'Paris', 'Toronto']\n"
          ]
        }
      ],
      "source": [
        "random.shuffle(Lista)\n",
        "print('mezcla1', Lista)"
      ]
    },
    {
      "cell_type": "markdown",
      "metadata": {
        "id": "a6lHY8MeElEX"
      },
      "source": [
        "## Ejercicio:\n",
        "\n",
        "1. Elegir al azar una ciudad de la Lista despues de hacer una mezcla.\n",
        "2. Elegir al azar tres ciudades después de una mezcla."
      ]
    },
    {
      "cell_type": "code",
      "source": [
        "#Elegir al azar una ciudad de la Lista despues de hacer una mezcla.\n",
        "random.shuffle(Lista)\n",
        "Ciudad = random.choice(Lista)\n",
        "print (\"La ciudad elegida es: \", Ciudad)"
      ],
      "metadata": {
        "colab": {
          "base_uri": "https://localhost:8080/"
        },
        "id": "LcUXkLDFFH60",
        "outputId": "95d75d78-89ff-427b-c9b3-94a6b92513dc"
      },
      "execution_count": 25,
      "outputs": [
        {
          "output_type": "stream",
          "name": "stdout",
          "text": [
            "La ciudad elegida es:  Berlin\n"
          ]
        }
      ]
    },
    {
      "cell_type": "code",
      "source": [
        "random.shuffle(Lista)\n",
        "for i in range(3):\n",
        "    Ciudad = random.choice(Lista)\n",
        "    print (\"La ciudad elegida es - \", Ciudad)"
      ],
      "metadata": {
        "colab": {
          "base_uri": "https://localhost:8080/"
        },
        "id": "pHrCTk20F6Gb",
        "outputId": "090bc823-53f8-4dff-e8ac-1177af1fb770"
      },
      "execution_count": 32,
      "outputs": [
        {
          "output_type": "stream",
          "name": "stdout",
          "text": [
            "La ciudad elegida es -  Tokio\n",
            "La ciudad elegida es -  Toronto\n",
            "La ciudad elegida es -  New York\n"
          ]
        }
      ]
    },
    {
      "cell_type": "markdown",
      "metadata": {
        "id": "JKeWlfDOElEY"
      },
      "source": [
        "La función random.gaus() genera una muestra de números aleatorios normalmente distribuidos."
      ]
    },
    {
      "cell_type": "code",
      "execution_count": null,
      "metadata": {
        "id": "A3JVrTYWElEY"
      },
      "outputs": [],
      "source": [
        "#Generamos una lista de 100 números aleatorios normalmente distribuidos.\n",
        "\n",
        "nums = []\n",
        "mu = 100\n",
        "sigma = 50\n",
        "\n",
        "for i in range(100):\n",
        "    temp = random.gauss(mu, sigma)\n",
        "    nums.append(temp)\n",
        "\n",
        "plt.plot(nums)\n",
        "plt.show()"
      ]
    },
    {
      "cell_type": "code",
      "execution_count": null,
      "metadata": {
        "id": "qJlUAd_OElEY"
      },
      "outputs": [],
      "source": [
        "# Construimos el histograma de una muestra de 10000 números aleatorios normalmente distribuidos\n",
        "\n",
        "nums = []\n",
        "mu = 100\n",
        "sigma = 50\n",
        "\n",
        "for i in range(10000):\n",
        "    temp = random.gauss(mu, sigma)\n",
        "    nums.append(temp)\n",
        "\n",
        "plt.hist(nums, bins = 200)\n",
        "plt.show()\n"
      ]
    },
    {
      "cell_type": "markdown",
      "metadata": {
        "id": "jkpPdR2NElEY"
      },
      "source": [
        "## Ejercicio:\n",
        "\n",
        "1. Generar muestras e histograma de las funciones:\n",
        "    triangular(), betavariate(), expovariate(), gammavariate(),\n",
        "    lognormvariate(), normalvariate(), vonmisesvariate(), paretovariate() y weibullvariate()"
      ]
    },
    {
      "cell_type": "code",
      "source": [
        "#Generamos una lista de 100 números aleatorios.\n",
        "#Función Triangular\n",
        "\n",
        "nums = []\n",
        "a = 100\n",
        "b = 500\n",
        "c = 250\n",
        "\n",
        "for i in range(100):\n",
        "    temp = random.triangular(a, b, c)\n",
        "    nums.append(temp)\n",
        "\n",
        "plt.plot(nums)\n",
        "plt.show()"
      ],
      "metadata": {
        "id": "1cTgmRPJGQxL"
      },
      "execution_count": null,
      "outputs": []
    },
    {
      "cell_type": "code",
      "source": [
        "# Construimos el histograma de una muestra de 10000 números aleatorios.\n",
        "#Función Triangular\n",
        "\n",
        "nums = []\n",
        "a = 100\n",
        "b = 500\n",
        "c = 250\n",
        "\n",
        "for i in range(10000):\n",
        "    temp = random.triangular(a,b,c)\n",
        "    nums.append(temp)\n",
        "\n",
        "plt.hist(nums, bins = 200)\n",
        "plt.show()"
      ],
      "metadata": {
        "id": "hin5Cdw5Grv6"
      },
      "execution_count": null,
      "outputs": []
    },
    {
      "cell_type": "code",
      "source": [
        "#Generamos una lista de 100 números aleatorios.\n",
        "#Función Beta\n",
        "\n",
        "nums = []\n",
        "alpha = 100\n",
        "beta = 50\n",
        "\n",
        "for i in range(100):\n",
        "    temp = random.betavariate(alpha, beta)\n",
        "    nums.append(temp)\n",
        "\n",
        "plt.plot(nums)\n",
        "plt.show()"
      ],
      "metadata": {
        "id": "anZjpDz3G2vI"
      },
      "execution_count": null,
      "outputs": []
    },
    {
      "cell_type": "code",
      "source": [
        "# Construimos el histograma de una muestra de 10000 números aleatorios.\n",
        "#Función Beta\n",
        "\n",
        "nums = []\n",
        "alpha = 100\n",
        "beta = 50\n",
        "\n",
        "for i in range(10000):\n",
        "    temp = random.betavariate(alpha, beta)\n",
        "    nums.append(temp)\n",
        "\n",
        "plt.hist(nums, bins = 200)\n",
        "plt.show()"
      ],
      "metadata": {
        "id": "oYPN-dHGJIDA"
      },
      "execution_count": null,
      "outputs": []
    },
    {
      "cell_type": "code",
      "source": [
        "#Generamos una lista de 100 números aleatorios.\n",
        "#Función Exponencial\n",
        "\n",
        "nums = []\n",
        "lamb = 0.01\n",
        "\n",
        "for i in range(100):\n",
        "    temp = random.expovariate(lamb)\n",
        "    nums.append(temp)\n",
        "\n",
        "plt.plot(nums)\n",
        "plt.show()"
      ],
      "metadata": {
        "id": "WapAtdWzG_Ab"
      },
      "execution_count": null,
      "outputs": []
    },
    {
      "cell_type": "code",
      "source": [
        "# Construimos el histograma de una muestra de 10000 números aleatorios normalmente distribuidos\n",
        "#Función Exponencial\n",
        "\n",
        "nums = []\n",
        "lamb = 0.01\n",
        "\n",
        "\n",
        "for i in range(1000):\n",
        "    temp = random.expovariate(lamb)\n",
        "    nums.append(temp)\n",
        "\n",
        "plt.hist(nums, bins = 100)\n",
        "plt.show()"
      ],
      "metadata": {
        "id": "4ap0ucrsHPFz"
      },
      "execution_count": null,
      "outputs": []
    },
    {
      "cell_type": "code",
      "source": [
        "#Generamos una lista de 100 números aleatorios normalmente distribuidos.\n",
        "#Función Gamma\n",
        "\n",
        "nums = []\n",
        "alpha = 10\n",
        "lamb = 0.01\n",
        "\n",
        "for i in range(100):\n",
        "    temp = random.gammavariate(alpha, lamb)\n",
        "    nums.append(temp)\n",
        "\n",
        "plt.plot(nums)\n",
        "plt.show()"
      ],
      "metadata": {
        "id": "svw3vSRsJ8Ko"
      },
      "execution_count": null,
      "outputs": []
    },
    {
      "cell_type": "code",
      "source": [
        "# Construimos el histograma de una muestra de 10000 números aleatorios normalmente distribuidos\n",
        "#Función Gamma\n",
        "\n",
        "nums = []\n",
        "alpha = 10\n",
        "lamb = 0.01\n",
        "\n",
        "for i in range(10000):\n",
        "    temp = random.gammavariate(alpha, lamb)\n",
        "    nums.append(temp)\n",
        "\n",
        "plt.hist(nums, bins = 200)\n",
        "plt.show()\n"
      ],
      "metadata": {
        "id": "uKO5OWklKdyt"
      },
      "execution_count": null,
      "outputs": []
    },
    {
      "cell_type": "code",
      "source": [
        "#Generamos una lista de 100 números aleatorios normalmente distribuidos.\n",
        "#Función LogNormal\n",
        "\n",
        "nums = []\n",
        "mu = 100\n",
        "sigma = 50\n",
        "\n",
        "for i in range(100):\n",
        "    temp = random.lognormvariate(mu,sigma)\n",
        "    nums.append(temp)\n",
        "\n",
        "plt.plot(nums)\n",
        "plt.show()"
      ],
      "metadata": {
        "id": "puxxpmkkK7g8"
      },
      "execution_count": null,
      "outputs": []
    },
    {
      "cell_type": "code",
      "source": [
        "# Construimos el histograma de una muestra de 10000 números aleatorios normalmente distribuidos\n",
        "#Función LogNormal\n",
        "\n",
        "nums = []\n",
        "mu = 100\n",
        "sigma = 50\n",
        "\n",
        "for i in range(10000):\n",
        "    temp = random.lognormvariate(mu,sigma)\n",
        "    nums.append(temp)\n",
        "\n",
        "plt.hist(nums, bins = 200)\n",
        "plt.show()"
      ],
      "metadata": {
        "id": "BbDKvYVtLN7Y"
      },
      "execution_count": null,
      "outputs": []
    },
    {
      "cell_type": "code",
      "source": [
        "#Generamos una lista de 100 números aleatorios normalmente distribuidos.\n",
        "#Función Normal\n",
        "\n",
        "nums = []\n",
        "mu = 100\n",
        "sigma = 50\n",
        "\n",
        "for i in range(100):\n",
        "    temp = random.normalvariate(mu,sigma)\n",
        "    nums.append(temp)\n",
        "\n",
        "plt.plot(nums)\n",
        "plt.show()"
      ],
      "metadata": {
        "id": "lL6BacZFLdhj"
      },
      "execution_count": null,
      "outputs": []
    },
    {
      "cell_type": "code",
      "source": [
        "# Construimos el histograma de una muestra de 10000 números aleatorios normalmente distribuidos\n",
        "#Función Normal\n",
        "\n",
        "nums = []\n",
        "mu = 100\n",
        "sigma = 50\n",
        "\n",
        "for i in range(10000):\n",
        "    temp = random.normalvariate(mu,sigma)\n",
        "    nums.append(temp)\n",
        "\n",
        "plt.hist(nums, bins = 200)\n",
        "plt.show()"
      ],
      "metadata": {
        "id": "_rXKOAfYLmcO"
      },
      "execution_count": null,
      "outputs": []
    },
    {
      "cell_type": "code",
      "source": [
        "#Generamos una lista de 100 números aleatorios normalmente distribuidos.\n",
        "#Función Von Misses\n",
        "\n",
        "nums = []\n",
        "mu = 100\n",
        "k = 4\n",
        "\n",
        "for i in range(100):\n",
        "    temp = random.vonmisesvariate(mu,k)\n",
        "    nums.append(temp)\n",
        "\n",
        "plt.plot(nums)\n",
        "plt.show()"
      ],
      "metadata": {
        "id": "b9BOhJRALq--"
      },
      "execution_count": null,
      "outputs": []
    },
    {
      "cell_type": "code",
      "source": [
        "# Construimos el histograma de una muestra de 10000 números aleatorios normalmente distribuidos\n",
        "#Función Von Misses\n",
        "\n",
        "nums = []\n",
        "mu = 100\n",
        "k = 4\n",
        "\n",
        "for i in range(10000):\n",
        "    temp = random.vonmisesvariate(mu,k)\n",
        "    nums.append(temp)\n",
        "\n",
        "plt.hist(nums, bins = 200)\n",
        "plt.show()"
      ],
      "metadata": {
        "id": "nd_lpZdJMQ8-"
      },
      "execution_count": null,
      "outputs": []
    },
    {
      "cell_type": "code",
      "source": [
        "#Generamos una lista de 100 números aleatorios normalmente distribuidos.\n",
        "#Función Pareto\n",
        "\n",
        "nums = []\n",
        "alpha = 100\n",
        "xm = 50\n",
        "\n",
        "for i in range(100):\n",
        "    temp = random.paretovariate(alpha)\n",
        "    nums.append(temp)\n",
        "\n",
        "plt.plot(nums)\n",
        "plt.show()"
      ],
      "metadata": {
        "id": "cCbv3-EQNbol"
      },
      "execution_count": null,
      "outputs": []
    },
    {
      "cell_type": "code",
      "source": [
        "# Construimos el histograma de una muestra de 10000 números aleatorios normalmente distribuidos\n",
        "#Función Pareto\n",
        "\n",
        "nums = []\n",
        "alpha = 100\n",
        "xm = 50\n",
        "\n",
        "for i in range(10000):\n",
        "    temp = random.paretovariate(alpha)\n",
        "    nums.append(temp)\n",
        "\n",
        "plt.hist(nums, bins = 200)\n",
        "plt.show()"
      ],
      "metadata": {
        "id": "THaGQMEKN3mt"
      },
      "execution_count": null,
      "outputs": []
    },
    {
      "cell_type": "code",
      "source": [
        "#Generamos una lista de 100 números aleatorios normalmente distribuidos.\n",
        "#Función Weibull\n",
        "\n",
        "nums = []\n",
        "alpha = 100\n",
        "lamb = 50\n",
        "\n",
        "for i in range(100):\n",
        "    temp = random.weibullvariate(alpha, lamb)\n",
        "    nums.append(temp)\n",
        "\n",
        "plt.plot(nums)\n",
        "plt.show()"
      ],
      "metadata": {
        "id": "c8LhQU3dOCUs"
      },
      "execution_count": null,
      "outputs": []
    },
    {
      "cell_type": "code",
      "source": [
        "# Construimos el histograma de una muestra de 10000 números aleatorios normalmente distribuidos\n",
        "#Función Weibull\n",
        "\n",
        "nums = []\n",
        "alpha = 100\n",
        "lamb = 50\n",
        "\n",
        "for i in range(10000):\n",
        "    temp = random.weibullvariate(alpha, lamb)\n",
        "    nums.append(temp)\n",
        "\n",
        "plt.hist(nums, bins = 200)\n",
        "plt.show()"
      ],
      "metadata": {
        "id": "jvKnazFjOVRL"
      },
      "execution_count": null,
      "outputs": []
    },
    {
      "cell_type": "markdown",
      "metadata": {
        "id": "U9dqvIHYElEZ"
      },
      "source": [
        "## Podemos simular diversas variables aleatorias a partir de un generador de números aleatorios (uniformemente distribuidos)."
      ]
    },
    {
      "cell_type": "markdown",
      "metadata": {
        "id": "wzXhoxFgElEZ"
      },
      "source": [
        "### La distribución exponencial\n",
        "\n",
        "Función de densidad:\n",
        "    \n",
        "$f_X (x) = \\lambda e^{-\\lambda x}$  para $x \\geq 0$\n",
        "\n",
        "y función de distribución:\n",
        "\n",
        "$F_X (x) = 1 - e^{-\\lambda x}$  para $x \\geq 0$"
      ]
    },
    {
      "cell_type": "markdown",
      "metadata": {
        "id": "ZzmbKUgfElEZ"
      },
      "source": [
        "Puede ser simulada por el método de inversión mediante el siguiente algoritmo:\n",
        "\n",
        "0. Hacer $L = -\\frac{1}{\\lambda}$\n",
        "1. Generar $U \\sim U(0, 1)$\n",
        "2. Devolver $X = L \\cdot Ln(U)$"
      ]
    },
    {
      "cell_type": "code",
      "execution_count": 139,
      "metadata": {
        "id": "25Zxr-I1ElEZ"
      },
      "outputs": [],
      "source": [
        "import random                                   # importamos el módulo random\n",
        "import numpy as np                              # importamos numpy con un alias (np)\n",
        "import matplotlib.pyplot as plt                 # ídem\n",
        "#from random import expovariate, gauss\n",
        "from statistics import mean, median, variance, stdev      # exportamos funciones especificas de statistics"
      ]
    },
    {
      "cell_type": "code",
      "execution_count": null,
      "metadata": {
        "id": "nIze5BoxElEa"
      },
      "outputs": [],
      "source": [
        "#Generamos una lista de números aleatorios que siguen la distribución exponencial.\n",
        "\n",
        "nums = []\n",
        "lamb = 0.01                                     # Párametro de la función exponencial\n",
        "L = -1.0/lamb #inversa de lambda\n",
        "\n",
        "for i in range(100):\n",
        "    temp = L*np.log(random.random())            # Pasos 1 y 2\n",
        "    nums.append(temp)\n",
        "\n",
        "plt.plot(nums)\n",
        "plt.show()"
      ]
    },
    {
      "cell_type": "code",
      "execution_count": null,
      "metadata": {
        "id": "peAbiB-uElEa"
      },
      "outputs": [],
      "source": [
        "nums = []\n",
        "lamb = 0.01                                     # Párametro de la función exponencial\n",
        "L = -1.0/lamb #inversa de lambda\n",
        "\n",
        "for i in range(1000):\n",
        "    temp = L*np.log(random.random())\n",
        "    nums.append(temp)\n",
        "\n",
        "plt.hist(nums, bins = 100)\n",
        "plt.show()\n"
      ]
    },
    {
      "cell_type": "markdown",
      "metadata": {
        "id": "Rqwlpr2IElEa"
      },
      "source": [
        "### Lo podemos comparar con la salida de la función expovariate()"
      ]
    },
    {
      "cell_type": "code",
      "execution_count": null,
      "metadata": {
        "id": "zwYhK53pElEb"
      },
      "outputs": [],
      "source": [
        "# Construimos el histograma de una muestra de 10000 números aleatorios normalmente distribuidos\n",
        "\n",
        "nums = []\n",
        "lamb = 0.01\n",
        "\n",
        "\n",
        "for i in range(1000):\n",
        "    temp = random.expovariate(lamb)\n",
        "    nums.append(temp)\n",
        "\n",
        "plt.hist(nums, bins = 100)\n",
        "plt.show()\n"
      ]
    },
    {
      "cell_type": "markdown",
      "metadata": {
        "id": "EM4PTY29ElEc"
      },
      "source": [
        "Que se puede obtener de esta otra manera:"
      ]
    },
    {
      "cell_type": "code",
      "execution_count": null,
      "metadata": {
        "id": "tEvEw89JElEc"
      },
      "outputs": [],
      "source": [
        "#plt.figure(figsize = (8, 4))\n",
        "plt.hist([random.expovariate(100) for i in range(10000)], bins = 200)\n",
        "plt.show()"
      ]
    },
    {
      "cell_type": "markdown",
      "metadata": {
        "id": "g8yU1IIeElEd"
      },
      "source": [
        "Y podemos usar el módulo statistics para obtener algunos parámetros del histograma."
      ]
    },
    {
      "cell_type": "code",
      "execution_count": null,
      "metadata": {
        "id": "0djUn2ufElEd"
      },
      "outputs": [],
      "source": [
        "#plt.figure(figsize = (8, 4))\n",
        "sample = [random.expovariate(0.01) for i in range(1000)]\n",
        "plt.hist(sample, bins = 200)\n",
        "plt.show()\n",
        "\n",
        "print(f'Media: {mean(sample):.5f}.  Mediana: {median(sample):.5f}.')\n",
        "print(f'Varianza: {variance(sample):.5f}.  Desviación estándar: {stdev(sample):.5f}.')"
      ]
    },
    {
      "cell_type": "markdown",
      "metadata": {
        "id": "g2GIZfVAElEd"
      },
      "source": [
        "## Ejercicio (03032022):\n",
        "\n",
        "Simular dos distribuciones de probabilidad (no la normal, no la exponencial), por el método que prefieran."
      ]
    },
    {
      "cell_type": "markdown",
      "source": [
        "### La distribución Weibull\n",
        "\n",
        "Función de densidad:\n",
        "    \n",
        "$f_X (x) = \\lambda \\alpha (\\lambda x) e^{(-\\lambda x)^\\alpha}$  para $x \\geq 0$, $\\lambda, \\alpha \\geq 0$\n",
        "\n",
        "y función de distribución:\n",
        "\n",
        "$F_X (x) = 1 - e^{(-\\lambda x)^\\alpha}$  para $x \\geq 0$"
      ],
      "metadata": {
        "id": "UzIqynNhRlbZ"
      }
    },
    {
      "cell_type": "markdown",
      "source": [
        "Puede ser simulada por el método de inversión mediante el siguiente algoritmo:\n",
        "\n",
        "0. Hacer $L = \\frac{1}{\\lambda}$\n",
        "1. Generar $U \\sim U(0, 1)$\n",
        "2. Devolver $X = L \\cdot e^{(Ln(-Ln(U))/\\alpha}$"
      ],
      "metadata": {
        "id": "7bruaklrTM4x"
      }
    },
    {
      "cell_type": "code",
      "execution_count": 142,
      "metadata": {
        "id": "6uhZ0B_eElEe"
      },
      "outputs": [],
      "source": [
        "import random                                   # importamos el módulo random\n",
        "import numpy as np                              # importamos numpy con un alias (np)\n",
        "import matplotlib.pyplot as plt                 # ídem\n",
        "#from random import expovariate, gauss\n",
        "from statistics import mean, median, variance, stdev      # exportamos funciones especificas de statistics"
      ]
    },
    {
      "cell_type": "code",
      "source": [
        "#Generamos una lista de números aleatorios que siguen la distribución Weibull.\n",
        "\n",
        "nums = []\n",
        "alpha = 100\n",
        "lamb = 50                                 # Párametro de la función exponencial\n",
        "L = -1.0/lamb #inversa de lambda\n",
        "\n",
        "for i in range(100):\n",
        "    temp = L*np.log(random.random())            # Pasos 1 y 2\n",
        "    nums.append(temp)\n",
        "\n",
        "plt.plot(nums)\n",
        "plt.show()"
      ],
      "metadata": {
        "id": "OTR9tW0oT2LI"
      },
      "execution_count": null,
      "outputs": []
    }
  ],
  "metadata": {
    "kernelspec": {
      "display_name": "Python 3",
      "language": "python",
      "name": "python3"
    },
    "language_info": {
      "codemirror_mode": {
        "name": "ipython",
        "version": 3
      },
      "file_extension": ".py",
      "mimetype": "text/x-python",
      "name": "python",
      "nbconvert_exporter": "python",
      "pygments_lexer": "ipython3",
      "version": "3.7.3"
    },
    "colab": {
      "provenance": [],
      "include_colab_link": true
    }
  },
  "nbformat": 4,
  "nbformat_minor": 0
}