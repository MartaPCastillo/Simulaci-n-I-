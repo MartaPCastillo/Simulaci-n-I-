{
  "cells": [
    {
      "cell_type": "markdown",
      "metadata": {
        "id": "view-in-github",
        "colab_type": "text"
      },
      "source": [
        "<a href=\"https://colab.research.google.com/github/MartaPCastillo/Simulacion-I/blob/main/Generaci%C3%B3n_de_Variables_Aleatorias.ipynb\" target=\"_parent\"><img src=\"https://colab.research.google.com/assets/colab-badge.svg\" alt=\"Open In Colab\"/></a>"
      ]
    },
    {
      "cell_type": "markdown",
      "metadata": {
        "id": "KRkmp24lElEE"
      },
      "source": [
        "# Uso de los números aleatorios"
      ]
    },
    {
      "cell_type": "markdown",
      "metadata": {
        "id": "F9e1d_2WElEL"
      },
      "source": [
        "## 1. Introducción al Módulo random"
      ]
    },
    {
      "cell_type": "markdown",
      "metadata": {
        "id": "k1sC4rTBElEM"
      },
      "source": [
        "El módulo random de la librería estándar de Python incluye un conjunto de funciones que permiten obtener de distintos modos\n",
        "números pseudoaleatorios a través del algoritmo [Mersenne Twister](https://es.wikipedia.org/wiki/Mersenne_twister)."
      ]
    },
    {
      "cell_type": "code",
      "execution_count": null,
      "metadata": {
        "id": "egyxofoJElEN"
      },
      "outputs": [],
      "source": [
        "#importamos el módulo que vamos a usar\n",
        "\n",
        "import random\n",
        "import numpy as np\n",
        "import matplotlib.pyplot as plt"
      ]
    },
    {
      "cell_type": "markdown",
      "metadata": {
        "id": "kPVpv1_jElEQ"
      },
      "source": [
        "Las funciones de los módulos se invocan con el formato: módulo.función().\n",
        "\n",
        "En el módulo random existe la función random, que devuelve un número aleatorio que sigue una distribución uniforme.\n",
        "\n",
        "Así, para obtener $x \\sim U(0,1)$:"
      ]
    },
    {
      "cell_type": "code",
      "execution_count": null,
      "metadata": {
        "colab": {
          "base_uri": "https://localhost:8080/"
        },
        "id": "JDonObpOElER",
        "outputId": "e34a6578-6d45-48f2-ec68-b92b6678bea9"
      },
      "outputs": [
        {
          "output_type": "stream",
          "name": "stdout",
          "text": [
            "0.5103180583601323\n"
          ]
        }
      ],
      "source": [
        "x = random.random()  #Cada ejecución dará un número distinto.\n",
        "print(x)"
      ]
    },
    {
      "cell_type": "markdown",
      "metadata": {
        "id": "9kvmWtdFElES"
      },
      "source": [
        "Se puede usar algún bucle si se desea generar una secuencia $x_i \\sim U(0,1)$ con $i = 1, 2, 3,..., N$:"
      ]
    },
    {
      "cell_type": "code",
      "execution_count": null,
      "metadata": {
        "colab": {
          "base_uri": "https://localhost:8080/"
        },
        "id": "gjj4L3lbElES",
        "outputId": "e623e75b-61f9-4133-be31-7045aa2a4343"
      },
      "outputs": [
        {
          "output_type": "stream",
          "name": "stdout",
          "text": [
            "0.4043 0.7947 0.7447 0.9498 0.7054 0.8994 0.1396 0.2876 0.7321 0.9109 \n"
          ]
        }
      ],
      "source": [
        "for i in range(10):\n",
        "    print('%05.4f' % random.random(), end=' ')  #El código en rojo indica la cantidad de dígitos y de decimales a mostrar.\n",
        "print()"
      ]
    },
    {
      "cell_type": "code",
      "execution_count": null,
      "metadata": {
        "colab": {
          "base_uri": "https://localhost:8080/"
        },
        "id": "1tIsf3GDElES",
        "outputId": "636515f0-f5e2-46af-de05-7521c36b66ab"
      },
      "outputs": [
        {
          "output_type": "stream",
          "name": "stdout",
          "text": [
            "0.5984\n",
            "0.1678\n",
            "0.0779\n",
            "0.6182\n",
            "0.1743\n",
            "0.7752\n",
            "0.2832\n",
            "0.5033\n",
            "0.3816\n",
            "0.9246\n",
            "\n"
          ]
        }
      ],
      "source": [
        "for i in range(10):\n",
        "    print('%05.4f' % random.random(), sep=\"\\t\")\n",
        "print()"
      ]
    },
    {
      "cell_type": "markdown",
      "metadata": {
        "id": "KW6YO1QnElES"
      },
      "source": [
        "La función seed() fija el valor de la semilla en la generación de la secuencia de números aleatorios.\n",
        "Esto es útil cuando se quieren utilizar los mismos datos de entrada en una simulación."
      ]
    },
    {
      "cell_type": "code",
      "execution_count": null,
      "metadata": {
        "colab": {
          "base_uri": "https://localhost:8080/"
        },
        "id": "J6V5k_tTElET",
        "outputId": "3234a464-4a2f-4efa-f5f8-ee3ebd645031"
      },
      "outputs": [
        {
          "output_type": "stream",
          "name": "stdout",
          "text": [
            "0.1344 0.8474 0.7638 0.2551 0.4954 0.4495 0.6516 0.7887 0.0939 0.0283 0.8358 0.4328 0.7623 0.0021 0.4454 0.7215 0.2288 0.9453 0.9014 0.0306 \n"
          ]
        }
      ],
      "source": [
        "random.seed(1) #primero fijamos la semilla\n",
        "\n",
        "for i in range(20):\n",
        "    print('%05.4f' % random.random(), end=' ')\n",
        "print()"
      ]
    },
    {
      "cell_type": "markdown",
      "metadata": {
        "id": "Bx04lqndElET"
      },
      "source": [
        "La función uniform() devuelve un número float incluido entre los valores indicados."
      ]
    },
    {
      "cell_type": "code",
      "execution_count": null,
      "metadata": {
        "colab": {
          "base_uri": "https://localhost:8080/"
        },
        "id": "jiBb5XXTElET",
        "outputId": "8b0a96d5-ef63-4667-d7a8-736a79c95bba"
      },
      "outputs": [
        {
          "output_type": "stream",
          "name": "stdout",
          "text": [
            "2.2468 27.5292 47.0183 19.6790 11.6134 21.6837 2.4230 11.8629 22.4565 25.2948 \n"
          ]
        }
      ],
      "source": [
        "for i in range(10):\n",
        "    print('%5.4f' %random.uniform(1, 50), end=' ')\n",
        "print()"
      ]
    },
    {
      "cell_type": "markdown",
      "metadata": {
        "id": "ZsF8kag6ElEU"
      },
      "source": [
        "La función randint() devuelve un número entero incluido entre los valores indicados.\n",
        "Los valores de los límites inferior y superior también pueden aparecer entre los valores devueltos."
      ]
    },
    {
      "cell_type": "code",
      "execution_count": null,
      "metadata": {
        "colab": {
          "base_uri": "https://localhost:8080/"
        },
        "id": "CrqyG-NWElEU",
        "outputId": "575c9464-a50c-4025-c9d4-34585b246793"
      },
      "outputs": [
        {
          "output_type": "stream",
          "name": "stdout",
          "text": [
            "-41 -12 -41 73 -44 94 17 -26 -95 6 42 64 -75 -53 61 85 -25 -70 90 -15 \n"
          ]
        }
      ],
      "source": [
        "for i in range(20):\n",
        "    print(random.randint(-100, 100), end=' ')\n",
        "print()"
      ]
    },
    {
      "cell_type": "markdown",
      "metadata": {
        "id": "ArFs47H5ElEU"
      },
      "source": [
        "La función randrange() devuelve enteros que van desde un valor inicial a otro final\n",
        "separados entre sí un número de valores determinados."
      ]
    },
    {
      "cell_type": "code",
      "execution_count": null,
      "metadata": {
        "colab": {
          "base_uri": "https://localhost:8080/"
        },
        "id": "wh3nMKJQElEV",
        "outputId": "71ea10ee-e105-4b18-d421-5a7fbb96a3d9"
      },
      "outputs": [
        {
          "output_type": "stream",
          "name": "stdout",
          "text": [
            "15 15 12 9 12 18 15 3 6 6 12 9 18 12 9 12 18 0 9 3 \n"
          ]
        }
      ],
      "source": [
        "for i in range(20):\n",
        "    print(random.randrange(0, 20, 3), end=' ')\n",
        "print()"
      ]
    },
    {
      "cell_type": "code",
      "execution_count": null,
      "metadata": {
        "id": "0F0dJ1pcElEV"
      },
      "outputs": [],
      "source": []
    },
    {
      "cell_type": "markdown",
      "metadata": {
        "id": "jMwqGZh7ElEV"
      },
      "source": [
        "La función random.choice() se utiliza para seleccionar elementos al azar de una lista."
      ]
    },
    {
      "cell_type": "code",
      "execution_count": null,
      "metadata": {
        "id": "8iS_DRmMElEV"
      },
      "outputs": [],
      "source": [
        "Lista = ['Rome','New York','London','Berlin','Moskov', 'Los Angeles','Paris','Madrid','Tokio','Toronto']"
      ]
    },
    {
      "cell_type": "code",
      "execution_count": null,
      "metadata": {
        "colab": {
          "base_uri": "https://localhost:8080/"
        },
        "id": "u0Tqyod0ElEW",
        "outputId": "a3ee741c-99f0-45c9-f7b3-1db186ca98e0"
      },
      "outputs": [
        {
          "output_type": "stream",
          "name": "stdout",
          "text": [
            "La ciudad elegida es -  Paris\n"
          ]
        }
      ],
      "source": [
        "Ciudad = random.choice(Lista)\n",
        "print (\"La ciudad elegida es - \", Ciudad)"
      ]
    },
    {
      "cell_type": "code",
      "execution_count": null,
      "metadata": {
        "colab": {
          "base_uri": "https://localhost:8080/"
        },
        "id": "U5TL9EwdElEW",
        "outputId": "ee42e61d-cc34-4a74-bc98-9551e1658f03"
      },
      "outputs": [
        {
          "output_type": "stream",
          "name": "stdout",
          "text": [
            "La ciudad elegida es -  Paris\n",
            "La ciudad elegida es -  London\n",
            "La ciudad elegida es -  Los Angeles\n",
            "La ciudad elegida es -  Tokio\n",
            "La ciudad elegida es -  Los Angeles\n",
            "La ciudad elegida es -  New York\n",
            "La ciudad elegida es -  Madrid\n",
            "La ciudad elegida es -  Tokio\n",
            "La ciudad elegida es -  New York\n",
            "La ciudad elegida es -  London\n"
          ]
        }
      ],
      "source": [
        "for i in range(10):\n",
        "    Ciudad = random.choice(Lista)\n",
        "    print (\"La ciudad elegida es - \", Ciudad)"
      ]
    },
    {
      "cell_type": "markdown",
      "metadata": {
        "id": "hu-cGLQHElEW"
      },
      "source": [
        "La función sample() devuelve de una lista de elementos un determinado número de elementos diferentes elegidos al azar."
      ]
    },
    {
      "cell_type": "code",
      "execution_count": null,
      "metadata": {
        "colab": {
          "base_uri": "https://localhost:8080/"
        },
        "id": "ijzh7-2hElEX",
        "outputId": "e357fad9-4fce-4252-f130-597487366748"
      },
      "outputs": [
        {
          "output_type": "stream",
          "name": "stdout",
          "text": [
            "['Tokio', 'Paris', 'Los Angeles', 'Berlin', 'Madrid', 'Rome', 'Toronto', 'Moskov', 'New York']\n"
          ]
        }
      ],
      "source": [
        "print(random.sample(Lista, 9))"
      ]
    },
    {
      "cell_type": "markdown",
      "metadata": {
        "id": "As593QawElEX"
      },
      "source": [
        "La función shuffle() 'mezcla' o cambia aleatoriamente el orden de los elementos de una lista antes de realizar la selección de alguno de ellos."
      ]
    },
    {
      "cell_type": "code",
      "execution_count": null,
      "metadata": {
        "colab": {
          "base_uri": "https://localhost:8080/"
        },
        "id": "qlHcPRc0ElEX",
        "outputId": "85c52d57-d331-4d41-f6b9-e13755d7761a"
      },
      "outputs": [
        {
          "output_type": "stream",
          "name": "stdout",
          "text": [
            "mezcla1 ['Los Angeles', 'Madrid', 'Berlin', 'Rome', 'Tokio', 'Moskov', 'New York', 'London', 'Paris', 'Toronto']\n"
          ]
        }
      ],
      "source": [
        "random.shuffle(Lista)\n",
        "print('mezcla1', Lista)"
      ]
    },
    {
      "cell_type": "markdown",
      "metadata": {
        "id": "a6lHY8MeElEX"
      },
      "source": [
        "## Ejercicio:\n",
        "\n",
        "1. Elegir al azar una ciudad de la Lista despues de hacer una mezcla.\n",
        "2. Elegir al azar tres ciudades después de una mezcla."
      ]
    },
    {
      "cell_type": "code",
      "source": [
        "#Elegir al azar una ciudad de la Lista despues de hacer una mezcla.\n",
        "random.shuffle(Lista)\n",
        "Ciudad = random.choice(Lista)\n",
        "print (\"La ciudad elegida es: \", Ciudad)"
      ],
      "metadata": {
        "colab": {
          "base_uri": "https://localhost:8080/"
        },
        "id": "LcUXkLDFFH60",
        "outputId": "95d75d78-89ff-427b-c9b3-94a6b92513dc"
      },
      "execution_count": null,
      "outputs": [
        {
          "output_type": "stream",
          "name": "stdout",
          "text": [
            "La ciudad elegida es:  Berlin\n"
          ]
        }
      ]
    },
    {
      "cell_type": "code",
      "source": [
        "random.shuffle(Lista)\n",
        "for i in range(3):\n",
        "    Ciudad = random.choice(Lista)\n",
        "    print (\"La ciudad elegida es - \", Ciudad)"
      ],
      "metadata": {
        "colab": {
          "base_uri": "https://localhost:8080/"
        },
        "id": "pHrCTk20F6Gb",
        "outputId": "090bc823-53f8-4dff-e8ac-1177af1fb770"
      },
      "execution_count": null,
      "outputs": [
        {
          "output_type": "stream",
          "name": "stdout",
          "text": [
            "La ciudad elegida es -  Tokio\n",
            "La ciudad elegida es -  Toronto\n",
            "La ciudad elegida es -  New York\n"
          ]
        }
      ]
    },
    {
      "cell_type": "markdown",
      "metadata": {
        "id": "JKeWlfDOElEY"
      },
      "source": [
        "La función random.gaus() genera una muestra de números aleatorios normalmente distribuidos."
      ]
    },
    {
      "cell_type": "code",
      "execution_count": null,
      "metadata": {
        "id": "A3JVrTYWElEY"
      },
      "outputs": [],
      "source": [
        "#Generamos una lista de 100 números aleatorios normalmente distribuidos.\n",
        "\n",
        "nums = []\n",
        "mu = 100\n",
        "sigma = 50\n",
        "\n",
        "for i in range(100):\n",
        "    temp = random.gauss(mu, sigma)\n",
        "    nums.append(temp)\n",
        "\n",
        "plt.plot(nums)\n",
        "plt.show()"
      ]
    },
    {
      "cell_type": "code",
      "execution_count": null,
      "metadata": {
        "id": "qJlUAd_OElEY"
      },
      "outputs": [],
      "source": [
        "# Construimos el histograma de una muestra de 10000 números aleatorios normalmente distribuidos\n",
        "\n",
        "nums = []\n",
        "mu = 100\n",
        "sigma = 50\n",
        "\n",
        "for i in range(10000):\n",
        "    temp = random.gauss(mu, sigma)\n",
        "    nums.append(temp)\n",
        "\n",
        "plt.hist(nums, bins = 200)\n",
        "plt.show()\n"
      ]
    },
    {
      "cell_type": "markdown",
      "metadata": {
        "id": "jkpPdR2NElEY"
      },
      "source": [
        "## Ejercicio:\n",
        "\n",
        "1. Generar muestras e histograma de las funciones:\n",
        "    triangular(), betavariate(), expovariate(), gammavariate(),\n",
        "    lognormvariate(), normalvariate(), vonmisesvariate(), paretovariate() y weibullvariate()"
      ]
    },
    {
      "cell_type": "code",
      "source": [
        "#Generamos una lista de 100 números aleatorios.\n",
        "#Función Triangular\n",
        "\n",
        "nums = []\n",
        "a = 100\n",
        "b = 500\n",
        "c = 250\n",
        "\n",
        "for i in range(100):\n",
        "    temp = random.triangular(a, b, c)\n",
        "    nums.append(temp)\n",
        "\n",
        "plt.plot(nums)\n",
        "plt.show()"
      ],
      "metadata": {
        "id": "1cTgmRPJGQxL"
      },
      "execution_count": null,
      "outputs": []
    },
    {
      "cell_type": "code",
      "source": [
        "# Construimos el histograma de una muestra de 10000 números aleatorios.\n",
        "#Función Triangular\n",
        "\n",
        "nums = []\n",
        "a = 100\n",
        "b = 500\n",
        "c = 250\n",
        "\n",
        "for i in range(10000):\n",
        "    temp = random.triangular(a,b,c)\n",
        "    nums.append(temp)\n",
        "\n",
        "plt.hist(nums, bins = 200)\n",
        "plt.show()"
      ],
      "metadata": {
        "id": "hin5Cdw5Grv6"
      },
      "execution_count": null,
      "outputs": []
    },
    {
      "cell_type": "code",
      "source": [
        "#Generamos una lista de 100 números aleatorios.\n",
        "#Función Beta\n",
        "\n",
        "nums = []\n",
        "alpha = 100\n",
        "beta = 50\n",
        "\n",
        "for i in range(100):\n",
        "    temp = random.betavariate(alpha, beta)\n",
        "    nums.append(temp)\n",
        "\n",
        "plt.plot(nums)\n",
        "plt.show()"
      ],
      "metadata": {
        "id": "anZjpDz3G2vI"
      },
      "execution_count": null,
      "outputs": []
    },
    {
      "cell_type": "code",
      "source": [
        "# Construimos el histograma de una muestra de 10000 números aleatorios.\n",
        "#Función Beta\n",
        "\n",
        "nums = []\n",
        "alpha = 100\n",
        "beta = 50\n",
        "\n",
        "for i in range(10000):\n",
        "    temp = random.betavariate(alpha, beta)\n",
        "    nums.append(temp)\n",
        "\n",
        "plt.hist(nums, bins = 200)\n",
        "plt.show()"
      ],
      "metadata": {
        "id": "oYPN-dHGJIDA"
      },
      "execution_count": null,
      "outputs": []
    },
    {
      "cell_type": "code",
      "source": [
        "#Generamos una lista de 100 números aleatorios.\n",
        "#Función Exponencial\n",
        "\n",
        "nums = []\n",
        "lamb = 0.01\n",
        "\n",
        "for i in range(100):\n",
        "    temp = random.expovariate(lamb)\n",
        "    nums.append(temp)\n",
        "\n",
        "plt.plot(nums)\n",
        "plt.show()"
      ],
      "metadata": {
        "id": "WapAtdWzG_Ab"
      },
      "execution_count": null,
      "outputs": []
    },
    {
      "cell_type": "code",
      "source": [
        "# Construimos el histograma de una muestra de 10000 números aleatorios normalmente distribuidos\n",
        "#Función Exponencial\n",
        "\n",
        "nums = []\n",
        "lamb = 0.01\n",
        "\n",
        "\n",
        "for i in range(1000):\n",
        "    temp = random.expovariate(lamb)\n",
        "    nums.append(temp)\n",
        "\n",
        "plt.hist(nums, bins = 100)\n",
        "plt.show()"
      ],
      "metadata": {
        "id": "4ap0ucrsHPFz"
      },
      "execution_count": null,
      "outputs": []
    },
    {
      "cell_type": "code",
      "source": [
        "#Generamos una lista de 100 números aleatorios normalmente distribuidos.\n",
        "#Función Gamma\n",
        "\n",
        "nums = []\n",
        "alpha = 10\n",
        "lamb = 0.01\n",
        "\n",
        "for i in range(100):\n",
        "    temp = random.gammavariate(alpha, lamb)\n",
        "    nums.append(temp)\n",
        "\n",
        "plt.plot(nums)\n",
        "plt.show()"
      ],
      "metadata": {
        "id": "svw3vSRsJ8Ko"
      },
      "execution_count": null,
      "outputs": []
    },
    {
      "cell_type": "code",
      "source": [
        "# Construimos el histograma de una muestra de 10000 números aleatorios normalmente distribuidos\n",
        "#Función Gamma\n",
        "\n",
        "nums = []\n",
        "alpha = 10\n",
        "lamb = 0.01\n",
        "\n",
        "for i in range(10000):\n",
        "    temp = random.gammavariate(alpha, lamb)\n",
        "    nums.append(temp)\n",
        "\n",
        "plt.hist(nums, bins = 200)\n",
        "plt.show()\n"
      ],
      "metadata": {
        "id": "uKO5OWklKdyt"
      },
      "execution_count": null,
      "outputs": []
    },
    {
      "cell_type": "code",
      "source": [
        "#Generamos una lista de 100 números aleatorios normalmente distribuidos.\n",
        "#Función LogNormal\n",
        "\n",
        "nums = []\n",
        "mu = 100\n",
        "sigma = 50\n",
        "\n",
        "for i in range(100):\n",
        "    temp = random.lognormvariate(mu,sigma)\n",
        "    nums.append(temp)\n",
        "\n",
        "plt.plot(nums)\n",
        "plt.show()"
      ],
      "metadata": {
        "id": "puxxpmkkK7g8"
      },
      "execution_count": null,
      "outputs": []
    },
    {
      "cell_type": "code",
      "source": [
        "# Construimos el histograma de una muestra de 10000 números aleatorios normalmente distribuidos\n",
        "#Función LogNormal\n",
        "\n",
        "nums = []\n",
        "mu = 100\n",
        "sigma = 50\n",
        "\n",
        "for i in range(10000):\n",
        "    temp = random.lognormvariate(mu,sigma)\n",
        "    nums.append(temp)\n",
        "\n",
        "plt.hist(nums, bins = 200)\n",
        "plt.show()"
      ],
      "metadata": {
        "id": "BbDKvYVtLN7Y"
      },
      "execution_count": null,
      "outputs": []
    },
    {
      "cell_type": "code",
      "source": [
        "#Generamos una lista de 100 números aleatorios normalmente distribuidos.\n",
        "#Función Normal\n",
        "\n",
        "nums = []\n",
        "mu = 100\n",
        "sigma = 50\n",
        "\n",
        "for i in range(100):\n",
        "    temp = random.normalvariate(mu,sigma)\n",
        "    nums.append(temp)\n",
        "\n",
        "plt.plot(nums)\n",
        "plt.show()"
      ],
      "metadata": {
        "id": "lL6BacZFLdhj"
      },
      "execution_count": null,
      "outputs": []
    },
    {
      "cell_type": "code",
      "source": [
        "# Construimos el histograma de una muestra de 10000 números aleatorios normalmente distribuidos\n",
        "#Función Normal\n",
        "\n",
        "nums = []\n",
        "mu = 100\n",
        "sigma = 50\n",
        "\n",
        "for i in range(10000):\n",
        "    temp = random.normalvariate(mu,sigma)\n",
        "    nums.append(temp)\n",
        "\n",
        "plt.hist(nums, bins = 200)\n",
        "plt.show()"
      ],
      "metadata": {
        "id": "_rXKOAfYLmcO"
      },
      "execution_count": null,
      "outputs": []
    },
    {
      "cell_type": "code",
      "source": [
        "#Generamos una lista de 100 números aleatorios normalmente distribuidos.\n",
        "#Función Von Misses\n",
        "\n",
        "nums = []\n",
        "mu = 100\n",
        "k = 4\n",
        "\n",
        "for i in range(100):\n",
        "    temp = random.vonmisesvariate(mu,k)\n",
        "    nums.append(temp)\n",
        "\n",
        "plt.plot(nums)\n",
        "plt.show()"
      ],
      "metadata": {
        "id": "b9BOhJRALq--"
      },
      "execution_count": null,
      "outputs": []
    },
    {
      "cell_type": "code",
      "source": [
        "# Construimos el histograma de una muestra de 10000 números aleatorios normalmente distribuidos\n",
        "#Función Von Misses\n",
        "\n",
        "nums = []\n",
        "mu = 100\n",
        "k = 4\n",
        "\n",
        "for i in range(10000):\n",
        "    temp = random.vonmisesvariate(mu,k)\n",
        "    nums.append(temp)\n",
        "\n",
        "plt.hist(nums, bins = 200)\n",
        "plt.show()"
      ],
      "metadata": {
        "id": "nd_lpZdJMQ8-"
      },
      "execution_count": null,
      "outputs": []
    },
    {
      "cell_type": "code",
      "source": [
        "#Generamos una lista de 100 números aleatorios normalmente distribuidos.\n",
        "#Función Pareto\n",
        "\n",
        "nums = []\n",
        "alpha = 100\n",
        "xm = 50\n",
        "\n",
        "for i in range(100):\n",
        "    temp = random.paretovariate(alpha)\n",
        "    nums.append(temp)\n",
        "\n",
        "plt.plot(nums)\n",
        "plt.show()"
      ],
      "metadata": {
        "id": "cCbv3-EQNbol"
      },
      "execution_count": null,
      "outputs": []
    },
    {
      "cell_type": "code",
      "source": [
        "# Construimos el histograma de una muestra de 10000 números aleatorios normalmente distribuidos\n",
        "#Función Pareto\n",
        "\n",
        "nums = []\n",
        "alpha = 100\n",
        "xm = 50\n",
        "\n",
        "for i in range(10000):\n",
        "    temp = random.paretovariate(alpha)\n",
        "    nums.append(temp)\n",
        "\n",
        "plt.hist(nums, bins = 200)\n",
        "plt.show()"
      ],
      "metadata": {
        "id": "THaGQMEKN3mt"
      },
      "execution_count": null,
      "outputs": []
    },
    {
      "cell_type": "code",
      "source": [
        "#Generamos una lista de 100 números aleatorios normalmente distribuidos.\n",
        "#Función Weibull\n",
        "\n",
        "nums = []\n",
        "alpha = 100\n",
        "lamb = 50\n",
        "\n",
        "for i in range(100):\n",
        "    temp = random.weibullvariate(alpha, lamb)\n",
        "    nums.append(temp)\n",
        "\n",
        "plt.plot(nums)\n",
        "plt.show()"
      ],
      "metadata": {
        "id": "c8LhQU3dOCUs"
      },
      "execution_count": null,
      "outputs": []
    },
    {
      "cell_type": "code",
      "source": [
        "# Construimos el histograma de una muestra de 10000 números aleatorios normalmente distribuidos\n",
        "#Función Weibull\n",
        "\n",
        "nums = []\n",
        "alpha = 100\n",
        "lamb = 50\n",
        "\n",
        "for i in range(10000):\n",
        "    temp = random.weibullvariate(alpha, lamb)\n",
        "    nums.append(temp)\n",
        "\n",
        "plt.hist(nums, bins = 200)\n",
        "plt.show()"
      ],
      "metadata": {
        "id": "jvKnazFjOVRL"
      },
      "execution_count": null,
      "outputs": []
    },
    {
      "cell_type": "markdown",
      "metadata": {
        "id": "U9dqvIHYElEZ"
      },
      "source": [
        "## Podemos simular diversas variables aleatorias a partir de un generador de números aleatorios (uniformemente distribuidos)."
      ]
    },
    {
      "cell_type": "markdown",
      "source": [
        "### La distribución triangular"
      ],
      "metadata": {
        "id": "yMjG8FUQOTm7"
      }
    },
    {
      "cell_type": "markdown",
      "source": [
        "Puede ser simulada por el método de inversión mediante el siguiente algoritmo:\n",
        "\n",
        "1. Generar $U \\sim U(0, 1)$\n",
        "2. Devolver:\n",
        " $X = \\sqrt{U \\cdot [(b-a) \\cdot (c-a)]} + a$ para $a \\le x \\leq c$\n",
        "\n",
        " $X = b - \\sqrt{U \\cdot [(b-a) \\cdot (b-c)]}$ para $c \\le x \\le b$\n",
        "\n",
        " $X = U$ para $b \\leq x$"
      ],
      "metadata": {
        "id": "nVnZC6OhSQu7"
      }
    },
    {
      "cell_type": "code",
      "source": [
        "import random                                   # importamos el módulo random\n",
        "import numpy as np                              # importamos numpy con un alias (np)\n",
        "import matplotlib.pyplot as plt                 # ídem\n",
        "#from random import expovariate, gauss\n",
        "from statistics import mean, median, variance, stdev      # exportamos funciones especificas de statistic"
      ],
      "metadata": {
        "id": "vtGYjigXT1CA"
      },
      "execution_count": 83,
      "outputs": []
    },
    {
      "cell_type": "code",
      "source": [
        "def trian(a, b, c, n):\n",
        "    lista = []\n",
        "    for i in range(n):\n",
        "        v = (c-a) /(b-a)\n",
        "        u=random.random()\n",
        "        if 0 <= u <= v:\n",
        "           X = np.sqrt(u*(b-a)*(c-a)) + a\n",
        "        if v < u < 1:\n",
        "           X = b - np.sqrt(u*(b-a)*(b-c))\n",
        "        lista.append(X)\n",
        "    return lista"
      ],
      "metadata": {
        "id": "M0f_kjErT3Vb"
      },
      "execution_count": 84,
      "outputs": []
    },
    {
      "cell_type": "code",
      "source": [
        "trian(5,15,10,20)"
      ],
      "metadata": {
        "id": "iT6MsucST3a1"
      },
      "execution_count": null,
      "outputs": []
    },
    {
      "cell_type": "code",
      "source": [
        "G=trian(5,15,10,1000)\n",
        "print(G)"
      ],
      "metadata": {
        "id": "Wmqf4rgTUIks"
      },
      "execution_count": null,
      "outputs": []
    },
    {
      "cell_type": "code",
      "source": [
        "mu=np.mean(G)\n",
        "print(mu)"
      ],
      "metadata": {
        "id": "tp3WOI9tUJYe"
      },
      "execution_count": null,
      "outputs": []
    },
    {
      "cell_type": "code",
      "source": [
        "sigma2=np.var(G)\n",
        "print(sigma2)"
      ],
      "metadata": {
        "id": "HehStrKdafcm"
      },
      "execution_count": null,
      "outputs": []
    },
    {
      "cell_type": "code",
      "source": [
        "plt.hist(G, bins=50)"
      ],
      "metadata": {
        "id": "WlQmXQSAafzY"
      },
      "execution_count": null,
      "outputs": []
    },
    {
      "cell_type": "code",
      "source": [
        "plt.plot(G)"
      ],
      "metadata": {
        "id": "A261uszeaf9U"
      },
      "execution_count": null,
      "outputs": []
    },
    {
      "cell_type": "code",
      "source": [
        "def cdf(muestra):\n",
        "  m=len(muestra)\n",
        "  x=np.sort(muestra)\n",
        "  y=np.arange(0,m)/m\n",
        "  return x,y"
      ],
      "metadata": {
        "id": "XmGjVbp6aqVi"
      },
      "execution_count": null,
      "outputs": []
    },
    {
      "cell_type": "code",
      "source": [
        "X,Y = cdf(G)"
      ],
      "metadata": {
        "id": "cPCkuFe5atRz"
      },
      "execution_count": null,
      "outputs": []
    },
    {
      "cell_type": "code",
      "source": [
        "plt.step(X,Y)"
      ],
      "metadata": {
        "colab": {
          "base_uri": "https://localhost:8080/",
          "height": 281
        },
        "id": "oYcVSAhFatkp",
        "outputId": "157f3bbb-bf29-41b6-edf5-981bcb179e62"
      },
      "execution_count": null,
      "outputs": [
        {
          "output_type": "execute_result",
          "data": {
            "text/plain": [
              "[<matplotlib.lines.Line2D at 0x7995946a1360>]"
            ]
          },
          "metadata": {},
          "execution_count": 61
        },
        {
          "output_type": "display_data",
          "data": {
            "text/plain": [
              "<Figure size 640x480 with 1 Axes>"
            ],
            "image/png": "[encoded data removed]"
          },
          "metadata": {}
        }
      ]
    },
    {
      "cell_type": "markdown",
      "source": [
        "### Gráfica de ejercicio"
      ],
      "metadata": {
        "id": "tmTE9GSOLfd1"
      }
    },
    {
      "cell_type": "markdown",
      "source": [
        "Puede ser simulada por el método de inversión mediante el siguiente algoritmo:\n",
        "\n",
        "1. Generar $U \\sim U(0, 1)$\n",
        "2. Devolver:\n",
        " $X = 5/4 + \\sqrt{25/16 - 2 \\cdot u]}$ para $0 \\leq u < 1/4$\n",
        "\n",
        " $X = 4 \\cdot u$ para $1/4 \\leq u \\leq 1$"
      ],
      "metadata": {
        "id": "TEGU-IqlKxYp"
      }
    },
    {
      "cell_type": "code",
      "source": [
        "import random                                   # importamos el módulo random\n",
        "import numpy as np                              # importamos numpy con un alias (np)\n",
        "import matplotlib.pyplot as plt                 # ídem\n",
        "#from random import expovariate, gauss\n",
        "from statistics import mean, median, variance, stdev      # exportamos funciones especificas de statistic"
      ],
      "metadata": {
        "id": "3_9hJJ1WLjek"
      },
      "execution_count": 127,
      "outputs": []
    },
    {
      "cell_type": "code",
      "source": [
        "def graf(n):\n",
        "    lista = []\n",
        "    for i in range(n):\n",
        "        u=random.random()\n",
        "        if 0<= u < 0.75:\n",
        "           X = 1.25 + np.sqrt(1.5625 -(2*u))\n",
        "        else:\n",
        "           X = 4*u - 2\n",
        "        lista.append(X)\n",
        "    return lista"
      ],
      "metadata": {
        "id": "JnLJDemsLquJ"
      },
      "execution_count": 159,
      "outputs": []
    },
    {
      "cell_type": "code",
      "source": [
        "G=graf(1000)\n",
        "print(G)"
      ],
      "metadata": {
        "id": "fAMM8558LrKn",
        "outputId": "0cc6b1e0-738c-4ebb-9ca1-7467bf2a3edb",
        "colab": {
          "base_uri": "https://localhost:8080/"
        }
      },
      "execution_count": 160,
      "outputs": [
        {
          "output_type": "stream",
          "name": "stdout",
          "text": [
            "[1.517964607674668, 1.849399710687599, 1.6960759592491006, 2.1134536650272744, 2.175484096666876, 2.3131037005612525, 2.245067217383637, 2.4831103923004982, 1.7609941393547, 2.336911680804885, 2.030818619565709, 2.2243580881795975, 1.822985351147195, 2.412394274542305, 2.107618891981539, 1.9825263811395666, 2.0561104546171696, 1.984279268965936, 2.3034877451805076, 1.6141437557000176, 2.247919652193894, 1.4113857509183938, 1.0495652050914206, 1.5786545448865903, 2.228447266389074, 2.4857134261256957, 2.2341400213838103, 2.0673245691024538, 2.0891368234733783, 1.8423554996840923, 2.2653507947643026, 2.432289530521982, 2.358848103909344, 1.8782905914727408, 2.0896549498144457, 1.4978317227238271, 2.351882390658938, 2.4546977828758614, 2.370947948962018, 1.5896258389661764, 1.1891813377165694, 1.6443983831521987, 2.399934178714905, 1.6596564081787792, 1.2335815954787095, 1.8784025047840331, 1.9551196005593843, 1.7681674609741567, 1.318993906092948, 1.0622405886270228, 2.4797078445280194, 1.726414897602993, 2.383434890803686, 2.4526586187510784, 2.2527560777594333, 1.9954298055008546, 1.0657816651259893, 1.7983454335303568, 1.6833208035175522, 2.214369004674171, 2.1071229758971333, 2.2014306718743817, 2.251207485909069, 2.3444775112730643, 2.159287687649064, 2.1827573615469613, 1.9301681167273108, 2.1067626486447066, 2.285180081520525, 2.3079632092717848, 2.1919693443315773, 1.4357995891487163, 1.8661456275976898, 2.2014679108106527, 1.9128862787198582, 2.3665990410538713, 2.351778818864197, 2.1461030659298683, 1.7750761161814905, 1.7378990655340163, 1.7572681349444914, 1.8013989969264028, 1.81302386745124, 1.5164757162517941, 1.8396572815903518, 1.8827223128287294, 2.4652393407399575, 1.5625231749876325, 1.9744780823738544, 1.9212980585543598, 1.8349750149260409, 2.188588580690273, 1.9764509871660039, 1.8807516807260702, 2.364467736998426, 1.9233221701984933, 1.949937101249387, 1.5912186431688213, 2.189040477497747, 1.9807886343932073, 2.4494618816811986, 2.22234064944894, 2.4097355642289138, 2.1189476260605282, 1.9935290214747656, 2.3516971965784483, 2.49994461983507, 2.4065210576903677, 1.8577201102682537, 2.4873753113647563, 2.0671350589614277, 1.8467469453700875, 1.5906421553296668, 2.122578362777354, 2.3378207530045008, 2.4886135887092085, 2.355486859440222, 1.9357014544278293, 2.2901471955567274, 1.7827069063778778, 2.332441130391593, 2.303390183806504, 2.086813466007409, 2.0466786711987077, 2.337434431590796, 1.1075651231963666, 1.0918861438924927, 1.9701327600694771, 1.8236682922290814, 2.134898907082546, 1.9146977135297365, 2.2647946931481613, 2.1535845117665384, 2.470851991561705, 2.2374596738715096, 2.4965792129586664, 1.624226166871017, 2.3928860095495508, 1.8462335238873635, 1.9502706491028625, 2.4850605375600696, 1.8541445920040474, 2.330770882318874, 2.3206233019405627, 1.5387164449747583, 2.2715910626568823, 2.0469386931265525, 2.3911898531533717, 2.06475311871189, 1.4999629942582002, 1.9124139460877125, 1.615859747344238, 2.324857269053381, 2.286879175628529, 1.9025163628048882, 1.6380548516238118, 1.9852554448756479, 2.2679899784246693, 1.3727187998864876, 2.3370812707116375, 2.1262127938071296, 1.9035435787674233, 2.363359637560695, 1.8256839321651652, 1.816262381541999, 1.586478173591451, 2.1255813735820523, 2.206347344339009, 1.5390007711755012, 2.1204623233285647, 1.3974821219239462, 2.485475104585211, 2.1096902544832288, 2.2754464469150295, 1.9967554792172888, 2.2124334485981336, 2.344491588603202, 2.3353675465459514, 2.26984570066129, 1.83373829153052, 1.6557541660554782, 2.4987289944105884, 2.1790366177316653, 2.0091974500834233, 2.142538493610868, 1.269832593480225, 1.749678051505172, 1.549469809705183, 1.954952721256312, 1.757566559500982, 1.9056747479190417, 2.493246017884035, 2.1608780753822767, 2.4312753336541864, 2.4378788274747683, 1.8987587142054512, 1.9400915277902238, 1.6600983438155028, 1.0291597878600598, 2.4367934306630135, 1.6766008693380687, 2.395567125778712, 1.5571215961480402, 2.2132087955588977, 1.1345640316340662, 2.3768035729205685, 2.4571895349694186, 1.5132576722800901, 2.1573727497559676, 1.7197005480678562, 1.5101195826641345, 2.3871451630196088, 1.5337402239297113, 2.4325658054915236, 2.2772962370673633, 1.5602318650684173, 2.4388489907683963, 2.2649676312295117, 1.848176426882139, 1.7643036960775669, 2.1859061012394276, 1.8989447559217225, 1.5885288311773484, 2.4916158120529253, 2.303380837486149, 2.056696774722937, 1.5177410804005191, 2.1507744261133945, 2.127067910722618, 2.0687296683768945, 2.4522317910183533, 2.3009342381771867, 1.3268131816490891, 1.5658471103195173, 1.991371124989663, 1.8464653496881174, 2.494799288014219, 2.1878188389997484, 2.274100901269991, 2.2324640080041775, 1.879932665974322, 2.310929778499192, 1.474566497242114, 2.185542663244982, 2.1853072657709367, 2.283908689908661, 1.660787003897601, 1.214463197441244, 1.125737853712426, 1.297357300528207, 1.8656591794493078, 1.3877538827916833, 2.1139110097435707, 1.6210529988361522, 1.5544890134596763, 2.084811595064608, 1.9753329059492724, 1.5455075603237938, 1.8069637743077163, 2.451595113476265, 1.7503494357910028, 2.4355998640709426, 2.292635431733702, 2.4134805504221015, 2.127183153721396, 2.28568921415603, 1.767740433985117, 1.7894355589289108, 2.34817170271846, 2.279534831474651, 2.4835528147960657, 1.6024647962660468, 1.2150563144347646, 1.8912302329367936, 2.0556309664885313, 2.108146084106776, 2.3305956490606228, 1.9854505308255543, 2.1579633452348292, 1.2370990471857604, 2.3445960172836506, 2.2159260266278187, 2.1539916613342283, 1.589431954846488, 1.543241113320029, 1.7812203295492333, 2.1206081066918276, 1.9432841257559241, 1.758666221327315, 2.4478747467203137, 2.1092233692506066, 1.5770854295851682, 1.7557367517979148, 1.854794673528398, 1.9702957315764058, 2.179093211262776, 1.8640909471827827, 1.668150889924358, 2.310235117050495, 2.3539812511985954, 2.2515288664685027, 2.386673999604268, 1.7549095853131256, 2.33661259339038, 1.6789430810481623, 1.629376285444958, 2.3473496851269493, 1.5613532824366834, 2.4315093070653497, 2.3551093732747526, 2.190017069926785, 2.3908462130462063, 2.4821825739943773, 1.446166409931016, 2.2606645485383257, 2.0495727781192468, 2.221328456737447, 1.2789611120999917, 2.296517534028392, 1.7378869801810044, 2.1558958069100664, 1.3695436245204164, 1.722377561455696, 1.7543348996222816, 2.1884868547226737, 1.901713769910938, 1.858531450115254, 2.3527708086844576, 1.8726697799534362, 1.5357820519550898, 2.3102465837744655, 2.048383364041719, 2.1770990037355347, 2.10617360887304, 1.6698572976483512, 1.9845333465396362, 2.3754850029998127, 1.8297007291555856, 1.4540922183769878, 1.1464234633017378, 1.9214537052882803, 2.211957168378441, 2.2989577534279473, 2.3051101043398985, 1.9429307887409961, 1.2640709649246102, 2.110169700128881, 2.4829674678996647, 1.6049736582888494, 1.8523988314620543, 2.1632988307628884, 1.756893073172698, 2.150981940468532, 2.2121675690786837, 1.3381134278290445, 1.8960376946926205, 1.831066684687805, 1.9228616894816783, 1.7826578027177442, 2.3331682677892926, 2.3246102218612563, 2.1092488205143547, 2.3979968313632645, 2.403483833503562, 2.3635295997243198, 2.1654510949563877, 2.13790310936362, 2.3704164239572494, 2.1605950318134393, 1.9152615210972215, 1.769047596052563, 1.0850778028126764, 2.0494754521592635, 1.9234661562910147, 2.3137373182127474, 1.701020650734028, 1.8110703132293753, 2.4075529711845256, 1.8936617612442328, 1.9889896113422494, 1.5711174532915742, 2.323416155846803, 1.5066562101025938, 1.9603154055337866, 2.2478631091122567, 1.7940973655852872, 1.533989274119703, 2.414109839470128, 1.6918079438233735, 1.9520633489452253, 2.432577836957404, 1.3232258757747979, 2.3374000389387333, 2.354954900426805, 1.96077393910074, 2.179232123058253, 1.585630302097241, 1.9740084512029088, 1.5369093054642862, 2.3452106303477116, 2.3446174199117427, 2.4070011276190577, 1.2359611537995776, 2.460296260262866, 2.345672375079729, 1.7808934010988515, 2.1884605281397067, 2.0773026007897153, 2.033433161590888, 2.053068846435931, 1.0366258360063654, 1.7552872215099766, 1.6351869904816136, 2.339850741829327, 1.6787771567566578, 2.1401296890878294, 2.0116740738219914, 2.182491419014551, 1.9263886954227694, 1.972658701212679, 1.8571717309870008, 1.9215304993464524, 1.0926388510882945, 1.5928188728303294, 1.8941621882201738, 2.300057864763569, 1.6630765926938906, 2.4396931558707826, 2.2015572979998153, 1.5677685998947979, 2.122219636638832, 1.901953915488774, 2.424651952668276, 1.0852270687848207, 1.5298998753166775, 2.2989032387028123, 1.626552833348471, 1.0223382240166856, 2.4191010667207724, 2.1384723008503768, 1.8442398604494632, 2.4386112874927113, 2.07542567955765, 2.313321324320894, 1.3965826637898244, 1.7601198050265472, 1.9994424661781538, 2.4886645129841725, 1.703793845741321, 1.4548621402225264, 1.748522322553349, 2.464215993125174, 2.254941898094091, 1.8297321054149722, 1.8730748597504703, 2.328406509972158, 2.284534907440933, 2.233112301299209, 1.9821010592905313, 2.169831189225185, 2.4698959029045597, 2.328706884558877, 2.4889747368912705, 2.4258266201234777, 1.9886393713669226, 2.492648624078271, 1.654636812730429, 2.2860574420752426, 2.2766004695302504, 2.284411845924238, 2.4021867886291264, 1.6865050829768835, 2.049299663634132, 2.1180826527723036, 2.122186432952574, 2.4450166469387176, 1.8249923585035184, 1.9516247743611808, 2.2716440852000233, 1.7515783443592, 1.8977179413562961, 2.2207304063086593, 1.6908526396684653, 2.140467412436764, 1.5206105625124327, 1.5362883092190824, 2.371706268328999, 2.4595482864468527, 1.704409619561683, 2.2049553840401868, 1.083986447485589, 1.7879163837558325, 1.7242098740430656, 1.9169455393099857, 2.3538570417805396, 1.841053181115508, 1.0844183751706287, 2.372377472680781, 1.449526672641408, 1.8403030497282202, 1.7961892178732304, 2.3828484767643165, 2.3730339788567925, 1.5750875483731575, 2.460654647078303, 1.9430342796936964, 1.1473262831148174, 2.4881543550711394, 2.29905190028882, 2.3581784034850717, 2.2388509896632107, 2.03204089280149, 2.4016695252996283, 2.2083071398260437, 2.048019178658099, 2.2144972769606657, 2.2104139639217166, 1.5382919804579172, 2.0395284902582076, 2.189491989318443, 1.059597509456379, 1.7022608710220992, 2.4920173060952573, 2.3444416470910125, 2.2141056668222703, 2.412856284557384, 1.8971711670941396, 1.1002668554746542, 1.7964598222276429, 2.4797711836220775, 2.4545719623849243, 2.358535050311921, 2.146814508752188, 2.123203954395498, 2.4616115491688615, 2.0383978912496845, 1.7523210642898726, 2.0815909076984913, 1.3327596977825258, 1.9270132488143759, 2.4352242274040767, 2.2801786131316018, 1.88244902100468, 2.4510346773537908, 1.782810221271237, 2.480984147615105, 1.5821741649311845, 1.7133043118829767, 1.8221022820990411, 1.3206309856816154, 1.711170510863641, 1.9456005475042604, 2.2032099179768756, 2.2920825015254787, 1.7478340528815157, 1.8312771889499295, 2.289286087463016, 1.8398993512957882, 2.0999285959612166, 2.384199288629201, 2.034899705442845, 2.329241385453872, 2.2239096523673445, 1.851674108814286, 1.9248434074556038, 2.4829693247859073, 2.3974014249293623, 1.8774677788311998, 1.9852152749338572, 1.3453979159447358, 2.3829748702661653, 1.313222615708646, 2.171518267792625, 1.2307886108899107, 2.301182514165678, 2.1270351876220053, 1.841579261885058, 1.576187965384757, 2.4667976146863415, 2.212779255492557, 2.4606374143375334, 1.9377601374493363, 1.687251672849066, 1.505586854179275, 2.306914354820812, 1.354512054538147, 2.39031620047567, 1.545129913591567, 1.8624282539589894, 2.1972245452138957, 1.9084304220149906, 2.394105789710493, 2.2819772358650763, 2.2883102020045154, 2.3787517078326523, 1.7042118314140229, 1.6075480609802129, 2.4711856021175524, 2.4202800425943316, 2.195567899821241, 1.5795271885529005, 2.4263100961451363, 1.6752000952805557, 1.280956900184394, 2.4922469438490875, 2.263846361418224, 2.483893920351008, 1.984301496270112, 1.0395313755599824, 2.3635633869638797, 2.1741313940848594, 1.694864503327745, 1.8557742840855092, 1.9097544669373416, 1.9730437773676721, 2.2512199234173016, 2.3503950181450697, 2.1846422369101184, 2.381558496918497, 1.2480144684114984, 1.505196913898383, 1.8849368923687555, 1.159541374848828, 1.3141537377982355, 1.5313614699795841, 2.4235223651656366, 2.4001552010260405, 1.4475766110623778, 2.0755249289282256, 2.342014650530839, 2.4659056086154623, 1.6431202200929418, 2.2435526225548705, 2.396896580966235, 2.4987433134473953, 1.5823519691794623, 1.7448478294835748, 2.3387713413260087, 2.380727418082178, 1.8033017238536144, 1.7121481101050897, 2.483063248170104, 1.9298828401987973, 2.3987474451967845, 2.0066336821487925, 2.0678408979338645, 2.327700655330137, 2.2015597585419004, 2.467143530409009, 1.8578826639813038, 2.465059261527316, 1.6908349511903458, 2.1490183007553134, 1.1807226591105637, 1.8332936338502424, 1.9940765522095085, 2.44875926895738, 2.488985166731574, 1.2680279195781456, 1.0273118553630263, 1.304013277588726, 1.6216570733227793, 2.397099534209935, 2.294497739430529, 2.154983329799334, 2.108453510283934, 1.8677635776338504, 2.359140052786245, 2.4775268277711495, 2.4205861512725075, 2.3068955300828335, 1.7997260112473263, 1.6054591745880766, 2.2317102005019276, 1.1362268986806865, 2.3397562202419375, 1.3675430080393545, 2.2654152944735597, 2.449987111250153, 2.19583018461135, 1.7428826280916383, 2.049210460483446, 1.5904893161006677, 1.8859808938971003, 2.1516615556828818, 1.6841597119885598, 1.731086628901321, 2.333037269596502, 1.6377640194848615, 2.114927732577587, 2.2755680891327836, 1.9936281287772597, 2.237367402714909, 2.279150016709126, 1.5766747271661479, 1.0796611475716706, 1.2906540000202993, 1.7325955722682016, 1.7982640131312766, 1.850544400363256, 2.285777522193022, 1.7116263566038077, 2.1236677016704393, 2.156427120537482, 1.7136290147510318, 1.857808705088711, 2.211684464826609, 1.9069529898484379, 1.8243914944945936, 1.6585074528506119, 1.481371227659158, 2.189778589958798, 2.1564504689411037, 1.520313245632941, 1.8845282922969107, 2.4758727354931205, 1.5408557295916347, 1.6657824886477763, 2.260047077201548, 1.0548412271954977, 2.4839230131167604, 1.9982003448471124, 1.2853302889027725, 1.376343291329158, 2.330619841261722, 2.4125416082481, 1.0958461567461417, 1.7371006579681454, 1.2859019561110236, 2.270377813287146, 1.803475463831067, 1.8941649442864634, 1.7046286016602457, 2.163424316292157, 2.067245493269921, 2.2945273412793963, 2.373987418302426, 2.2071963173694638, 1.7874396213199324, 1.1823594799253234, 2.3445030428314233, 1.1518570660170049, 2.2071036463841285, 1.7033237126605147, 1.4785291006286259, 2.173782987534109, 1.7255617847429834, 2.0604858376920174, 1.2723700259320427, 1.5087729127006977, 2.400613951076842, 1.5584031926995174, 2.268835408721137, 1.921413802972289, 1.964330178906812, 1.6702440976051194, 1.7505058575044776, 1.234530574064526, 2.1961439030623127, 1.8074604663299452, 1.7359740225150477, 2.486528314598943, 1.6784269812997756, 1.9415401478857575, 2.4304026363139157, 1.9626986400881874, 2.037808674478765, 1.5064485100308733, 1.3905987974845226, 1.1546417223968426, 1.4987284187857628, 1.7970720545779382, 2.1579040642311043, 1.0878530028823836, 2.4431450171132516, 1.2918835256973469, 2.361883697429056, 2.4352031354514847, 2.069711336306294, 1.3140973767061688, 2.148806280754628, 2.340356884480832, 2.2438278568351677, 2.4972748011943944, 2.462065742485744, 2.4041500859360783, 1.2272859232212117, 2.131908327607837, 1.7842626666346235, 2.149371945955572, 2.4556699263298327, 1.9033647499758413, 1.53407428903318, 2.0790412859650966, 2.1710820995955213, 2.0405950644924675, 1.6271357616824669, 2.2562651348054352, 2.3895074063326915, 2.0199689444861804, 2.170401278014219, 2.318964006617757, 2.220154061113248, 1.5857721309551123, 2.160345564228289, 1.9427332002769633, 2.2317950936685715, 1.6235463807394876, 2.486935992683159, 1.7162023498409194, 1.7318898531106046, 1.6040944924041487, 1.9375641395271188, 2.288292192920988, 1.851981684126426, 1.549931114927992, 2.398779862986657, 1.2434943068937891, 2.485230828168274, 2.2337777981858373, 2.4623542652726913, 1.6776357316199628, 1.721272896824225, 1.1779302913237149, 2.098326932965679, 2.3824685876160685, 2.371821373059518, 2.080592811062753, 1.435829843078416, 1.5868165450244667, 2.277921277970173, 2.3300069041030644, 2.1272915020954652, 1.196868593658313, 2.492103792869883, 2.0109021296967415, 2.461342192879392, 2.445434574031056, 1.0334769249701217, 2.334842879147577, 2.3287977406697298, 1.9780872077511826, 1.4975481013243872, 2.396744432398913, 1.0363705835535661, 1.942510743743207, 1.710608704614625, 1.7574165272703435, 2.149872951609425, 1.7056616752650546, 2.2562650388919026, 2.464185886284172, 1.664030800478623, 1.637250217865276, 1.8699623279676323, 1.7698768104820195, 2.0190406051038448, 1.3627918997800585, 2.4217048457290575, 2.4115575486061243, 1.8198437658513544, 1.468022247702284, 2.2085503370100397, 2.238646628964884, 1.40880819900456, 1.0737520091968227, 2.42312508977133, 1.7216025564619843, 1.966199120478594, 1.186140624562555, 2.305757078255525, 2.0053240217240513, 1.8518051938328175, 1.8737016527539572, 1.775324438219323, 2.0937749023809498, 2.021679875023336, 1.996067979323028, 1.9866637467979544, 2.3877349704964885, 2.075644866706548, 1.429635911048551, 2.140369497761977, 2.2636328731658697, 1.5241754948953146, 1.8632926735182687, 2.118431020127821, 1.2218945594652788, 2.235855926401207, 1.4168958109060927, 2.2257706608503387, 1.4857796852701308, 2.4906241991010303, 1.8833865283218951, 1.8979965888358918, 2.2992171438173585, 2.0441224642634355, 1.8308433790970153, 2.435712976094795, 2.4117613757502414, 2.345384722300616, 2.162905679792984, 2.2960042764900397, 1.1370397752267878, 1.6804113751145602, 1.8460808868544416, 2.403395289153619, 2.3766645343350277, 2.0570065723531936, 1.2350503239241442, 2.436317583467585, 1.636133970596076, 1.0550618377670085, 2.0852514545306615, 1.5493649569913188, 1.1426445577926478, 2.1224124975828755, 2.3418490515706294, 2.2500765049752713, 2.261926005106557, 1.9058643373013573, 2.4079085669826794, 1.477976957922876, 2.2952193382574926, 1.8622413362741201, 1.2266622436219379, 1.867138151861095, 1.6692625214141086, 1.99653334549363, 2.412076039892316, 2.4006356953138472, 2.2662475801213784, 2.3793537680849797, 1.1332250219157909, 1.8433368698177186, 1.8628786103125217, 1.7912177981798538, 2.1571607412202014, 1.6629140629364247, 1.77745964605261, 2.4597734830268285, 1.5264212638279737, 2.444595465521874, 1.7014930428826844, 2.033673557765607, 2.3348802780726587, 1.7226713258263362, 2.2896743539787026, 1.8123964019862098, 2.363365928434398, 1.9367241876716563, 2.4555444456764404, 1.9496505388596437, 2.2872714248726966, 2.431283752891808, 1.5164773847578465, 2.4349354334030453, 2.2307516347571883, 1.1365608162984624, 2.441052186449624, 1.6552652828413486, 1.3114196743586533, 2.31139518620469, 1.718184591883791, 2.2901190508237854, 1.4010330312294403, 1.20103200692358, 1.940205076470893, 2.0909330306007177, 2.4291994545281232, 1.498516102806863, 1.9623860764499466, 2.1670218353355213, 2.263201952614565, 2.318015185619693, 1.2094231127431807, 2.375829766357583, 1.8648880158421468, 1.7761781908924457, 2.4037270877154073, 2.4923528913334234, 2.499013819941114, 1.8645416505859616, 2.48308964292943, 1.886471036620024, 2.0569799012606884, 2.1217416158613123, 2.135297927746201, 2.099539381893572, 1.4204325150714805, 2.32608492373827, 2.249199600489794, 2.1215135013329496, 1.03540218590331, 2.4869867716970084, 1.9866158894533728, 2.0152669484757926, 2.096251408870291, 2.327699193717451, 1.86438988780416]\n"
          ]
        }
      ]
    },
    {
      "cell_type": "code",
      "source": [
        "mu=np.mean(G)\n",
        "print(mu)"
      ],
      "metadata": {
        "id": "7eSPuQrPLrVb",
        "outputId": "be88fbc1-1eb0-41ea-875c-ba173c575bf9",
        "colab": {
          "base_uri": "https://localhost:8080/"
        }
      },
      "execution_count": 162,
      "outputs": [
        {
          "output_type": "stream",
          "name": "stdout",
          "text": [
            "1.978815303452733\n"
          ]
        }
      ]
    },
    {
      "cell_type": "code",
      "source": [
        "sigma2=np.var(G)\n",
        "print(sigma2)"
      ],
      "metadata": {
        "id": "JbHu2_y3LrgB",
        "outputId": "2545e2b7-088a-4712-e8de-c4fa9770e461",
        "colab": {
          "base_uri": "https://localhost:8080/"
        }
      },
      "execution_count": 163,
      "outputs": [
        {
          "output_type": "stream",
          "name": "stdout",
          "text": [
            "0.14353096363948567\n"
          ]
        }
      ]
    },
    {
      "cell_type": "code",
      "source": [
        "plt.hist(G, bins=50)"
      ],
      "metadata": {
        "id": "_eJ6J1GAMlpO"
      },
      "execution_count": null,
      "outputs": []
    },
    {
      "cell_type": "code",
      "source": [
        "plt.plot(G)"
      ],
      "metadata": {
        "id": "Ch2be97yMl2h",
        "outputId": "8a472e80-b41c-4de9-d0a6-c92e4ff1d5c7",
        "colab": {
          "base_uri": "https://localhost:8080/",
          "height": 281
        }
      },
      "execution_count": 167,
      "outputs": [
        {
          "output_type": "execute_result",
          "data": {
            "text/plain": [
              "[<matplotlib.lines.Line2D at 0x7e53e2a52e00>]"
            ]
          },
          "metadata": {},
          "execution_count": 167
        },
        {
          "output_type": "display_data",
          "data": {
            "text/plain": [
              "<Figure size 640x480 with 1 Axes>"
            ],
            "image/png": "[encoded data removed]"
          },
          "metadata": {}
        }
      ]
    },
    {
      "cell_type": "code",
      "source": [
        "def cdf(muestra):\n",
        "  m=len(muestra)\n",
        "  x=np.sort(muestra)\n",
        "  y=np.arange(0,m)/m\n",
        "  return x,y"
      ],
      "metadata": {
        "id": "PgByMT1CLrpG"
      },
      "execution_count": 168,
      "outputs": []
    },
    {
      "cell_type": "code",
      "source": [
        "X,Y = cdf(G)"
      ],
      "metadata": {
        "id": "WoVv1wz0MlJb"
      },
      "execution_count": 169,
      "outputs": []
    },
    {
      "cell_type": "code",
      "source": [
        "plt.step(X,Y)"
      ],
      "metadata": {
        "id": "CmPZwe4KMlQs",
        "outputId": "362c9f96-71a5-4ecf-b40a-4e08b12a3dfe",
        "colab": {
          "base_uri": "https://localhost:8080/",
          "height": 281
        }
      },
      "execution_count": 170,
      "outputs": [
        {
          "output_type": "execute_result",
          "data": {
            "text/plain": [
              "[<matplotlib.lines.Line2D at 0x7e53e28e58a0>]"
            ]
          },
          "metadata": {},
          "execution_count": 170
        },
        {
          "output_type": "display_data",
          "data": {
            "text/plain": [
              "<Figure size 640x480 with 1 Axes>"
            ],
            "image/png": "[encoded data removed]"
          },
          "metadata": {}
        }
      ]
    },
    {
      "cell_type": "markdown",
      "metadata": {
        "id": "wzXhoxFgElEZ"
      },
      "source": [
        "### La distribución uniforme\n",
        "\n",
        "Función de densidad:\n",
        "    \n",
        "$f_X (x) = 1/(b-a)$  para $a \\geq x \\geq b$\n",
        "\n",
        "y función de distribución:\n",
        "\n",
        "$F_X (x) = (x-a) / (b-a)$  para $a \\geq x \\geq b$"
      ]
    },
    {
      "cell_type": "markdown",
      "metadata": {
        "id": "ZzmbKUgfElEZ"
      },
      "source": [
        "Puede ser simulada por el método de inversión mediante el siguiente algoritmo:\n",
        "\n",
        "0. Hacer $L = (b-a)$\n",
        "1. Generar $U \\sim U(0, 1)$\n",
        "2. Devolver $X = U \\cdot L + a$"
      ]
    },
    {
      "cell_type": "code",
      "execution_count": null,
      "metadata": {
        "id": "25Zxr-I1ElEZ"
      },
      "outputs": [],
      "source": [
        "import random                                   # importamos el módulo random\n",
        "import numpy as np                              # importamos numpy con un alias (np)\n",
        "import matplotlib.pyplot as plt                 # ídem\n",
        "#from random import expovariate, gauss\n",
        "from statistics import mean, median, variance, stdev      # exportamos funciones especificas de statistic"
      ]
    },
    {
      "cell_type": "code",
      "source": [
        "def unif(a=10, b=15, n=20):\n",
        "    L = b-a\n",
        "    lista = []\n",
        "    for i in range(n):\n",
        "        u=random.random()\n",
        "        X=L*u + a\n",
        "        lista.append(X)\n",
        "    return lista"
      ],
      "metadata": {
        "id": "XiKCP2McD1sf"
      },
      "execution_count": null,
      "outputs": []
    },
    {
      "cell_type": "code",
      "source": [
        "unif()"
      ],
      "metadata": {
        "id": "P9xgFvLAFWYo"
      },
      "execution_count": null,
      "outputs": []
    },
    {
      "cell_type": "code",
      "source": [
        "G=unif(10, 15,1000)\n",
        "print(G)"
      ],
      "metadata": {
        "id": "K3AVxqthG-Yg",
        "outputId": "38a56100-09ae-4d81-9f84-deab57221b14",
        "colab": {
          "base_uri": "https://localhost:8080/"
        }
      },
      "execution_count": null,
      "outputs": [
        {
          "output_type": "stream",
          "name": "stdout",
          "text": [
            "[14.296621610829956, 14.467042808466935, 12.939079452503954, 12.942679166374337, 13.110755235973873, 10.273964739540679, 10.630020013943462, 10.996448132388807, 14.881976896942465, 12.505084670148733, 11.446141091895127, 14.268104553614615, 14.12422172405916, 13.754731367955403, 12.244501413205677, 11.892034871947867, 10.22791901144583, 13.178507368563771, 11.299865570580247, 13.148252505275547, 11.58829585883344, 13.451672509869926, 12.788663877510864, 14.354709896029966, 13.27094926832784, 14.910802154992297, 13.165034882168147, 14.065454778222852, 11.591121737861167, 14.881024009262603, 12.215511432751182, 13.310209531980654, 13.875396990890536, 12.235506021663218, 10.241597777786753, 11.950199353385255, 14.779784765668408, 12.120238898032076, 14.268469019173597, 12.663694048416517, 12.240553284967728, 10.83599453597272, 12.64502498307241, 13.655009049568143, 11.37900810142145, 13.306574348236023, 10.659073015254377, 14.594459231934394, 12.203229392848693, 12.734772888146255, 13.148606704049794, 11.324579120725646, 10.029841091164366, 13.969141615581616, 13.53847419623526, 12.776292959408298, 10.429205931442498, 12.259638745970534, 12.08173933059008, 12.994451806951641, 10.398593244226625, 13.426003259694548, 13.284214739863845, 12.965415871258251, 13.558480742448145, 10.21709757409938, 11.310872156624807, 13.972657860444109, 14.790256588474337, 14.458843934341004, 14.901365494198675, 12.449396520590913, 11.34229996226791, 13.742832149598593, 11.510714984328352, 10.354226493558686, 14.410408422834145, 12.088981499299686, 14.615780908179607, 11.084411168600612, 14.620392391468982, 11.882359259986085, 14.45273854904543, 11.166113071542558, 10.60556703133593, 12.290431600122107, 13.830497479736318, 11.341025145259248, 13.994618885926783, 14.003605241641079, 10.866999035150725, 11.017966586926915, 13.952990132583519, 10.170930625480018, 14.033521800819859, 10.073665764160815, 11.676240473812443, 12.002566701613087, 10.930071586249829, 14.279246656848521, 13.353144064555522, 14.752189665166743, 10.928811512419541, 14.174799840381255, 14.460725094210202, 13.142242886318176, 12.53474234612619, 14.755811590101466, 14.11239804253068, 14.324361222389204, 12.295988270609605, 11.923411257673946, 12.722139148937522, 11.2893369080415, 13.241817111628928, 10.47814758758283, 13.139842330496823, 13.539195431507817, 11.523762334135132, 13.329881980752312, 13.88316606375778, 12.269717604313076, 14.665861593595123, 10.69719128629451, 13.845178693790784, 12.105901368323453, 13.157833495018505, 13.350406731439579, 11.63796664264634, 12.499146017617473, 14.713430689317857, 10.126904686683373, 11.22022167215299, 14.631725331758961, 14.495470320207495, 11.11558798155504, 12.40270691358367, 12.42509926085345, 13.505858286250945, 12.218691445875304, 10.588430810724427, 14.751058315464519, 10.938429254344431, 12.79495074266632, 13.64565258413722, 10.633723747499507, 12.066062523123259, 12.338422732908338, 11.12303087119997, 14.226582864798756, 13.257714547791327, 14.159217201547865, 11.379614361099057, 11.658490313187693, 13.327065396289143, 14.787717058089115, 13.65231358420938, 13.947485254894369, 12.759363330004167, 10.80085992924413, 12.44935674056411, 12.823338662381808, 11.752188253312621, 13.892059607166292, 14.083701198020307, 13.991990379359713, 10.487012903949948, 11.362704109494286, 12.685452161085095, 13.06822040970567, 13.673625586339988, 11.158259829726598, 10.936424799727273, 12.865308824780833, 13.218430453777513, 10.684473006004577, 13.206404248300165, 11.615369141698906, 10.779393946492858, 11.787355891649478, 13.56333175811686, 11.648229836223646, 13.856269898668192, 13.27237584067802, 14.992096655952533, 13.345379405158958, 10.833562202941001, 11.367760110008899, 10.269143334088415, 14.91063623886695, 12.796102751266993, 10.96553314759644, 10.27805469341742, 14.841013969575377, 14.861172957096898, 13.863167524222485, 11.04721292486468, 12.857159708946345, 14.123799896149817, 14.783599830724679, 12.393980550270063, 10.23185253232777, 13.24231990103478, 12.067602753190432, 13.931149282421368, 10.832393260044832, 12.595779453574744, 13.651718116646563, 14.130952075628134, 13.330698300268448, 11.48978354599565, 10.005658377138692, 13.973585537070708, 14.836559103549487, 12.09727049288221, 14.805887633557155, 11.468104647880484, 12.11318524373249, 14.365976997304555, 11.182086971519485, 13.04916373183783, 14.375088045753447, 12.440948652853391, 10.788992345658565, 13.28285458633136, 14.178740347181954, 11.82280966745066, 12.227674397786535, 13.353636742492082, 11.63058799335697, 10.806618676456754, 11.360745598849887, 11.86320084832727, 12.990954984803372, 10.930381820158106, 10.782115028691347, 12.204299649254136, 14.408026481889763, 13.663931704805456, 12.897012797920752, 14.38323606032913, 11.40802576368846, 12.097375261764196, 13.010245529321283, 10.287468624904553, 13.852738136589082, 10.685807492505038, 12.358708688565661, 14.958571691049723, 13.755156106137386, 12.399330232576242, 12.15974526069887, 13.91878401940183, 11.419368323337075, 13.08800443931099, 10.447796753529346, 13.660770499632198, 11.798910861961332, 12.030975497456488, 11.468862646678822, 14.73517099940617, 14.886211151429285, 13.360690126347679, 14.423710407318222, 14.132786079164788, 12.371088506174845, 12.026925080933829, 11.54589187923983, 12.74519362054141, 14.129857356311966, 12.111190023055297, 11.117465024992088, 14.25226134540384, 14.720845594893673, 10.72492088305875, 13.919955818194797, 12.277872101245766, 13.140072304575847, 11.814612383318321, 14.184709139196759, 10.00420753215683, 14.381003735989607, 11.374700666456391, 14.339169093676377, 12.266900884054849, 13.254825511895891, 14.685714264311407, 13.509609485429504, 10.645287424897704, 10.499991889411927, 12.525572838099574, 13.781782223023635, 13.379445158764145, 10.62046423952836, 11.410698561157663, 11.25615323928707, 10.340806420008526, 14.958816797996418, 13.131667934393008, 10.511827167671733, 10.10065823318158, 11.846019608946053, 13.939856289061314, 10.965139284202905, 14.914167630035262, 10.391100816146277, 10.25024181199705, 14.355506701432807, 10.951136088031216, 11.90749020503195, 12.94418684032217, 10.536755936255776, 14.450661176727994, 10.67165243974807, 13.889566704206512, 10.084929091419637, 14.776869309116456, 13.09938721995892, 14.921194528549595, 14.023553591947609, 14.985354403054185, 12.170316186312395, 13.198123842969688, 10.802082675325465, 12.90149652144158, 10.179997919134053, 12.648125354383115, 12.547354288733874, 14.73108642874475, 13.0429272301593, 10.297048553440318, 11.719187479505594, 12.601050217305279, 11.160299346687333, 10.944248369994494, 14.94494137929049, 12.670372419084817, 10.23129372988122, 13.603869605245336, 10.266261093437715, 13.154922220292104, 10.44450236079659, 11.129289262918647, 13.603646552831396, 11.048425003852747, 10.236581902650597, 14.455861823742353, 10.76051811910529, 10.375608756371236, 12.819153773241595, 13.084680605675905, 10.535729085301014, 12.834524150009905, 10.357011125999373, 10.309617567961931, 10.228737445559617, 11.54927733504919, 13.087548582704613, 14.214344067266627, 11.163259862027214, 10.506933583969982, 10.106355972975196, 13.463149077284903, 13.558989865645819, 13.847729603832418, 12.120211737846565, 14.406081028803019, 12.396030850158887, 13.02608888021319, 13.970433155319284, 13.556279139371014, 10.000032731504051, 11.328115388662292, 12.515173396833077, 10.607880919170697, 14.84213544023217, 11.097737892782057, 10.101725334508982, 11.825683377395588, 12.613135455309944, 12.444031664463889, 12.508455524535465, 11.245758915987812, 12.70272060001324, 11.745218067250491, 10.710578737761143, 10.858808892998741, 12.514657773831859, 13.762076904483184, 10.720917481611323, 13.128992123318948, 12.627263632672896, 11.334459162434026, 10.457014051359021, 10.354795149343317, 10.377903595273223, 13.130359790855085, 11.064151373560312, 12.713721211305852, 13.961675434165278, 12.556313176706386, 14.844217332261717, 13.220846552019385, 13.56121364501412, 10.63580968632923, 11.252422251452138, 10.066977581397936, 12.574259126283213, 13.483722541510684, 14.224244301138864, 14.056232311370302, 12.859844640286525, 13.122916093533757, 12.284100254985326, 12.339198282149475, 13.47165888904647, 11.844513982975352, 11.33494438687825, 13.222167670056002, 10.080155300984732, 13.75044384541976, 10.745362713823956, 11.985057874089303, 13.345289277982214, 14.29547997381603, 14.367031402274957, 10.686979175493768, 13.019596306275442, 14.90023447159193, 12.696689746812572, 14.419742799445682, 11.639310063641465, 13.774243389532996, 14.925227818949448, 13.622511814942037, 11.055812096643033, 11.129009230076656, 10.974597053743514, 11.313838166873397, 12.395102040111325, 13.430600825004861, 14.135050788101733, 13.22184935245435, 12.44761660006141, 14.646505601120246, 11.494447286756209, 13.765822943305166, 10.865378186857166, 13.41152402250208, 13.079740646504153, 12.401637237161571, 10.594625055461805, 14.676213656191909, 14.272354950773092, 11.0403564092556, 13.492323144382244, 14.954332334192298, 11.150034222775588, 11.246370772827545, 14.537572636068102, 14.183950649749626, 13.818861103733123, 11.22031893283905, 12.423229418243277, 11.229831820071244, 13.256049857907302, 14.512276532444709, 13.808532449310299, 12.428360804475536, 14.80201510292375, 12.471404503752565, 11.241287637487597, 13.513533768476243, 13.89375007062808, 11.647093869478116, 11.386444385480155, 14.66311008160983, 11.469040716829538, 11.464218916644995, 12.721762205187481, 13.854838290660433, 14.314061628303978, 13.07832775593787, 10.188081084656087, 11.083991425971302, 10.178985921449918, 14.50769341664914, 13.307373045570962, 10.2787613672108, 11.626204139111655, 10.21748609346247, 13.933341751207887, 14.02555324558984, 12.325112620436729, 14.784541521568212, 14.690718379473061, 12.606155647294816, 11.572308278502348, 10.013824807819738, 11.813466893022166, 12.277409952667032, 13.313865319114406, 11.386084266442282, 14.437394440106315, 10.494611551259869, 10.380194811732768, 14.319911960092593, 10.385617625178398, 13.072273726212117, 10.6661558417103, 12.854732432762724, 13.297768170956623, 14.220322022188064, 10.601649049046124, 10.691582560839175, 10.591286420947352, 14.280544674788644, 13.491931545373577, 14.591029302104392, 13.98481581943017, 11.576453471216496, 14.54236419836204, 12.235786000584227, 13.7119651674405, 14.497946881702099, 13.353332353756935, 10.603711739908858, 13.794428408603231, 11.323532968893572, 14.951185218605252, 14.949033497004248, 14.642750459277847, 13.472006371492553, 12.043743929802817, 10.150981782698727, 11.518298183677764, 12.10391078896024, 14.934132168120332, 10.185934786884445, 12.082960169029441, 10.205078206752184, 14.804505829291323, 12.4182069332208, 11.183348023098707, 13.703004627904475, 13.338683127687258, 12.125515781812355, 11.59846963682525, 14.999618840659483, 12.892992003381337, 10.93781103605978, 10.97971793302918, 12.636095639931915, 10.851328714488039, 13.00921327012949, 12.47355491334578, 11.427943713166467, 13.650483531393526, 11.56419312496366, 12.95988335742733, 10.867708941967047, 12.458861157145897, 11.544059300243465, 10.687253126950406, 13.082313634909227, 11.838152342175277, 14.097691766995428, 13.961637434115492, 11.689484970293618, 10.937194829755379, 12.69353633992879, 12.390862394055608, 14.397445471351524, 11.853155260231535, 10.607530344722633, 14.998522725273691, 14.907092137882994, 10.48337968828206, 11.300184005503326, 14.177187152218085, 10.76377452255872, 14.450522009306276, 10.539957340643925, 13.680009173405791, 10.365472942767123, 11.423711363441885, 14.544436447893418, 12.886999397408761, 10.202164147876111, 10.302633492321007, 10.810695126992872, 10.0234329521694, 13.35425546521188, 14.529879023513448, 13.20397101525517, 12.361671530663985, 13.650972598214565, 13.804457759965677, 14.435732835088833, 12.384417930725457, 12.39563348718665, 12.778837891926663, 13.93327547669734, 11.269084589724043, 10.901531820184623, 12.176081616989567, 14.083750821987547, 11.216561848847503, 13.405974291465132, 10.958718707180052, 12.404176847001551, 14.75326262855505, 11.39897860424489, 13.944339805948523, 13.159862738873304, 11.827332117448535, 12.500599309245048, 14.397951114374703, 10.894846775750155, 13.313158576394933, 14.010484847475016, 14.765700693861985, 12.845155641892227, 11.077083915359035, 13.368032786367884, 13.789547408114576, 14.606488572615463, 14.943391918646878, 11.74571942626476, 14.607594862117427, 11.417470654438656, 12.60200984790266, 11.429280805988384, 14.195130526049333, 11.188456195341073, 12.365822322914402, 13.315781949951774, 11.626754195789978, 11.416868614234827, 14.089061294234865, 10.226589029591683, 13.642122118408599, 12.181412590777175, 13.937250625342772, 11.762132189117406, 13.20067812253738, 14.132245317679747, 13.532368701649098, 14.587867404661504, 12.559918564246919, 12.655797127038486, 11.688811288967148, 11.16783781997792, 14.885462684574856, 10.281236255432832, 14.664187272653365, 11.13547466116242, 14.020063677562053, 10.57214728967046, 13.432229579065401, 13.380827167406519, 13.915560400395421, 13.914808690835732, 12.084192928418389, 11.779920494823765, 10.895142327601958, 10.11987393817824, 11.671872154063701, 14.483188588561825, 11.565702480125882, 14.293082522141844, 10.745279119273093, 14.77782264324562, 10.06771312761101, 13.013259897032535, 13.742831296402914, 14.675602389313852, 11.074076149452472, 11.597127567641841, 10.830504922740968, 14.229524317807083, 13.020037271780485, 12.440689906049148, 14.838561070814052, 10.339617900300858, 11.243676624155169, 10.13020665847682, 10.33784285403142, 13.915721496822446, 14.904268502839699, 13.290745812534826, 10.872272593349473, 11.668236538685308, 13.372788358547082, 11.944420104301102, 12.191045459184176, 11.97357247642692, 12.65892297131819, 10.303342510635703, 12.554990136585294, 10.180141294228392, 14.738969069550986, 12.054711672244192, 14.023170630585096, 10.04274859970526, 10.525129987782469, 10.626837954098182, 10.55736860096547, 11.488529515610248, 14.547596730288996, 14.984024918445458, 12.334121525620564, 14.757358849750954, 14.400788749032495, 13.359383447786172, 12.698485647055875, 13.310365233359986, 13.849627093635469, 11.805020571945407, 11.117799191264872, 13.461631712142399, 11.269678950624828, 14.730153921324973, 12.742172570252347, 13.003659559924087, 11.402223123494558, 12.029845897201536, 12.009300069321387, 13.770558371162945, 13.59946078525092, 10.11510421765185, 14.594640052985994, 13.261296477355875, 11.66602461777483, 11.009502084789602, 14.87161916397348, 13.88803056737132, 11.768489825330008, 11.47673774286327, 10.397193655086804, 11.267649045684372, 11.559559759131838, 12.813585750256813, 10.670590934965764, 14.96603846393581, 14.003531161668855, 10.665011991898078, 12.139383238021871, 13.837108199302858, 13.249613246100157, 13.27644289930474, 13.647129808746543, 10.224784191576804, 11.538035568923432, 10.032401948090985, 11.809819688619035, 14.543004010915967, 14.73185595702893, 14.280042960641449, 11.345163914605882, 14.703265890722463, 12.977426898003813, 13.166365645565758, 11.97826712449449, 11.907815390001677, 14.962746986466536, 13.083598759899509, 11.377699164660742, 14.013066657498939, 13.382765376468578, 12.626369058177026, 12.034054680100693, 14.182406940356508, 13.415929076305073, 14.590051922050819, 14.087953831791769, 11.086422250445334, 10.542079544428734, 11.396345422410539, 11.188305044186777, 14.482993442171217, 12.012586098636742, 10.9127211813367, 13.129836716559005, 11.82138369188316, 12.828468828434083, 10.10863723464715, 13.008460283287338, 13.45884730424396, 12.82703392946673, 14.485379055813855, 13.128561336830206, 12.15806539877828, 13.864704179975966, 14.262735990663483, 14.595347798479967, 14.384893006954647, 11.023844233818528, 10.275267766137395, 11.19174326644704, 14.050304829377694, 13.076192088979885, 13.715948552635655, 14.086090499787046, 13.075968835103811, 12.087663472104754, 10.822272327129387, 11.260274167498533, 12.171737643668834, 11.562534873428127, 11.460672074364036, 14.309353539016389, 10.228552480179788, 14.689219626165027, 11.537117384769635, 14.790581689379742, 14.356310857031058, 11.079211010161643, 12.245308713985919, 10.407622102858062, 11.694960296321181, 11.823225460730457, 14.366811472602157, 11.732193557579613, 11.323647439376272, 10.742443973161919, 11.750589905180803, 14.363091480432086, 13.240738083089587, 11.083515768944327, 13.0097314070633, 12.231369555343417, 14.719670570354248, 14.174528859657126, 14.553435120427537, 10.574635113573288, 11.284647168742069, 11.165624294612615, 10.902803125247988, 12.783138522382272, 10.641346236119013, 10.430430511404312, 14.487931992715883, 10.76532880281466, 12.66441721049597, 12.301482070196045, 14.388247458478777, 13.018372650704908, 13.25556627937814, 10.809942864834651, 10.023991623451797, 10.926453455467598, 11.982569775881487, 10.174327579010422, 13.528439366685054, 10.38262512036002, 13.975764583271541, 10.28638330959038, 12.566270571568543, 11.539485421394026, 13.987129666240634, 10.935682129495959, 13.95361793182385, 12.174838735075344, 10.134597479043759, 14.27243261804076, 10.348293063368017, 10.725809809835898, 11.905409412686751, 11.622652489144583, 13.242054435256028, 10.522549638196411, 11.903722563387554, 12.17204176205006, 12.24906966413997, 14.250681508748313, 11.69830550545959, 14.69443017848223, 12.513559521493153, 12.590822857550345, 10.111558464464924, 12.382715468363262, 11.002553774732544, 14.453652047647287, 13.359431595282551, 11.679934549306877, 14.257846778324833, 11.528230480374573, 12.94828793727792, 13.286512275758085, 14.982361531026093, 14.430131709224774, 11.055595973784802, 13.845175593472673, 10.157638294829741, 12.916186653742283, 11.034405057627733, 12.362504686424556, 14.854966087443358, 13.631900582578748, 10.144095191128708, 14.196775206434964, 12.332828348846505, 13.931526589603882, 10.142616240099589, 12.300689162991125, 14.577998084857224, 11.074689471003676, 10.947410355666001, 10.38783779153606, 12.077030865429489, 13.599832453460952, 14.714050085037634, 11.557247861648051, 12.271012973421922, 12.862942097228418, 11.244136725723408, 13.452338994236328, 13.413379719621183, 10.356996974791835, 10.61991746810327, 10.13148389409345, 11.975505647654217, 10.671579977585994, 14.161951402035267, 14.117650908745379, 11.320933498657313, 13.055280287512842, 14.06349541841222, 14.211773849984645, 14.841489541484659, 12.012704440654653, 11.444287408052988, 13.311210717196186, 11.721519679944508, 10.588646726980485, 13.256168787787262, 14.5566030835774, 14.490850162685465, 12.079456671098551, 14.081827224244812, 14.827045963740119, 12.333128755478779, 13.122948567660845, 14.84546346927268, 12.01216680454124, 10.672912596992775, 10.138471244478184, 12.66100354874633, 14.0033288271074, 12.715995481881407, 13.990559568819137, 14.347348497360823, 13.60305676705426, 12.437932622700226, 10.32263210356595, 10.66205078371192, 13.718460278989223, 12.563384552087774, 13.164057346675913, 14.872378894489987, 14.883738000556164, 14.014411562432333, 12.591510032869213, 11.886529984782118, 13.936366840071958, 10.295249162106776, 11.596236255295864, 13.11450106165698, 12.555163091937713, 11.924332663569382, 14.735917465485937, 14.431763752657076, 12.091905576139087, 11.708328685352296, 10.682654479845292, 10.832055827642401, 11.745441305516817, 13.142718481295919, 11.245514670145765, 12.792735848920639, 10.419955338688133, 12.08960565931149, 10.052203578106276, 13.623040696226997, 14.426383747008202, 14.815364247430495, 10.610292838341774, 14.427882177199844, 13.772804035732495, 12.863100523400254, 14.18768012944092, 11.147446321690502, 10.381738143034328, 11.282046933061983, 14.955512086892213, 14.686956574985977, 12.335663709981866, 11.166227036886173, 14.593478005616724]\n"
          ]
        }
      ]
    },
    {
      "cell_type": "code",
      "source": [
        "mu=np.mean(G)\n",
        "print(mu)"
      ],
      "metadata": {
        "id": "w3_FIXXoHVdo"
      },
      "execution_count": null,
      "outputs": []
    },
    {
      "cell_type": "code",
      "source": [
        "sigma2=np.var(G)\n",
        "print(sigma2)"
      ],
      "metadata": {
        "id": "upla-qmvHyqQ",
        "outputId": "60dcb7de-a2ee-477e-aabe-1a9b58c32070",
        "colab": {
          "base_uri": "https://localhost:8080/"
        }
      },
      "execution_count": null,
      "outputs": [
        {
          "output_type": "stream",
          "name": "stdout",
          "text": [
            "2.154214117963167\n"
          ]
        }
      ]
    },
    {
      "cell_type": "code",
      "source": [
        "plt.hist(G, bins=50)"
      ],
      "metadata": {
        "id": "a_LfVkMSIVwi"
      },
      "execution_count": null,
      "outputs": []
    },
    {
      "cell_type": "code",
      "source": [
        "plt.plot(G) #grafica la secuencia de números aleatorios"
      ],
      "metadata": {
        "id": "VauSumOGJSZk"
      },
      "execution_count": null,
      "outputs": []
    },
    {
      "cell_type": "code",
      "source": [
        "def cdf(muestra):\n",
        "  m=len(muestra)\n",
        "  x=np.sort(muestra)\n",
        "  y=np.arange(0,m)/m\n",
        "  return x,y"
      ],
      "metadata": {
        "id": "e4zC4iCGTY-i"
      },
      "execution_count": null,
      "outputs": []
    },
    {
      "cell_type": "code",
      "source": [
        "X,Y = cdf(G)"
      ],
      "metadata": {
        "id": "HnG-Rie9Tsos"
      },
      "execution_count": null,
      "outputs": []
    },
    {
      "cell_type": "code",
      "source": [
        "plt.step(X,Y)"
      ],
      "metadata": {
        "id": "OHcsqB2GTv_d"
      },
      "execution_count": null,
      "outputs": []
    },
    {
      "cell_type": "code",
      "source": [],
      "metadata": {
        "id": "nz29AuDzOfPp"
      },
      "execution_count": null,
      "outputs": []
    },
    {
      "cell_type": "code",
      "source": [
        "def hola(x_0=-2, gamma=1, n=20):\n",
        "    lista = []\n",
        "    for i in range(n):\n",
        "        u=random.random()\n",
        "        X=gamma*np.tan(np.pi*(u-(1/2)))+x_0\n",
        "        lista.append(X)\n",
        "    return lista"
      ],
      "metadata": {
        "id": "w4RfRKYTM9UY"
      },
      "execution_count": null,
      "outputs": []
    },
    {
      "cell_type": "code",
      "source": [
        "hola()"
      ],
      "metadata": {
        "id": "H4T5xZKwN8eE"
      },
      "execution_count": null,
      "outputs": []
    },
    {
      "cell_type": "code",
      "source": [
        "G=hola(-2, 1,1000)\n",
        "print(G)"
      ],
      "metadata": {
        "id": "cUvsYy1EN-h7"
      },
      "execution_count": null,
      "outputs": []
    },
    {
      "cell_type": "code",
      "source": [
        "mu=np.mean(G)\n",
        "print(mu)"
      ],
      "metadata": {
        "id": "bkanBF65N-_C",
        "outputId": "72086e44-d51a-4851-ccfa-251def94e563",
        "colab": {
          "base_uri": "https://localhost:8080/"
        }
      },
      "execution_count": null,
      "outputs": [
        {
          "output_type": "stream",
          "name": "stdout",
          "text": [
            "-0.8970580077127076\n"
          ]
        }
      ]
    },
    {
      "cell_type": "code",
      "source": [
        "sigma2=np.var(G)\n",
        "print(sigma2)"
      ],
      "metadata": {
        "id": "1NLatpt6OJfm",
        "outputId": "41c5ae24-8cd1-4c6f-9d82-8a95c7ce9d1d",
        "colab": {
          "base_uri": "https://localhost:8080/"
        }
      },
      "execution_count": null,
      "outputs": [
        {
          "output_type": "stream",
          "name": "stdout",
          "text": [
            "1671.3320517147015\n"
          ]
        }
      ]
    },
    {
      "cell_type": "code",
      "source": [
        "plt.hist(G)"
      ],
      "metadata": {
        "id": "ZNpPTj0zOImX",
        "outputId": "1d7e1d8a-5034-4fb8-b2a4-f7d22bcf9124",
        "colab": {
          "base_uri": "https://localhost:8080/",
          "height": 241
        }
      },
      "execution_count": null,
      "outputs": [
        {
          "output_type": "display_data",
          "data": {
            "text/plain": [
              "<Figure size 640x480 with 1 Axes>"
            ],
            "image/png": "[encoded data removed]"
          },
          "metadata": {}
        }
      ]
    },
    {
      "cell_type": "code",
      "source": [
        "plt.plot(G)"
      ],
      "metadata": {
        "id": "knSDgfVEOUTB",
        "outputId": "349dd3ee-ac9b-4ddb-ed34-69e667ac4c4c",
        "colab": {
          "base_uri": "https://localhost:8080/",
          "height": 241
        }
      },
      "execution_count": null,
      "outputs": [
        {
          "output_type": "display_data",
          "data": {
            "text/plain": [
              "<Figure size 640x480 with 1 Axes>"
            ],
            "image/png": "[encoded data removed]"
          },
          "metadata": {}
        }
      ]
    },
    {
      "cell_type": "code",
      "source": [
        "def cdf(muestra):\n",
        "  m=len(muestra)\n",
        "  x=np.sort(muestra)\n",
        "  y=np.arange(0,m)/m\n",
        "  return x,y"
      ],
      "metadata": {
        "id": "HWj5ld_dOYfV"
      },
      "execution_count": null,
      "outputs": []
    },
    {
      "cell_type": "code",
      "source": [
        "X,Y = cdf(G)"
      ],
      "metadata": {
        "id": "2xMIzF_lOZcv"
      },
      "execution_count": null,
      "outputs": []
    },
    {
      "cell_type": "code",
      "source": [
        "plt.step(X,Y)"
      ],
      "metadata": {
        "id": "-mDTBtKxOaCo",
        "outputId": "aa022145-b3e1-4a4e-e2bf-0176c5feb2e1",
        "colab": {
          "base_uri": "https://localhost:8080/",
          "height": 247
        }
      },
      "execution_count": null,
      "outputs": [
        {
          "output_type": "display_data",
          "data": {
            "text/plain": [
              "<Figure size 640x480 with 1 Axes>"
            ],
            "image/png": "[encoded data removed]"
          },
          "metadata": {}
        }
      ]
    },
    {
      "cell_type": "code",
      "execution_count": null,
      "metadata": {
        "id": "nIze5BoxElEa"
      },
      "outputs": [],
      "source": [
        "#Generamos una lista de números aleatorios que siguen la distribución exponencial.\n",
        "\n",
        "#nums = []\n",
        "n=100\n",
        "lamb = 2                                    # Párametro de la función exponencial\n",
        "L = -1.0/lamb #inversa de lambda\n",
        "\n",
        "for i in range(n):\n",
        "    u=random.random()\n",
        "    print(L*np.log(u))\n",
        "    #temp = L*np.log(random.random())            # Pasos 1 y 2\n",
        "    #nums.append(temp)\n",
        "\n",
        "#plt.plot(nums)\n",
        "#plt.show()"
      ]
    },
    {
      "cell_type": "code",
      "execution_count": null,
      "metadata": {
        "id": "peAbiB-uElEa",
        "colab": {
          "base_uri": "https://localhost:8080/",
          "height": 248
        },
        "outputId": "f2e5c492-89e5-4da9-f290-1802fa033d0c"
      },
      "outputs": [
        {
          "output_type": "display_data",
          "data": {
            "text/plain": [
              "<Figure size 640x480 with 1 Axes>"
            ],
            "image/png": "[encoded data removed]"
          },
          "metadata": {}
        }
      ],
      "source": [
        "nums = []\n",
        "lamb = 0.01                                     # Párametro de la función exponencial\n",
        "L = -1.0/lamb #inversa de lambda\n",
        "\n",
        "for i in range(1000):\n",
        "    temp = L*np.log(random.random())\n",
        "    nums.append(temp)\n",
        "\n",
        "plt.hist(nums, bins = 100)\n",
        "plt.show()"
      ]
    },
    {
      "cell_type": "markdown",
      "metadata": {
        "id": "Rqwlpr2IElEa"
      },
      "source": [
        "### Lo podemos comparar con la salida de la función expovariate()"
      ]
    },
    {
      "cell_type": "code",
      "execution_count": null,
      "metadata": {
        "id": "zwYhK53pElEb"
      },
      "outputs": [],
      "source": [
        "# Construimos el histograma de una muestra de 10000 números aleatorios normalmente distribuidos\n",
        "\n",
        "nums = []\n",
        "lamb = 0.01\n",
        "\n",
        "\n",
        "for i in range(1000):\n",
        "    temp = random.expovariate(lamb)\n",
        "    nums.append(temp)\n",
        "\n",
        "plt.hist(nums, bins = 100)\n",
        "plt.show()"
      ]
    },
    {
      "cell_type": "markdown",
      "metadata": {
        "id": "EM4PTY29ElEc"
      },
      "source": [
        "Que se puede obtener de esta otra manera:"
      ]
    },
    {
      "cell_type": "code",
      "execution_count": null,
      "metadata": {
        "id": "tEvEw89JElEc"
      },
      "outputs": [],
      "source": [
        "#plt.figure(figsize = (8, 4))\n",
        "plt.hist([random.expovariate(100) for i in range(10000)], bins = 200)\n",
        "plt.show()"
      ]
    },
    {
      "cell_type": "markdown",
      "metadata": {
        "id": "g8yU1IIeElEd"
      },
      "source": [
        "Y podemos usar el módulo statistics para obtener algunos parámetros del histograma."
      ]
    },
    {
      "cell_type": "code",
      "execution_count": null,
      "metadata": {
        "id": "0djUn2ufElEd"
      },
      "outputs": [],
      "source": [
        "#plt.figure(figsize = (8, 4))\n",
        "sample = [random.expovariate(0.01) for i in range(1000)]\n",
        "plt.hist(sample, bins = 200)\n",
        "plt.show()\n",
        "\n",
        "print(f'Media: {mean(sample):.5f}.  Mediana: {median(sample):.5f}.')\n",
        "print(f'Varianza: {variance(sample):.5f}.  Desviación estándar: {stdev(sample):.5f}.')"
      ]
    },
    {
      "cell_type": "markdown",
      "metadata": {
        "id": "g2GIZfVAElEd"
      },
      "source": [
        "## Ejercicio (03032022):\n",
        "\n",
        "Simular dos distribuciones de probabilidad (no la normal, no la exponencial), por el método que prefieran."
      ]
    },
    {
      "cell_type": "markdown",
      "source": [
        "### La distribución Weibull\n",
        "\n",
        "Función de densidad:\n",
        "    \n",
        "$f_X (x) = \\lambda \\alpha (\\lambda x) e^{(-\\lambda x)^\\alpha}$  para $x \\geq 0$, $\\lambda, \\alpha \\geq 0$\n",
        "\n",
        "y función de distribución:\n",
        "\n",
        "$F_X (x) = 1 - e^{(-\\lambda x)^\\alpha}$  para $x \\geq 0$"
      ],
      "metadata": {
        "id": "UzIqynNhRlbZ"
      }
    },
    {
      "cell_type": "markdown",
      "source": [
        "Puede ser simulada por el método de inversión mediante el siguiente algoritmo:\n",
        "\n",
        "0. Hacer $L = \\frac{1}{\\lambda}$\n",
        "1. Generar $U \\sim U(0, 1)$\n",
        "2. Devolver $X = L \\cdot e^{(Ln(-Ln(U))/\\alpha}$"
      ],
      "metadata": {
        "id": "7bruaklrTM4x"
      }
    },
    {
      "cell_type": "code",
      "execution_count": null,
      "metadata": {
        "id": "6uhZ0B_eElEe"
      },
      "outputs": [],
      "source": [
        "import random                                   # importamos el módulo random\n",
        "import numpy as np                              # importamos numpy con un alias (np)\n",
        "import matplotlib.pyplot as plt                 # ídem\n",
        "#from random import expovariate, gauss\n",
        "from statistics import mean, median, variance, stdev      # exportamos funciones especificas de statistics"
      ]
    },
    {
      "cell_type": "code",
      "source": [
        "#Generamos una lista de números aleatorios que siguen la distribución Weibull.\n",
        "\n",
        "nums = []\n",
        "alpha = 100\n",
        "lamb = 50                                 # Párametro de la función exponencial\n",
        "L = -1.0/lamb #inversa de lambda\n",
        "\n",
        "for i in range(100):\n",
        "    temp = L*np.log(random.random())            # Pasos 1 y 2\n",
        "    nums.append(temp)\n",
        "\n",
        "plt.plot(nums)\n",
        "plt.show()"
      ],
      "metadata": {
        "id": "OTR9tW0oT2LI"
      },
      "execution_count": null,
      "outputs": []
    }
  ],
  "metadata": {
    "kernelspec": {
      "display_name": "Python 3",
      "language": "python",
      "name": "python3"
    },
    "language_info": {
      "codemirror_mode": {
        "name": "ipython",
        "version": 3
      },
      "file_extension": ".py",
      "mimetype": "text/x-python",
      "name": "python",
      "nbconvert_exporter": "python",
      "pygments_lexer": "ipython3",
      "version": "3.7.3"
    },
    "colab": {
      "provenance": [],
      "include_colab_link": true
    }
  },
  "nbformat": 4,
  "nbformat_minor": 0
}