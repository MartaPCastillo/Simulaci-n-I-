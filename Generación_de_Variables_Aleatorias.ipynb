{
  "cells": [
    {
      "cell_type": "markdown",
      "metadata": {
        "id": "view-in-github",
        "colab_type": "text"
      },
      "source": [
        "<a href=\"https://colab.research.google.com/github/MartaPCastillo/Simulacion-I/blob/main/Generaci%C3%B3n_de_Variables_Aleatorias.ipynb\" target=\"_parent\"><img src=\"https://colab.research.google.com/assets/colab-badge.svg\" alt=\"Open In Colab\"/></a>"
      ]
    },
    {
      "cell_type": "markdown",
      "metadata": {
        "id": "KRkmp24lElEE"
      },
      "source": [
        "# Uso de los números aleatorios"
      ]
    },
    {
      "cell_type": "markdown",
      "metadata": {
        "id": "F9e1d_2WElEL"
      },
      "source": [
        "## 1. Introducción al Módulo random"
      ]
    },
    {
      "cell_type": "markdown",
      "metadata": {
        "id": "k1sC4rTBElEM"
      },
      "source": [
        "El módulo random de la librería estándar de Python incluye un conjunto de funciones que permiten obtener de distintos modos\n",
        "números pseudoaleatorios a través del algoritmo [Mersenne Twister](https://es.wikipedia.org/wiki/Mersenne_twister)."
      ]
    },
    {
      "cell_type": "code",
      "execution_count": null,
      "metadata": {
        "id": "egyxofoJElEN"
      },
      "outputs": [],
      "source": [
        "#importamos el módulo que vamos a usar\n",
        "\n",
        "import random\n",
        "import numpy as np\n",
        "import matplotlib.pyplot as plt"
      ]
    },
    {
      "cell_type": "markdown",
      "metadata": {
        "id": "kPVpv1_jElEQ"
      },
      "source": [
        "Las funciones de los módulos se invocan con el formato: módulo.función().\n",
        "\n",
        "En el módulo random existe la función random, que devuelve un número aleatorio que sigue una distribución uniforme.\n",
        "\n",
        "Así, para obtener $x \\sim U(0,1)$:"
      ]
    },
    {
      "cell_type": "code",
      "execution_count": null,
      "metadata": {
        "colab": {
          "base_uri": "https://localhost:8080/"
        },
        "id": "JDonObpOElER",
        "outputId": "e34a6578-6d45-48f2-ec68-b92b6678bea9"
      },
      "outputs": [
        {
          "output_type": "stream",
          "name": "stdout",
          "text": [
            "0.5103180583601323\n"
          ]
        }
      ],
      "source": [
        "x = random.random()  #Cada ejecución dará un número distinto.\n",
        "print(x)"
      ]
    },
    {
      "cell_type": "markdown",
      "metadata": {
        "id": "9kvmWtdFElES"
      },
      "source": [
        "Se puede usar algún bucle si se desea generar una secuencia $x_i \\sim U(0,1)$ con $i = 1, 2, 3,..., N$:"
      ]
    },
    {
      "cell_type": "code",
      "execution_count": null,
      "metadata": {
        "colab": {
          "base_uri": "https://localhost:8080/"
        },
        "id": "gjj4L3lbElES",
        "outputId": "e623e75b-61f9-4133-be31-7045aa2a4343"
      },
      "outputs": [
        {
          "output_type": "stream",
          "name": "stdout",
          "text": [
            "0.4043 0.7947 0.7447 0.9498 0.7054 0.8994 0.1396 0.2876 0.7321 0.9109 \n"
          ]
        }
      ],
      "source": [
        "for i in range(10):\n",
        "    print('%05.4f' % random.random(), end=' ')  #El código en rojo indica la cantidad de dígitos y de decimales a mostrar.\n",
        "print()"
      ]
    },
    {
      "cell_type": "code",
      "execution_count": null,
      "metadata": {
        "colab": {
          "base_uri": "https://localhost:8080/"
        },
        "id": "1tIsf3GDElES",
        "outputId": "636515f0-f5e2-46af-de05-7521c36b66ab"
      },
      "outputs": [
        {
          "output_type": "stream",
          "name": "stdout",
          "text": [
            "0.5984\n",
            "0.1678\n",
            "0.0779\n",
            "0.6182\n",
            "0.1743\n",
            "0.7752\n",
            "0.2832\n",
            "0.5033\n",
            "0.3816\n",
            "0.9246\n",
            "\n"
          ]
        }
      ],
      "source": [
        "for i in range(10):\n",
        "    print('%05.4f' % random.random(), sep=\"\\t\")\n",
        "print()"
      ]
    },
    {
      "cell_type": "markdown",
      "metadata": {
        "id": "KW6YO1QnElES"
      },
      "source": [
        "La función seed() fija el valor de la semilla en la generación de la secuencia de números aleatorios.\n",
        "Esto es útil cuando se quieren utilizar los mismos datos de entrada en una simulación."
      ]
    },
    {
      "cell_type": "code",
      "execution_count": null,
      "metadata": {
        "colab": {
          "base_uri": "https://localhost:8080/"
        },
        "id": "J6V5k_tTElET",
        "outputId": "3234a464-4a2f-4efa-f5f8-ee3ebd645031"
      },
      "outputs": [
        {
          "output_type": "stream",
          "name": "stdout",
          "text": [
            "0.1344 0.8474 0.7638 0.2551 0.4954 0.4495 0.6516 0.7887 0.0939 0.0283 0.8358 0.4328 0.7623 0.0021 0.4454 0.7215 0.2288 0.9453 0.9014 0.0306 \n"
          ]
        }
      ],
      "source": [
        "random.seed(1) #primero fijamos la semilla\n",
        "\n",
        "for i in range(20):\n",
        "    print('%05.4f' % random.random(), end=' ')\n",
        "print()"
      ]
    },
    {
      "cell_type": "markdown",
      "metadata": {
        "id": "Bx04lqndElET"
      },
      "source": [
        "La función uniform() devuelve un número float incluido entre los valores indicados."
      ]
    },
    {
      "cell_type": "code",
      "execution_count": null,
      "metadata": {
        "colab": {
          "base_uri": "https://localhost:8080/"
        },
        "id": "jiBb5XXTElET",
        "outputId": "8b0a96d5-ef63-4667-d7a8-736a79c95bba"
      },
      "outputs": [
        {
          "output_type": "stream",
          "name": "stdout",
          "text": [
            "2.2468 27.5292 47.0183 19.6790 11.6134 21.6837 2.4230 11.8629 22.4565 25.2948 \n"
          ]
        }
      ],
      "source": [
        "for i in range(10):\n",
        "    print('%5.4f' %random.uniform(1, 50), end=' ')\n",
        "print()"
      ]
    },
    {
      "cell_type": "markdown",
      "metadata": {
        "id": "ZsF8kag6ElEU"
      },
      "source": [
        "La función randint() devuelve un número entero incluido entre los valores indicados.\n",
        "Los valores de los límites inferior y superior también pueden aparecer entre los valores devueltos."
      ]
    },
    {
      "cell_type": "code",
      "execution_count": null,
      "metadata": {
        "colab": {
          "base_uri": "https://localhost:8080/"
        },
        "id": "CrqyG-NWElEU",
        "outputId": "575c9464-a50c-4025-c9d4-34585b246793"
      },
      "outputs": [
        {
          "output_type": "stream",
          "name": "stdout",
          "text": [
            "-41 -12 -41 73 -44 94 17 -26 -95 6 42 64 -75 -53 61 85 -25 -70 90 -15 \n"
          ]
        }
      ],
      "source": [
        "for i in range(20):\n",
        "    print(random.randint(-100, 100), end=' ')\n",
        "print()"
      ]
    },
    {
      "cell_type": "markdown",
      "metadata": {
        "id": "ArFs47H5ElEU"
      },
      "source": [
        "La función randrange() devuelve enteros que van desde un valor inicial a otro final\n",
        "separados entre sí un número de valores determinados."
      ]
    },
    {
      "cell_type": "code",
      "execution_count": null,
      "metadata": {
        "colab": {
          "base_uri": "https://localhost:8080/"
        },
        "id": "wh3nMKJQElEV",
        "outputId": "71ea10ee-e105-4b18-d421-5a7fbb96a3d9"
      },
      "outputs": [
        {
          "output_type": "stream",
          "name": "stdout",
          "text": [
            "15 15 12 9 12 18 15 3 6 6 12 9 18 12 9 12 18 0 9 3 \n"
          ]
        }
      ],
      "source": [
        "for i in range(20):\n",
        "    print(random.randrange(0, 20, 3), end=' ')\n",
        "print()"
      ]
    },
    {
      "cell_type": "code",
      "execution_count": null,
      "metadata": {
        "id": "0F0dJ1pcElEV"
      },
      "outputs": [],
      "source": []
    },
    {
      "cell_type": "markdown",
      "metadata": {
        "id": "jMwqGZh7ElEV"
      },
      "source": [
        "La función random.choice() se utiliza para seleccionar elementos al azar de una lista."
      ]
    },
    {
      "cell_type": "code",
      "execution_count": null,
      "metadata": {
        "id": "8iS_DRmMElEV"
      },
      "outputs": [],
      "source": [
        "Lista = ['Rome','New York','London','Berlin','Moskov', 'Los Angeles','Paris','Madrid','Tokio','Toronto']"
      ]
    },
    {
      "cell_type": "code",
      "execution_count": null,
      "metadata": {
        "colab": {
          "base_uri": "https://localhost:8080/"
        },
        "id": "u0Tqyod0ElEW",
        "outputId": "a3ee741c-99f0-45c9-f7b3-1db186ca98e0"
      },
      "outputs": [
        {
          "output_type": "stream",
          "name": "stdout",
          "text": [
            "La ciudad elegida es -  Paris\n"
          ]
        }
      ],
      "source": [
        "Ciudad = random.choice(Lista)\n",
        "print (\"La ciudad elegida es - \", Ciudad)"
      ]
    },
    {
      "cell_type": "code",
      "execution_count": null,
      "metadata": {
        "colab": {
          "base_uri": "https://localhost:8080/"
        },
        "id": "U5TL9EwdElEW",
        "outputId": "ee42e61d-cc34-4a74-bc98-9551e1658f03"
      },
      "outputs": [
        {
          "output_type": "stream",
          "name": "stdout",
          "text": [
            "La ciudad elegida es -  Paris\n",
            "La ciudad elegida es -  London\n",
            "La ciudad elegida es -  Los Angeles\n",
            "La ciudad elegida es -  Tokio\n",
            "La ciudad elegida es -  Los Angeles\n",
            "La ciudad elegida es -  New York\n",
            "La ciudad elegida es -  Madrid\n",
            "La ciudad elegida es -  Tokio\n",
            "La ciudad elegida es -  New York\n",
            "La ciudad elegida es -  London\n"
          ]
        }
      ],
      "source": [
        "for i in range(10):\n",
        "    Ciudad = random.choice(Lista)\n",
        "    print (\"La ciudad elegida es - \", Ciudad)"
      ]
    },
    {
      "cell_type": "markdown",
      "metadata": {
        "id": "hu-cGLQHElEW"
      },
      "source": [
        "La función sample() devuelve de una lista de elementos un determinado número de elementos diferentes elegidos al azar."
      ]
    },
    {
      "cell_type": "code",
      "execution_count": null,
      "metadata": {
        "colab": {
          "base_uri": "https://localhost:8080/"
        },
        "id": "ijzh7-2hElEX",
        "outputId": "e357fad9-4fce-4252-f130-597487366748"
      },
      "outputs": [
        {
          "output_type": "stream",
          "name": "stdout",
          "text": [
            "['Tokio', 'Paris', 'Los Angeles', 'Berlin', 'Madrid', 'Rome', 'Toronto', 'Moskov', 'New York']\n"
          ]
        }
      ],
      "source": [
        "print(random.sample(Lista, 9))"
      ]
    },
    {
      "cell_type": "markdown",
      "metadata": {
        "id": "As593QawElEX"
      },
      "source": [
        "La función shuffle() 'mezcla' o cambia aleatoriamente el orden de los elementos de una lista antes de realizar la selección de alguno de ellos."
      ]
    },
    {
      "cell_type": "code",
      "execution_count": null,
      "metadata": {
        "colab": {
          "base_uri": "https://localhost:8080/"
        },
        "id": "qlHcPRc0ElEX",
        "outputId": "85c52d57-d331-4d41-f6b9-e13755d7761a"
      },
      "outputs": [
        {
          "output_type": "stream",
          "name": "stdout",
          "text": [
            "mezcla1 ['Los Angeles', 'Madrid', 'Berlin', 'Rome', 'Tokio', 'Moskov', 'New York', 'London', 'Paris', 'Toronto']\n"
          ]
        }
      ],
      "source": [
        "random.shuffle(Lista)\n",
        "print('mezcla1', Lista)"
      ]
    },
    {
      "cell_type": "markdown",
      "metadata": {
        "id": "a6lHY8MeElEX"
      },
      "source": [
        "## Ejercicio:\n",
        "\n",
        "1. Elegir al azar una ciudad de la Lista despues de hacer una mezcla.\n",
        "2. Elegir al azar tres ciudades después de una mezcla."
      ]
    },
    {
      "cell_type": "code",
      "source": [
        "#Elegir al azar una ciudad de la Lista despues de hacer una mezcla.\n",
        "random.shuffle(Lista)\n",
        "Ciudad = random.choice(Lista)\n",
        "print (\"La ciudad elegida es: \", Ciudad)"
      ],
      "metadata": {
        "colab": {
          "base_uri": "https://localhost:8080/"
        },
        "id": "LcUXkLDFFH60",
        "outputId": "95d75d78-89ff-427b-c9b3-94a6b92513dc"
      },
      "execution_count": null,
      "outputs": [
        {
          "output_type": "stream",
          "name": "stdout",
          "text": [
            "La ciudad elegida es:  Berlin\n"
          ]
        }
      ]
    },
    {
      "cell_type": "code",
      "source": [
        "random.shuffle(Lista)\n",
        "for i in range(3):\n",
        "    Ciudad = random.choice(Lista)\n",
        "    print (\"La ciudad elegida es - \", Ciudad)"
      ],
      "metadata": {
        "colab": {
          "base_uri": "https://localhost:8080/"
        },
        "id": "pHrCTk20F6Gb",
        "outputId": "090bc823-53f8-4dff-e8ac-1177af1fb770"
      },
      "execution_count": null,
      "outputs": [
        {
          "output_type": "stream",
          "name": "stdout",
          "text": [
            "La ciudad elegida es -  Tokio\n",
            "La ciudad elegida es -  Toronto\n",
            "La ciudad elegida es -  New York\n"
          ]
        }
      ]
    },
    {
      "cell_type": "markdown",
      "metadata": {
        "id": "JKeWlfDOElEY"
      },
      "source": [
        "La función random.gaus() genera una muestra de números aleatorios normalmente distribuidos."
      ]
    },
    {
      "cell_type": "code",
      "execution_count": null,
      "metadata": {
        "id": "A3JVrTYWElEY"
      },
      "outputs": [],
      "source": [
        "#Generamos una lista de 100 números aleatorios normalmente distribuidos.\n",
        "\n",
        "nums = []\n",
        "mu = 100\n",
        "sigma = 50\n",
        "\n",
        "for i in range(100):\n",
        "    temp = random.gauss(mu, sigma)\n",
        "    nums.append(temp)\n",
        "\n",
        "plt.plot(nums)\n",
        "plt.show()"
      ]
    },
    {
      "cell_type": "code",
      "execution_count": null,
      "metadata": {
        "id": "qJlUAd_OElEY"
      },
      "outputs": [],
      "source": [
        "# Construimos el histograma de una muestra de 10000 números aleatorios normalmente distribuidos\n",
        "\n",
        "nums = []\n",
        "mu = 100\n",
        "sigma = 50\n",
        "\n",
        "for i in range(10000):\n",
        "    temp = random.gauss(mu, sigma)\n",
        "    nums.append(temp)\n",
        "\n",
        "plt.hist(nums, bins = 200)\n",
        "plt.show()\n"
      ]
    },
    {
      "cell_type": "markdown",
      "metadata": {
        "id": "jkpPdR2NElEY"
      },
      "source": [
        "## Ejercicio:\n",
        "\n",
        "1. Generar muestras e histograma de las funciones:\n",
        "    triangular(), betavariate(), expovariate(), gammavariate(),\n",
        "    lognormvariate(), normalvariate(), vonmisesvariate(), paretovariate() y weibullvariate()"
      ]
    },
    {
      "cell_type": "code",
      "source": [
        "#Generamos una lista de 100 números aleatorios.\n",
        "#Función Triangular\n",
        "\n",
        "nums = []\n",
        "a = 100\n",
        "b = 500\n",
        "c = 250\n",
        "\n",
        "for i in range(100):\n",
        "    temp = random.triangular(a, b, c)\n",
        "    nums.append(temp)\n",
        "\n",
        "plt.plot(nums)\n",
        "plt.show()"
      ],
      "metadata": {
        "id": "1cTgmRPJGQxL"
      },
      "execution_count": null,
      "outputs": []
    },
    {
      "cell_type": "code",
      "source": [
        "# Construimos el histograma de una muestra de 10000 números aleatorios.\n",
        "#Función Triangular\n",
        "\n",
        "nums = []\n",
        "a = 100\n",
        "b = 500\n",
        "c = 250\n",
        "\n",
        "for i in range(10000):\n",
        "    temp = random.triangular(a,b,c)\n",
        "    nums.append(temp)\n",
        "\n",
        "plt.hist(nums, bins = 200)\n",
        "plt.show()"
      ],
      "metadata": {
        "id": "hin5Cdw5Grv6"
      },
      "execution_count": null,
      "outputs": []
    },
    {
      "cell_type": "code",
      "source": [
        "#Generamos una lista de 100 números aleatorios.\n",
        "#Función Beta\n",
        "\n",
        "nums = []\n",
        "alpha = 100\n",
        "beta = 50\n",
        "\n",
        "for i in range(100):\n",
        "    temp = random.betavariate(alpha, beta)\n",
        "    nums.append(temp)\n",
        "\n",
        "plt.plot(nums)\n",
        "plt.show()"
      ],
      "metadata": {
        "id": "anZjpDz3G2vI"
      },
      "execution_count": null,
      "outputs": []
    },
    {
      "cell_type": "code",
      "source": [
        "# Construimos el histograma de una muestra de 10000 números aleatorios.\n",
        "#Función Beta\n",
        "\n",
        "nums = []\n",
        "alpha = 100\n",
        "beta = 50\n",
        "\n",
        "for i in range(10000):\n",
        "    temp = random.betavariate(alpha, beta)\n",
        "    nums.append(temp)\n",
        "\n",
        "plt.hist(nums, bins = 200)\n",
        "plt.show()"
      ],
      "metadata": {
        "id": "oYPN-dHGJIDA"
      },
      "execution_count": null,
      "outputs": []
    },
    {
      "cell_type": "code",
      "source": [
        "#Generamos una lista de 100 números aleatorios.\n",
        "#Función Exponencial\n",
        "\n",
        "nums = []\n",
        "lamb = 0.01\n",
        "\n",
        "for i in range(100):\n",
        "    temp = random.expovariate(lamb)\n",
        "    nums.append(temp)\n",
        "\n",
        "plt.plot(nums)\n",
        "plt.show()"
      ],
      "metadata": {
        "id": "WapAtdWzG_Ab"
      },
      "execution_count": null,
      "outputs": []
    },
    {
      "cell_type": "code",
      "source": [
        "# Construimos el histograma de una muestra de 10000 números aleatorios normalmente distribuidos\n",
        "#Función Exponencial\n",
        "\n",
        "nums = []\n",
        "lamb = 0.01\n",
        "\n",
        "\n",
        "for i in range(1000):\n",
        "    temp = random.expovariate(lamb)\n",
        "    nums.append(temp)\n",
        "\n",
        "plt.hist(nums, bins = 100)\n",
        "plt.show()"
      ],
      "metadata": {
        "id": "4ap0ucrsHPFz"
      },
      "execution_count": null,
      "outputs": []
    },
    {
      "cell_type": "code",
      "source": [
        "#Generamos una lista de 100 números aleatorios normalmente distribuidos.\n",
        "#Función Gamma\n",
        "\n",
        "nums = []\n",
        "alpha = 10\n",
        "lamb = 0.01\n",
        "\n",
        "for i in range(100):\n",
        "    temp = random.gammavariate(alpha, lamb)\n",
        "    nums.append(temp)\n",
        "\n",
        "plt.plot(nums)\n",
        "plt.show()"
      ],
      "metadata": {
        "id": "svw3vSRsJ8Ko"
      },
      "execution_count": null,
      "outputs": []
    },
    {
      "cell_type": "code",
      "source": [
        "# Construimos el histograma de una muestra de 10000 números aleatorios normalmente distribuidos\n",
        "#Función Gamma\n",
        "\n",
        "nums = []\n",
        "alpha = 10\n",
        "lamb = 0.01\n",
        "\n",
        "for i in range(10000):\n",
        "    temp = random.gammavariate(alpha, lamb)\n",
        "    nums.append(temp)\n",
        "\n",
        "plt.hist(nums, bins = 200)\n",
        "plt.show()\n"
      ],
      "metadata": {
        "id": "uKO5OWklKdyt"
      },
      "execution_count": null,
      "outputs": []
    },
    {
      "cell_type": "code",
      "source": [
        "#Generamos una lista de 100 números aleatorios normalmente distribuidos.\n",
        "#Función LogNormal\n",
        "\n",
        "nums = []\n",
        "mu = 100\n",
        "sigma = 50\n",
        "\n",
        "for i in range(100):\n",
        "    temp = random.lognormvariate(mu,sigma)\n",
        "    nums.append(temp)\n",
        "\n",
        "plt.plot(nums)\n",
        "plt.show()"
      ],
      "metadata": {
        "id": "puxxpmkkK7g8"
      },
      "execution_count": null,
      "outputs": []
    },
    {
      "cell_type": "code",
      "source": [
        "# Construimos el histograma de una muestra de 10000 números aleatorios normalmente distribuidos\n",
        "#Función LogNormal\n",
        "\n",
        "nums = []\n",
        "mu = 100\n",
        "sigma = 50\n",
        "\n",
        "for i in range(10000):\n",
        "    temp = random.lognormvariate(mu,sigma)\n",
        "    nums.append(temp)\n",
        "\n",
        "plt.hist(nums, bins = 200)\n",
        "plt.show()"
      ],
      "metadata": {
        "id": "BbDKvYVtLN7Y"
      },
      "execution_count": null,
      "outputs": []
    },
    {
      "cell_type": "code",
      "source": [
        "#Generamos una lista de 100 números aleatorios normalmente distribuidos.\n",
        "#Función Normal\n",
        "\n",
        "nums = []\n",
        "mu = 100\n",
        "sigma = 50\n",
        "\n",
        "for i in range(100):\n",
        "    temp = random.normalvariate(mu,sigma)\n",
        "    nums.append(temp)\n",
        "\n",
        "plt.plot(nums)\n",
        "plt.show()"
      ],
      "metadata": {
        "id": "lL6BacZFLdhj"
      },
      "execution_count": null,
      "outputs": []
    },
    {
      "cell_type": "code",
      "source": [
        "# Construimos el histograma de una muestra de 10000 números aleatorios normalmente distribuidos\n",
        "#Función Normal\n",
        "\n",
        "nums = []\n",
        "mu = 100\n",
        "sigma = 50\n",
        "\n",
        "for i in range(10000):\n",
        "    temp = random.normalvariate(mu,sigma)\n",
        "    nums.append(temp)\n",
        "\n",
        "plt.hist(nums, bins = 200)\n",
        "plt.show()"
      ],
      "metadata": {
        "id": "_rXKOAfYLmcO"
      },
      "execution_count": null,
      "outputs": []
    },
    {
      "cell_type": "code",
      "source": [
        "#Generamos una lista de 100 números aleatorios normalmente distribuidos.\n",
        "#Función Von Misses\n",
        "\n",
        "nums = []\n",
        "mu = 100\n",
        "k = 4\n",
        "\n",
        "for i in range(100):\n",
        "    temp = random.vonmisesvariate(mu,k)\n",
        "    nums.append(temp)\n",
        "\n",
        "plt.plot(nums)\n",
        "plt.show()"
      ],
      "metadata": {
        "id": "b9BOhJRALq--"
      },
      "execution_count": null,
      "outputs": []
    },
    {
      "cell_type": "code",
      "source": [
        "# Construimos el histograma de una muestra de 10000 números aleatorios normalmente distribuidos\n",
        "#Función Von Misses\n",
        "\n",
        "nums = []\n",
        "mu = 100\n",
        "k = 4\n",
        "\n",
        "for i in range(10000):\n",
        "    temp = random.vonmisesvariate(mu,k)\n",
        "    nums.append(temp)\n",
        "\n",
        "plt.hist(nums, bins = 200)\n",
        "plt.show()"
      ],
      "metadata": {
        "id": "nd_lpZdJMQ8-"
      },
      "execution_count": null,
      "outputs": []
    },
    {
      "cell_type": "code",
      "source": [
        "#Generamos una lista de 100 números aleatorios normalmente distribuidos.\n",
        "#Función Pareto\n",
        "\n",
        "nums = []\n",
        "alpha = 100\n",
        "xm = 50\n",
        "\n",
        "for i in range(100):\n",
        "    temp = random.paretovariate(alpha)\n",
        "    nums.append(temp)\n",
        "\n",
        "plt.plot(nums)\n",
        "plt.show()"
      ],
      "metadata": {
        "id": "cCbv3-EQNbol"
      },
      "execution_count": null,
      "outputs": []
    },
    {
      "cell_type": "code",
      "source": [
        "# Construimos el histograma de una muestra de 10000 números aleatorios normalmente distribuidos\n",
        "#Función Pareto\n",
        "\n",
        "nums = []\n",
        "alpha = 100\n",
        "xm = 50\n",
        "\n",
        "for i in range(10000):\n",
        "    temp = random.paretovariate(alpha)\n",
        "    nums.append(temp)\n",
        "\n",
        "plt.hist(nums, bins = 200)\n",
        "plt.show()"
      ],
      "metadata": {
        "id": "THaGQMEKN3mt"
      },
      "execution_count": null,
      "outputs": []
    },
    {
      "cell_type": "code",
      "source": [
        "#Generamos una lista de 100 números aleatorios normalmente distribuidos.\n",
        "#Función Weibull\n",
        "\n",
        "nums = []\n",
        "alpha = 100\n",
        "lamb = 50\n",
        "\n",
        "for i in range(100):\n",
        "    temp = random.weibullvariate(alpha, lamb)\n",
        "    nums.append(temp)\n",
        "\n",
        "plt.plot(nums)\n",
        "plt.show()"
      ],
      "metadata": {
        "id": "c8LhQU3dOCUs"
      },
      "execution_count": null,
      "outputs": []
    },
    {
      "cell_type": "code",
      "source": [
        "# Construimos el histograma de una muestra de 10000 números aleatorios normalmente distribuidos\n",
        "#Función Weibull\n",
        "\n",
        "nums = []\n",
        "alpha = 100\n",
        "lamb = 50\n",
        "\n",
        "for i in range(10000):\n",
        "    temp = random.weibullvariate(alpha, lamb)\n",
        "    nums.append(temp)\n",
        "\n",
        "plt.hist(nums, bins = 200)\n",
        "plt.show()"
      ],
      "metadata": {
        "id": "jvKnazFjOVRL"
      },
      "execution_count": null,
      "outputs": []
    },
    {
      "cell_type": "markdown",
      "metadata": {
        "id": "U9dqvIHYElEZ"
      },
      "source": [
        "## Podemos simular diversas variables aleatorias a partir de un generador de números aleatorios (uniformemente distribuidos)."
      ]
    },
    {
      "cell_type": "markdown",
      "metadata": {
        "id": "wzXhoxFgElEZ"
      },
      "source": [
        "### La distribución exponencial\n",
        "\n",
        "Función de densidad:\n",
        "    \n",
        "$f_X (x) = \\lambda e^{-\\lambda x}$  para $x \\geq 0$\n",
        "\n",
        "y función de distribución:\n",
        "\n",
        "$F_X (x) = 1 - e^{-\\lambda x}$  para $x \\geq 0$"
      ]
    },
    {
      "cell_type": "markdown",
      "metadata": {
        "id": "ZzmbKUgfElEZ"
      },
      "source": [
        "Puede ser simulada por el método de inversión mediante el siguiente algoritmo:\n",
        "\n",
        "0. Hacer $L = (b-a)$\n",
        "1. Generar $U \\sim U(0, 1)$\n",
        "2. Devolver $X = U \\cdot L + a$"
      ]
    },
    {
      "cell_type": "code",
      "execution_count": 63,
      "metadata": {
        "id": "25Zxr-I1ElEZ"
      },
      "outputs": [],
      "source": [
        "import random                                   # importamos el módulo random\n",
        "import numpy as np                              # importamos numpy con un alias (np)\n",
        "import matplotlib.pyplot as plt                 # ídem\n",
        "#from random import expovariate, gauss\n",
        "from statistics import mean, median, variance, stdev      # exportamos funciones especificas de statistic"
      ]
    },
    {
      "cell_type": "code",
      "source": [
        "def unif(a=10, b=15, n=20):\n",
        "    L = b-a\n",
        "    lista = []\n",
        "    for i in range(n):\n",
        "        u=random.random()\n",
        "        X=L*u + a\n",
        "        lista.append(X)\n",
        "    return lista"
      ],
      "metadata": {
        "id": "XiKCP2McD1sf"
      },
      "execution_count": 64,
      "outputs": []
    },
    {
      "cell_type": "code",
      "source": [
        "unif()"
      ],
      "metadata": {
        "id": "P9xgFvLAFWYo",
        "outputId": "f030249e-1f02-4cc9-fab9-d64977be7f5b",
        "colab": {
          "base_uri": "https://localhost:8080/"
        }
      },
      "execution_count": 65,
      "outputs": [
        {
          "output_type": "execute_result",
          "data": {
            "text/plain": [
              "[10.660015902192889,\n",
              " 12.985410390932852,\n",
              " 13.602528780977785,\n",
              " 11.084210987836476,\n",
              " 10.163654263732466,\n",
              " 13.622304022356552,\n",
              " 10.271051828528416,\n",
              " 14.703869110572334,\n",
              " 11.115464753202948,\n",
              " 11.790472470881443,\n",
              " 12.863895063283177,\n",
              " 12.778846619408736,\n",
              " 11.407661033187257,\n",
              " 10.553929081624686,\n",
              " 14.501746725491566,\n",
              " 14.242351759891662,\n",
              " 12.728366009490749,\n",
              " 10.350013531812339,\n",
              " 12.978219197592095,\n",
              " 11.06962397495262]"
            ]
          },
          "metadata": {},
          "execution_count": 65
        }
      ]
    },
    {
      "cell_type": "code",
      "source": [
        "G=unif(10, 15,1000)\n",
        "print(G)"
      ],
      "metadata": {
        "id": "K3AVxqthG-Yg",
        "outputId": "38a56100-09ae-4d81-9f84-deab57221b14",
        "colab": {
          "base_uri": "https://localhost:8080/"
        }
      },
      "execution_count": 66,
      "outputs": [
        {
          "output_type": "stream",
          "name": "stdout",
          "text": [
            "[14.296621610829956, 14.467042808466935, 12.939079452503954, 12.942679166374337, 13.110755235973873, 10.273964739540679, 10.630020013943462, 10.996448132388807, 14.881976896942465, 12.505084670148733, 11.446141091895127, 14.268104553614615, 14.12422172405916, 13.754731367955403, 12.244501413205677, 11.892034871947867, 10.22791901144583, 13.178507368563771, 11.299865570580247, 13.148252505275547, 11.58829585883344, 13.451672509869926, 12.788663877510864, 14.354709896029966, 13.27094926832784, 14.910802154992297, 13.165034882168147, 14.065454778222852, 11.591121737861167, 14.881024009262603, 12.215511432751182, 13.310209531980654, 13.875396990890536, 12.235506021663218, 10.241597777786753, 11.950199353385255, 14.779784765668408, 12.120238898032076, 14.268469019173597, 12.663694048416517, 12.240553284967728, 10.83599453597272, 12.64502498307241, 13.655009049568143, 11.37900810142145, 13.306574348236023, 10.659073015254377, 14.594459231934394, 12.203229392848693, 12.734772888146255, 13.148606704049794, 11.324579120725646, 10.029841091164366, 13.969141615581616, 13.53847419623526, 12.776292959408298, 10.429205931442498, 12.259638745970534, 12.08173933059008, 12.994451806951641, 10.398593244226625, 13.426003259694548, 13.284214739863845, 12.965415871258251, 13.558480742448145, 10.21709757409938, 11.310872156624807, 13.972657860444109, 14.790256588474337, 14.458843934341004, 14.901365494198675, 12.449396520590913, 11.34229996226791, 13.742832149598593, 11.510714984328352, 10.354226493558686, 14.410408422834145, 12.088981499299686, 14.615780908179607, 11.084411168600612, 14.620392391468982, 11.882359259986085, 14.45273854904543, 11.166113071542558, 10.60556703133593, 12.290431600122107, 13.830497479736318, 11.341025145259248, 13.994618885926783, 14.003605241641079, 10.866999035150725, 11.017966586926915, 13.952990132583519, 10.170930625480018, 14.033521800819859, 10.073665764160815, 11.676240473812443, 12.002566701613087, 10.930071586249829, 14.279246656848521, 13.353144064555522, 14.752189665166743, 10.928811512419541, 14.174799840381255, 14.460725094210202, 13.142242886318176, 12.53474234612619, 14.755811590101466, 14.11239804253068, 14.324361222389204, 12.295988270609605, 11.923411257673946, 12.722139148937522, 11.2893369080415, 13.241817111628928, 10.47814758758283, 13.139842330496823, 13.539195431507817, 11.523762334135132, 13.329881980752312, 13.88316606375778, 12.269717604313076, 14.665861593595123, 10.69719128629451, 13.845178693790784, 12.105901368323453, 13.157833495018505, 13.350406731439579, 11.63796664264634, 12.499146017617473, 14.713430689317857, 10.126904686683373, 11.22022167215299, 14.631725331758961, 14.495470320207495, 11.11558798155504, 12.40270691358367, 12.42509926085345, 13.505858286250945, 12.218691445875304, 10.588430810724427, 14.751058315464519, 10.938429254344431, 12.79495074266632, 13.64565258413722, 10.633723747499507, 12.066062523123259, 12.338422732908338, 11.12303087119997, 14.226582864798756, 13.257714547791327, 14.159217201547865, 11.379614361099057, 11.658490313187693, 13.327065396289143, 14.787717058089115, 13.65231358420938, 13.947485254894369, 12.759363330004167, 10.80085992924413, 12.44935674056411, 12.823338662381808, 11.752188253312621, 13.892059607166292, 14.083701198020307, 13.991990379359713, 10.487012903949948, 11.362704109494286, 12.685452161085095, 13.06822040970567, 13.673625586339988, 11.158259829726598, 10.936424799727273, 12.865308824780833, 13.218430453777513, 10.684473006004577, 13.206404248300165, 11.615369141698906, 10.779393946492858, 11.787355891649478, 13.56333175811686, 11.648229836223646, 13.856269898668192, 13.27237584067802, 14.992096655952533, 13.345379405158958, 10.833562202941001, 11.367760110008899, 10.269143334088415, 14.91063623886695, 12.796102751266993, 10.96553314759644, 10.27805469341742, 14.841013969575377, 14.861172957096898, 13.863167524222485, 11.04721292486468, 12.857159708946345, 14.123799896149817, 14.783599830724679, 12.393980550270063, 10.23185253232777, 13.24231990103478, 12.067602753190432, 13.931149282421368, 10.832393260044832, 12.595779453574744, 13.651718116646563, 14.130952075628134, 13.330698300268448, 11.48978354599565, 10.005658377138692, 13.973585537070708, 14.836559103549487, 12.09727049288221, 14.805887633557155, 11.468104647880484, 12.11318524373249, 14.365976997304555, 11.182086971519485, 13.04916373183783, 14.375088045753447, 12.440948652853391, 10.788992345658565, 13.28285458633136, 14.178740347181954, 11.82280966745066, 12.227674397786535, 13.353636742492082, 11.63058799335697, 10.806618676456754, 11.360745598849887, 11.86320084832727, 12.990954984803372, 10.930381820158106, 10.782115028691347, 12.204299649254136, 14.408026481889763, 13.663931704805456, 12.897012797920752, 14.38323606032913, 11.40802576368846, 12.097375261764196, 13.010245529321283, 10.287468624904553, 13.852738136589082, 10.685807492505038, 12.358708688565661, 14.958571691049723, 13.755156106137386, 12.399330232576242, 12.15974526069887, 13.91878401940183, 11.419368323337075, 13.08800443931099, 10.447796753529346, 13.660770499632198, 11.798910861961332, 12.030975497456488, 11.468862646678822, 14.73517099940617, 14.886211151429285, 13.360690126347679, 14.423710407318222, 14.132786079164788, 12.371088506174845, 12.026925080933829, 11.54589187923983, 12.74519362054141, 14.129857356311966, 12.111190023055297, 11.117465024992088, 14.25226134540384, 14.720845594893673, 10.72492088305875, 13.919955818194797, 12.277872101245766, 13.140072304575847, 11.814612383318321, 14.184709139196759, 10.00420753215683, 14.381003735989607, 11.374700666456391, 14.339169093676377, 12.266900884054849, 13.254825511895891, 14.685714264311407, 13.509609485429504, 10.645287424897704, 10.499991889411927, 12.525572838099574, 13.781782223023635, 13.379445158764145, 10.62046423952836, 11.410698561157663, 11.25615323928707, 10.340806420008526, 14.958816797996418, 13.131667934393008, 10.511827167671733, 10.10065823318158, 11.846019608946053, 13.939856289061314, 10.965139284202905, 14.914167630035262, 10.391100816146277, 10.25024181199705, 14.355506701432807, 10.951136088031216, 11.90749020503195, 12.94418684032217, 10.536755936255776, 14.450661176727994, 10.67165243974807, 13.889566704206512, 10.084929091419637, 14.776869309116456, 13.09938721995892, 14.921194528549595, 14.023553591947609, 14.985354403054185, 12.170316186312395, 13.198123842969688, 10.802082675325465, 12.90149652144158, 10.179997919134053, 12.648125354383115, 12.547354288733874, 14.73108642874475, 13.0429272301593, 10.297048553440318, 11.719187479505594, 12.601050217305279, 11.160299346687333, 10.944248369994494, 14.94494137929049, 12.670372419084817, 10.23129372988122, 13.603869605245336, 10.266261093437715, 13.154922220292104, 10.44450236079659, 11.129289262918647, 13.603646552831396, 11.048425003852747, 10.236581902650597, 14.455861823742353, 10.76051811910529, 10.375608756371236, 12.819153773241595, 13.084680605675905, 10.535729085301014, 12.834524150009905, 10.357011125999373, 10.309617567961931, 10.228737445559617, 11.54927733504919, 13.087548582704613, 14.214344067266627, 11.163259862027214, 10.506933583969982, 10.106355972975196, 13.463149077284903, 13.558989865645819, 13.847729603832418, 12.120211737846565, 14.406081028803019, 12.396030850158887, 13.02608888021319, 13.970433155319284, 13.556279139371014, 10.000032731504051, 11.328115388662292, 12.515173396833077, 10.607880919170697, 14.84213544023217, 11.097737892782057, 10.101725334508982, 11.825683377395588, 12.613135455309944, 12.444031664463889, 12.508455524535465, 11.245758915987812, 12.70272060001324, 11.745218067250491, 10.710578737761143, 10.858808892998741, 12.514657773831859, 13.762076904483184, 10.720917481611323, 13.128992123318948, 12.627263632672896, 11.334459162434026, 10.457014051359021, 10.354795149343317, 10.377903595273223, 13.130359790855085, 11.064151373560312, 12.713721211305852, 13.961675434165278, 12.556313176706386, 14.844217332261717, 13.220846552019385, 13.56121364501412, 10.63580968632923, 11.252422251452138, 10.066977581397936, 12.574259126283213, 13.483722541510684, 14.224244301138864, 14.056232311370302, 12.859844640286525, 13.122916093533757, 12.284100254985326, 12.339198282149475, 13.47165888904647, 11.844513982975352, 11.33494438687825, 13.222167670056002, 10.080155300984732, 13.75044384541976, 10.745362713823956, 11.985057874089303, 13.345289277982214, 14.29547997381603, 14.367031402274957, 10.686979175493768, 13.019596306275442, 14.90023447159193, 12.696689746812572, 14.419742799445682, 11.639310063641465, 13.774243389532996, 14.925227818949448, 13.622511814942037, 11.055812096643033, 11.129009230076656, 10.974597053743514, 11.313838166873397, 12.395102040111325, 13.430600825004861, 14.135050788101733, 13.22184935245435, 12.44761660006141, 14.646505601120246, 11.494447286756209, 13.765822943305166, 10.865378186857166, 13.41152402250208, 13.079740646504153, 12.401637237161571, 10.594625055461805, 14.676213656191909, 14.272354950773092, 11.0403564092556, 13.492323144382244, 14.954332334192298, 11.150034222775588, 11.246370772827545, 14.537572636068102, 14.183950649749626, 13.818861103733123, 11.22031893283905, 12.423229418243277, 11.229831820071244, 13.256049857907302, 14.512276532444709, 13.808532449310299, 12.428360804475536, 14.80201510292375, 12.471404503752565, 11.241287637487597, 13.513533768476243, 13.89375007062808, 11.647093869478116, 11.386444385480155, 14.66311008160983, 11.469040716829538, 11.464218916644995, 12.721762205187481, 13.854838290660433, 14.314061628303978, 13.07832775593787, 10.188081084656087, 11.083991425971302, 10.178985921449918, 14.50769341664914, 13.307373045570962, 10.2787613672108, 11.626204139111655, 10.21748609346247, 13.933341751207887, 14.02555324558984, 12.325112620436729, 14.784541521568212, 14.690718379473061, 12.606155647294816, 11.572308278502348, 10.013824807819738, 11.813466893022166, 12.277409952667032, 13.313865319114406, 11.386084266442282, 14.437394440106315, 10.494611551259869, 10.380194811732768, 14.319911960092593, 10.385617625178398, 13.072273726212117, 10.6661558417103, 12.854732432762724, 13.297768170956623, 14.220322022188064, 10.601649049046124, 10.691582560839175, 10.591286420947352, 14.280544674788644, 13.491931545373577, 14.591029302104392, 13.98481581943017, 11.576453471216496, 14.54236419836204, 12.235786000584227, 13.7119651674405, 14.497946881702099, 13.353332353756935, 10.603711739908858, 13.794428408603231, 11.323532968893572, 14.951185218605252, 14.949033497004248, 14.642750459277847, 13.472006371492553, 12.043743929802817, 10.150981782698727, 11.518298183677764, 12.10391078896024, 14.934132168120332, 10.185934786884445, 12.082960169029441, 10.205078206752184, 14.804505829291323, 12.4182069332208, 11.183348023098707, 13.703004627904475, 13.338683127687258, 12.125515781812355, 11.59846963682525, 14.999618840659483, 12.892992003381337, 10.93781103605978, 10.97971793302918, 12.636095639931915, 10.851328714488039, 13.00921327012949, 12.47355491334578, 11.427943713166467, 13.650483531393526, 11.56419312496366, 12.95988335742733, 10.867708941967047, 12.458861157145897, 11.544059300243465, 10.687253126950406, 13.082313634909227, 11.838152342175277, 14.097691766995428, 13.961637434115492, 11.689484970293618, 10.937194829755379, 12.69353633992879, 12.390862394055608, 14.397445471351524, 11.853155260231535, 10.607530344722633, 14.998522725273691, 14.907092137882994, 10.48337968828206, 11.300184005503326, 14.177187152218085, 10.76377452255872, 14.450522009306276, 10.539957340643925, 13.680009173405791, 10.365472942767123, 11.423711363441885, 14.544436447893418, 12.886999397408761, 10.202164147876111, 10.302633492321007, 10.810695126992872, 10.0234329521694, 13.35425546521188, 14.529879023513448, 13.20397101525517, 12.361671530663985, 13.650972598214565, 13.804457759965677, 14.435732835088833, 12.384417930725457, 12.39563348718665, 12.778837891926663, 13.93327547669734, 11.269084589724043, 10.901531820184623, 12.176081616989567, 14.083750821987547, 11.216561848847503, 13.405974291465132, 10.958718707180052, 12.404176847001551, 14.75326262855505, 11.39897860424489, 13.944339805948523, 13.159862738873304, 11.827332117448535, 12.500599309245048, 14.397951114374703, 10.894846775750155, 13.313158576394933, 14.010484847475016, 14.765700693861985, 12.845155641892227, 11.077083915359035, 13.368032786367884, 13.789547408114576, 14.606488572615463, 14.943391918646878, 11.74571942626476, 14.607594862117427, 11.417470654438656, 12.60200984790266, 11.429280805988384, 14.195130526049333, 11.188456195341073, 12.365822322914402, 13.315781949951774, 11.626754195789978, 11.416868614234827, 14.089061294234865, 10.226589029591683, 13.642122118408599, 12.181412590777175, 13.937250625342772, 11.762132189117406, 13.20067812253738, 14.132245317679747, 13.532368701649098, 14.587867404661504, 12.559918564246919, 12.655797127038486, 11.688811288967148, 11.16783781997792, 14.885462684574856, 10.281236255432832, 14.664187272653365, 11.13547466116242, 14.020063677562053, 10.57214728967046, 13.432229579065401, 13.380827167406519, 13.915560400395421, 13.914808690835732, 12.084192928418389, 11.779920494823765, 10.895142327601958, 10.11987393817824, 11.671872154063701, 14.483188588561825, 11.565702480125882, 14.293082522141844, 10.745279119273093, 14.77782264324562, 10.06771312761101, 13.013259897032535, 13.742831296402914, 14.675602389313852, 11.074076149452472, 11.597127567641841, 10.830504922740968, 14.229524317807083, 13.020037271780485, 12.440689906049148, 14.838561070814052, 10.339617900300858, 11.243676624155169, 10.13020665847682, 10.33784285403142, 13.915721496822446, 14.904268502839699, 13.290745812534826, 10.872272593349473, 11.668236538685308, 13.372788358547082, 11.944420104301102, 12.191045459184176, 11.97357247642692, 12.65892297131819, 10.303342510635703, 12.554990136585294, 10.180141294228392, 14.738969069550986, 12.054711672244192, 14.023170630585096, 10.04274859970526, 10.525129987782469, 10.626837954098182, 10.55736860096547, 11.488529515610248, 14.547596730288996, 14.984024918445458, 12.334121525620564, 14.757358849750954, 14.400788749032495, 13.359383447786172, 12.698485647055875, 13.310365233359986, 13.849627093635469, 11.805020571945407, 11.117799191264872, 13.461631712142399, 11.269678950624828, 14.730153921324973, 12.742172570252347, 13.003659559924087, 11.402223123494558, 12.029845897201536, 12.009300069321387, 13.770558371162945, 13.59946078525092, 10.11510421765185, 14.594640052985994, 13.261296477355875, 11.66602461777483, 11.009502084789602, 14.87161916397348, 13.88803056737132, 11.768489825330008, 11.47673774286327, 10.397193655086804, 11.267649045684372, 11.559559759131838, 12.813585750256813, 10.670590934965764, 14.96603846393581, 14.003531161668855, 10.665011991898078, 12.139383238021871, 13.837108199302858, 13.249613246100157, 13.27644289930474, 13.647129808746543, 10.224784191576804, 11.538035568923432, 10.032401948090985, 11.809819688619035, 14.543004010915967, 14.73185595702893, 14.280042960641449, 11.345163914605882, 14.703265890722463, 12.977426898003813, 13.166365645565758, 11.97826712449449, 11.907815390001677, 14.962746986466536, 13.083598759899509, 11.377699164660742, 14.013066657498939, 13.382765376468578, 12.626369058177026, 12.034054680100693, 14.182406940356508, 13.415929076305073, 14.590051922050819, 14.087953831791769, 11.086422250445334, 10.542079544428734, 11.396345422410539, 11.188305044186777, 14.482993442171217, 12.012586098636742, 10.9127211813367, 13.129836716559005, 11.82138369188316, 12.828468828434083, 10.10863723464715, 13.008460283287338, 13.45884730424396, 12.82703392946673, 14.485379055813855, 13.128561336830206, 12.15806539877828, 13.864704179975966, 14.262735990663483, 14.595347798479967, 14.384893006954647, 11.023844233818528, 10.275267766137395, 11.19174326644704, 14.050304829377694, 13.076192088979885, 13.715948552635655, 14.086090499787046, 13.075968835103811, 12.087663472104754, 10.822272327129387, 11.260274167498533, 12.171737643668834, 11.562534873428127, 11.460672074364036, 14.309353539016389, 10.228552480179788, 14.689219626165027, 11.537117384769635, 14.790581689379742, 14.356310857031058, 11.079211010161643, 12.245308713985919, 10.407622102858062, 11.694960296321181, 11.823225460730457, 14.366811472602157, 11.732193557579613, 11.323647439376272, 10.742443973161919, 11.750589905180803, 14.363091480432086, 13.240738083089587, 11.083515768944327, 13.0097314070633, 12.231369555343417, 14.719670570354248, 14.174528859657126, 14.553435120427537, 10.574635113573288, 11.284647168742069, 11.165624294612615, 10.902803125247988, 12.783138522382272, 10.641346236119013, 10.430430511404312, 14.487931992715883, 10.76532880281466, 12.66441721049597, 12.301482070196045, 14.388247458478777, 13.018372650704908, 13.25556627937814, 10.809942864834651, 10.023991623451797, 10.926453455467598, 11.982569775881487, 10.174327579010422, 13.528439366685054, 10.38262512036002, 13.975764583271541, 10.28638330959038, 12.566270571568543, 11.539485421394026, 13.987129666240634, 10.935682129495959, 13.95361793182385, 12.174838735075344, 10.134597479043759, 14.27243261804076, 10.348293063368017, 10.725809809835898, 11.905409412686751, 11.622652489144583, 13.242054435256028, 10.522549638196411, 11.903722563387554, 12.17204176205006, 12.24906966413997, 14.250681508748313, 11.69830550545959, 14.69443017848223, 12.513559521493153, 12.590822857550345, 10.111558464464924, 12.382715468363262, 11.002553774732544, 14.453652047647287, 13.359431595282551, 11.679934549306877, 14.257846778324833, 11.528230480374573, 12.94828793727792, 13.286512275758085, 14.982361531026093, 14.430131709224774, 11.055595973784802, 13.845175593472673, 10.157638294829741, 12.916186653742283, 11.034405057627733, 12.362504686424556, 14.854966087443358, 13.631900582578748, 10.144095191128708, 14.196775206434964, 12.332828348846505, 13.931526589603882, 10.142616240099589, 12.300689162991125, 14.577998084857224, 11.074689471003676, 10.947410355666001, 10.38783779153606, 12.077030865429489, 13.599832453460952, 14.714050085037634, 11.557247861648051, 12.271012973421922, 12.862942097228418, 11.244136725723408, 13.452338994236328, 13.413379719621183, 10.356996974791835, 10.61991746810327, 10.13148389409345, 11.975505647654217, 10.671579977585994, 14.161951402035267, 14.117650908745379, 11.320933498657313, 13.055280287512842, 14.06349541841222, 14.211773849984645, 14.841489541484659, 12.012704440654653, 11.444287408052988, 13.311210717196186, 11.721519679944508, 10.588646726980485, 13.256168787787262, 14.5566030835774, 14.490850162685465, 12.079456671098551, 14.081827224244812, 14.827045963740119, 12.333128755478779, 13.122948567660845, 14.84546346927268, 12.01216680454124, 10.672912596992775, 10.138471244478184, 12.66100354874633, 14.0033288271074, 12.715995481881407, 13.990559568819137, 14.347348497360823, 13.60305676705426, 12.437932622700226, 10.32263210356595, 10.66205078371192, 13.718460278989223, 12.563384552087774, 13.164057346675913, 14.872378894489987, 14.883738000556164, 14.014411562432333, 12.591510032869213, 11.886529984782118, 13.936366840071958, 10.295249162106776, 11.596236255295864, 13.11450106165698, 12.555163091937713, 11.924332663569382, 14.735917465485937, 14.431763752657076, 12.091905576139087, 11.708328685352296, 10.682654479845292, 10.832055827642401, 11.745441305516817, 13.142718481295919, 11.245514670145765, 12.792735848920639, 10.419955338688133, 12.08960565931149, 10.052203578106276, 13.623040696226997, 14.426383747008202, 14.815364247430495, 10.610292838341774, 14.427882177199844, 13.772804035732495, 12.863100523400254, 14.18768012944092, 11.147446321690502, 10.381738143034328, 11.282046933061983, 14.955512086892213, 14.686956574985977, 12.335663709981866, 11.166227036886173, 14.593478005616724]\n"
          ]
        }
      ]
    },
    {
      "cell_type": "code",
      "source": [
        "mu=np.mean(G)\n",
        "print(mu)"
      ],
      "metadata": {
        "id": "w3_FIXXoHVdo",
        "outputId": "db873ebe-d424-4533-c9d5-4a960069c7ac",
        "colab": {
          "base_uri": "https://localhost:8080/"
        }
      },
      "execution_count": 67,
      "outputs": [
        {
          "output_type": "stream",
          "name": "stdout",
          "text": [
            "12.5530299776855\n"
          ]
        }
      ]
    },
    {
      "cell_type": "code",
      "source": [
        "sigma2=np.var(G)\n",
        "print(sigma2)"
      ],
      "metadata": {
        "id": "upla-qmvHyqQ",
        "outputId": "60dcb7de-a2ee-477e-aabe-1a9b58c32070",
        "colab": {
          "base_uri": "https://localhost:8080/"
        }
      },
      "execution_count": 68,
      "outputs": [
        {
          "output_type": "stream",
          "name": "stdout",
          "text": [
            "2.154214117963167\n"
          ]
        }
      ]
    },
    {
      "cell_type": "code",
      "source": [
        "plt.hist(G, bins=50)"
      ],
      "metadata": {
        "id": "a_LfVkMSIVwi",
        "colab": {
          "base_uri": "https://localhost:8080/",
          "height": 1000
        },
        "outputId": "1cd52e7b-689b-4070-e91c-45c4e945be86"
      },
      "execution_count": 76,
      "outputs": [
        {
          "output_type": "execute_result",
          "data": {
            "text/plain": [
              "(array([15., 23., 25., 23., 11., 16., 29., 13., 19., 21., 20., 21., 20.,\n",
              "        24., 20., 22., 19., 14., 17., 13., 24., 17., 21., 22., 18., 19.,\n",
              "        19., 16., 16., 11., 25., 23., 26., 27., 17., 13., 19., 17., 20.,\n",
              "        28., 22., 21., 20., 20., 27., 18., 17., 25., 21., 26.]),\n",
              " array([10.00003273, 10.10002445, 10.20001618, 10.3000079 , 10.39999962,\n",
              "        10.49999134, 10.59998306, 10.69997479, 10.79996651, 10.89995823,\n",
              "        10.99994995, 11.09994168, 11.1999334 , 11.29992512, 11.39991684,\n",
              "        11.49990856, 11.59990029, 11.69989201, 11.79988373, 11.89987545,\n",
              "        11.99986718, 12.0998589 , 12.19985062, 12.29984234, 12.39983406,\n",
              "        12.49982579, 12.59981751, 12.69980923, 12.79980095, 12.89979267,\n",
              "        12.9997844 , 13.09977612, 13.19976784, 13.29975956, 13.39975129,\n",
              "        13.49974301, 13.59973473, 13.69972645, 13.79971817, 13.8997099 ,\n",
              "        13.99970162, 14.09969334, 14.19968506, 14.29967679, 14.39966851,\n",
              "        14.49966023, 14.59965195, 14.69964367, 14.7996354 , 14.89962712,\n",
              "        14.99961884]),\n",
              " <BarContainer object of 50 artists>)"
            ]
          },
          "metadata": {},
          "execution_count": 76
        },
        {
          "output_type": "display_data",
          "data": {
            "text/plain": [
              "<Figure size 640x480 with 1 Axes>"
            ],
            "image/png": "[encoded data removed]"
          },
          "metadata": {}
        }
      ]
    },
    {
      "cell_type": "code",
      "source": [
        "plt.plot(G) #grafica la secuencia de números aleatorios"
      ],
      "metadata": {
        "id": "VauSumOGJSZk",
        "outputId": "3090d0bd-0af5-4ea2-dc9d-84c92c027f1a",
        "colab": {
          "base_uri": "https://localhost:8080/",
          "height": 283
        }
      },
      "execution_count": 78,
      "outputs": [
        {
          "output_type": "execute_result",
          "data": {
            "text/plain": [
              "[<matplotlib.lines.Line2D at 0x7b0421595e40>]"
            ]
          },
          "metadata": {},
          "execution_count": 78
        },
        {
          "output_type": "display_data",
          "data": {
            "text/plain": [
              "<Figure size 640x480 with 1 Axes>"
            ],
            "image/png": "[encoded data removed]"
          },
          "metadata": {}
        }
      ]
    },
    {
      "cell_type": "code",
      "source": [
        "def cdf(muestra):\n",
        "  m=len(muestra)\n",
        "  x=np.sort(muestra)\n",
        "  y=np.arange(0,m)/m\n",
        "  return x,y"
      ],
      "metadata": {
        "id": "e4zC4iCGTY-i"
      },
      "execution_count": 79,
      "outputs": []
    },
    {
      "cell_type": "code",
      "source": [
        "X,Y = cdf(G)"
      ],
      "metadata": {
        "id": "HnG-Rie9Tsos"
      },
      "execution_count": 80,
      "outputs": []
    },
    {
      "cell_type": "code",
      "source": [
        "plt.step(X,Y)"
      ],
      "metadata": {
        "colab": {
          "base_uri": "https://localhost:8080/",
          "height": 281
        },
        "id": "OHcsqB2GTv_d",
        "outputId": "4b92a9ba-aafe-4f06-d82e-c867d666406a"
      },
      "execution_count": 82,
      "outputs": [
        {
          "output_type": "execute_result",
          "data": {
            "text/plain": [
              "[<matplotlib.lines.Line2D at 0x7b0420eb6d40>]"
            ]
          },
          "metadata": {},
          "execution_count": 82
        },
        {
          "output_type": "display_data",
          "data": {
            "text/plain": [
              "<Figure size 640x480 with 1 Axes>"
            ],
            "image/png": "[encoded data removed]"
          },
          "metadata": {}
        }
      ]
    },
    {
      "cell_type": "code",
      "execution_count": null,
      "metadata": {
        "id": "nIze5BoxElEa"
      },
      "outputs": [],
      "source": [
        "#Generamos una lista de números aleatorios que siguen la distribución exponencial.\n",
        "\n",
        "#nums = []\n",
        "n=100\n",
        "lamb = 2                                    # Párametro de la función exponencial\n",
        "L = -1.0/lamb #inversa de lambda\n",
        "\n",
        "for i in range(n):\n",
        "    u=random.random()\n",
        "    print(L*np.log(u))\n",
        "    #temp = L*np.log(random.random())            # Pasos 1 y 2\n",
        "    #nums.append(temp)\n",
        "\n",
        "#plt.plot(nums)\n",
        "#plt.show()"
      ]
    },
    {
      "cell_type": "code",
      "execution_count": null,
      "metadata": {
        "id": "peAbiB-uElEa",
        "colab": {
          "base_uri": "https://localhost:8080/",
          "height": 248
        },
        "outputId": "f2e5c492-89e5-4da9-f290-1802fa033d0c"
      },
      "outputs": [
        {
          "output_type": "display_data",
          "data": {
            "text/plain": [
              "<Figure size 640x480 with 1 Axes>"
            ],
            "image/png": "[encoded data removed]"
          },
          "metadata": {}
        }
      ],
      "source": [
        "nums = []\n",
        "lamb = 0.01                                     # Párametro de la función exponencial\n",
        "L = -1.0/lamb #inversa de lambda\n",
        "\n",
        "for i in range(1000):\n",
        "    temp = L*np.log(random.random())\n",
        "    nums.append(temp)\n",
        "\n",
        "plt.hist(nums, bins = 100)\n",
        "plt.show()"
      ]
    },
    {
      "cell_type": "markdown",
      "metadata": {
        "id": "Rqwlpr2IElEa"
      },
      "source": [
        "### Lo podemos comparar con la salida de la función expovariate()"
      ]
    },
    {
      "cell_type": "code",
      "execution_count": null,
      "metadata": {
        "id": "zwYhK53pElEb"
      },
      "outputs": [],
      "source": [
        "# Construimos el histograma de una muestra de 10000 números aleatorios normalmente distribuidos\n",
        "\n",
        "nums = []\n",
        "lamb = 0.01\n",
        "\n",
        "\n",
        "for i in range(1000):\n",
        "    temp = random.expovariate(lamb)\n",
        "    nums.append(temp)\n",
        "\n",
        "plt.hist(nums, bins = 100)\n",
        "plt.show()"
      ]
    },
    {
      "cell_type": "markdown",
      "metadata": {
        "id": "EM4PTY29ElEc"
      },
      "source": [
        "Que se puede obtener de esta otra manera:"
      ]
    },
    {
      "cell_type": "code",
      "execution_count": null,
      "metadata": {
        "id": "tEvEw89JElEc"
      },
      "outputs": [],
      "source": [
        "#plt.figure(figsize = (8, 4))\n",
        "plt.hist([random.expovariate(100) for i in range(10000)], bins = 200)\n",
        "plt.show()"
      ]
    },
    {
      "cell_type": "markdown",
      "metadata": {
        "id": "g8yU1IIeElEd"
      },
      "source": [
        "Y podemos usar el módulo statistics para obtener algunos parámetros del histograma."
      ]
    },
    {
      "cell_type": "code",
      "execution_count": null,
      "metadata": {
        "id": "0djUn2ufElEd"
      },
      "outputs": [],
      "source": [
        "#plt.figure(figsize = (8, 4))\n",
        "sample = [random.expovariate(0.01) for i in range(1000)]\n",
        "plt.hist(sample, bins = 200)\n",
        "plt.show()\n",
        "\n",
        "print(f'Media: {mean(sample):.5f}.  Mediana: {median(sample):.5f}.')\n",
        "print(f'Varianza: {variance(sample):.5f}.  Desviación estándar: {stdev(sample):.5f}.')"
      ]
    },
    {
      "cell_type": "markdown",
      "metadata": {
        "id": "g2GIZfVAElEd"
      },
      "source": [
        "## Ejercicio (03032022):\n",
        "\n",
        "Simular dos distribuciones de probabilidad (no la normal, no la exponencial), por el método que prefieran."
      ]
    },
    {
      "cell_type": "markdown",
      "source": [
        "### La distribución Weibull\n",
        "\n",
        "Función de densidad:\n",
        "    \n",
        "$f_X (x) = \\lambda \\alpha (\\lambda x) e^{(-\\lambda x)^\\alpha}$  para $x \\geq 0$, $\\lambda, \\alpha \\geq 0$\n",
        "\n",
        "y función de distribución:\n",
        "\n",
        "$F_X (x) = 1 - e^{(-\\lambda x)^\\alpha}$  para $x \\geq 0$"
      ],
      "metadata": {
        "id": "UzIqynNhRlbZ"
      }
    },
    {
      "cell_type": "markdown",
      "source": [
        "Puede ser simulada por el método de inversión mediante el siguiente algoritmo:\n",
        "\n",
        "0. Hacer $L = \\frac{1}{\\lambda}$\n",
        "1. Generar $U \\sim U(0, 1)$\n",
        "2. Devolver $X = L \\cdot e^{(Ln(-Ln(U))/\\alpha}$"
      ],
      "metadata": {
        "id": "7bruaklrTM4x"
      }
    },
    {
      "cell_type": "code",
      "execution_count": null,
      "metadata": {
        "id": "6uhZ0B_eElEe"
      },
      "outputs": [],
      "source": [
        "import random                                   # importamos el módulo random\n",
        "import numpy as np                              # importamos numpy con un alias (np)\n",
        "import matplotlib.pyplot as plt                 # ídem\n",
        "#from random import expovariate, gauss\n",
        "from statistics import mean, median, variance, stdev      # exportamos funciones especificas de statistics"
      ]
    },
    {
      "cell_type": "code",
      "source": [
        "#Generamos una lista de números aleatorios que siguen la distribución Weibull.\n",
        "\n",
        "nums = []\n",
        "alpha = 100\n",
        "lamb = 50                                 # Párametro de la función exponencial\n",
        "L = -1.0/lamb #inversa de lambda\n",
        "\n",
        "for i in range(100):\n",
        "    temp = L*np.log(random.random())            # Pasos 1 y 2\n",
        "    nums.append(temp)\n",
        "\n",
        "plt.plot(nums)\n",
        "plt.show()"
      ],
      "metadata": {
        "id": "OTR9tW0oT2LI"
      },
      "execution_count": null,
      "outputs": []
    }
  ],
  "metadata": {
    "kernelspec": {
      "display_name": "Python 3",
      "language": "python",
      "name": "python3"
    },
    "language_info": {
      "codemirror_mode": {
        "name": "ipython",
        "version": 3
      },
      "file_extension": ".py",
      "mimetype": "text/x-python",
      "name": "python",
      "nbconvert_exporter": "python",
      "pygments_lexer": "ipython3",
      "version": "3.7.3"
    },
    "colab": {
      "provenance": [],
      "include_colab_link": true
    }
  },
  "nbformat": 4,
  "nbformat_minor": 0
}