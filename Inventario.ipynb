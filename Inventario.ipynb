{
  "nbformat": 4,
  "nbformat_minor": 0,
  "metadata": {
    "colab": {
      "provenance": [],
      "authorship_tag": "ABX9TyN2P/yJshxxLZW+sIniVOsO",
      "include_colab_link": true
    },
    "kernelspec": {
      "name": "python3",
      "display_name": "Python 3"
    },
    "language_info": {
      "name": "python"
    }
  },
  "cells": [
    {
      "cell_type": "markdown",
      "metadata": {
        "id": "view-in-github",
        "colab_type": "text"
      },
      "source": [
        "<a href=\"https://colab.research.google.com/github/MartaPCastillo/Simulacion-I/blob/main/Inventario.ipynb\" target=\"_parent\"><img src=\"https://colab.research.google.com/assets/colab-badge.svg\" alt=\"Open In Colab\"/></a>"
      ]
    },
    {
      "cell_type": "code",
      "execution_count": 1,
      "metadata": {
        "id": "lRHNVpoUzY9Y"
      },
      "outputs": [],
      "source": [
        "import random                                   # importamos el módulo random\n",
        "import numpy as np                              # importamos numpy con un alias (np)\n",
        "import matplotlib.pyplot as plt                 # ídem\n",
        "#from random import expovariate, gauss\n",
        "from statistics import mean, median, variance, stdev      # exportamos funciones especificas de statistic"
      ]
    },
    {
      "cell_type": "code",
      "source": [
        "inv = []\n",
        "inv = [1,2,3,4,5,6,7,8,9,10,11,12]\n",
        "print(inv)"
      ],
      "metadata": {
        "colab": {
          "base_uri": "https://localhost:8080/"
        },
        "id": "sztcF-Wt32uw",
        "outputId": "dd44e453-dfaf-4b65-a3a0-30cd5225573e"
      },
      "execution_count": 4,
      "outputs": [
        {
          "output_type": "stream",
          "name": "stdout",
          "text": [
            "[1, 2, 3, 4, 5, 6, 7, 8, 9, 10, 11, 12]\n"
          ]
        }
      ]
    },
    {
      "cell_type": "code",
      "source": [
        "Inv = []\n",
        "\n",
        "# También puedes iniciar la listas en el interior\n",
        "Inv = [[1,2,3,4,5,6,7,8,9,10,11,12], [150,86,234,187,156,116,91,57,19,171,113,40]]\n",
        "print (Inv)"
      ],
      "metadata": {
        "colab": {
          "base_uri": "https://localhost:8080/"
        },
        "id": "volnB2NZ4XD3",
        "outputId": "8dab6723-a136-4b24-cfb8-f2789fabced5"
      },
      "execution_count": 6,
      "outputs": [
        {
          "output_type": "stream",
          "name": "stdout",
          "text": [
            "[[1, 2, 3, 4, 5, 6, 7, 8, 9, 10, 11, 12], [150, 86, 234, 187, 156, 116, 91, 57, 19, 171, 113, 40]]\n"
          ]
        }
      ]
    },
    {
      "cell_type": "code",
      "source": [
        "n=100"
      ],
      "metadata": {
        "id": "r0hcFkvr5yYj"
      },
      "execution_count": 10,
      "outputs": []
    },
    {
      "cell_type": "code",
      "source": [
        "for i in range(n):\n",
        "  x =[]\n",
        "  R = random.uniform(0,1)\n",
        "  #transformada inversa para simular valores de demanda\n",
        "  if 0.000 <= R < 0.010:\n",
        "    x.append(35)\n",
        "  elif 0.010 <= R < 0.025:\n",
        "    x.append(36)\n",
        "  elif 0.025 <= R < 0.045:\n",
        "    x.append(37)\n",
        "  elif 0.045 <= R < 0.065:\n",
        "    x.append(38)\n",
        "  elif 0.065 <= R < 0.087:\n",
        "    x.append(39)\n",
        "  elif 0.087 <= R < 0.110:\n",
        "    x.append(40)\n",
        "  elif 0.110 <= R < 0.135:\n",
        "    x.append(41)\n",
        "  elif 0.135 <= R < 0.162:\n",
        "    x.append(42)\n",
        "  elif 0.162 <= R < 0.190:\n",
        "    x.append(43)\n",
        "  elif 0.190 <= R < 0.219:\n",
        "    x.append(44)\n",
        "  elif 0.219 <= R < 0.254:\n",
        "    x.append(45)\n",
        "  elif 0.254 <= R < 0.299:\n",
        "    x.append(46)\n",
        "  elif 0.299 <= R < 0.359:\n",
        "    x.append(47)\n",
        "  elif 0.359 <= R < 0.424:\n",
        "    x.append(48)\n",
        "  elif 0.424 <= R < 0.494:\n",
        "    x.append(49)\n",
        "  elif 0.494 <= R < 0.574:\n",
        "    x.append(50)\n",
        "  elif 0.574 <= R < 0.649:\n",
        "    x.append(51)\n",
        "  elif 0.649 <= R < 0.719:\n",
        "    x.append(52)\n",
        "  elif 0.719 <= R < 0.784:\n",
        "    x.append(53)\n",
        "  elif 0.784 <= R < 0.844:\n",
        "    x.append(54)\n",
        "  elif 0.844 <= R < 0.894:\n",
        "    x.append(55)\n",
        "  elif 0.894 <= R < 0.934:\n",
        "    x.append(56)\n",
        "  elif 0.934 <= R < 0.964:\n",
        "    x.append(57)\n",
        "  elif 0.964 <= R < 0.980:\n",
        "    x.append(58)\n",
        "  elif 0.980 <= R < 0.995:\n",
        "    x.apennd(59)\n",
        "  elif 0.995 <= R < 1.000:\n",
        "    x.append(60)\n",
        "\n",
        "print(x)"
      ],
      "metadata": {
        "id": "GYOBmTCI0SUH"
      },
      "execution_count": null,
      "outputs": []
    },
    {
      "cell_type": "code",
      "source": [
        "#transformada inversa para simular tiempos de entrega\n",
        "if 0.00 <= R < 0.30:\n",
        "   x = 1 #mes\n",
        "elif 0.30 <= R < 0.70:\n",
        "   x = 2 #meses\n",
        "elif 0.70 <= R < 1.00:\n",
        "   x = 3 #meses"
      ],
      "metadata": {
        "id": "mu40kNJG3VbN"
      },
      "execution_count": null,
      "outputs": []
    }
  ]
}