{
  "cells": [
    {
      "cell_type": "markdown",
      "metadata": {
        "id": "view-in-github",
        "colab_type": "text"
      },
      "source": [
        "<a href=\"https://colab.research.google.com/github/MartaPCastillo/Simulacion-I/blob/main/M%C3%A9todo_Congruencial.ipynb\" target=\"_parent\"><img src=\"https://colab.research.google.com/assets/colab-badge.svg\" alt=\"Open In Colab\"/></a>"
      ]
    },
    {
      "cell_type": "markdown",
      "id": "a5cc0a87",
      "metadata": {
        "id": "a5cc0a87"
      },
      "source": [
        "# Metodología de la Simulación"
      ]
    },
    {
      "cell_type": "markdown",
      "id": "0e218d98",
      "metadata": {
        "id": "0e218d98"
      },
      "source": [
        "### 1. Identifique las variables\n",
        "\n",
        "Aquellas cuyo comportamiento define el comportamiento o la evoución global del sistema real."
      ]
    },
    {
      "cell_type": "markdown",
      "id": "803801d5",
      "metadata": {
        "id": "803801d5"
      },
      "source": [
        "### 2. Modele las variables aleatorias\n",
        "\n",
        "Cosntruya un modelo fiel de la aleatoriedad de las variables del sistema. Simular el comportamiento del sistema implica generar muestras aleatorias de cada variable que sigan fielmente la distribución de probabilidad correspondiente."
      ]
    },
    {
      "cell_type": "markdown",
      "id": "33709223",
      "metadata": {
        "id": "33709223"
      },
      "source": [
        "### 3. Defina el modelo del sistema y los objetivos de la simulación\n",
        "\n",
        "Fije los objetivos y diseñe un modelo del sistema real que abstraiga sus propiedades más relevantes. Todo error en el modelo (o su implementación computacional) puede dar lugar a conclusiones equivocadas.\n",
        "\n",
        "Antes de experimentar con el modelo, asegurarse de que refleja fielmente el sistema real **validando** el mismo a partir de datos reales, para ello compare los resultados obtenidos de la simulación con los producidos por el sistema."
      ]
    },
    {
      "cell_type": "markdown",
      "id": "7f853065",
      "metadata": {
        "id": "7f853065"
      },
      "source": [
        "### 4. Diseñe el experimento\n",
        "\n",
        "Diseñe un experimento así como las ejecuciones concretas del mismo, los escenarios que desea estudiar para alcanzar los objetivos fijados. El experimento consiste en generar valores de las variables cuyo comportamiento define el comportamiento del sistema y analizar este ante dichos valores."
      ]
    },
    {
      "cell_type": "markdown",
      "id": "15ae61c8",
      "metadata": {
        "id": "15ae61c8"
      },
      "source": [
        "### 5. Repita el experimento $n$ veces\n",
        "\n",
        "Así dispondrá de $n$ observaciones sobre el comportamiento del sistema, lo que permitirá entender su funcionamiento así como evaluar el desempeño del mismo frente a los diversos escenarios establecidos.\n",
        "\n",
        "El **método Monte Carlo** se basa en la **Ley Fuerte de los Grandes Números** y el **Teorema del Límite Central**."
      ]
    },
    {
      "cell_type": "markdown",
      "id": "51ce3fa1",
      "metadata": {
        "id": "51ce3fa1"
      },
      "source": [
        "Elabore un programa que genere nuúmeros aleatorios mediante el generador congruencial.\n",
        "\n",
        "1. Analíticamente.\n",
        "2. Mediante simulación."
      ]
    },
    {
      "cell_type": "markdown",
      "id": "6f1b4105",
      "metadata": {
        "id": "6f1b4105"
      },
      "source": [
        "Analiticamente:"
      ]
    },
    {
      "cell_type": "code",
      "execution_count": null,
      "id": "bb5e678d",
      "metadata": {
        "id": "bb5e678d"
      },
      "outputs": [],
      "source": []
    },
    {
      "cell_type": "markdown",
      "id": "564ca694",
      "metadata": {
        "id": "564ca694"
      },
      "source": [
        "Por simulación: Construimos el modelo en varios pasos."
      ]
    },
    {
      "cell_type": "markdown",
      "id": "fbbc8571",
      "metadata": {
        "id": "fbbc8571"
      },
      "source": [
        "**PASO 1**. Defina las variables que intervienen en el modelo."
      ]
    },
    {
      "cell_type": "code",
      "execution_count": 71,
      "id": "37c5f31c",
      "metadata": {
        "id": "37c5f31c",
        "outputId": "38a113b9-55fb-442d-d075-7ea7e626d8a7",
        "colab": {
          "base_uri": "https://localhost:8080/"
        }
      },
      "outputs": [
        {
          "name": "stdout",
          "output_type": "stream",
          "text": [
            "Ingrese el valor de x_0: 4\n",
            "Ingrese el valor de a: 13\n",
            "Ingrese el valor de c: 0\n",
            "Si el valor de m está dado por 2 a una potencia ponga 0, en caso de que ya tenga el valor final de m ponga 1.0\n"
          ]
        }
      ],
      "source": [
        "# Parámetros del generador congruencial\n",
        "x_0 = input(\"Ingrese el valor de x_0: \") # Semilla inicial\n",
        "a = input(\"Ingrese el valor de a: \")\n",
        "c = input(\"Ingrese el valor de c: \")\n",
        "x_0 = int(x_0)\n",
        "a = int(a)\n",
        "c = int(c)\n",
        "pregunta = input(\"Si el valor de m está dado por 2 a una potencia ponga 0, en caso de que ya tenga el valor final de m ponga 1.\")"
      ]
    },
    {
      "cell_type": "markdown",
      "id": "d270399e",
      "metadata": {
        "id": "d270399e"
      },
      "source": [
        "**PASO 2**. Realice el programa para el método congruencial."
      ]
    },
    {
      "cell_type": "code",
      "execution_count": 72,
      "id": "2fd22e33",
      "metadata": {
        "id": "2fd22e33"
      },
      "outputs": [],
      "source": [
        "import numpy as np\n",
        "import random\n",
        "import math\n",
        "import matplotlib.pyplot as plt"
      ]
    },
    {
      "cell_type": "code",
      "execution_count": 73,
      "id": "32719c0f",
      "metadata": {
        "id": "32719c0f",
        "outputId": "8af3ee88-d9c1-4da6-9627-60bcbfda6840",
        "colab": {
          "base_uri": "https://localhost:8080/"
        }
      },
      "outputs": [
        {
          "name": "stdout",
          "output_type": "stream",
          "text": [
            "Ingrese el valor de la potencia de m: 6\n"
          ]
        }
      ],
      "source": [
        "if pregunta == '1':\n",
        "  m = input(\"Ingrese el valor de m: \")\n",
        "  m = int(m)\n",
        "elif pregunta == '0':\n",
        "  d = input(\"Ingrese el valor de la potencia de m: \")\n",
        "  d = int(d)\n",
        "  m = 2**d\n",
        "  m = int(m)"
      ]
    },
    {
      "cell_type": "code",
      "execution_count": 74,
      "id": "423546a4",
      "metadata": {
        "id": "423546a4",
        "outputId": "19813c57-dbdd-485f-bb24-541dac09da59",
        "colab": {
          "base_uri": "https://localhost:8080/"
        }
      },
      "outputs": [
        {
          "output_type": "stream",
          "name": "stdout",
          "text": [
            "52\n",
            "36\n",
            "20\n",
            "4\n",
            "52\n",
            "36\n",
            "20\n",
            "4\n",
            "52\n",
            "36\n",
            "20\n",
            "4\n",
            "52\n",
            "36\n",
            "20\n",
            "4\n",
            "52\n",
            "36\n",
            "20\n",
            "4\n",
            "52\n",
            "36\n",
            "20\n",
            "4\n",
            "52\n",
            "36\n",
            "20\n",
            "4\n",
            "52\n",
            "36\n",
            "20\n",
            "4\n",
            "52\n",
            "36\n",
            "20\n",
            "4\n",
            "52\n",
            "36\n",
            "20\n",
            "4\n",
            "52\n",
            "36\n",
            "20\n",
            "4\n",
            "52\n",
            "36\n",
            "20\n",
            "4\n",
            "52\n",
            "36\n",
            "20\n",
            "4\n",
            "52\n",
            "36\n",
            "20\n",
            "4\n",
            "52\n",
            "36\n",
            "20\n",
            "4\n",
            "52\n",
            "36\n",
            "20\n",
            "4\n"
          ]
        }
      ],
      "source": [
        "#X_i = (a(X_n) + c)mod m\n",
        "lista = []\n",
        "for i in range (m):\n",
        "  X = ((a*x_0) + c) % m\n",
        "  x_0 = X\n",
        "  lista.append(X)\n",
        "  print(X)"
      ]
    },
    {
      "cell_type": "code",
      "execution_count": 75,
      "id": "0d2847cf",
      "metadata": {
        "id": "0d2847cf",
        "outputId": "3bd78e8f-c934-4933-e729-83366ba4bb72",
        "colab": {
          "base_uri": "https://localhost:8080/"
        }
      },
      "outputs": [
        {
          "output_type": "stream",
          "name": "stdout",
          "text": [
            "[52, 36, 20, 4]\n",
            "4\n"
          ]
        }
      ],
      "source": [
        "repetidos = []\n",
        "d = 0\n",
        "d = int(d)\n",
        "for i in range (len(lista)):\n",
        "  for j in range (len(lista)):\n",
        "    if i!=j:\n",
        "      if lista[i] == lista[j] and lista[i] not in repetidos:\n",
        "        repetidos.append(lista[i])\n",
        "        d +=1\n",
        "print(repetidos)\n",
        "print(d)"
      ]
    }
  ],
  "metadata": {
    "kernelspec": {
      "display_name": "Python 3 (ipykernel)",
      "language": "python",
      "name": "python3"
    },
    "language_info": {
      "codemirror_mode": {
        "name": "ipython",
        "version": 3
      },
      "file_extension": ".py",
      "mimetype": "text/x-python",
      "name": "python",
      "nbconvert_exporter": "python",
      "pygments_lexer": "ipython3",
      "version": "3.7.3"
    },
    "colab": {
      "provenance": [],
      "include_colab_link": true
    }
  },
  "nbformat": 4,
  "nbformat_minor": 5
}