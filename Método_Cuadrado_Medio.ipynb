{
  "nbformat": 4,
  "nbformat_minor": 0,
  "metadata": {
    "colab": {
      "provenance": [],
      "authorship_tag": "ABX9TyOIaKyp7/iS9uhxXPqK9oNg",
      "include_colab_link": true
    },
    "kernelspec": {
      "name": "python3",
      "display_name": "Python 3"
    },
    "language_info": {
      "name": "python"
    }
  },
  "cells": [
    {
      "cell_type": "markdown",
      "metadata": {
        "id": "view-in-github",
        "colab_type": "text"
      },
      "source": [
        "<a href=\"https://colab.research.google.com/github/MartaPCastillo/Simulacion-I/blob/main/M%C3%A9todo_Cuadrado_Medio.ipynb\" target=\"_parent\"><img src=\"https://colab.research.google.com/assets/colab-badge.svg\" alt=\"Open In Colab\"/></a>"
      ]
    },
    {
      "cell_type": "markdown",
      "source": [
        "Método del cuadrado medio"
      ],
      "metadata": {
        "id": "EFRwfuxt2hLK"
      }
    },
    {
      "cell_type": "code",
      "source": [
        ">>> x_0 = input(\"Escriba un número de 4 dígitos: \")\n",
        ">>> x_0 = int(x_0)\n",
        "print(\"semilla =\", x_0)\n",
        ">>> n = input(\"Escriba cuántas veces quiere que se repita el proceso: \")\n",
        ">>> n = int(n)\n",
        ">>> contador = 2\n",
        ">>> contador = int(contador)\n",
        "\n",
        "for i in range (n):\n",
        "     cuadrado = x_0 ** 2\n",
        "     cuadrado = str(cuadrado)\n",
        "     print(\"cuadrado =\", cuadrado)\n",
        "     c = len(cuadrado)\n",
        "     if c % 2 == 0:\n",
        "        x_1 = cuadrado[2:6]\n",
        "        print(\"x_\", contador, \"=\", x_1)\n",
        "     else:\n",
        "        b = cuadrado.rjust(8, '0')\n",
        "        print(b)\n",
        "        x_1 = cuadrado[1:5]\n",
        "        print(\"x_\", contador, \"=\", x_1)\n",
        "\n",
        "     contador += 1\n",
        "     x_1 = int(x_1)\n",
        "     x_0 = x_1\n"
      ],
      "metadata": {
        "id": "gnf_DJU7n9tG",
        "outputId": "fff9c1f4-e5e5-4d88-b985-a6ee5cb8e39d",
        "colab": {
          "base_uri": "https://localhost:8080/"
        }
      },
      "execution_count": 4,
      "outputs": [
        {
          "output_type": "stream",
          "name": "stdout",
          "text": [
            "Escriba un número de 4 dígitos: 2124\n",
            "semilla = 2124\n",
            "Escriba cuántas veces quiere que se repita el proceso: 10\n",
            "cuadrado = 4511376\n",
            "04511376\n",
            "x_ 2 = 5113\n",
            "cuadrado = 26142769\n",
            "x_ 3 = 1427\n",
            "cuadrado = 2036329\n",
            "02036329\n",
            "x_ 4 = 0363\n",
            "cuadrado = 131769\n",
            "x_ 5 = 1769\n",
            "cuadrado = 3129361\n",
            "03129361\n",
            "x_ 6 = 1293\n",
            "cuadrado = 1671849\n",
            "01671849\n",
            "x_ 7 = 6718\n",
            "cuadrado = 45131524\n",
            "x_ 8 = 1315\n",
            "cuadrado = 1729225\n",
            "01729225\n",
            "x_ 9 = 7292\n",
            "cuadrado = 53173264\n",
            "x_ 10 = 1732\n",
            "cuadrado = 2999824\n",
            "02999824\n",
            "x_ 11 = 9998\n"
          ]
        }
      ]
    }
  ]
}