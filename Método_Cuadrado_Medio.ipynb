{
  "nbformat": 4,
  "nbformat_minor": 0,
  "metadata": {
    "colab": {
      "provenance": [],
      "authorship_tag": "ABX9TyOYQ9DZ0SZHzv8W8NsWIIbT",
      "include_colab_link": true
    },
    "kernelspec": {
      "name": "python3",
      "display_name": "Python 3"
    },
    "language_info": {
      "name": "python"
    }
  },
  "cells": [
    {
      "cell_type": "markdown",
      "metadata": {
        "id": "view-in-github",
        "colab_type": "text"
      },
      "source": [
        "<a href=\"https://colab.research.google.com/github/MartaPCastillo/Simulacion-I/blob/main/M%C3%A9todo_Cuadrado_Medio.ipynb\" target=\"_parent\"><img src=\"https://colab.research.google.com/assets/colab-badge.svg\" alt=\"Open In Colab\"/></a>"
      ]
    },
    {
      "cell_type": "markdown",
      "source": [
        "Método del cuadrado medio"
      ],
      "metadata": {
        "id": "EFRwfuxt2hLK"
      }
    },
    {
      "cell_type": "code",
      "source": [
        ">>> x_0 = input(\"Escriba un número de 4 dígitos: \")\n",
        ">>> x_0 = int(x_0)\n",
        "print(\"semilla =\", x_0)\n",
        ">>> n = input(\"Escriba cuántas veces quiere que se repita el proceso: \")\n",
        ">>> n = int(n)\n",
        ">>> contador = 2\n",
        ">>> contador = int(contador)\n",
        "\n",
        "for i in range (n):\n",
        "     cuadrado = x_0 ** 2\n",
        "     cuadrado = str(cuadrado)\n",
        "     print(\"cuadrado =\", cuadrado)\n",
        "     c = len(cuadrado)\n",
        "     if c % 2 == 0:\n",
        "        x_1 = cuadrado[2:6]\n",
        "        print(\"x_\", contador, \"=\", x_1)\n",
        "\n",
        "     else:\n",
        "        b = cuadrado.rjust(8, '0')\n",
        "        print(b)\n",
        "        x_1 = cuadrado[1:5]\n",
        "        print(\"x_\", contador, \"=\", x_1)\n",
        "\n",
        "     x_1 = int(x_1)\n",
        "     if x_1 == x_0 :\n",
        "        print (\"No se puede continuar\")\n",
        "        break\n",
        "\n",
        "     contador += 1\n",
        "     x_0 = x_1\n"
      ],
      "metadata": {
        "id": "gnf_DJU7n9tG"
      },
      "execution_count": null,
      "outputs": []
    }
  ]
}