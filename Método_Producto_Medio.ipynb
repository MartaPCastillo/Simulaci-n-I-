{
  "nbformat": 4,
  "nbformat_minor": 0,
  "metadata": {
    "colab": {
      "provenance": [],
      "authorship_tag": "ABX9TyOM4EcGCvgs8+AN3nyzG7jx",
      "include_colab_link": true
    },
    "kernelspec": {
      "name": "python3",
      "display_name": "Python 3"
    },
    "language_info": {
      "name": "python"
    }
  },
  "cells": [
    {
      "cell_type": "markdown",
      "metadata": {
        "id": "view-in-github",
        "colab_type": "text"
      },
      "source": [
        "<a href=\"https://colab.research.google.com/github/MartaPCastillo/Simulacion-I/blob/main/M%C3%A9todo_Producto_Medio.ipynb\" target=\"_parent\"><img src=\"https://colab.research.google.com/assets/colab-badge.svg\" alt=\"Open In Colab\"/></a>"
      ]
    },
    {
      "cell_type": "markdown",
      "source": [
        "Método del Producto Medio"
      ],
      "metadata": {
        "id": "Xqy06ctZwKx_"
      }
    },
    {
      "cell_type": "code",
      "source": [
        ">>> x_0 = input(\"Escriba un número de 3 dígitos: \")"
      ],
      "metadata": {
        "id": "_2PdgJ3wwNnO"
      },
      "execution_count": null,
      "outputs": []
    },
    {
      "cell_type": "code",
      "source": [
        ">>> x_1 = input(\"Escriba otro número de 3 dígitos: \")"
      ],
      "metadata": {
        "id": "3AhAzFeLwhSu"
      },
      "execution_count": null,
      "outputs": []
    },
    {
      "cell_type": "code",
      "source": [
        ">>> x_0 = int(x_0)\n",
        ">>> x_0"
      ],
      "metadata": {
        "id": "PiLTFPc5xavB",
        "colab": {
          "base_uri": "https://localhost:8080/"
        },
        "outputId": "ee0f245e-f2c3-4458-cb70-f292a6920630"
      },
      "execution_count": 37,
      "outputs": [
        {
          "output_type": "execute_result",
          "data": {
            "text/plain": [
              "56088"
            ]
          },
          "metadata": {},
          "execution_count": 37
        }
      ]
    },
    {
      "cell_type": "code",
      "source": [
        ">>> x_1 = int(x_1)\n",
        ">>> x_1"
      ],
      "metadata": {
        "colab": {
          "base_uri": "https://localhost:8080/"
        },
        "id": "5U_0FOdgxguI",
        "outputId": "a27e9ce1-7ba1-4b22-aa3c-d61edb2b81a8"
      },
      "execution_count": 38,
      "outputs": [
        {
          "output_type": "execute_result",
          "data": {
            "text/plain": [
              "560885608856088560885608856088560885608856088560885608856088560885608856088560885608856088560885608856088560885608856088560885608856088560885608856088560885608856088560885608856088560885608856088560885608856088560885608856088560885608856088560885608856088560885608856088560885608856088560885608856088560885608856088560885608856088560885608856088560885608856088560885608856088560885608856088560885608856088560885608856088560885608856088560885608856088560885608856088560885608856088560885608856088560885608856088560885608856088560885608856088560885608856088560885608856088560885608856088560885608856088560885608856088560885608856088560885608856088560885608856088560885608856088560885608856088560885608856088560885608856088560885608856088560885608856088560885608856088560885608856088560885608856088560885608856088560885608856088560885608856088560885608856088560885608856088560885608856088560885608856088560885608856088560885608856088560885608856088560885608856088560885608856088560885608856088560885608856088560885608856088560885608856088560885608856088560885608856088560885608856088560885608856088560885608856088560885608856088560885608856088560885608856088560885608856088560885608856088560885608856088560885608856088560885608856088560885608856088560885608856088560885608856088560885608856088560885608856088560885608856088560885608856088560885608856088560885608856088560885608856088560885608856088560885608856088560885608856088560885608856088560885608856088560885608856088560885608856088560885608856088560885608856088560885608856088560885608856088560885608856088560885608856088560885608856088560885608856088560885608856088560885608856088560885608856088560885608856088560885608856088560885608856088560885608856088560885608856088560885608856088560885608856088560885608856088560885608856088560885608856088560885608856088560885608856088560885608856088560885608856088560885608856088560885608856088560885608856088560885608856088560885608856088560885608856088560885608856088560885608856088560885608856088560885608856088560885608856088560885608856088560885608856088560885608856088560885608856088560885608856088560885608856088560885608856088560885608856088560885608856088560885608856088560885608856088560885608856088560885608856088560885608856088560885608856088560885608856088560885608856088"
            ]
          },
          "metadata": {},
          "execution_count": 38
        }
      ]
    },
    {
      "cell_type": "code",
      "source": [
        ">>> x_2 = x_0 * x_1\n",
        ">>> x_2"
      ],
      "metadata": {
        "colab": {
          "base_uri": "https://localhost:8080/"
        },
        "id": "wG7mDxbRw8OA",
        "outputId": "9c68332e-f1a6-4063-9594-ceb93b4f1e31"
      },
      "execution_count": null,
      "outputs": [
        {
          "output_type": "execute_result",
          "data": {
            "text/plain": [
              "56088"
            ]
          },
          "metadata": {},
          "execution_count": 11
        }
      ]
    },
    {
      "cell_type": "code",
      "source": [
        ">>> x_2 = str(x_2)\n",
        ">>> x_2"
      ],
      "metadata": {
        "colab": {
          "base_uri": "https://localhost:8080/",
          "height": 35
        },
        "id": "HMKxpfymxnGf",
        "outputId": "7cb48a4d-3415-4151-e23b-26fdc4d5715e"
      },
      "execution_count": null,
      "outputs": [
        {
          "output_type": "execute_result",
          "data": {
            "text/plain": [
              "'56088'"
            ],
            "application/vnd.google.colaboratory.intrinsic+json": {
              "type": "string"
            }
          },
          "metadata": {},
          "execution_count": 12
        }
      ]
    },
    {
      "cell_type": "code",
      "source": [
        ">>> c = len(x_2)\n",
        ">>> c"
      ],
      "metadata": {
        "colab": {
          "base_uri": "https://localhost:8080/"
        },
        "id": "DpfC2Z8wxwWn",
        "outputId": "01e514d3-5e81-4397-c671-40570f9d2142"
      },
      "execution_count": null,
      "outputs": [
        {
          "output_type": "execute_result",
          "data": {
            "text/plain": [
              "5"
            ]
          },
          "metadata": {},
          "execution_count": 13
        }
      ]
    },
    {
      "cell_type": "code",
      "source": [
        "if c % 2 == 0:\n",
        "     b = x_2.rjust(7, '0')\n",
        "     print(b)\n",
        "     x_3 = b[2:6]\n",
        "     print(x_3)\n",
        "else:\n",
        "     x_3 = x_2[1:4]\n",
        "     print(x_3)"
      ],
      "metadata": {
        "colab": {
          "base_uri": "https://localhost:8080/"
        },
        "id": "kHWQqywTyE1S",
        "outputId": "0b13400b-8abf-46b8-9039-36c6d3265c93"
      },
      "execution_count": null,
      "outputs": [
        {
          "output_type": "stream",
          "name": "stdout",
          "text": [
            "608\n"
          ]
        }
      ]
    },
    {
      "cell_type": "code",
      "source": [
        "for i in [0,1,2]:\n",
        "     x_2 = x_0 * x_1\n",
        "     x_2\n",
        "     x_2 = str(x_2)\n",
        "     x_2\n",
        "     c = len(x_2)\n",
        "     c\n",
        "     if c % 2 == 0:\n",
        "        b = x_2.rjust(7, '0')\n",
        "        print(b)\n",
        "        x_3 = b[2:6]\n",
        "        print(x_3)\n",
        "     else:\n",
        "        x_3 = x_2[1:4]\n",
        "        print(x_3)"
      ],
      "metadata": {
        "colab": {
          "base_uri": "https://localhost:8080/",
          "height": 297
        },
        "id": "Dv4hNsuJy2jX",
        "outputId": "b100b211-2992-4249-e455-133fef1ee9ef"
      },
      "execution_count": null,
      "outputs": [
        {
          "output_type": "error",
          "ename": "TypeError",
          "evalue": "can't multiply sequence by non-int of type 'str'",
          "traceback": [
            "\u001b[0;31m---------------------------------------------------------------------------\u001b[0m",
            "\u001b[0;31mTypeError\u001b[0m                                 Traceback (most recent call last)",
            "\u001b[0;32m<ipython-input-32-c3deb6e2e753>\u001b[0m in \u001b[0;36m<cell line: 1>\u001b[0;34m()\u001b[0m\n\u001b[1;32m      1\u001b[0m \u001b[0;32mfor\u001b[0m \u001b[0mi\u001b[0m \u001b[0;32min\u001b[0m \u001b[0;34m[\u001b[0m\u001b[0;36m0\u001b[0m\u001b[0;34m,\u001b[0m\u001b[0;36m1\u001b[0m\u001b[0;34m,\u001b[0m\u001b[0;36m2\u001b[0m\u001b[0;34m]\u001b[0m\u001b[0;34m:\u001b[0m\u001b[0;34m\u001b[0m\u001b[0;34m\u001b[0m\u001b[0m\n\u001b[0;32m----> 2\u001b[0;31m      \u001b[0mx_2\u001b[0m \u001b[0;34m=\u001b[0m \u001b[0mx_0\u001b[0m \u001b[0;34m*\u001b[0m \u001b[0mx_1\u001b[0m\u001b[0;34m\u001b[0m\u001b[0;34m\u001b[0m\u001b[0m\n\u001b[0m\u001b[1;32m      3\u001b[0m      \u001b[0mx_2\u001b[0m\u001b[0;34m\u001b[0m\u001b[0;34m\u001b[0m\u001b[0m\n\u001b[1;32m      4\u001b[0m      \u001b[0mx_2\u001b[0m \u001b[0;34m=\u001b[0m \u001b[0mstr\u001b[0m\u001b[0;34m(\u001b[0m\u001b[0mx_2\u001b[0m\u001b[0;34m)\u001b[0m\u001b[0;34m\u001b[0m\u001b[0;34m\u001b[0m\u001b[0m\n\u001b[1;32m      5\u001b[0m      \u001b[0mx_2\u001b[0m\u001b[0;34m\u001b[0m\u001b[0;34m\u001b[0m\u001b[0m\n",
            "\u001b[0;31mTypeError\u001b[0m: can't multiply sequence by non-int of type 'str'"
          ]
        }
      ]
    }
  ]
}