{
  "nbformat": 4,
  "nbformat_minor": 0,
  "metadata": {
    "colab": {
      "provenance": [],
      "authorship_tag": "ABX9TyNp02DEksX6cQ5tlNubisfP",
      "include_colab_link": true
    },
    "kernelspec": {
      "name": "python3",
      "display_name": "Python 3"
    },
    "language_info": {
      "name": "python"
    }
  },
  "cells": [
    {
      "cell_type": "markdown",
      "metadata": {
        "id": "view-in-github",
        "colab_type": "text"
      },
      "source": [
        "<a href=\"https://colab.research.google.com/github/MartaPCastillo/Simulacion-I/blob/main/M%C3%A9todo_Producto_Medio.ipynb\" target=\"_parent\"><img src=\"https://colab.research.google.com/assets/colab-badge.svg\" alt=\"Open In Colab\"/></a>"
      ]
    },
    {
      "cell_type": "markdown",
      "source": [
        "Método del Producto Medio"
      ],
      "metadata": {
        "id": "Xqy06ctZwKx_"
      }
    },
    {
      "cell_type": "code",
      "source": [
        ">>> x_0 = input(\"Escriba un número de 3 dígitos: \")\n",
        ">>> x_1 = input(\"Escriba un número de 3 dígitos: \")\n",
        ">>> x_0 = int(x_0)\n",
        ">>> x_0\n",
        ">>> x_1 = int(x_1)\n",
        ">>> x_1\n",
        ">>> n = input(\"Escriba cuántas veces quiere que se repita el proceso: \")\n",
        ">>> n = int(n)\n",
        "\n",
        "for i in range (n):\n",
        "     x_2 = x_0 * x_1\n",
        "     x_2\n",
        "     x_2 = str(x_2)\n",
        "     x_2\n",
        "     c = len(x_2)\n",
        "     c\n",
        "     if c % 2 == 0:\n",
        "        b = x_2.rjust(7, '0')\n",
        "        print(b)\n",
        "        x_3 = b[2:5]\n",
        "        print(x_3)\n",
        "     else:\n",
        "        x_3 = x_2[1:4]\n",
        "        print(x_3)\n",
        "\n",
        "     x_3 = int(x_3)\n",
        "     x_0 = x_1\n",
        "     print(x_0)\n",
        "     x_1 = x_3\n",
        "     print(x_1)"
      ],
      "metadata": {
        "colab": {
          "base_uri": "https://localhost:8080/"
        },
        "id": "Dv4hNsuJy2jX",
        "outputId": "996c8fe9-0fbd-4c70-db04-b616b2bc5f69"
      },
      "execution_count": 10,
      "outputs": [
        {
          "output_type": "stream",
          "name": "stdout",
          "text": [
            "Escriba un número de 3 dígitos: 123\n",
            "Escriba un número de 3 dígitos: 456\n",
            "Escriba cuántas veces quiere que se repita el proceso: 5\n",
            "608\n",
            "456\n",
            "608\n",
            "0277248\n",
            "772\n",
            "608\n",
            "772\n",
            "0469376\n",
            "693\n",
            "772\n",
            "693\n",
            "0534996\n",
            "349\n",
            "693\n",
            "349\n",
            "0241857\n",
            "418\n",
            "349\n",
            "418\n"
          ]
        }
      ]
    }
  ]
}