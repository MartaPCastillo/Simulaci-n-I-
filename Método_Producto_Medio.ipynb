{
  "nbformat": 4,
  "nbformat_minor": 0,
  "metadata": {
    "colab": {
      "provenance": [],
      "authorship_tag": "ABX9TyPXpyXAK0ekJM8EqHBVwcpk",
      "include_colab_link": true
    },
    "kernelspec": {
      "name": "python3",
      "display_name": "Python 3"
    },
    "language_info": {
      "name": "python"
    }
  },
  "cells": [
    {
      "cell_type": "markdown",
      "metadata": {
        "id": "view-in-github",
        "colab_type": "text"
      },
      "source": [
        "<a href=\"https://colab.research.google.com/github/MartaPCastillo/Simulacion-I/blob/main/M%C3%A9todo_Producto_Medio.ipynb\" target=\"_parent\"><img src=\"https://colab.research.google.com/assets/colab-badge.svg\" alt=\"Open In Colab\"/></a>"
      ]
    },
    {
      "cell_type": "markdown",
      "source": [
        "Método del Producto Medio"
      ],
      "metadata": {
        "id": "Xqy06ctZwKx_"
      }
    },
    {
      "cell_type": "code",
      "source": [
        ">>> x_0 = input(\"Escriba un número de 3 dígitos: \")\n",
        ">>> x_1 = input(\"Escriba un número de 3 dígitos: \")\n",
        ">>> x_0 = int(x_0)\n",
        "print(\"x_0 =\", x_0)\n",
        ">>> x_1 = int(x_1)\n",
        "print(\"x_1 =\", x_1)\n",
        ">>> n = input(\"Escriba cuántas veces quiere que se repita el proceso: \")\n",
        ">>> n = int(n)\n",
        ">>> contador = 2\n",
        ">>> contador = int(contador)\n",
        "\n",
        "for i in range (n):\n",
        "     x_2 = x_0 * x_1\n",
        "     x_2 = str(x_2)\n",
        "     print(\"producto =\", x_2)\n",
        "     c = len(x_2)\n",
        "     if c % 2 == 0:\n",
        "        b = x_2.rjust(7, '0')\n",
        "        x_3 = b[2:5]\n",
        "        print(\"x_\", contador, \"=\", x_3)\n",
        "     else:\n",
        "        x_3 = x_2[1:4]\n",
        "        print(\"x_\", contador, \"=\", x_1)\n",
        "\n",
        "     contador += 1\n",
        "     x_3 = int(x_3)\n",
        "     x_0 = x_1\n",
        "     print(\"x_0 =\", x_0)\n",
        "     x_1 = x_3\n",
        "     print(\"x_1 =\",x_1)"
      ],
      "metadata": {
        "colab": {
          "base_uri": "https://localhost:8080/"
        },
        "id": "Dv4hNsuJy2jX",
        "outputId": "79c9d017-4b5a-49ed-98e8-876a9609bf51"
      },
      "execution_count": 35,
      "outputs": [
        {
          "output_type": "stream",
          "name": "stdout",
          "text": [
            "Escriba un número de 3 dígitos: 123\n",
            "Escriba un número de 3 dígitos: 456\n",
            "x_0 = 123\n",
            "x_1 = 456\n",
            "Escriba cuántas veces quiere que se repita el proceso: 10\n",
            "producto = 56088\n",
            "x_ 2 = 456\n",
            "x_0 = 456\n",
            "x_1 = 608\n",
            "producto = 277248\n",
            "x_ 3 = 772\n",
            "x_0 = 608\n",
            "x_1 = 772\n",
            "producto = 469376\n",
            "x_ 4 = 693\n",
            "x_0 = 772\n",
            "x_1 = 693\n",
            "producto = 534996\n",
            "x_ 5 = 349\n",
            "x_0 = 693\n",
            "x_1 = 349\n",
            "producto = 241857\n",
            "x_ 6 = 418\n",
            "x_0 = 349\n",
            "x_1 = 418\n",
            "producto = 145882\n",
            "x_ 7 = 458\n",
            "x_0 = 418\n",
            "x_1 = 458\n",
            "producto = 191444\n",
            "x_ 8 = 914\n",
            "x_0 = 458\n",
            "x_1 = 914\n",
            "producto = 418612\n",
            "x_ 9 = 186\n",
            "x_0 = 914\n",
            "x_1 = 186\n",
            "producto = 170004\n",
            "x_ 10 = 700\n",
            "x_0 = 186\n",
            "x_1 = 700\n",
            "producto = 130200\n",
            "x_ 11 = 302\n",
            "x_0 = 700\n",
            "x_1 = 302\n"
          ]
        }
      ]
    }
  ]
}