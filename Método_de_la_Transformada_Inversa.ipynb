{
  "nbformat": 4,
  "nbformat_minor": 0,
  "metadata": {
    "colab": {
      "provenance": [],
      "authorship_tag": "ABX9TyNL9oXKHs+i8GrAPZ/hu//Y",
      "include_colab_link": true
    },
    "kernelspec": {
      "name": "python3",
      "display_name": "Python 3"
    },
    "language_info": {
      "name": "python"
    }
  },
  "cells": [
    {
      "cell_type": "markdown",
      "metadata": {
        "id": "view-in-github",
        "colab_type": "text"
      },
      "source": [
        "<a href=\"https://colab.research.google.com/github/MartaPCastillo/Simulacion-I/blob/main/M%C3%A9todo_de_la_Transformada_Inversa.ipynb\" target=\"_parent\"><img src=\"https://colab.research.google.com/assets/colab-badge.svg\" alt=\"Open In Colab\"/></a>"
      ]
    },
    {
      "cell_type": "markdown",
      "source": [
        "###Método de la Transformada Inversa"
      ],
      "metadata": {
        "id": "L7miUEj4PkpT"
      }
    },
    {
      "cell_type": "markdown",
      "source": [
        "Dada la funcción de distribución acumulativa, debemos hacer $F(x) = U$ y despejar para $X$.\n",
        "\n",
        "En este caso tomaremops como ejemplo"
      ],
      "metadata": {
        "id": "O0i17CC0PpdL"
      }
    },
    {
      "cell_type": "markdown",
      "source": [
        "Puede ser simulada por el método de inversión mediante el siguiente algoritmo:\n",
        "\n",
        "0. Hacer $L = -\\frac{1}{\\lambda}$\n",
        "1. Generar $U \\sim U(0, 1)$\n",
        "2. Devolver $X = L \\cdot Ln(U)$"
      ],
      "metadata": {
        "id": "4gkhbNJwPpq0"
      }
    },
    {
      "cell_type": "code",
      "source": [
        "import random                                   # importamos el módulo random\n",
        "import numpy as np                              # importamos numpy con un alias (np)\n",
        "import matplotlib.pyplot as plt                 # ídem\n",
        "#from random import expovariate, gauss\n",
        "from statistics import mean, median, variance, stdev      # exportamos funciones especificas de statistic"
      ],
      "metadata": {
        "id": "58PwGk0LPp6i"
      },
      "execution_count": null,
      "outputs": []
    },
    {
      "cell_type": "code",
      "source": [
        "def expo(lamb=2, n=10):\n",
        "    #lamb,n=2,10\n",
        "    L = -1.0/lamb\n",
        "    lista = []\n",
        "    for i in range(n):\n",
        "        u=random.random()\n",
        "        X=L*np.log(u)\n",
        "        lista.append(X)\n",
        "    return lista"
      ],
      "metadata": {
        "id": "hit9PPwhP3Ny"
      },
      "execution_count": null,
      "outputs": []
    },
    {
      "cell_type": "code",
      "source": [
        "expo()"
      ],
      "metadata": {
        "id": "81iTjJdHP3IS"
      },
      "execution_count": null,
      "outputs": []
    },
    {
      "cell_type": "code",
      "source": [
        "G=expo(0.5,1000)\n",
        "print(G)"
      ],
      "metadata": {
        "id": "I9PoLyPZP3Ey"
      },
      "execution_count": null,
      "outputs": []
    },
    {
      "cell_type": "code",
      "source": [
        "mu=np.mean(G)\n",
        "print(mu)"
      ],
      "metadata": {
        "id": "G0njI0GqP8vq"
      },
      "execution_count": null,
      "outputs": []
    },
    {
      "cell_type": "code",
      "source": [
        "sigma2=np.var(G)\n",
        "print(sigma2)"
      ],
      "metadata": {
        "id": "zh7EARFcP8sp"
      },
      "execution_count": null,
      "outputs": []
    },
    {
      "cell_type": "code",
      "source": [
        "plt.hist(G, bins=50)"
      ],
      "metadata": {
        "id": "f4A0quuwP8p6"
      },
      "execution_count": null,
      "outputs": []
    },
    {
      "cell_type": "code",
      "source": [
        "plt.plot(G) #grafica la secuencia de números aleatorios"
      ],
      "metadata": {
        "id": "9m77d35dP8nK"
      },
      "execution_count": null,
      "outputs": []
    },
    {
      "cell_type": "code",
      "source": [
        "def cdf(muestra):\n",
        "  n=len(muestra)\n",
        "  x=np.sort(muestra)\n",
        "  y=np.arange(0,n)/n\n",
        "  return x,y"
      ],
      "metadata": {
        "id": "2IsNG5kpP3B6"
      },
      "execution_count": null,
      "outputs": []
    },
    {
      "cell_type": "code",
      "source": [
        "X,Y = cdf(G)"
      ],
      "metadata": {
        "id": "zhJH4BlhQFg5"
      },
      "execution_count": null,
      "outputs": []
    },
    {
      "cell_type": "code",
      "source": [
        "plt.step(X,Y)\n",
        "plt.axhline(np.mean(G), color=\"g\")"
      ],
      "metadata": {
        "id": "ZwaRUBA_QFeJ"
      },
      "execution_count": null,
      "outputs": []
    }
  ]
}