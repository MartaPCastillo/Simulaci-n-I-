{
  "cells": [
    {
      "cell_type": "markdown",
      "metadata": {
        "id": "view-in-github",
        "colab_type": "text"
      },
      "source": [
        "<a href=\"https://colab.research.google.com/github/MartaPCastillo/Simulacion-I/blob/main/M%C3%A9todo_del_Cuadrado_Medio.ipynb\" target=\"_parent\"><img src=\"https://colab.research.google.com/assets/colab-badge.svg\" alt=\"Open In Colab\"/></a>"
      ]
    },
    {
      "cell_type": "markdown",
      "id": "a5cc0a87",
      "metadata": {
        "id": "a5cc0a87"
      },
      "source": [
        "# Método del Cuadrado Medio"
      ]
    },
    {
      "cell_type": "markdown",
      "id": "0e218d98",
      "metadata": {
        "id": "0e218d98"
      },
      "source": [
        "### 1. Identifique las variables\n",
        "\n",
        "Aquellas cuyo comportamiento define el comportamiento o la evoución global del sistema real."
      ]
    },
    {
      "cell_type": "markdown",
      "id": "803801d5",
      "metadata": {
        "id": "803801d5"
      },
      "source": [
        "### 2. Modele las variables aleatorias\n",
        "\n",
        "Cosntruya un modelo fiel de la aleatoriedad de las variables del sistema. Simular el comportamiento del sistema implica generar muestras aleatorias de cada variable que sigan fielmente la distribución de probabilidad correspondiente."
      ]
    },
    {
      "cell_type": "markdown",
      "id": "33709223",
      "metadata": {
        "id": "33709223"
      },
      "source": [
        "### 3. Defina el modelo del sistema y los objetivos de la simulación\n",
        "\n",
        "Fije los objetivos y diseñe un modelo del sistema real que abstraiga sus propiedades más relevantes. Todo error en el modelo (o su implementación computacional) puede dar lugar a conclusiones equivocadas.\n",
        "\n",
        "Antes de experimentar con el modelo, asegurarse de que refleja fielmente el sistema real **validando** el mismo a partir de datos reales, para ello compare los resultados obtenidos de la simulación con los producidos por el sistema."
      ]
    },
    {
      "cell_type": "markdown",
      "id": "7f853065",
      "metadata": {
        "id": "7f853065"
      },
      "source": [
        "### 4. Diseñe el experimento\n",
        "\n",
        "Diseñe un experimento así como las ejecuciones concretas del mismo, los escenarios que desea estudiar para alcanzar los objetivos fijados. El experimento consiste en generar valores de las variables cuyo comportamiento define el comportamiento del sistema y analizar este ante dichos valores."
      ]
    },
    {
      "cell_type": "markdown",
      "id": "15ae61c8",
      "metadata": {
        "id": "15ae61c8"
      },
      "source": [
        "### 5. Repita el experimento $n$ veces\n",
        "\n",
        "Así dispondrá de $n$ observaciones sobre el comportamiento del sistema, lo que permitirá entender su funcionamiento así como evaluar el desempeño del mismo frente a los diversos escenarios establecidos."
      ]
    },
    {
      "cell_type": "markdown",
      "source": [
        "### 6. Muestre los resultados en una tabla\n",
        "\n",
        "De esta tendrán mejor presentación y se entenderán de mejor forma los resultados."
      ],
      "metadata": {
        "id": "dAa7BK8uvrTT"
      },
      "id": "dAa7BK8uvrTT"
    },
    {
      "cell_type": "markdown",
      "id": "51ce3fa1",
      "metadata": {
        "id": "51ce3fa1"
      },
      "source": [
        "Elabore un programa que genere número aleatorios mediante el Método del Cuadrado Medio\n",
        "\n",
        "1. Analíticamente.\n",
        "2. Mediante simulación."
      ]
    },
    {
      "cell_type": "markdown",
      "id": "6f1b4105",
      "metadata": {
        "id": "6f1b4105"
      },
      "source": [
        "Analiticamente:"
      ]
    },
    {
      "cell_type": "code",
      "execution_count": null,
      "id": "bb5e678d",
      "metadata": {
        "id": "bb5e678d"
      },
      "outputs": [],
      "source": []
    },
    {
      "cell_type": "markdown",
      "id": "564ca694",
      "metadata": {
        "id": "564ca694"
      },
      "source": [
        "Por simulación: Construimos el modelo en varios pasos."
      ]
    },
    {
      "cell_type": "markdown",
      "id": "fbbc8571",
      "metadata": {
        "id": "fbbc8571"
      },
      "source": [
        "**PASO 1**. Defina las variables que intervienen en el modelo."
      ]
    },
    {
      "cell_type": "code",
      "execution_count": 36,
      "id": "37c5f31c",
      "metadata": {
        "colab": {
          "base_uri": "https://localhost:8080/"
        },
        "id": "37c5f31c",
        "outputId": "e28650d0-cd69-405c-965d-e08ba9f4eb39"
      },
      "outputs": [
        {
          "name": "stdout",
          "output_type": "stream",
          "text": [
            "Escriba un número de 4 dígitos: 2365\n",
            "semilla = 2365\n",
            "Escriba cuántas veces quiere que se repita el proceso: 10\n"
          ]
        }
      ],
      "source": [
        "x_0 = input(\"Escriba un número de 4 dígitos: \")\n",
        "x_0 = int(x_0)\n",
        "print(\"semilla =\", x_0)\n",
        "n = input(\"Escriba cuántas veces quiere que se repita el proceso: \")\n",
        "n = int(n)\n",
        "contador = 2\n",
        "contador = int(contador)"
      ]
    },
    {
      "cell_type": "markdown",
      "id": "edb6b074",
      "metadata": {
        "id": "edb6b074"
      },
      "source": [
        "**PASO 2**. Genere números aleatorios."
      ]
    },
    {
      "cell_type": "code",
      "execution_count": 37,
      "id": "7d56c432",
      "metadata": {
        "colab": {
          "base_uri": "https://localhost:8080/"
        },
        "id": "7d56c432",
        "outputId": "8718a0d1-86ca-40b0-cc90-3be2e52d0aee"
      },
      "outputs": [
        {
          "output_type": "stream",
          "name": "stdout",
          "text": [
            "cuadrado = 5593225\n",
            "05593225\n",
            "x_ 2 = 5932\n",
            "cuadrado = 35188624\n",
            "x_ 3 = 1886\n",
            "cuadrado = 3556996\n",
            "03556996\n",
            "x_ 4 = 5569\n",
            "cuadrado = 31013761\n",
            "x_ 5 = 0137\n",
            "cuadrado = 18769\n",
            "00018769\n",
            "x_ 6 = 8769\n",
            "cuadrado = 76895361\n",
            "x_ 7 = 8953\n",
            "cuadrado = 80156209\n",
            "x_ 8 = 1562\n",
            "cuadrado = 2439844\n",
            "02439844\n",
            "x_ 9 = 4398\n",
            "cuadrado = 19342404\n",
            "x_ 10 = 3424\n",
            "cuadrado = 11723776\n",
            "x_ 11 = 7237\n"
          ]
        }
      ],
      "source": [
        "for i in range (n):\n",
        "     cuadrado = x_0 ** 2\n",
        "     cuadrado = str(cuadrado)\n",
        "     print(\"cuadrado =\", cuadrado)\n",
        "     c = len(cuadrado)\n",
        "     if c % 2 == 0:\n",
        "        x_1 = cuadrado[2:6]\n",
        "        print(\"x_\", contador, \"=\", x_1)\n",
        "\n",
        "     else:\n",
        "        b = cuadrado.rjust(8, '0')\n",
        "        print(b)\n",
        "        x_1 = cuadrado[1:5]\n",
        "        print(\"x_\", contador, \"=\", x_1)\n",
        "\n",
        "     x_1 = int(x_1)\n",
        "     if x_1 == x_0 :\n",
        "        print (\"No se puede continuar\")\n",
        "        break\n",
        "\n",
        "     contador += 1\n",
        "     x_0 = x_1"
      ]
    },
    {
      "cell_type": "markdown",
      "id": "d270399e",
      "metadata": {
        "id": "d270399e"
      },
      "source": [
        "**PASO 3**. Muestre los resultados en una tabla."
      ]
    },
    {
      "cell_type": "code",
      "execution_count": 52,
      "id": "2fd22e33",
      "metadata": {
        "id": "2fd22e33"
      },
      "outputs": [],
      "source": [
        "import numpy as np\n",
        "import random\n",
        "from prettytable import PrettyTable"
      ]
    },
    {
      "cell_type": "code",
      "execution_count": 53,
      "id": "32719c0f",
      "metadata": {
        "id": "32719c0f"
      },
      "outputs": [],
      "source": [
        "mytable = PrettyTable(['x_n', '(x_n)^2'])"
      ]
    },
    {
      "cell_type": "code",
      "execution_count": 54,
      "id": "423546a4",
      "metadata": {
        "colab": {
          "base_uri": "https://localhost:8080/"
        },
        "id": "423546a4",
        "outputId": "d2006cab-d3a7-461f-b5fd-751d6492bda4"
      },
      "outputs": [
        {
          "name": "stdout",
          "output_type": "stream",
          "text": [
            "Escriba un número de 4 dígitos: 2124\n",
            "semilla = 2124\n",
            "Escriba cuántas veces quiere que se repita el proceso: 10\n"
          ]
        }
      ],
      "source": [
        "x_0 = input(\"Escriba un número de 4 dígitos: \")\n",
        "x_0 = int(x_0)\n",
        "print(\"semilla =\", x_0)\n",
        "n = input(\"Escriba cuántas veces quiere que se repita el proceso: \")\n",
        "n = int(n)\n",
        "contador = 2\n",
        "contador = int(contador)"
      ]
    },
    {
      "cell_type": "code",
      "execution_count": 55,
      "id": "0d2847cf",
      "metadata": {
        "id": "0d2847cf"
      },
      "outputs": [],
      "source": [
        "for i in range (n):\n",
        "     cuadrado = x_0 ** 2\n",
        "     cuadrado = str(cuadrado)\n",
        "     c = len(cuadrado)\n",
        "     if c % 2 == 0:\n",
        "        x_1 = cuadrado[2:6]\n",
        "\n",
        "     else:\n",
        "        b = cuadrado.rjust(8, '0')\n",
        "        x_1 = cuadrado[1:5]\n",
        "\n",
        "     x_1 = int(x_1)\n",
        "     if x_1 == x_0 :\n",
        "        print (\"No se puede continuar\")\n",
        "        break\n",
        "\n",
        "     mytable.add_row([x_0, cuadrado])\n",
        "\n",
        "     contador += 1\n",
        "     x_0 = x_1"
      ]
    },
    {
      "cell_type": "code",
      "execution_count": 56,
      "id": "548249d8",
      "metadata": {
        "id": "548249d8"
      },
      "outputs": [],
      "source": [
        "mytable.add_autoindex('No.')"
      ]
    },
    {
      "cell_type": "code",
      "execution_count": 57,
      "id": "566325f4",
      "metadata": {
        "colab": {
          "base_uri": "https://localhost:8080/"
        },
        "id": "566325f4",
        "outputId": "b30eaf57-0760-45f6-e39b-0d5b35a9b8e1"
      },
      "outputs": [
        {
          "output_type": "stream",
          "name": "stdout",
          "text": [
            "+-----+------+----------+\n",
            "| No. | x_n  | (x_n)^2  |\n",
            "+-----+------+----------+\n",
            "|  1  | 2124 | 4511376  |\n",
            "|  2  | 5113 | 26142769 |\n",
            "|  3  | 1427 | 2036329  |\n",
            "|  4  | 363  |  131769  |\n",
            "|  5  | 1769 | 3129361  |\n",
            "|  6  | 1293 | 1671849  |\n",
            "|  7  | 6718 | 45131524 |\n",
            "|  8  | 1315 | 1729225  |\n",
            "|  9  | 7292 | 53173264 |\n",
            "|  10 | 1732 | 2999824  |\n",
            "+-----+------+----------+\n"
          ]
        }
      ],
      "source": [
        "print(mytable)"
      ]
    }
  ],
  "metadata": {
    "kernelspec": {
      "display_name": "Python 3 (ipykernel)",
      "language": "python",
      "name": "python3"
    },
    "language_info": {
      "codemirror_mode": {
        "name": "ipython",
        "version": 3
      },
      "file_extension": ".py",
      "mimetype": "text/x-python",
      "name": "python",
      "nbconvert_exporter": "python",
      "pygments_lexer": "ipython3",
      "version": "3.7.3"
    },
    "colab": {
      "provenance": [],
      "include_colab_link": true
    }
  },
  "nbformat": 4,
  "nbformat_minor": 5
}