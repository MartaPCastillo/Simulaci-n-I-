{
  "cells": [
    {
      "cell_type": "markdown",
      "metadata": {
        "id": "view-in-github",
        "colab_type": "text"
      },
      "source": [
        "<a href=\"https://colab.research.google.com/github/MartaPCastillo/Simulacion-I/blob/main/M%C3%A9todo_del_Producto_Medio.ipynb\" target=\"_parent\"><img src=\"https://colab.research.google.com/assets/colab-badge.svg\" alt=\"Open In Colab\"/></a>"
      ]
    },
    {
      "cell_type": "markdown",
      "id": "a5cc0a87",
      "metadata": {
        "id": "a5cc0a87"
      },
      "source": [
        "# Método del Producto Medio"
      ]
    },
    {
      "cell_type": "markdown",
      "id": "0e218d98",
      "metadata": {
        "id": "0e218d98"
      },
      "source": [
        "### 1. Identifique las variables\n",
        "\n",
        "Aquellas cuyo comportamiento define el comportamiento o la evoución global del sistema real."
      ]
    },
    {
      "cell_type": "markdown",
      "id": "803801d5",
      "metadata": {
        "id": "803801d5"
      },
      "source": [
        "### 2. Modele las variables aleatorias\n",
        "\n",
        "Cosntruya un modelo fiel de la aleatoriedad de las variables del sistema. Simular el comportamiento del sistema implica generar muestras aleatorias de cada variable que sigan fielmente la distribución de probabilidad correspondiente."
      ]
    },
    {
      "cell_type": "markdown",
      "id": "33709223",
      "metadata": {
        "id": "33709223"
      },
      "source": [
        "### 3. Defina el modelo del sistema y los objetivos de la simulación\n",
        "\n",
        "Fije los objetivos y diseñe un modelo del sistema real que abstraiga sus propiedades más relevantes. Todo error en el modelo (o su implementación computacional) puede dar lugar a conclusiones equivocadas.\n",
        "\n",
        "Antes de experimentar con el modelo, asegurarse de que refleja fielmente el sistema real **validando** el mismo a partir de datos reales, para ello compare los resultados obtenidos de la simulación con los producidos por el sistema."
      ]
    },
    {
      "cell_type": "markdown",
      "id": "7f853065",
      "metadata": {
        "id": "7f853065"
      },
      "source": [
        "### 4. Diseñe el experimento\n",
        "\n",
        "Diseñe un experimento así como las ejecuciones concretas del mismo, los escenarios que desea estudiar para alcanzar los objetivos fijados. El experimento consiste en generar valores de las variables cuyo comportamiento define el comportamiento del sistema y analizar este ante dichos valores."
      ]
    },
    {
      "cell_type": "markdown",
      "id": "15ae61c8",
      "metadata": {
        "id": "15ae61c8"
      },
      "source": [
        "### 5. Repita el experimento $n$ veces\n",
        "\n",
        "Así dispondrá de $n$ observaciones sobre el comportamiento del sistema, lo que permitirá entender su funcionamiento así como evaluar el desempeño del mismo frente a los diversos escenarios establecidos."
      ]
    },
    {
      "cell_type": "markdown",
      "source": [
        "### 6. Muestre los resultados en una tabla\n",
        "\n",
        "De esta tendrán mejor presentación y se entenderán de mejor forma los resultados."
      ],
      "metadata": {
        "id": "dAa7BK8uvrTT"
      },
      "id": "dAa7BK8uvrTT"
    },
    {
      "cell_type": "markdown",
      "id": "51ce3fa1",
      "metadata": {
        "id": "51ce3fa1"
      },
      "source": [
        "Elabore un programa que genere número aleatorios mediante el Método del Producto Medio\n",
        "\n",
        "1. Analíticamente.\n",
        "2. Mediante simulación."
      ]
    },
    {
      "cell_type": "markdown",
      "id": "6f1b4105",
      "metadata": {
        "id": "6f1b4105"
      },
      "source": [
        "Analiticamente:"
      ]
    },
    {
      "cell_type": "code",
      "execution_count": null,
      "id": "bb5e678d",
      "metadata": {
        "id": "bb5e678d"
      },
      "outputs": [],
      "source": []
    },
    {
      "cell_type": "markdown",
      "id": "564ca694",
      "metadata": {
        "id": "564ca694"
      },
      "source": [
        "Por simulación: Construimos el modelo en varios pasos."
      ]
    },
    {
      "cell_type": "markdown",
      "id": "fbbc8571",
      "metadata": {
        "id": "fbbc8571"
      },
      "source": [
        "**PASO 1**. Defina las variables que intervienen en el modelo."
      ]
    },
    {
      "cell_type": "code",
      "execution_count": 5,
      "id": "37c5f31c",
      "metadata": {
        "id": "37c5f31c",
        "outputId": "2f4ed739-0ce9-4631-e47e-0ea40232f393",
        "colab": {
          "base_uri": "https://localhost:8080/"
        }
      },
      "outputs": [
        {
          "name": "stdout",
          "output_type": "stream",
          "text": [
            "Escriba un número de 3 dígitos: 546\n",
            "Escriba un número de 3 dígitos: 879\n",
            "x_0 = 546\n",
            "x_1 = 879\n",
            "Escriba cuántas veces quiere que se repita el proceso: 10\n"
          ]
        }
      ],
      "source": [
        "x_0 = input(\"Escriba un número de 3 dígitos: \")\n",
        "x_1 = input(\"Escriba un número de 3 dígitos: \")\n",
        "x_0 = int(x_0)\n",
        "print(\"x_0 =\", x_0)\n",
        "x_1 = int(x_1)\n",
        "print(\"x_1 =\", x_1)\n",
        "n = input(\"Escriba cuántas veces quiere que se repita el proceso: \")\n",
        "n = int(n)\n",
        "contador = 2\n",
        "contador = int(contador)"
      ]
    },
    {
      "cell_type": "markdown",
      "id": "edb6b074",
      "metadata": {
        "id": "edb6b074"
      },
      "source": [
        "**PASO 2**. Genere números aleatorios."
      ]
    },
    {
      "cell_type": "code",
      "execution_count": 6,
      "id": "7d56c432",
      "metadata": {
        "id": "7d56c432",
        "outputId": "6ec6426a-dc0e-4e14-d961-45bfdc637222",
        "colab": {
          "base_uri": "https://localhost:8080/"
        }
      },
      "outputs": [
        {
          "output_type": "stream",
          "name": "stdout",
          "text": [
            "producto = 479934\n",
            "0479934\n",
            "x_ 2 = 799\n",
            "producto = 702321\n",
            "0702321\n",
            "x_ 3 = 023\n",
            "producto = 18377\n",
            "x_ 4 = 23\n",
            "producto = 19251\n",
            "x_ 5 = 837\n",
            "producto = 774225\n",
            "0774225\n",
            "x_ 6 = 742\n",
            "producto = 686350\n",
            "0686350\n",
            "x_ 7 = 863\n",
            "producto = 640346\n",
            "0640346\n",
            "x_ 8 = 403\n",
            "producto = 347789\n",
            "0347789\n",
            "x_ 9 = 477\n",
            "producto = 192231\n",
            "0192231\n",
            "x_ 10 = 922\n",
            "producto = 439794\n",
            "0439794\n",
            "x_ 11 = 397\n"
          ]
        }
      ],
      "source": [
        "for i in range (n):\n",
        "     x_2 = x_0 * x_1\n",
        "     x_2 = str(x_2)\n",
        "     print(\"producto =\", x_2)\n",
        "     c = len(x_2)\n",
        "     if c % 2 == 0:\n",
        "        b = x_2.rjust(7, '0')\n",
        "        print(b)\n",
        "        x_3 = b[2:5]\n",
        "        print(\"x_\", contador, \"=\", x_3)\n",
        "\n",
        "     else:\n",
        "        x_3 = x_2[1:4]\n",
        "        print(\"x_\", contador, \"=\", x_1)\n",
        "\n",
        "     if x_3 == '000':\n",
        "        print (\"No se puede continuar\")\n",
        "        break\n",
        "\n",
        "     contador += 1\n",
        "     x_3 = int(x_3)\n",
        "     x_0 = x_1\n",
        "     x_1 = x_3"
      ]
    },
    {
      "cell_type": "markdown",
      "id": "d270399e",
      "metadata": {
        "id": "d270399e"
      },
      "source": [
        "**PASO 3**. Muestre los resultados en una tabla."
      ]
    },
    {
      "cell_type": "code",
      "execution_count": 29,
      "id": "2fd22e33",
      "metadata": {
        "id": "2fd22e33"
      },
      "outputs": [],
      "source": [
        "import numpy as np\n",
        "import random\n",
        "from prettytable import PrettyTable"
      ]
    },
    {
      "cell_type": "code",
      "execution_count": 30,
      "id": "32719c0f",
      "metadata": {
        "id": "32719c0f"
      },
      "outputs": [],
      "source": [
        "mytable = PrettyTable(['x_(n-1)', 'x_n', '(x_n)(x_(n-1))'])"
      ]
    },
    {
      "cell_type": "code",
      "execution_count": 31,
      "id": "423546a4",
      "metadata": {
        "id": "423546a4",
        "outputId": "8cb0f073-d6e3-4e7d-9cd3-6b07982d8375",
        "colab": {
          "base_uri": "https://localhost:8080/"
        }
      },
      "outputs": [
        {
          "name": "stdout",
          "output_type": "stream",
          "text": [
            "Escriba un número de 3 dígitos: 123\n",
            "Escriba un número de 3 dígitos: 456\n",
            "x_0 = 123\n",
            "x_1 = 456\n",
            "Escriba cuántas veces quiere que se repita el proceso: 25\n"
          ]
        }
      ],
      "source": [
        "x_0 = input(\"Escriba un número de 3 dígitos: \")\n",
        "x_1 = input(\"Escriba un número de 3 dígitos: \")\n",
        "x_0 = int(x_0)\n",
        "print(\"x_0 =\", x_0)\n",
        "x_1 = int(x_1)\n",
        "print(\"x_1 =\", x_1)\n",
        "n = input(\"Escriba cuántas veces quiere que se repita el proceso: \")\n",
        "n = int(n)\n",
        "contador = 2\n",
        "contador = int(contador)"
      ]
    },
    {
      "cell_type": "code",
      "execution_count": 33,
      "id": "0d2847cf",
      "metadata": {
        "id": "0d2847cf"
      },
      "outputs": [],
      "source": [
        "for i in range (n):\n",
        "     x_2 = x_0 * x_1\n",
        "     x_2 = str(x_2)\n",
        "     c = len(x_2)\n",
        "     if c % 2 == 0:\n",
        "        b = x_2.rjust(7, '0')\n",
        "        x_3 = b[2:5]\n",
        "\n",
        "     else:\n",
        "        x_3 = x_2[1:4]\n",
        "\n",
        "     if x_3 == '000':\n",
        "        print (\"No se puede continuar\")\n",
        "        break\n",
        "     mytable.add_row([x_0, x_1, x_2])\n",
        "\n",
        "     contador += 1\n",
        "     x_3 = int(x_3)\n",
        "     x_0 = x_1\n",
        "     x_1 = x_3"
      ]
    },
    {
      "cell_type": "code",
      "execution_count": 34,
      "id": "548249d8",
      "metadata": {
        "id": "548249d8"
      },
      "outputs": [],
      "source": [
        "mytable.add_autoindex('No.')"
      ]
    },
    {
      "cell_type": "code",
      "execution_count": 35,
      "id": "566325f4",
      "metadata": {
        "id": "566325f4",
        "outputId": "cf87ae0f-04db-40cb-de8a-e1e45992c80b",
        "colab": {
          "base_uri": "https://localhost:8080/"
        }
      },
      "outputs": [
        {
          "output_type": "stream",
          "name": "stdout",
          "text": [
            "+-----+---------+-----+----------------+\n",
            "| No. | x_(n-1) | x_n | (x_n)(x_(n-1)) |\n",
            "+-----+---------+-----+----------------+\n",
            "|  1  |   123   | 456 |     56088      |\n",
            "|  2  |   456   | 608 |     277248     |\n",
            "|  3  |   608   | 772 |     469376     |\n",
            "|  4  |   772   | 693 |     534996     |\n",
            "|  5  |   693   | 349 |     241857     |\n",
            "|  6  |   349   | 418 |     145882     |\n",
            "|  7  |   418   | 458 |     191444     |\n",
            "|  8  |   458   | 914 |     418612     |\n",
            "|  9  |   914   | 186 |     170004     |\n",
            "|  10 |   186   | 700 |     130200     |\n",
            "|  11 |   700   | 302 |     211400     |\n",
            "|  12 |   302   | 114 |     34428      |\n",
            "|  13 |   114   | 442 |     50388      |\n",
            "|  14 |   442   |  38 |     16796      |\n",
            "|  15 |    38   | 679 |     25802      |\n",
            "|  16 |   679   | 580 |     393820     |\n",
            "|  17 |   580   | 938 |     544040     |\n",
            "|  18 |   938   | 440 |     412720     |\n",
            "|  19 |   440   | 127 |     55880      |\n",
            "|  20 |   127   | 588 |     74676      |\n",
            "|  21 |   588   | 467 |     274596     |\n",
            "|  22 |   467   | 745 |     347915     |\n",
            "|  23 |   745   | 479 |     356855     |\n",
            "|  24 |   479   | 568 |     272072     |\n",
            "|  25 |   568   | 720 |     408960     |\n",
            "|  26 |   720   |  89 |     64080      |\n",
            "|  27 |    89   | 408 |     36312      |\n",
            "|  28 |   408   | 631 |     257448     |\n",
            "|  29 |   631   | 574 |     362194     |\n",
            "|  30 |   574   | 621 |     356454     |\n",
            "|  31 |   621   | 564 |     350244     |\n",
            "|  32 |   564   | 502 |     283128     |\n",
            "|  33 |   502   | 831 |     417162     |\n",
            "|  34 |   831   | 171 |     142101     |\n",
            "|  35 |   171   | 421 |     71991      |\n",
            "|  36 |   421   | 199 |     83779      |\n",
            "|  37 |   199   | 377 |     75023      |\n",
            "|  38 |   377   | 502 |     189254     |\n",
            "|  39 |   502   | 892 |     447784     |\n",
            "|  40 |   892   | 477 |     425484     |\n",
            "|  41 |   477   | 254 |     121158     |\n",
            "|  42 |   254   | 211 |     53594      |\n",
            "|  43 |   211   | 359 |     75749      |\n",
            "|  44 |   359   | 574 |     206066     |\n",
            "|  45 |   574   |  60 |     34440      |\n",
            "|  46 |    60   | 444 |     26640      |\n",
            "|  47 |   444   | 664 |     294816     |\n",
            "|  48 |   664   | 948 |     629472     |\n",
            "|  49 |   948   | 294 |     278712     |\n",
            "|  50 |   294   | 787 |     231378     |\n",
            "+-----+---------+-----+----------------+\n"
          ]
        }
      ],
      "source": [
        "print(mytable)"
      ]
    }
  ],
  "metadata": {
    "kernelspec": {
      "display_name": "Python 3 (ipykernel)",
      "language": "python",
      "name": "python3"
    },
    "language_info": {
      "codemirror_mode": {
        "name": "ipython",
        "version": 3
      },
      "file_extension": ".py",
      "mimetype": "text/x-python",
      "name": "python",
      "nbconvert_exporter": "python",
      "pygments_lexer": "ipython3",
      "version": "3.7.3"
    },
    "colab": {
      "provenance": [],
      "include_colab_link": true
    }
  },
  "nbformat": 4,
  "nbformat_minor": 5
}