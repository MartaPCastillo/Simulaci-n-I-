{
  "nbformat": 4,
  "nbformat_minor": 0,
  "metadata": {
    "colab": {
      "provenance": [],
      "authorship_tag": "ABX9TyOD73NUPf0y8SLJPLVaTXM4",
      "include_colab_link": true
    },
    "kernelspec": {
      "name": "python3",
      "display_name": "Python 3"
    },
    "language_info": {
      "name": "python"
    }
  },
  "cells": [
    {
      "cell_type": "markdown",
      "metadata": {
        "id": "view-in-github",
        "colab_type": "text"
      },
      "source": [
        "<a href=\"https://colab.research.google.com/github/MartaPCastillo/Simulacion-I/blob/main/Prueba%20Kolmogorov-Smirnov.ipynb\" target=\"_parent\"><img src=\"https://colab.research.google.com/assets/colab-badge.svg\" alt=\"Open In Colab\"/></a>"
      ]
    },
    {
      "cell_type": "markdown",
      "source": [
        "Prueba Kolmogorov-Smirnov"
      ],
      "metadata": {
        "id": "-iuoNggoWeuB"
      }
    },
    {
      "cell_type": "markdown",
      "source": [
        "1. Ordenar de mayor a menor los números aleatorios."
      ],
      "metadata": {
        "id": "pFYb5v6FWpqJ"
      }
    },
    {
      "cell_type": "code",
      "source": [
        "import random\n",
        "import numpy as np\n",
        "\n",
        "\n",
        "n = 5\n",
        "n = int(n)\n",
        "numbers = []\n",
        "D1 = []\n",
        "for i in range(n):\n",
        "    numbers.append(random.uniform(0, 1))\n",
        "print(numbers)\n",
        "\n",
        "\n",
        "for j in n:\n",
        "    X = sorted(numbers, reverse=True)\n",
        "    print(X)\n",
        "    D1.append(abs(i/n - X))\n",
        "print(D1)\n",
        "max_value = max(D1)\n",
        "print(max_value)"
      ],
      "metadata": {
        "id": "iiSVsSMnXdKx"
      },
      "execution_count": null,
      "outputs": []
    },
    {
      "cell_type": "markdown",
      "source": [
        "Calculamos D+ = max |i/n - x_i|\n",
        "               1<i<n"
      ],
      "metadata": {
        "id": "muvgU_Cna16a"
      }
    },
    {
      "cell_type": "code",
      "source": [
        "D1.append(abs(i/n - X_i))\n",
        "max_value = max(D1)\n",
        "print(max_value)"
      ],
      "metadata": {
        "colab": {
          "base_uri": "https://localhost:8080/"
        },
        "id": "A0D4Atc8b1ia",
        "outputId": "7402ce63-7d21-42a6-b9ac-f687a652d489"
      },
      "execution_count": 39,
      "outputs": [
        {
          "output_type": "stream",
          "name": "stdout",
          "text": [
            "0.9894041298402985\n"
          ]
        }
      ]
    },
    {
      "cell_type": "code",
      "source": [
        "D1 = []\n",
        "for i in X:\n",
        "  for j in X:\n",
        "    D1.append(abs(i/n - j))\n",
        "print(D1)\n",
        "max_value = max(D1)\n",
        "print(max_value)"
      ],
      "metadata": {
        "colab": {
          "base_uri": "https://localhost:8080/"
        },
        "id": "fokY5ZHLdiwK",
        "outputId": "8153e5a7-175b-4b02-d8b2-a0f7d17a5fde"
      },
      "execution_count": 56,
      "outputs": [
        {
          "output_type": "stream",
          "name": "stdout",
          "text": [
            "[0.7536624818347716, 0.6351947024191423, 0.4148941864556114, 0.1269835732077171, 0.09023520909603297, 0.7773560377178974, 0.6588882583022682, 0.4385877423387372, 0.15067712909084297, 0.11392876497915883, 0.8214161409106036, 0.7029483614949743, 0.4826478455314434, 0.19473723228354917, 0.15798886817186503, 0.8789982635601824, 0.7605304841445532, 0.5402299681810222, 0.252319354933128, 0.21557099082144388, 0.8863479363825193, 0.76788015696689, 0.5475796410033591, 0.25966902775546485, 0.2229206636437807]\n",
            "0.8863479363825193\n"
          ]
        }
      ]
    }
  ]
}