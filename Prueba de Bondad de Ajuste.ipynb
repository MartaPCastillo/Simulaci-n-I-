{
  "nbformat": 4,
  "nbformat_minor": 0,
  "metadata": {
    "colab": {
      "provenance": [],
      "authorship_tag": "ABX9TyOyai3MyOVvpRPnF/u+NFEt",
      "include_colab_link": true
    },
    "kernelspec": {
      "name": "python3",
      "display_name": "Python 3"
    },
    "language_info": {
      "name": "python"
    }
  },
  "cells": [
    {
      "cell_type": "markdown",
      "metadata": {
        "id": "view-in-github",
        "colab_type": "text"
      },
      "source": [
        "<a href=\"https://colab.research.google.com/github/MartaPCastillo/Simulacion-I/blob/main/Prueba%20de%20Bondad%20de%20Ajuste.ipynb\" target=\"_parent\"><img src=\"https://colab.research.google.com/assets/colab-badge.svg\" alt=\"Open In Colab\"/></a>"
      ]
    },
    {
      "cell_type": "markdown",
      "source": [
        "Prueba de bondad de ajuste"
      ],
      "metadata": {
        "id": "GoENxNqN0UPd"
      }
    },
    {
      "cell_type": "code",
      "source": [
        "import openpyxl\n",
        "\n",
        "wb = openpyxl.load_workbook('/content/Ejercicio 3.xlsx')\n",
        "\n",
        "print(wb.sheetnames)\n"
      ],
      "metadata": {
        "id": "D9aShVOozoL4",
        "outputId": "4f7b074e-d65e-4542-83bf-81fbeebb8ce6",
        "colab": {
          "base_uri": "https://localhost:8080/"
        }
      },
      "execution_count": 18,
      "outputs": [
        {
          "output_type": "stream",
          "name": "stdout",
          "text": [
            "['Datos Ejercicio 3']\n"
          ]
        }
      ]
    },
    {
      "cell_type": "code",
      "source": [
        "import pandas as pd\n",
        "import numpy as np\n",
        "\n",
        "datos = pd.read_excel (io = '/content/Ejercicio 3.xlsx',\n",
        "                         header = 0, names = None, index_col = None,\n",
        "                         engine = 'openpyxl')\n",
        "\n",
        "\n",
        "print(datos.sort_values(by=['Unnamed: 0','Unnamed: 1'], ascending = [True, True]))\n",
        "df = pd.DataFrame(np.sort(datos.values, axis = 0), index = datos.index, columns = datos.columns)\n",
        "print (df)"
      ],
      "metadata": {
        "id": "eVZ2sgWxz10h",
        "outputId": "c299c91b-b7b3-4a38-ce6d-a764d51f1792",
        "colab": {
          "base_uri": "https://localhost:8080/"
        }
      },
      "execution_count": 49,
      "outputs": [
        {
          "output_type": "stream",
          "name": "stdout",
          "text": [
            "   Unnamed: 0  Unnamed: 1  Unnamed: 2  Unnamed: 3  Unnamed: 4  Unnamed: 5  \\\n",
            "2           7          50           5          91          77          18   \n",
            "0          38          33          25           5          69          35   \n",
            "1          50          46          95          42          49          11   \n",
            "3          91          36          48          88          52          76   \n",
            "\n",
            "   Unnamed: 6  Unnamed: 7  Unnamed: 8  Unnamed: 9  \n",
            "2          21           4          17          62  \n",
            "0          98          52          12          79  \n",
            "1          78          34           2          43  \n",
            "3          99          73          82          90  \n",
            "   Unnamed: 0  Unnamed: 1  Unnamed: 2  Unnamed: 3  Unnamed: 4  Unnamed: 5  \\\n",
            "0           7          33           5           5          49          11   \n",
            "1          38          36          25          42          52          18   \n",
            "2          50          46          48          88          69          35   \n",
            "3          91          50          95          91          77          76   \n",
            "\n",
            "   Unnamed: 6  Unnamed: 7  Unnamed: 8  Unnamed: 9  \n",
            "0          21           4           2          43  \n",
            "1          78          34          12          62  \n",
            "2          98          52          17          79  \n",
            "3          99          73          82          90  \n"
          ]
        }
      ]
    }
  ]
}