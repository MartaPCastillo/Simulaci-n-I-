{
  "nbformat": 4,
  "nbformat_minor": 0,
  "metadata": {
    "colab": {
      "provenance": [],
      "authorship_tag": "ABX9TyODdvconiprgNCav1Kvk0gr",
      "include_colab_link": true
    },
    "kernelspec": {
      "name": "python3",
      "display_name": "Python 3"
    },
    "language_info": {
      "name": "python"
    }
  },
  "cells": [
    {
      "cell_type": "markdown",
      "metadata": {
        "id": "view-in-github",
        "colab_type": "text"
      },
      "source": [
        "<a href=\"https://colab.research.google.com/github/MartaPCastillo/Simulacion-I/blob/main/Prueba%20de%20Bondad%20de%20Ajuste.ipynb\" target=\"_parent\"><img src=\"https://colab.research.google.com/assets/colab-badge.svg\" alt=\"Open In Colab\"/></a>"
      ]
    },
    {
      "cell_type": "markdown",
      "source": [
        "Prueba de bondad de ajuste"
      ],
      "metadata": {
        "id": "GoENxNqN0UPd"
      }
    },
    {
      "cell_type": "code",
      "source": [
        "import numpy as np\n",
        "\n",
        "#Solicitamos la cantidad de clases y el total de observaciones en la muestra\n",
        "n = input('Número de clases: ')\n",
        "n = int (n)\n",
        "T = input('Total de observaciones: ')\n",
        "T = int(T)\n",
        "\n",
        "#Calculamos la frecuencia esperada en cada clase\n",
        "E = int(T/n)\n",
        "print (\"Frecuencia esperada en la clase i es: \", E)\n",
        "\n",
        "#iniciamos y definimos un contador e inciamos la variable suma\n",
        "contador = 0\n",
        "contador = int(contador)\n",
        "\n",
        "suma=0\n",
        "\n",
        "#definimos una lista vacia\n",
        "lista=[]\n",
        "#disponemos un ciclo de n vueltas\n",
        "for i in range(n):\n",
        "    O = input(\"Frecuencia observada en la clase\" + str(contador + 1) + \": \")\n",
        "    O = int(O)\n",
        "    lista.append(O)\n",
        "    contador += 1\n",
        "    #indicamos como se realizará la suma\n",
        "    suma = suma + O\n",
        "\n",
        "#imprimimos la lista y la suma\n",
        "print(lista)\n",
        "print(\"La suma de las frecuencias observadas es:\", suma)\n",
        "\n",
        "#hacemos un array con la lista para restarle a cada valor la frecuencia esperada\n",
        "a = np.array([lista])\n",
        "a = a - E\n",
        "#imprimimos los valores resultantes de la resta\n",
        "print(a)\n",
        "#hacemos un array con la lista para elevar cada valor al cuadrado\n",
        "b = np.array([a])\n",
        "b = b ** 2\n",
        "#imprimimos los valores al cuadrado\n",
        "print(b)\n",
        "#hacemos un array con la lista para dividir cada valor entre la frecuencia esperada\n",
        "c = np.array([b])\n",
        "c = b / E\n",
        "#imprimimos los resultados de cada división\n",
        "print(c)\n",
        "#hacemos la suma de todos los resultados de la división\n",
        "suma1 = np.append(c, np.sum(c))\n",
        "#imprimimos el valor de Ji cuadrada\n",
        "print(\"El valor de X^2_c es:\", np.sum(c))\n",
        "#Evaluamos, tomando n-1 grados de libertad, y suponiendo que este código siempre será para n = 5, que nuestro valor de Ji cuadrada_c sea menor a 9.48 (valor de Ji cuadrada en la tabla) y obtenemos la conclusión\n",
        "if np.sum(c) < 9.48:\n",
        "  print (\"Conclusión: No se rechaza H_0. Los valores de la muestra provienen de una distribución uniforme\")\n",
        "else:\n",
        "  print (\"Conclusión: Se rechaza H_0. Los valores de la muestra no provienen una distribución uniforme\")"
      ],
      "metadata": {
        "colab": {
          "base_uri": "https://localhost:8080/"
        },
        "id": "K4Ix-gt67Nbd",
        "outputId": "240190b9-1511-44f4-97e4-f8a0aba88c54"
      },
      "execution_count": 77,
      "outputs": [
        {
          "output_type": "stream",
          "name": "stdout",
          "text": [
            "Número de clases: 5\n",
            "Total de observaciones: 40\n",
            "Frecuencia esperada en la clase i es:  8\n",
            "Frecuencia observada en la clase1: 9\n",
            "Frecuencia observada en la clase2: 7\n",
            "Frecuencia observada en la clase3: 9\n",
            "Frecuencia observada en la clase4: 7\n",
            "Frecuencia observada en la clase5: 8\n",
            "[9, 7, 9, 7, 8]\n",
            "La suma de las frecuencias observadas es: 40\n",
            "[[ 1 -1  1 -1  0]]\n",
            "[[[1 1 1 1 0]]]\n",
            "[[[0.125 0.125 0.125 0.125 0.   ]]]\n",
            "El valor de X^2_c es: 0.5\n",
            "Conclusión: No se rechaza H_0. Los valores de la muestra provienen de una distribución uniforme\n"
          ]
        }
      ]
    }
  ]
}