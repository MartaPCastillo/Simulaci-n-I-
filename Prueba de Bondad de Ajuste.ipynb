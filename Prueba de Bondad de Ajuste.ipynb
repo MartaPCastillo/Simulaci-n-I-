{
  "nbformat": 4,
  "nbformat_minor": 0,
  "metadata": {
    "colab": {
      "provenance": [],
      "authorship_tag": "ABX9TyOGaijEhKNbcgUrs/nkC9V/",
      "include_colab_link": true
    },
    "kernelspec": {
      "name": "python3",
      "display_name": "Python 3"
    },
    "language_info": {
      "name": "python"
    }
  },
  "cells": [
    {
      "cell_type": "markdown",
      "metadata": {
        "id": "view-in-github",
        "colab_type": "text"
      },
      "source": [
        "<a href=\"https://colab.research.google.com/github/MartaPCastillo/Simulacion-I/blob/main/Prueba%20de%20Bondad%20de%20Ajuste.ipynb\" target=\"_parent\"><img src=\"https://colab.research.google.com/assets/colab-badge.svg\" alt=\"Open In Colab\"/></a>"
      ]
    },
    {
      "cell_type": "markdown",
      "source": [
        "Prueba de bondad de ajuste"
      ],
      "metadata": {
        "id": "GoENxNqN0UPd"
      }
    },
    {
      "cell_type": "code",
      "source": [
        "\n",
        "from IPython.display import clear_output\n",
        "n = input(\"Ingrese el número de clases que desee: \")\n",
        "n = int(n)\n",
        "T = input(\"Ingrese el número total de datos: \")\n",
        "T = int(T)\n",
        "contador = 0\n",
        "contador = int(contador)\n",
        "\n",
        "\n",
        "for i in range (T):\n",
        "\n",
        "    x_0 = input(\"Ingrese valor: \")\n",
        "    x_0 = str(x_0)\n",
        "\n",
        "    contador += 1\n",
        "    print(\"x_\", contador, \"=\", x_0)"
      ],
      "metadata": {
        "id": "HUE37DVy0XZM"
      },
      "execution_count": null,
      "outputs": []
    },
    {
      "cell_type": "code",
      "source": [
        "4numeros_ordenados = sorted([77, 56, -3, 48, 93])\n",
        "\n",
        "print(\"ordenados en orden ascendente: \", numeros_ordenados)"
      ],
      "metadata": {
        "colab": {
          "base_uri": "https://localhost:8080/"
        },
        "id": "Ag7VdUPp_ym9",
        "outputId": "1ce8059f-e08b-4850-86b7-727b28216320"
      },
      "execution_count": 22,
      "outputs": [
        {
          "output_type": "stream",
          "name": "stdout",
          "text": [
            "ordenados en orden ascendente:  [-3, 48, 56, 77, 93]\n"
          ]
        }
      ]
    }
  ]
}