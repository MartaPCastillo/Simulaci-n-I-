{
  "cells": [
    {
      "cell_type": "markdown",
      "metadata": {
        "id": "view-in-github",
        "colab_type": "text"
      },
      "source": [
        "<a href=\"https://colab.research.google.com/github/MartaPCastillo/Simulacion-I/blob/main/Prueba_Chi_cuadrada.ipynb\" target=\"_parent\"><img src=\"https://colab.research.google.com/assets/colab-badge.svg\" alt=\"Open In Colab\"/></a>"
      ]
    },
    {
      "cell_type": "markdown",
      "id": "a5cc0a87",
      "metadata": {
        "id": "a5cc0a87"
      },
      "source": [
        "# Prueba Chi Cuadrada"
      ]
    },
    {
      "cell_type": "markdown",
      "id": "0e218d98",
      "metadata": {
        "id": "0e218d98"
      },
      "source": [
        "### 1. Identifique las variables\n",
        "\n",
        "Aquellas cuyo comportamiento define el comportamiento o la evoución global del sistema real."
      ]
    },
    {
      "cell_type": "markdown",
      "id": "3ebcd0f2",
      "metadata": {
        "id": "3ebcd0f2"
      },
      "source": [
        "### 2. Determine la distribución de probabilidad\n",
        "\n",
        "Elija el tipo de distribución de probabilidad que mejor defina el comportamiento aleatorio de cada una de las variables del sistema identificadas en el paso anterior."
      ]
    },
    {
      "cell_type": "markdown",
      "id": "803801d5",
      "metadata": {
        "id": "803801d5"
      },
      "source": [
        "### 3. Modele las variables aleatorias\n",
        "\n",
        "Cosntruya un modelo fiel de la aleatoriedad de las variables del sistema. Simular el comportamiento del sistema implica generar muestras aleatorias de cada variable que sigan fielmente la distribución de probabilidad correspondiente."
      ]
    },
    {
      "cell_type": "markdown",
      "id": "33709223",
      "metadata": {
        "id": "33709223"
      },
      "source": [
        "### 4. Defina el modelo del sistema y los objetivos de la simulación\n",
        "\n",
        "Fije los objetivos y diseñe un modelo del sistema real que abstraiga sus propiedades más relevantes. Todo error en el modelo (o su implementación computacional) puede dar lugar a conclusiones equivocadas.\n",
        "\n",
        "Antes de experimentar con el modelo, asegurarse de que refleja fielmente el sistema real **validando** el mismo a partir de datos reales, para ello compare los resultados obtenidos de la simulación con los producidos por el sistema."
      ]
    },
    {
      "cell_type": "markdown",
      "id": "7f853065",
      "metadata": {
        "id": "7f853065"
      },
      "source": [
        "### 5. Diseñe el experimento\n",
        "\n",
        "Diseñe un experimento así como las ejecuciones concretas del mismo, los escenarios que desea estudiar para alcanzar los objetivos fijados. El experimento consiste en generar valores de las variables cuyo comportamiento define el comportamiento del sistema y analizar este ante dichos valores."
      ]
    },
    {
      "cell_type": "markdown",
      "id": "15ae61c8",
      "metadata": {
        "id": "15ae61c8"
      },
      "source": [
        "### 6. Repita el experimento $n$ veces\n",
        "\n",
        "Así dispondrá de $n$ observaciones sobre el comportamiento del sistema, lo que permitirá entender su funcionamiento así como evaluar el desempeño del mismo frente a los diversos escenarios establecidos.\n",
        "\n",
        "El **método Monte Carlo** se basa en la **Ley Fuerte de los Grandes Números** y el **Teorema del Límite Central**."
      ]
    },
    {
      "cell_type": "markdown",
      "id": "51ce3fa1",
      "metadata": {
        "id": "51ce3fa1"
      },
      "source": [
        "Elabore un programa que haga la prueba Chi cuadrada.\n",
        "\n",
        "1. Analíticamente.\n",
        "2. Mediante simulación."
      ]
    },
    {
      "cell_type": "markdown",
      "id": "6f1b4105",
      "metadata": {
        "id": "6f1b4105"
      },
      "source": [
        "Analiticamente:"
      ]
    },
    {
      "cell_type": "code",
      "execution_count": null,
      "id": "bb5e678d",
      "metadata": {
        "id": "bb5e678d"
      },
      "outputs": [],
      "source": []
    },
    {
      "cell_type": "markdown",
      "id": "564ca694",
      "metadata": {
        "id": "564ca694"
      },
      "source": [
        "Por simulación: Construimos el modelo en varios pasos."
      ]
    },
    {
      "cell_type": "markdown",
      "id": "fbbc8571",
      "metadata": {
        "id": "fbbc8571"
      },
      "source": [
        "**PASO 1**. Defina las variables que intervienen en el modelo."
      ]
    },
    {
      "cell_type": "code",
      "execution_count": 1,
      "id": "37c5f31c",
      "metadata": {
        "id": "37c5f31c",
        "outputId": "268dd1bb-0ab3-458b-daa8-c43a501157a4",
        "colab": {
          "base_uri": "https://localhost:8080/"
        }
      },
      "outputs": [
        {
          "name": "stdout",
          "output_type": "stream",
          "text": [
            "Número de clases: 5\n",
            "Total de observaciones: 40\n"
          ]
        }
      ],
      "source": [
        "#Solicitamos la cantidad de clases y el total de observaciones en la muestra\n",
        "n = input('Número de clases: ')\n",
        "n = int (n)\n",
        "T = input('Total de observaciones: ')\n",
        "T = int(T)\n",
        "\n",
        "#iniciamos y definimos un contador e inciamos la variable suma\n",
        "contador = 0\n",
        "contador = int(contador)\n",
        "\n",
        "suma=0\n",
        "\n",
        "#definimos una lista vacia\n",
        "lista=[]"
      ]
    },
    {
      "cell_type": "code",
      "source": [
        "#Calculamos la frecuencia esperada en cada clase\n",
        "E = int(T/n)\n",
        "print (\"Frecuencia esperada en la clase i es: \", E)"
      ],
      "metadata": {
        "id": "9_0DtZQvsNa4",
        "outputId": "56a94f8b-cfcb-43cc-e4d6-f5c0c5f67ca6",
        "colab": {
          "base_uri": "https://localhost:8080/"
        }
      },
      "id": "9_0DtZQvsNa4",
      "execution_count": 2,
      "outputs": [
        {
          "output_type": "stream",
          "name": "stdout",
          "text": [
            "Frecuencia esperada en la clase i es:  8\n"
          ]
        }
      ]
    },
    {
      "cell_type": "markdown",
      "id": "d270399e",
      "metadata": {
        "id": "d270399e"
      },
      "source": [
        "**PASO 2**. Realice el programa que resuelva la prueba Chi cuadrada."
      ]
    },
    {
      "cell_type": "code",
      "execution_count": 3,
      "id": "2fd22e33",
      "metadata": {
        "id": "2fd22e33"
      },
      "outputs": [],
      "source": [
        "import numpy as np\n",
        "import random\n",
        "import matplotlib.pyplot as plt"
      ]
    },
    {
      "cell_type": "code",
      "execution_count": 4,
      "id": "32719c0f",
      "metadata": {
        "id": "32719c0f",
        "outputId": "679cc508-c562-44c7-b9a7-b6bbbc46d7fc",
        "colab": {
          "base_uri": "https://localhost:8080/"
        }
      },
      "outputs": [
        {
          "name": "stdout",
          "output_type": "stream",
          "text": [
            "Frecuencia observada en la clase1: 9\n",
            "Frecuencia observada en la clase2: 7\n",
            "Frecuencia observada en la clase3: 9\n",
            "Frecuencia observada en la clase4: 7\n",
            "Frecuencia observada en la clase5: 8\n"
          ]
        }
      ],
      "source": [
        "#disponemos un ciclo de n vueltas\n",
        "for i in range(n):\n",
        "    O = input(\"Frecuencia observada en la clase\" + str(contador + 1) + \": \")\n",
        "    O = int(O)\n",
        "    lista.append(O)\n",
        "    contador += 1\n",
        "    #indicamos como se realizará la suma\n",
        "    suma = suma + O"
      ]
    },
    {
      "cell_type": "code",
      "execution_count": 5,
      "id": "423546a4",
      "metadata": {
        "id": "423546a4",
        "outputId": "2076b6f2-f344-445e-8515-e40bcd07c85d",
        "colab": {
          "base_uri": "https://localhost:8080/"
        }
      },
      "outputs": [
        {
          "output_type": "stream",
          "name": "stdout",
          "text": [
            "[9, 7, 9, 7, 8]\n",
            "La suma de las frecuencias observadas es: 40\n"
          ]
        }
      ],
      "source": [
        "#imprimimos la suma\n",
        "print(\"La suma de las frecuencias observadas es:\", suma)"
      ]
    },
    {
      "cell_type": "code",
      "execution_count": 6,
      "id": "0d2847cf",
      "metadata": {
        "id": "0d2847cf",
        "outputId": "9880aa03-a9dc-434a-863c-15f2ae85019f",
        "colab": {
          "base_uri": "https://localhost:8080/"
        }
      },
      "outputs": [
        {
          "output_type": "stream",
          "name": "stdout",
          "text": [
            "[[ 1 -1  1 -1  0]]\n",
            "[[[1 1 1 1 0]]]\n",
            "[[[0.125 0.125 0.125 0.125 0.   ]]]\n"
          ]
        }
      ],
      "source": [
        "#hacemos un array con la lista para restarle a cada valor la frecuencia esperada\n",
        "a = np.array([lista])\n",
        "a = a - E\n",
        "#hacemos un array con la lista para elevar cada valor al cuadrado\n",
        "b = np.array([a])\n",
        "b = b ** 2\n",
        "#hacemos un array con la lista para dividir cada valor entre la frecuencia esperada\n",
        "c = np.array([b])\n",
        "c = b / E\n",
        "#hacemos la suma de todos los resultados de la división\n",
        "suma1 = np.append(c, np.sum(c))"
      ]
    },
    {
      "cell_type": "code",
      "execution_count": 7,
      "id": "548249d8",
      "metadata": {
        "id": "548249d8",
        "outputId": "c80a8238-2c02-4873-ec00-61b819e4efa7",
        "colab": {
          "base_uri": "https://localhost:8080/"
        }
      },
      "outputs": [
        {
          "output_type": "stream",
          "name": "stdout",
          "text": [
            "El valor de X^2_c es: 0.5\n"
          ]
        }
      ],
      "source": [
        "#imprimimos el valor de Ji cuadrada\n",
        "print(\"El valor de X^2_c es:\", np.sum(c))"
      ]
    },
    {
      "cell_type": "code",
      "execution_count": 8,
      "id": "566325f4",
      "metadata": {
        "id": "566325f4",
        "outputId": "f4f744e6-a071-409d-ec1d-3c868632a541",
        "colab": {
          "base_uri": "https://localhost:8080/"
        }
      },
      "outputs": [
        {
          "output_type": "stream",
          "name": "stdout",
          "text": [
            "Conclusión: No se rechaza H_0. Los valores de la muestra provienen de una distribución uniforme\n"
          ]
        }
      ],
      "source": [
        "#Evaluamos, tomando n-1 grados de libertad, y suponiendo que este código siempre será para n = 5, que nuestro valor de Ji cuadrada_c sea menor a 9.48 (valor de Ji cuadrada en la tabla) y obtenemos la conclusión\n",
        "if np.sum(c) < 9.48:\n",
        "  print (\"Conclusión: No se rechaza H_0. Los valores de la muestra provienen de una distribución uniforme\")\n",
        "else:\n",
        "  print (\"Conclusión: Se rechaza H_0. Los valores de la muestra no provienen una distribución uniforme\")"
      ]
    }
  ],
  "metadata": {
    "kernelspec": {
      "display_name": "Python 3 (ipykernel)",
      "language": "python",
      "name": "python3"
    },
    "language_info": {
      "codemirror_mode": {
        "name": "ipython",
        "version": 3
      },
      "file_extension": ".py",
      "mimetype": "text/x-python",
      "name": "python",
      "nbconvert_exporter": "python",
      "pygments_lexer": "ipython3",
      "version": "3.7.3"
    },
    "colab": {
      "provenance": [],
      "include_colab_link": true
    }
  },
  "nbformat": 4,
  "nbformat_minor": 5
}