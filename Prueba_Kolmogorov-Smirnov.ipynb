{
  "cells": [
    {
      "cell_type": "markdown",
      "metadata": {
        "id": "view-in-github",
        "colab_type": "text"
      },
      "source": [
        "<a href=\"https://colab.research.google.com/github/MartaPCastillo/Simulacion-I/blob/main/Prueba_Kolmogorov-Smirnov.ipynb\" target=\"_parent\"><img src=\"https://colab.research.google.com/assets/colab-badge.svg\" alt=\"Open In Colab\"/></a>"
      ]
    },
    {
      "cell_type": "markdown",
      "id": "a5cc0a87",
      "metadata": {
        "id": "a5cc0a87"
      },
      "source": [
        "# Prueba Kolmogorov-Smirnov"
      ]
    },
    {
      "cell_type": "markdown",
      "id": "0e218d98",
      "metadata": {
        "id": "0e218d98"
      },
      "source": [
        "### 1. Identifique las variables\n",
        "\n",
        "Aquellas cuyo comportamiento define el comportamiento o la evoución global del sistema real."
      ]
    },
    {
      "cell_type": "markdown",
      "id": "803801d5",
      "metadata": {
        "id": "803801d5"
      },
      "source": [
        "### 2. Modele las variables aleatorias\n",
        "\n",
        "Cosntruya un modelo fiel de la aleatoriedad de las variables del sistema. Simular el comportamiento del sistema implica generar muestras aleatorias de cada variable que sigan fielmente la distribución de probabilidad correspondiente."
      ]
    },
    {
      "cell_type": "markdown",
      "id": "33709223",
      "metadata": {
        "id": "33709223"
      },
      "source": [
        "### 3. Defina el modelo del sistema y los objetivos de la simulación\n",
        "\n",
        "Fije los objetivos y diseñe un modelo del sistema real que abstraiga sus propiedades más relevantes. Todo error en el modelo (o su implementación computacional) puede dar lugar a conclusiones equivocadas.\n",
        "\n",
        "Antes de experimentar con el modelo, asegurarse de que refleja fielmente el sistema real **validando** el mismo a partir de datos reales, para ello compare los resultados obtenidos de la simulación con los producidos por el sistema."
      ]
    },
    {
      "cell_type": "markdown",
      "id": "7f853065",
      "metadata": {
        "id": "7f853065"
      },
      "source": [
        "### 4. Diseñe el experimento\n",
        "\n",
        "Diseñe un experimento así como las ejecuciones concretas del mismo, los escenarios que desea estudiar para alcanzar los objetivos fijados. El experimento consiste en generar valores de las variables cuyo comportamiento define el comportamiento del sistema y analizar este ante dichos valores."
      ]
    },
    {
      "cell_type": "markdown",
      "id": "15ae61c8",
      "metadata": {
        "id": "15ae61c8"
      },
      "source": [
        "### 5. Repita el experimento $n$ veces\n",
        "\n",
        "Así dispondrá de $n$ observaciones sobre el comportamiento del sistema, lo que permitirá entender su funcionamiento así como evaluar el desempeño del mismo frente a los diversos escenarios establecidos.\n",
        "\n",
        "El **método Monte Carlo** se basa en la **Ley Fuerte de los Grandes Números** y el **Teorema del Límite Central**."
      ]
    },
    {
      "cell_type": "markdown",
      "id": "51ce3fa1",
      "metadata": {
        "id": "51ce3fa1"
      },
      "source": [
        "Elabore un programa que realice la prueba Kolmogorov-Smirnov.\n",
        "\n",
        "1. Analíticamente.\n",
        "2. Mediante simulación."
      ]
    },
    {
      "cell_type": "markdown",
      "id": "6f1b4105",
      "metadata": {
        "id": "6f1b4105"
      },
      "source": [
        "Analiticamente:"
      ]
    },
    {
      "cell_type": "code",
      "execution_count": null,
      "id": "bb5e678d",
      "metadata": {
        "id": "bb5e678d"
      },
      "outputs": [],
      "source": []
    },
    {
      "cell_type": "markdown",
      "id": "564ca694",
      "metadata": {
        "id": "564ca694"
      },
      "source": [
        "Por simulación: Construimos el modelo en varios pasos."
      ]
    },
    {
      "cell_type": "markdown",
      "id": "fbbc8571",
      "metadata": {
        "id": "fbbc8571"
      },
      "source": [
        "**PASO 1**. Defina las variables que intervienen en el modelo."
      ]
    },
    {
      "cell_type": "code",
      "execution_count": 4,
      "id": "37c5f31c",
      "metadata": {
        "id": "37c5f31c",
        "outputId": "bac07105-0687-4a07-bd83-900fe20878a1",
        "colab": {
          "base_uri": "https://localhost:8080/"
        }
      },
      "outputs": [
        {
          "name": "stdout",
          "output_type": "stream",
          "text": [
            "Ingrese el valor de n: 20\n"
          ]
        }
      ],
      "source": [
        "n = input(\"Ingrese el valor de n: \")\n",
        "n = int(n)\n",
        "numbers = []\n",
        "D1 = []\n",
        "D2 = []\n",
        "c = []"
      ]
    },
    {
      "cell_type": "markdown",
      "source": [
        "**PASO 2**. Genere números aleatorios."
      ],
      "metadata": {
        "id": "S4pzvZEcaj8f"
      },
      "id": "S4pzvZEcaj8f"
    },
    {
      "cell_type": "code",
      "execution_count": 6,
      "id": "7d56c432",
      "metadata": {
        "id": "7d56c432",
        "outputId": "91e2daac-9e1d-4fae-aae2-027616533d90",
        "colab": {
          "base_uri": "https://localhost:8080/"
        }
      },
      "outputs": [
        {
          "output_type": "stream",
          "name": "stdout",
          "text": [
            "[0.05, 0.1, 0.15, 0.2, 0.25, 0.3, 0.35, 0.4, 0.45, 0.5, 0.55, 0.6, 0.65, 0.7, 0.75, 0.8, 0.85, 0.9, 0.95, 1.0]\n",
            "[0.9991625914690785, 0.8746390713852149, 0.8270549134313675, 0.7984907168204278, 0.7247386680712188, 0.7089023042692124, 0.7011195590455258, 0.6864348995095687, 0.6023118808726428, 0.5968841513110686, 0.5844046335232441, 0.5453528225807942, 0.46348793143267286, 0.4153082269983104, 0.3407774216068099, 0.24958448159078017, 0.1478739149741397, 0.04991718063128214, 0.0401454155909754, 0.005433120452062901]\n"
          ]
        }
      ],
      "source": [
        "import random\n",
        "import numpy as np\n",
        "\n",
        "for i in range(n):\n",
        "    numbers.append(random.uniform(0, 1))\n",
        "    X = sorted(numbers, reverse=True)\n",
        "    c.append ((i+1)/n)\n",
        "print(c)\n",
        "print(X)"
      ]
    },
    {
      "cell_type": "markdown",
      "id": "d270399e",
      "metadata": {
        "id": "d270399e"
      },
      "source": [
        "**PASO 3**. Realice el programa que haga la prueba para n veces."
      ]
    },
    {
      "cell_type": "code",
      "execution_count": 58,
      "id": "2fd22e33",
      "metadata": {
        "id": "2fd22e33"
      },
      "outputs": [],
      "source": [
        "import random\n",
        "import numpy as np\n",
        "import math\n",
        "from prettytable import PrettyTable\n",
        "import matplotlib.pyplot as plt"
      ]
    },
    {
      "cell_type": "code",
      "source": [
        "n = input(\"Ingrese el valor de n: \")\n",
        "n = int(n)\n",
        "numbers = []\n",
        "D1 = []\n",
        "D2 = []\n",
        "c = []"
      ],
      "metadata": {
        "id": "pCq7p0RzbHP2",
        "outputId": "6d21db5a-0618-4262-e9ac-d0868fafa802",
        "colab": {
          "base_uri": "https://localhost:8080/"
        }
      },
      "id": "pCq7p0RzbHP2",
      "execution_count": 59,
      "outputs": [
        {
          "name": "stdout",
          "output_type": "stream",
          "text": [
            "Ingrese el valor de n: 15\n"
          ]
        }
      ]
    },
    {
      "cell_type": "code",
      "execution_count": 60,
      "id": "32719c0f",
      "metadata": {
        "id": "32719c0f"
      },
      "outputs": [],
      "source": [
        "mytable = PrettyTable(['X_i', 'D-', 'D+'])"
      ]
    },
    {
      "cell_type": "code",
      "execution_count": 61,
      "id": "423546a4",
      "metadata": {
        "id": "423546a4",
        "outputId": "708d84ae-1660-435d-b1a7-6a172d9be761",
        "colab": {
          "base_uri": "https://localhost:8080/"
        }
      },
      "outputs": [
        {
          "output_type": "stream",
          "name": "stdout",
          "text": [
            "[0.967203107196144, 0.8484835252751434, 0.6983970414271652, 0.6919512968036069, 0.6615725681220733, 0.5273050673416299, 0.5246649557934601, 0.5055096628480712, 0.4184435501484842, 0.37071667739944825, 0.3564598275515535, 0.33731620894748193, 0.24139783099870338, 0.08922070495684986, 0.05629905312510197]\n"
          ]
        }
      ],
      "source": [
        "for i in range(n):\n",
        "    numbers.append(random.uniform(0, 1))\n",
        "    X = sorted(numbers, reverse=True)\n",
        "    c.append ((i+1)/n)\n",
        "print(X)"
      ]
    },
    {
      "cell_type": "code",
      "execution_count": 62,
      "id": "0d2847cf",
      "metadata": {
        "id": "0d2847cf",
        "outputId": "64862fac-9342-40ff-bf67-46888272173e",
        "colab": {
          "base_uri": "https://localhost:8080/"
        }
      },
      "outputs": [
        {
          "output_type": "stream",
          "name": "stdout",
          "text": [
            "D+ = max [0.9005364405294773, 0.7151501919418101, 0.4983970414271652, 0.42528463013694023, 0.32823923478874, 0.12730506734162983, 0.05799828912679339, 0.02782367048526213, 0.18155644985151576, 0.2959499892672184, 0.3768735057817798, 0.4626837910525181, 0.6252688356679633, 0.8441126283764835, 0.943700946874898]\n",
            "D+ =  0.943700946874898\n",
            "D- = max [0.9005364405294773, 0.7151501919418101, 0.4983970414271652, 0.42528463013694023, 0.32823923478874, 0.12730506734162983, 0.05799828912679339, 0.02782367048526213, 0.18155644985151576, 0.2959499892672184, 0.3768735057817798, 0.4626837910525181, 0.6252688356679633, 0.8441126283764835, 0.943700946874898]\n",
            "D- =  0.943700946874898\n"
          ]
        }
      ],
      "source": [
        "#D1 = D+\n",
        "#D2 = D-\n",
        "for i in range(len(X)):\n",
        "    D1.append(abs(c[i] - X[i]))\n",
        "    D2.append(abs(X[i] - c[i]))\n",
        "    mytable.add_row([X[i], D2[i], D1[i]])\n",
        "print(\"D+ = max\",D1)\n",
        "max_value1 = max(D1)\n",
        "print(\"D+ = \",max_value1)\n",
        "print(\"D- = max\",D2)\n",
        "max_value2 = max(D2)\n",
        "print(\"D- = \", max_value2)"
      ]
    },
    {
      "cell_type": "code",
      "source": [
        "mytable.add_autoindex('i')\n",
        "print(mytable)"
      ],
      "metadata": {
        "id": "q7D8kbVZb2FU",
        "outputId": "1e4736ab-b44e-47b4-ff0b-9b31b4063781",
        "colab": {
          "base_uri": "https://localhost:8080/"
        }
      },
      "id": "q7D8kbVZb2FU",
      "execution_count": 63,
      "outputs": [
        {
          "output_type": "stream",
          "name": "stdout",
          "text": [
            "+----+---------------------+---------------------+---------------------+\n",
            "| i  |         X_i         |          D-         |          D+         |\n",
            "+----+---------------------+---------------------+---------------------+\n",
            "| 1  |  0.967203107196144  |  0.9005364405294773 |  0.9005364405294773 |\n",
            "| 2  |  0.8484835252751434 |  0.7151501919418101 |  0.7151501919418101 |\n",
            "| 3  |  0.6983970414271652 |  0.4983970414271652 |  0.4983970414271652 |\n",
            "| 4  |  0.6919512968036069 | 0.42528463013694023 | 0.42528463013694023 |\n",
            "| 5  |  0.6615725681220733 |   0.32823923478874  |   0.32823923478874  |\n",
            "| 6  |  0.5273050673416299 | 0.12730506734162983 | 0.12730506734162983 |\n",
            "| 7  |  0.5246649557934601 | 0.05799828912679339 | 0.05799828912679339 |\n",
            "| 8  |  0.5055096628480712 | 0.02782367048526213 | 0.02782367048526213 |\n",
            "| 9  |  0.4184435501484842 | 0.18155644985151576 | 0.18155644985151576 |\n",
            "| 10 | 0.37071667739944825 |  0.2959499892672184 |  0.2959499892672184 |\n",
            "| 11 |  0.3564598275515535 |  0.3768735057817798 |  0.3768735057817798 |\n",
            "| 12 | 0.33731620894748193 |  0.4626837910525181 |  0.4626837910525181 |\n",
            "| 13 | 0.24139783099870338 |  0.6252688356679633 |  0.6252688356679633 |\n",
            "| 14 | 0.08922070495684986 |  0.8441126283764835 |  0.8441126283764835 |\n",
            "| 15 | 0.05629905312510197 |  0.943700946874898  |  0.943700946874898  |\n",
            "+----+---------------------+---------------------+---------------------+\n"
          ]
        }
      ]
    },
    {
      "cell_type": "code",
      "execution_count": 64,
      "id": "548249d8",
      "metadata": {
        "id": "548249d8",
        "outputId": "c52a4e72-5d58-42fe-b36e-1baddd8144c4",
        "colab": {
          "base_uri": "https://localhost:8080/"
        }
      },
      "outputs": [
        {
          "output_type": "stream",
          "name": "stdout",
          "text": [
            "D = max [0.943700946874898, 0.943700946874898]\n",
            "D = 0.943700946874898\n"
          ]
        }
      ],
      "source": [
        "D = [max_value1, max_value2]\n",
        "max_value = max(D)\n",
        "print(\"D = max\",D)\n",
        "print(\"D =\", max_value)"
      ]
    },
    {
      "cell_type": "markdown",
      "source": [
        "**PASO 4**. Comparamos con nuestro valor d_alpha,n"
      ],
      "metadata": {
        "id": "zOoovxsWcI3-"
      },
      "id": "zOoovxsWcI3-"
    },
    {
      "cell_type": "code",
      "source": [
        "#Pedimos el valor de alpha y el valor de d_(alpha,n)\n",
        "alpha = input(\"Ingrese el valor de alpha: \")\n",
        "alpha = float(alpha)\n",
        "d_alpha_n = input(\"Ingrese el valor que está en la tabla correspondiente a d_alpha, n: \")\n",
        "d_alpha_n = float(d_alpha_n)"
      ],
      "metadata": {
        "id": "CNXNd3w4eNlP",
        "outputId": "cc27e759-6a5c-4707-ef62-a681e60c8e96",
        "colab": {
          "base_uri": "https://localhost:8080/"
        }
      },
      "id": "CNXNd3w4eNlP",
      "execution_count": 65,
      "outputs": [
        {
          "name": "stdout",
          "output_type": "stream",
          "text": [
            "Ingrese el valor de alpha: 0.01\n",
            "Ingrese el valor que está en la tabla correspondiente a d_alpha, n: 1.021\n"
          ]
        }
      ]
    },
    {
      "cell_type": "code",
      "source": [
        "#Convertimos D en un valor float para poder compararlo con d_(alpha,n)\n",
        "D = float(D[0])"
      ],
      "metadata": {
        "id": "qeBOvxEKfOUW"
      },
      "id": "qeBOvxEKfOUW",
      "execution_count": 66,
      "outputs": []
    },
    {
      "cell_type": "code",
      "source": [
        "if D < d_alpha_n:\n",
        "  print(\"Se acepta H_0.\")\n",
        "else:\n",
        "  print(\"Se rechaza H_0.\")"
      ],
      "metadata": {
        "id": "lun8ndtNcQPo",
        "outputId": "e1c5ce00-bab6-4ff3-c603-600c15c579ab",
        "colab": {
          "base_uri": "https://localhost:8080/"
        }
      },
      "id": "lun8ndtNcQPo",
      "execution_count": 67,
      "outputs": [
        {
          "output_type": "stream",
          "name": "stdout",
          "text": [
            "Se acepta H_0.\n"
          ]
        }
      ]
    }
  ],
  "metadata": {
    "kernelspec": {
      "display_name": "Python 3 (ipykernel)",
      "language": "python",
      "name": "python3"
    },
    "language_info": {
      "codemirror_mode": {
        "name": "ipython",
        "version": 3
      },
      "file_extension": ".py",
      "mimetype": "text/x-python",
      "name": "python",
      "nbconvert_exporter": "python",
      "pygments_lexer": "ipython3",
      "version": "3.7.3"
    },
    "colab": {
      "provenance": [],
      "include_colab_link": true
    }
  },
  "nbformat": 4,
  "nbformat_minor": 5
}