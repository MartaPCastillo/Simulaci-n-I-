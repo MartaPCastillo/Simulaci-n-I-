{
  "cells": [
    {
      "cell_type": "markdown",
      "metadata": {
        "id": "view-in-github",
        "colab_type": "text"
      },
      "source": [
        "<a href=\"https://colab.research.google.com/github/MartaPCastillo/Simulacion-I/blob/main/Prueba_de_Corridas.ipynb\" target=\"_parent\"><img src=\"https://colab.research.google.com/assets/colab-badge.svg\" alt=\"Open In Colab\"/></a>"
      ]
    },
    {
      "cell_type": "markdown",
      "id": "a5cc0a87",
      "metadata": {
        "id": "a5cc0a87"
      },
      "source": [
        "# Prueba de Corridas\n"
      ]
    },
    {
      "cell_type": "markdown",
      "id": "0e218d98",
      "metadata": {
        "id": "0e218d98"
      },
      "source": [
        "### 1. Identifique las variables\n",
        "\n",
        "Aquellas cuyo comportamiento define el comportamiento o la evoución global del sistema real."
      ]
    },
    {
      "cell_type": "markdown",
      "id": "3ebcd0f2",
      "metadata": {
        "id": "3ebcd0f2"
      },
      "source": [
        "### 2. Determine la distribución de probabilidad\n",
        "\n",
        "Elija el tipo de distribución de probabilidad que mejor defina el comportamiento aleatorio de cada una de las variables del sistema identificadas en el paso anterior."
      ]
    },
    {
      "cell_type": "markdown",
      "id": "803801d5",
      "metadata": {
        "id": "803801d5"
      },
      "source": [
        "### 3. Modele las variables aleatorias\n",
        "\n",
        "Cosntruya un modelo fiel de la aleatoriedad de las variables del sistema. Simular el comportamiento del sistema implica generar muestras aleatorias de cada variable que sigan fielmente la distribución de probabilidad correspondiente."
      ]
    },
    {
      "cell_type": "markdown",
      "id": "33709223",
      "metadata": {
        "id": "33709223"
      },
      "source": [
        "### 4. Defina el modelo del sistema y los objetivos de la simulación\n",
        "\n",
        "Fije los objetivos y diseñe un modelo del sistema real que abstraiga sus propiedades más relevantes. Todo error en el modelo (o su implementación computacional) puede dar lugar a conclusiones equivocadas.\n",
        "\n",
        "Antes de experimentar con el modelo, asegurarse de que refleja fielmente el sistema real **validando** el mismo a partir de datos reales, para ello compare los resultados obtenidos de la simulación con los producidos por el sistema."
      ]
    },
    {
      "cell_type": "markdown",
      "id": "7f853065",
      "metadata": {
        "id": "7f853065"
      },
      "source": [
        "### 5. Diseñe el experimento\n",
        "\n",
        "Diseñe un experimento así como las ejecuciones concretas del mismo, los escenarios que desea estudiar para alcanzar los objetivos fijados. El experimento consiste en generar valores de las variables cuyo comportamiento define el comportamiento del sistema y analizar este ante dichos valores."
      ]
    },
    {
      "cell_type": "markdown",
      "id": "15ae61c8",
      "metadata": {
        "id": "15ae61c8"
      },
      "source": [
        "### 6. Repita el experimento $n$ veces\n",
        "\n",
        "Así dispondrá de $n$ observaciones sobre el comportamiento del sistema, lo que permitirá entender su funcionamiento así como evaluar el desempeño del mismo frente a los diversos escenarios establecidos.\n",
        "\n",
        "El **método Monte Carlo** se basa en la **Ley Fuerte de los Grandes Números** y el **Teorema del Límite Central**."
      ]
    },
    {
      "cell_type": "markdown",
      "id": "51ce3fa1",
      "metadata": {
        "id": "51ce3fa1"
      },
      "source": [
        "Realice un programa para la prueba de corridas.\n",
        "\n",
        "1. Analíticamente.\n",
        "2. Mediante simulación."
      ]
    },
    {
      "cell_type": "markdown",
      "id": "6f1b4105",
      "metadata": {
        "id": "6f1b4105"
      },
      "source": [
        "Analiticamente:"
      ]
    },
    {
      "cell_type": "code",
      "execution_count": null,
      "id": "bb5e678d",
      "metadata": {
        "id": "bb5e678d"
      },
      "outputs": [],
      "source": []
    },
    {
      "cell_type": "markdown",
      "id": "564ca694",
      "metadata": {
        "id": "564ca694"
      },
      "source": [
        "Por simulación: Construimos el modelo en varios pasos."
      ]
    },
    {
      "cell_type": "markdown",
      "id": "fbbc8571",
      "metadata": {
        "id": "fbbc8571"
      },
      "source": [
        "**PASO 1**. Defina las variables que intervienen en el modelo."
      ]
    },
    {
      "cell_type": "code",
      "execution_count": 2,
      "id": "37c5f31c",
      "metadata": {
        "id": "37c5f31c",
        "outputId": "a8dc8c90-d07c-4509-c77e-f69b6d516cba",
        "colab": {
          "base_uri": "https://localhost:8080/"
        }
      },
      "outputs": [
        {
          "output_type": "stream",
          "name": "stdout",
          "text": [
            "[0.048, 0.591, 0.478, 0.166, 0.932, 0.926, 0.007, 0.551, 0.362, 0.533, 0.368, 0.437, 0.178, 0.411, 0.545, 0.787, 0.594, 0.086, 0.951, 0.772, 0.298, 0.199, 0.157, 0.401, 0.631]\n"
          ]
        }
      ],
      "source": [
        "X = [0.048,0.591,0.478,0.166,0.932,0.926,0.007,0.551,0.362,0.533,0.368,0.437,0.178,0.411,0.545,0.787,0.594,0.086,0.951,0.772,0.298,0.199,0.157,0.401,0.631]\n",
        "print(X)"
      ]
    },
    {
      "cell_type": "markdown",
      "id": "d270399e",
      "metadata": {
        "id": "d270399e"
      },
      "source": [
        "**PASO 7**. Realice el programa para la prueba de corridas."
      ]
    },
    {
      "cell_type": "code",
      "execution_count": 3,
      "id": "2fd22e33",
      "metadata": {
        "id": "2fd22e33"
      },
      "outputs": [],
      "source": [
        "import numpy as np\n",
        "import random\n",
        "from math import sqrt\n",
        "import matplotlib.pyplot as plt"
      ]
    },
    {
      "cell_type": "code",
      "source": [
        "X = np.array(X)"
      ],
      "metadata": {
        "id": "8psLD_wPtpIM"
      },
      "id": "8psLD_wPtpIM",
      "execution_count": 4,
      "outputs": []
    },
    {
      "cell_type": "code",
      "source": [
        "n = len(X)\n",
        "print(len(X))"
      ],
      "metadata": {
        "id": "UmxPWJXmrElM",
        "outputId": "94b8a573-b1f1-4d29-ebf6-232183d8ec1c",
        "colab": {
          "base_uri": "https://localhost:8080/"
        }
      },
      "id": "UmxPWJXmrElM",
      "execution_count": 5,
      "outputs": [
        {
          "output_type": "stream",
          "name": "stdout",
          "text": [
            "25\n"
          ]
        }
      ]
    },
    {
      "cell_type": "code",
      "execution_count": 6,
      "id": "32719c0f",
      "metadata": {
        "id": "32719c0f",
        "outputId": "a71ec79f-4f8c-44a5-e6da-3913b11eb560",
        "colab": {
          "base_uri": "https://localhost:8080/"
        }
      },
      "outputs": [
        {
          "output_type": "stream",
          "name": "stdout",
          "text": [
            "[1, 0, 0, 1, 0, 0, 1, 0, 1, 0, 1, 0, 1, 1, 1, 0, 0, 1, 0, 0, 0, 0, 1, 1]\n"
          ]
        }
      ],
      "source": [
        "S=[]\n",
        "for i in range (len(X)):\n",
        "  if i>0:\n",
        "    if X[i] <= X[i-1]:\n",
        "      S.append (0)\n",
        "    else:\n",
        "      S.append (1)\n",
        "\n",
        "print(S)"
      ]
    },
    {
      "cell_type": "code",
      "source": [
        "print(len(S))"
      ],
      "metadata": {
        "id": "_3G4wvWZiktG",
        "outputId": "c99e7df2-ff30-47ed-b1a2-7a7a6b40cc03",
        "colab": {
          "base_uri": "https://localhost:8080/"
        }
      },
      "id": "_3G4wvWZiktG",
      "execution_count": 7,
      "outputs": [
        {
          "output_type": "stream",
          "name": "stdout",
          "text": [
            "24\n"
          ]
        }
      ]
    },
    {
      "cell_type": "markdown",
      "source": [
        "Debido a que hay un error en el código lo contamos de forma manual el número de corridas (rachas) observadas C_0."
      ],
      "metadata": {
        "id": "Bvfz3iWxtygl"
      },
      "id": "Bvfz3iWxtygl"
    },
    {
      "cell_type": "code",
      "source": [
        "C_0 = 15"
      ],
      "metadata": {
        "id": "9EMUi4Ckt-kD"
      },
      "id": "9EMUi4Ckt-kD",
      "execution_count": 12,
      "outputs": []
    },
    {
      "cell_type": "code",
      "source": [
        "#aquí hay un error\n",
        "contador = 0\n",
        "lista = []\n",
        "for i in range(len(S)):\n",
        "  if i>0:\n",
        "    if S[i] == S[i-1]:\n",
        "        contador += 1\n",
        "    else:\n",
        "        contador = 1\n",
        "    lista.append(contador)\n",
        "print(lista)"
      ],
      "metadata": {
        "id": "C5xDA34ThDB9",
        "outputId": "4185ef07-ab4f-456a-8ab2-a6c8c7b08ef6",
        "colab": {
          "base_uri": "https://localhost:8080/"
        }
      },
      "id": "C5xDA34ThDB9",
      "execution_count": 10,
      "outputs": [
        {
          "output_type": "stream",
          "name": "stdout",
          "text": [
            "[1, 2, 1, 1, 2, 1, 1, 1, 1, 1, 1, 1, 2, 3, 1, 2, 1, 1, 2, 3, 4, 1, 2]\n"
          ]
        }
      ]
    },
    {
      "cell_type": "code",
      "source": [
        "c_0 = len(lista)\n",
        "print(len(lista))"
      ],
      "metadata": {
        "id": "MDEcuh1TqZwV",
        "outputId": "f2792aef-065a-4056-cb2b-d04b36541e07",
        "colab": {
          "base_uri": "https://localhost:8080/"
        }
      },
      "id": "MDEcuh1TqZwV",
      "execution_count": 13,
      "outputs": [
        {
          "output_type": "stream",
          "name": "stdout",
          "text": [
            "23\n"
          ]
        }
      ]
    },
    {
      "cell_type": "markdown",
      "source": [
        "**PASO 9**. Calcule la media, varianza y el estadístico Z."
      ],
      "metadata": {
        "id": "AcjNSBxVtKR-"
      },
      "id": "AcjNSBxVtKR-"
    },
    {
      "cell_type": "code",
      "source": [
        "mu_c0 = ((2*n)-1)/3\n",
        "mu_c0 = float(mu_c0)\n",
        "print(mu_c0)"
      ],
      "metadata": {
        "id": "TX0xO4uTrLRc",
        "outputId": "de475ae6-9db1-4862-cd43-f2ef4d575fea",
        "colab": {
          "base_uri": "https://localhost:8080/"
        }
      },
      "id": "TX0xO4uTrLRc",
      "execution_count": 15,
      "outputs": [
        {
          "output_type": "stream",
          "name": "stdout",
          "text": [
            "16.333333333333332\n"
          ]
        }
      ]
    },
    {
      "cell_type": "code",
      "source": [
        "var_c0 = ((16*n)-29)/90\n",
        "var_c0 = float(var_c0)\n",
        "print(var_c0)"
      ],
      "metadata": {
        "id": "3fvVfihzrizy",
        "outputId": "4e6b7a8a-970e-448c-bbe1-83e086d06474",
        "colab": {
          "base_uri": "https://localhost:8080/"
        }
      },
      "id": "3fvVfihzrizy",
      "execution_count": 16,
      "outputs": [
        {
          "output_type": "stream",
          "name": "stdout",
          "text": [
            "4.122222222222222\n"
          ]
        }
      ]
    },
    {
      "cell_type": "code",
      "source": [
        "#Aquí hay un error porque C_0 debe ser 15\n",
        "z_0 = (c_0-mu_c0)/(sqrt(var_c0))\n",
        "z_0 = float(z_0)\n",
        "print(z_0)"
      ],
      "metadata": {
        "id": "AC5py1l5rs-S",
        "outputId": "04e0bce5-9899-4bc9-c76b-3044ac84ab84",
        "colab": {
          "base_uri": "https://localhost:8080/"
        }
      },
      "id": "AC5py1l5rs-S",
      "execution_count": 17,
      "outputs": [
        {
          "output_type": "stream",
          "name": "stdout",
          "text": [
            "3.283545516515593\n"
          ]
        }
      ]
    },
    {
      "cell_type": "code",
      "source": [
        "#Aquí estamos tomando C_0 = 15\n",
        "z_00 = (C_0-mu_c0)/(sqrt(var_c0))\n",
        "z_00 = float(z_00)\n",
        "print(z_00)"
      ],
      "metadata": {
        "id": "hK5CkTaiuDrk",
        "outputId": "f81375a6-b99e-416c-df5e-f0897221b413",
        "colab": {
          "base_uri": "https://localhost:8080/"
        }
      },
      "id": "hK5CkTaiuDrk",
      "execution_count": 18,
      "outputs": [
        {
          "output_type": "stream",
          "name": "stdout",
          "text": [
            "-0.6567091033031179\n"
          ]
        }
      ]
    },
    {
      "cell_type": "markdown",
      "id": "db8776d2",
      "metadata": {
        "id": "db8776d2"
      },
      "source": [
        "**PASO 10**. Halle el intervalo de confianza con un nivel de confianza del $95 \\%$."
      ]
    },
    {
      "cell_type": "code",
      "execution_count": 20,
      "id": "e5132329",
      "metadata": {
        "id": "e5132329"
      },
      "outputs": [],
      "source": [
        "alpha = 0.05"
      ]
    },
    {
      "cell_type": "code",
      "source": [
        "#Este está mal\n",
        "if -1.96 <= z_0 <= 1.96:\n",
        "  print(\"Se acepta H_0. Los números de la muestra X_i son independientes.\")\n",
        "else:\n",
        "  print(\"No se acepta H_0. Los números de la muestra X_i NO son independientes.\")"
      ],
      "metadata": {
        "id": "BBIWmjyEslZn",
        "outputId": "e71de95f-c98a-4a62-d516-be79db0f69ca",
        "colab": {
          "base_uri": "https://localhost:8080/"
        }
      },
      "id": "BBIWmjyEslZn",
      "execution_count": 21,
      "outputs": [
        {
          "output_type": "stream",
          "name": "stdout",
          "text": [
            "No se acepta H_0. Los números de la muestra X_i NO son independientes.\n"
          ]
        }
      ]
    },
    {
      "cell_type": "code",
      "source": [
        "#Este es el que debe de dar\n",
        "if -1.96 <= z_00 <= 1.96:\n",
        "  print(\"Se acepta H_0. Los números de la muestra X_i son independientes.\")\n",
        "else:\n",
        "  print(\"No se acepta H_0. Los números de la muestra X_i NO son independientes.\")"
      ],
      "metadata": {
        "id": "MkQyM98fuKN0",
        "outputId": "b6789a9c-a80b-4734-99b4-e05197a7c65e",
        "colab": {
          "base_uri": "https://localhost:8080/"
        }
      },
      "id": "MkQyM98fuKN0",
      "execution_count": 19,
      "outputs": [
        {
          "output_type": "stream",
          "name": "stdout",
          "text": [
            "Se acepta H_0. Los números de la muestra X_i son independientes.\n"
          ]
        }
      ]
    }
  ],
  "metadata": {
    "kernelspec": {
      "display_name": "Python 3 (ipykernel)",
      "language": "python",
      "name": "python3"
    },
    "language_info": {
      "codemirror_mode": {
        "name": "ipython",
        "version": 3
      },
      "file_extension": ".py",
      "mimetype": "text/x-python",
      "name": "python",
      "nbconvert_exporter": "python",
      "pygments_lexer": "ipython3",
      "version": "3.7.3"
    },
    "colab": {
      "provenance": [],
      "include_colab_link": true
    }
  },
  "nbformat": 4,
  "nbformat_minor": 5
}