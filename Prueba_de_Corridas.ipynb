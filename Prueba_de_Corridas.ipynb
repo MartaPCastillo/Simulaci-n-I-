{
  "cells": [
    {
      "cell_type": "markdown",
      "metadata": {
        "id": "view-in-github",
        "colab_type": "text"
      },
      "source": [
        "<a href=\"https://colab.research.google.com/github/MartaPCastillo/Simulacion-I/blob/main/Prueba_de_Corridas.ipynb\" target=\"_parent\"><img src=\"https://colab.research.google.com/assets/colab-badge.svg\" alt=\"Open In Colab\"/></a>"
      ]
    },
    {
      "cell_type": "markdown",
      "id": "a5cc0a87",
      "metadata": {
        "id": "a5cc0a87"
      },
      "source": [
        "# Prueba de Corridas\n"
      ]
    },
    {
      "cell_type": "markdown",
      "id": "0e218d98",
      "metadata": {
        "id": "0e218d98"
      },
      "source": [
        "### 1. Identifique las variables\n",
        "\n",
        "Aquellas cuyo comportamiento define el comportamiento o la evoución global del sistema real."
      ]
    },
    {
      "cell_type": "markdown",
      "id": "3ebcd0f2",
      "metadata": {
        "id": "3ebcd0f2"
      },
      "source": [
        "### 2. Determine la distribución de probabilidad\n",
        "\n",
        "Elija el tipo de distribución de probabilidad que mejor defina el comportamiento aleatorio de cada una de las variables del sistema identificadas en el paso anterior."
      ]
    },
    {
      "cell_type": "markdown",
      "id": "803801d5",
      "metadata": {
        "id": "803801d5"
      },
      "source": [
        "### 3. Modele las variables aleatorias\n",
        "\n",
        "Cosntruya un modelo fiel de la aleatoriedad de las variables del sistema. Simular el comportamiento del sistema implica generar muestras aleatorias de cada variable que sigan fielmente la distribución de probabilidad correspondiente."
      ]
    },
    {
      "cell_type": "markdown",
      "id": "33709223",
      "metadata": {
        "id": "33709223"
      },
      "source": [
        "### 4. Defina el modelo del sistema y los objetivos de la simulación\n",
        "\n",
        "Fije los objetivos y diseñe un modelo del sistema real que abstraiga sus propiedades más relevantes. Todo error en el modelo (o su implementación computacional) puede dar lugar a conclusiones equivocadas.\n",
        "\n",
        "Antes de experimentar con el modelo, asegurarse de que refleja fielmente el sistema real **validando** el mismo a partir de datos reales, para ello compare los resultados obtenidos de la simulación con los producidos por el sistema."
      ]
    },
    {
      "cell_type": "markdown",
      "id": "7f853065",
      "metadata": {
        "id": "7f853065"
      },
      "source": [
        "### 5. Diseñe el experimento\n",
        "\n",
        "Diseñe un experimento así como las ejecuciones concretas del mismo, los escenarios que desea estudiar para alcanzar los objetivos fijados. El experimento consiste en generar valores de las variables cuyo comportamiento define el comportamiento del sistema y analizar este ante dichos valores."
      ]
    },
    {
      "cell_type": "markdown",
      "id": "15ae61c8",
      "metadata": {
        "id": "15ae61c8"
      },
      "source": [
        "### 6. Repita el experimento $n$ veces\n",
        "\n",
        "Así dispondrá de $n$ observaciones sobre el comportamiento del sistema, lo que permitirá entender su funcionamiento así como evaluar el desempeño del mismo frente a los diversos escenarios establecidos.\n",
        "\n",
        "El **método Monte Carlo** se basa en la **Ley Fuerte de los Grandes Números** y el **Teorema del Límite Central**."
      ]
    },
    {
      "cell_type": "markdown",
      "id": "51ce3fa1",
      "metadata": {
        "id": "51ce3fa1"
      },
      "source": [
        "Realice un programa para la prueba de corridas.\n",
        "\n",
        "1. Analíticamente.\n",
        "2. Mediante simulación."
      ]
    },
    {
      "cell_type": "markdown",
      "id": "6f1b4105",
      "metadata": {
        "id": "6f1b4105"
      },
      "source": [
        "Analiticamente:"
      ]
    },
    {
      "cell_type": "code",
      "execution_count": null,
      "id": "bb5e678d",
      "metadata": {
        "id": "bb5e678d"
      },
      "outputs": [],
      "source": []
    },
    {
      "cell_type": "markdown",
      "id": "564ca694",
      "metadata": {
        "id": "564ca694"
      },
      "source": [
        "Por simulación: Construimos el modelo en varios pasos."
      ]
    },
    {
      "cell_type": "markdown",
      "id": "fbbc8571",
      "metadata": {
        "id": "fbbc8571"
      },
      "source": [
        "**PASO 1**. Defina las variables que intervienen en el modelo."
      ]
    },
    {
      "cell_type": "code",
      "execution_count": 2,
      "id": "37c5f31c",
      "metadata": {
        "id": "37c5f31c",
        "outputId": "1a3b7d58-59ec-41f3-f8eb-505b0160da9c",
        "colab": {
          "base_uri": "https://localhost:8080/"
        }
      },
      "outputs": [
        {
          "output_type": "stream",
          "name": "stdout",
          "text": [
            "[0.048, 0.591, 0.478, 0.166, 0.932, 0.926, 0.007, 0.551, 0.362, 0.533, 0.368, 0.437, 0.178, 0.411, 0.545, 0.787, 0.594, 0.086, 0.951, 0.772, 0.298, 0.199, 0.157, 0.401, 0.631]\n"
          ]
        }
      ],
      "source": [
        "X = [0.048,0.591,0.478,0.166,0.932,0.926,0.007,0.551,0.362,0.533,0.368,0.437,0.178,0.411,0.545,0.787,0.594,0.086,0.951,0.772,0.298,0.199,0.157,0.401,0.631]\n",
        "print(X)"
      ]
    },
    {
      "cell_type": "markdown",
      "id": "4d3899f3",
      "metadata": {
        "id": "4d3899f3"
      },
      "source": [
        "**PASO 2**. Formule la distribución de probabilidad de cada variable."
      ]
    },
    {
      "cell_type": "markdown",
      "id": "fefa1334",
      "metadata": {
        "id": "fefa1334"
      },
      "source": [
        "\n",
        "|      |**Sol**|**Aguila**|\n",
        "|------|-------|----------|\n",
        "|f(x)|         |          |"
      ]
    },
    {
      "cell_type": "markdown",
      "id": "fd02116a",
      "metadata": {
        "id": "fd02116a"
      },
      "source": [
        "**PASO 3**. Enumere la distribución acumulada de probabilidad de cada variable."
      ]
    },
    {
      "cell_type": "markdown",
      "id": "59e252c6",
      "metadata": {
        "id": "59e252c6"
      },
      "source": [
        "|      |**Sol**|**Aguila**|\n",
        "|------|-------|----------|\n",
        "|f(x)  |       |          |\n",
        "|F(x)  |       |          |"
      ]
    },
    {
      "cell_type": "markdown",
      "id": "4852dcac",
      "metadata": {
        "id": "4852dcac"
      },
      "source": [
        "**PASO 4**. Establezca el intervalo de números aleatorios correspondiente a cada valor de cada una de las variables."
      ]
    },
    {
      "cell_type": "markdown",
      "id": "905db069",
      "metadata": {
        "id": "905db069"
      },
      "source": [
        "|           |**Sol**|**Aguila**|\n",
        "|-----------|-------|----------|\n",
        "|f(x)       |       |          |\n",
        "|F(x)       |       |          |\n",
        "|Intervalos |       |          |"
      ]
    },
    {
      "cell_type": "markdown",
      "id": "edb6b074",
      "metadata": {
        "id": "edb6b074"
      },
      "source": [
        "**PASO 5**. Genere números aleatorios."
      ]
    },
    {
      "cell_type": "code",
      "execution_count": null,
      "id": "7d56c432",
      "metadata": {
        "id": "7d56c432"
      },
      "outputs": [],
      "source": []
    },
    {
      "cell_type": "markdown",
      "id": "f38f3396",
      "metadata": {
        "id": "f38f3396"
      },
      "source": [
        "**PASO 6**. Simule un lanzamiento."
      ]
    },
    {
      "cell_type": "markdown",
      "id": "a68ba17e",
      "metadata": {
        "id": "a68ba17e"
      },
      "source": [
        "Si Número de caras = 2       \n",
        "\n",
        "¿Aparecen dos caras? = **1**\n",
        "\n",
        "Si Número de caras ≠ 2       \n",
        "\n",
        "¿Aparecen dos caras? = **0**"
      ]
    },
    {
      "cell_type": "markdown",
      "id": "d270399e",
      "metadata": {
        "id": "d270399e"
      },
      "source": [
        "**PASO 7**. Obtenga la gráfica de estabilización que indica que el tamaño de muestra utilizado es suficiente para\n",
        "garantizar la convergencia del resultado."
      ]
    },
    {
      "cell_type": "code",
      "execution_count": 259,
      "id": "2fd22e33",
      "metadata": {
        "id": "2fd22e33"
      },
      "outputs": [],
      "source": [
        "import numpy as np\n",
        "import random\n",
        "from math import sqrt\n",
        "import matplotlib.pyplot as plt"
      ]
    },
    {
      "cell_type": "code",
      "source": [
        "X = [0.048,0.591,0.478,0.166,0.932,0.926,0.007,0.551,0.362,0.533,0.368,0.437,0.178,0.411,0.545,0.787,0.594,0.086,0.951,0.772,0.298,0.199,0.157,0.401,0.631]\n",
        "X = np.array(X)\n",
        "print(X)"
      ],
      "metadata": {
        "id": "VhbVBLjJU-uC",
        "outputId": "2974b22e-30bb-42f2-9652-5695425f6f5e",
        "colab": {
          "base_uri": "https://localhost:8080/"
        }
      },
      "id": "VhbVBLjJU-uC",
      "execution_count": 166,
      "outputs": [
        {
          "output_type": "stream",
          "name": "stdout",
          "text": [
            "[0.048, 0.591, 0.478, 0.166, 0.932, 0.926, 0.007, 0.551, 0.362, 0.533, 0.368, 0.437, 0.178, 0.411, 0.545, 0.787, 0.594, 0.086, 0.951, 0.772, 0.298, 0.199, 0.157, 0.401, 0.631]\n"
          ]
        }
      ]
    },
    {
      "cell_type": "code",
      "source": [
        "n = len(X)\n",
        "print(len(X))"
      ],
      "metadata": {
        "id": "UmxPWJXmrElM",
        "outputId": "dc0adf8a-26d9-4a45-f947-036617521480",
        "colab": {
          "base_uri": "https://localhost:8080/"
        }
      },
      "id": "UmxPWJXmrElM",
      "execution_count": 253,
      "outputs": [
        {
          "output_type": "stream",
          "name": "stdout",
          "text": [
            "25\n"
          ]
        }
      ]
    },
    {
      "cell_type": "code",
      "execution_count": 177,
      "id": "32719c0f",
      "metadata": {
        "id": "32719c0f",
        "outputId": "3ca31e76-74cf-48fe-a0b8-ea0e8abe86e9",
        "colab": {
          "base_uri": "https://localhost:8080/"
        }
      },
      "outputs": [
        {
          "output_type": "stream",
          "name": "stdout",
          "text": [
            "[1, 0, 0, 1, 0, 0, 1, 0, 1, 0, 1, 0, 1, 1, 1, 0, 0, 1, 0, 0, 0, 0, 1, 1]\n"
          ]
        }
      ],
      "source": [
        "S=[]\n",
        "for i in range (len(X)):\n",
        "  if i>0:\n",
        "    if X[i] <= X[i-1]:\n",
        "      S.append (0)\n",
        "    else:\n",
        "      S.append (1)\n",
        "\n",
        "print(S)"
      ]
    },
    {
      "cell_type": "code",
      "source": [
        "print(len(S))"
      ],
      "metadata": {
        "id": "_3G4wvWZiktG",
        "outputId": "2a731051-51ef-416f-c674-6a74c990ea79",
        "colab": {
          "base_uri": "https://localhost:8080/"
        }
      },
      "id": "_3G4wvWZiktG",
      "execution_count": 238,
      "outputs": [
        {
          "output_type": "stream",
          "name": "stdout",
          "text": [
            "24\n"
          ]
        }
      ]
    },
    {
      "cell_type": "code",
      "source": [
        "contador = 0\n",
        "lista=[]\n",
        "for i in range (len(S)):\n",
        "  if S[i] == S[i-1]:\n",
        "    contador +=1\n",
        "  else:\n",
        "    contador = 1\n",
        "  a = np.array([contador])\n",
        "\n",
        "  print(a)"
      ],
      "metadata": {
        "id": "91h88fNOnEZl"
      },
      "id": "91h88fNOnEZl",
      "execution_count": null,
      "outputs": []
    },
    {
      "cell_type": "code",
      "source": [
        "#aquí hay un error\n",
        "contador = 0\n",
        "lista = []\n",
        "for i in range(len(S)):\n",
        "  if i>0:\n",
        "    if S[i] == S[i-1]:\n",
        "        contador += 1\n",
        "    else:\n",
        "        contador = 1\n",
        "    lista.append(contador)\n",
        "print(lista)"
      ],
      "metadata": {
        "id": "C5xDA34ThDB9",
        "outputId": "65fa111f-24fd-45b2-b05f-86b5d7ed8872",
        "colab": {
          "base_uri": "https://localhost:8080/"
        }
      },
      "id": "C5xDA34ThDB9",
      "execution_count": 267,
      "outputs": [
        {
          "output_type": "stream",
          "name": "stdout",
          "text": [
            "[1, 2, 1, 1, 2, 1, 1, 1, 1, 1, 1, 1, 2, 3, 1, 2, 1, 1, 2, 3, 4, 1, 2]\n"
          ]
        }
      ]
    },
    {
      "cell_type": "code",
      "source": [
        "c_0 = len(lista)\n",
        "print(len(lista))"
      ],
      "metadata": {
        "id": "MDEcuh1TqZwV",
        "outputId": "ca7ee6f8-dd52-4498-dc56-3218f0fe4e8b",
        "colab": {
          "base_uri": "https://localhost:8080/"
        }
      },
      "id": "MDEcuh1TqZwV",
      "execution_count": 254,
      "outputs": [
        {
          "output_type": "stream",
          "name": "stdout",
          "text": [
            "23\n"
          ]
        }
      ]
    },
    {
      "cell_type": "markdown",
      "source": [
        "**PASO 9**. Calcule la media, varianza y el estadístico Z."
      ],
      "metadata": {
        "id": "AcjNSBxVtKR-"
      },
      "id": "AcjNSBxVtKR-"
    },
    {
      "cell_type": "code",
      "source": [
        "mu_c0 = ((2*n)-1)/3\n",
        "mu_c0 = float(mu_c0)\n",
        "print(mu_c0)"
      ],
      "metadata": {
        "id": "TX0xO4uTrLRc",
        "outputId": "a1310a92-3f1c-4003-ca94-e1d911ff571b",
        "colab": {
          "base_uri": "https://localhost:8080/"
        }
      },
      "id": "TX0xO4uTrLRc",
      "execution_count": 255,
      "outputs": [
        {
          "output_type": "stream",
          "name": "stdout",
          "text": [
            "16.333333333333332\n"
          ]
        }
      ]
    },
    {
      "cell_type": "code",
      "source": [
        "var_c0 = ((16*n)-29)/90\n",
        "var_c0 = float(var_c0)\n",
        "print(var_c0)"
      ],
      "metadata": {
        "id": "3fvVfihzrizy",
        "outputId": "40f30505-99c8-4dbe-b956-bf76c758c2ae",
        "colab": {
          "base_uri": "https://localhost:8080/"
        }
      },
      "id": "3fvVfihzrizy",
      "execution_count": 256,
      "outputs": [
        {
          "output_type": "stream",
          "name": "stdout",
          "text": [
            "4.122222222222222\n"
          ]
        }
      ]
    },
    {
      "cell_type": "code",
      "source": [
        "#Aquí hay un error porque C_0 debe ser 15\n",
        "z_0 = (c_0-mu_c0)/(sqrt(var_c0))\n",
        "z_0 = float(z_0)\n",
        "print(z_0)"
      ],
      "metadata": {
        "id": "AC5py1l5rs-S",
        "outputId": "7d49d250-ffd5-445b-b2f9-4fdd4cabe369",
        "colab": {
          "base_uri": "https://localhost:8080/"
        }
      },
      "id": "AC5py1l5rs-S",
      "execution_count": 263,
      "outputs": [
        {
          "output_type": "stream",
          "name": "stdout",
          "text": [
            "3.283545516515593\n"
          ]
        }
      ]
    },
    {
      "cell_type": "markdown",
      "id": "db8776d2",
      "metadata": {
        "id": "db8776d2"
      },
      "source": [
        "**PASO 10**. Halle el intervalo de confianza de la probabilidad de queaparezcan dos caras lanzando tres veces una moneda\n",
        "al aire con un nivel de confianza del $95 \\%$."
      ]
    },
    {
      "cell_type": "code",
      "execution_count": 264,
      "id": "e5132329",
      "metadata": {
        "id": "e5132329"
      },
      "outputs": [],
      "source": [
        "alpha = 0.05"
      ]
    },
    {
      "cell_type": "code",
      "source": [
        "if -1.96 <= z_0 <= 1.96:\n",
        "  print(\"Se acepta H_0. Los números de la muestra X_i son independientes.\")\n",
        "else:\n",
        "  print(\"No se acepta H_0. Los números de la muestra X_i NO son independientes.\")"
      ],
      "metadata": {
        "id": "BBIWmjyEslZn",
        "outputId": "ac42be91-88d2-4616-bd78-8857ef4e2b5d",
        "colab": {
          "base_uri": "https://localhost:8080/"
        }
      },
      "id": "BBIWmjyEslZn",
      "execution_count": 265,
      "outputs": [
        {
          "output_type": "stream",
          "name": "stdout",
          "text": [
            "No se acepta H_0. Los números de la muestra X_i NO son independientes.\n"
          ]
        }
      ]
    }
  ],
  "metadata": {
    "kernelspec": {
      "display_name": "Python 3 (ipykernel)",
      "language": "python",
      "name": "python3"
    },
    "language_info": {
      "codemirror_mode": {
        "name": "ipython",
        "version": 3
      },
      "file_extension": ".py",
      "mimetype": "text/x-python",
      "name": "python",
      "nbconvert_exporter": "python",
      "pygments_lexer": "ipython3",
      "version": "3.7.3"
    },
    "colab": {
      "provenance": [],
      "include_colab_link": true
    }
  },
  "nbformat": 4,
  "nbformat_minor": 5
}